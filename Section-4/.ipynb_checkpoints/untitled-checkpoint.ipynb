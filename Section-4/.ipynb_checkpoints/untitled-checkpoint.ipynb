{
 "cells": [
  {
   "cell_type": "code",
   "execution_count": 1,
   "metadata": {},
   "outputs": [],
   "source": [
    "from pylab import *\n",
    "%matplotlib inline\n",
    "import sys\n",
    "sys.path.insert(0, \"../lib\")# add the library folder to the path I look for modules\n",
    "import latexify\n",
    "import pickle\n",
    "from scipy.optimize import fsolve,root\n",
    "def load_obj(name,prefix=\"./\" ):\n",
    "    with open(prefix+'dic-' + name + '.pkl', 'rb') as f:\n",
    "        return pickle.load(f)\n",
    "\n"
   ]
  },
  {
   "cell_type": "code",
   "execution_count": 3,
   "metadata": {},
   "outputs": [],
   "source": [
    "def d_critical(ds,c,alpha,p,up):\n",
    "    if up:\n",
    "        f=fon\n",
    "    else:\n",
    "        f=foff\n",
    "    num=[]\n",
    "    status=[]\n",
    "    for d in ds:\n",
    "        if up:\n",
    "            sol=root(f,1,args=(c,d,alpha,p))\n",
    "        else:\n",
    "            sol=root(f,0,args=(c,d,alpha,1.-p))\n",
    "        num+=[sol.x]\n",
    "        status+=[sol.success]\n",
    "    num=squeeze(array(num))\n",
    "    status=squeeze(array(status))\n",
    "    \n",
    "    if up:\n",
    "        d=ds[status&(num<1)&(num>0)][-1]# return the highest d the transistion happen\n",
    "        if d==ds[-1]:\n",
    "            warnings.warn(\"Adjust the boundaries of ds\")\n",
    "            return d_critical(linspace(max(ds),max(ds)+4,100),c,alpha,p,up)\n",
    "        return d \n",
    "    else:\n",
    "        return ds[status&(num<1)&(num>0)][0]# return the lowest d\n",
    "def fon(g,c,d,alpha,p):\n",
    "    return exp(-(c*g*p*alpha*exp((d*(-1 + g))/alpha)))*(-1 + g*p*exp((d*(-1 + g))/alpha) + exp(c*g*p*alpha*exp((d*(-1 + g))/alpha)))-g\n",
    "\n"
   ]
  },
  {
   "cell_type": "code",
   "execution_count": 7,
   "metadata": {},
   "outputs": [
    {
     "name": "stderr",
     "output_type": "stream",
     "text": [
      "/opt/miniconda3/lib/python3.7/site-packages/ipykernel_launcher.py:27: RuntimeWarning: overflow encountered in exp\n",
      "/opt/miniconda3/lib/python3.7/site-packages/ipykernel_launcher.py:27: RuntimeWarning: invalid value encountered in multiply\n",
      "/opt/miniconda3/lib/python3.7/site-packages/ipykernel_launcher.py:21: UserWarning: Adjust the boundaries of ds\n"
     ]
    },
    {
     "data": {
      "image/png": "[encoded data removed]",
      "text/plain": [
       "<Figure size 244.08x150.85 with 2 Axes>"
      ]
     },
     "metadata": {
      "needs_background": "light"
     },
     "output_type": "display_data"
    }
   ],
   "source": [
    "latexify.latexify(columns=2)\n",
    "dic=load_obj(\"SCC_propagation\")\n",
    "m=dic['m']\n",
    "ds=dic['ds']\n",
    "cs=dic['cs']\n",
    "imshow(m, origin=\"lower\",extent=(cs[0]+1,1+cs[-1],1+ds[0],1+ds[-1]),aspect=\"auto\",cmap='bwr')\n",
    "cbar=colorbar()\n",
    "xlabel(\"$\\langle d^{\\\\mathrm{in}}  \\\\rangle $\",fontsize=13)\n",
    "ylabel(\"$\\langle c^{\\\\mathrm{in}}  \\\\rangle $\",fontsize=13)\n",
    "alpha=1\n",
    "#plot(cs,(-1 +exp(cs*alpha) )*alpha+(alpha-1)*where(alpha<1,1,0),\"m\",lw=2) # for d larger then this,the state with n=1 becomes instable\n",
    "ylim(1+ds[0],1+ds[-1])\n",
    "plot(1+cs,[1+d_critical(linspace(min(ds),max(ds),100),c,alpha,1-1/10000,True) for c in cs],\"k--\",lw=3,label=\"theory\")\n",
    "cbar.set_label(\"$\\\\lambda$\",rotation=90,fontsize=12,labelpad=-5)\n",
    "cbar.set_ticks([0,1])\n",
    "cbar.patch.set_facecolor(\"none\")\n",
    "legend(loc=\"lower right\")\n",
    "tight_layout()\n",
    "#savefig('SCC_propagation.pdf')\n"
   ]
  },
  {
   "cell_type": "code",
   "execution_count": 24,
   "metadata": {},
   "outputs": [
    {
     "data": {
      "text/plain": [
       "(array([   0.,    0.,    0.,    0.,    0., 1500.,    0.,    0.,    0.,\n",
       "           0.]),\n",
       " array([-0.5, -0.4, -0.3, -0.2, -0.1,  0. ,  0.1,  0.2,  0.3,  0.4,  0.5]),\n",
       " <a list of 10 Patch objects>)"
      ]
     },
     "execution_count": 24,
     "metadata": {},
     "output_type": "execute_result"
    },
    {
     "data": {
      "image/png": "[encoded data removed]",
      "text/plain": [
       "<Figure size 244.08x150.85 with 1 Axes>"
      ]
     },
     "metadata": {
      "needs_background": "light"
     },
     "output_type": "display_data"
    }
   ],
   "source": [
    "hist(list(flatten(m)))"
   ]
  },
  {
   "cell_type": "code",
   "execution_count": null,
   "metadata": {},
   "outputs": [],
   "source": []
  }
 ],
 "metadata": {
  "kernelspec": {
   "display_name": "Python 3",
   "language": "python",
   "name": "python3"
  },
  "language_info": {
   "codemirror_mode": {
    "name": "ipython",
    "version": 3
   },
   "file_extension": ".py",
   "mimetype": "text/x-python",
   "name": "python",
   "nbconvert_exporter": "python",
   "pygments_lexer": "ipython3",
   "version": "3.7.4"
  }
 },
 "nbformat": 4,
 "nbformat_minor": 2
}
