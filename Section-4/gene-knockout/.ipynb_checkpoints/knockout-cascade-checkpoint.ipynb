{
 "cells": [
  {
   "cell_type": "code",
   "execution_count": 1,
   "metadata": {},
   "outputs": [],
   "source": [
    "from pylab import *\n",
    "%matplotlib inline\n",
    "sys.path.insert(0, \"../lib\")# add the library folder to the path I look for modules\n",
    "import itertools\n",
    "import pickle\n",
    "import latexify# execute function latexify for plots coherent with latex\n",
    "\n",
    "import pandas as pd\n",
    "import re\n",
    "import os\n",
    "from scipy.stats import poisson\n",
    "import latexify\n",
    "import time #to measure performances\n",
    "def save_obj(obj, name ):\n",
    "    with open('dic-'+ name + '.pkl', 'wb') as f:\n",
    "        pickle.dump(obj, f, pickle.HIGHEST_PROTOCOL)\n",
    "def load_obj(path,name ):\n",
    "    with open(path+'/dic-' + name + '.pkl', 'rb') as f:\n",
    "        return pickle.load(f)"
   ]
  },
  {
   "cell_type": "code",
   "execution_count": 2,
   "metadata": {},
   "outputs": [],
   "source": [
    "folder_name='knockout-cascade_multiple'\n"
   ]
  },
  {
   "cell_type": "code",
   "execution_count": 3,
   "metadata": {},
   "outputs": [
    {
     "name": "stdout",
     "output_type": "stream",
     "text": [
      "dic-c:1.0 d:1.0.pkl  dic-c:2.0 d:1.0.pkl\r\n"
     ]
    }
   ],
   "source": [
    "ls knockout-cascade_multiple/"
   ]
  },
  {
   "cell_type": "code",
   "execution_count": 71,
   "metadata": {},
   "outputs": [],
   "source": [
    "folder_name='knockout-cascade_multiple'\n",
    "\n",
    "dic=load_obj(folder_name,'c:1.0 d:1.0')\n",
    "d=dic['d']\n",
    "c=dic['c']\n",
    "N1=dic['N1']\n",
    "N2=dic['N2']\n",
    "gs=dic['g']\n",
    "Nrep=dic['Nrep']\n",
    "descritpion=dic['description']\n"
   ]
  },
  {
   "cell_type": "code",
   "execution_count": null,
   "metadata": {},
   "outputs": [],
   "source": []
  },
  {
   "cell_type": "code",
   "execution_count": 158,
   "metadata": {},
   "outputs": [],
   "source": [
    "bs=[]\n",
    "hs=[]\n",
    "g_max=max(flatten(gs))\n",
    "for i in range(Nrep):\n",
    "    h,b=histogram(gs[i],bins=arange(1,g_max+1))\n",
    "    hs+=[h]\n",
    "    bs+=[b]"
   ]
  },
  {
   "cell_type": "code",
   "execution_count": null,
   "metadata": {},
   "outputs": [],
   "source": []
  },
  {
   "cell_type": "code",
   "execution_count": 164,
   "metadata": {},
   "outputs": [
    {
     "data": {
      "text/plain": [
       "(0, 40)"
      ]
     },
     "execution_count": 164,
     "metadata": {},
     "output_type": "execute_result"
    },
    {
     "data": {
      "image/png": "[encoded data removed]",
      "text/plain": [
       "<Figure size 244.08x150.85 with 1 Axes>"
      ]
     },
     "metadata": {
      "needs_background": "light"
     },
     "output_type": "display_data"
    }
   ],
   "source": [
    "latexify.latexify(columns=2)\n",
    "x=bs[0]-1\n",
    "#bar((x[:-1]+x[1:])/2,mean(hs,axis=0)/N1,diff(bs[0]),label='aval.')\n",
    "plot((x[:-1]+x[1:])/2,mean(hs,axis=0)/N1,'.',label='aval.')\n",
    "#errorbar((x[:-1]+x[1:])/2,mean(hs,axis=0)/N1,yerr=std(hs,axis=0)/N1/sqrt(len(hs)),ecolor='m',fmt='none',label='std')\n",
    "semilogy()\n",
    "xlabel(\"Avalanche size\",fontsize=13)\n",
    "ylabel(\"Frequency\",fontsize=13)\n",
    "ax=gca()\n",
    "color = 'tab:red'\n",
    "'''\n",
    "ax2=ax.twiny()\n",
    "ax2.set_xlabel('degree',color=color,fontsize=13)\n",
    "plot_corrected_Poissoninan_out(d,c,1,[1,25],color=color,label='degree')\n",
    "ax2.tick_params(axis='x', labelcolor=color)\n",
    "'''\n",
    "plot_corrected_Poissoninan_out(d,c,1,[1,30],color=color,label='degree')\n",
    "legend(ncol=2)\n",
    "tight_layout()\n",
    "xlim([0,40])\n",
    "#savefig('knockout-cascade.pdf')\n"
   ]
  },
  {
   "cell_type": "code",
   "execution_count": 7,
   "metadata": {},
   "outputs": [],
   "source": [
    "def plot_corrected_Poissoninan_out(d,c,alpha,data,*args,**kwargs):\n",
    "    '''Plot he in degree distribution for the projected graph obtained from two '''\n",
    "    d_out=d+where(alpha>1,alpha-1,0)\n",
    "    c_out=c+1/alpha\n",
    "    P=[]\n",
    "    for k in  arange(max(data)):\n",
    "        s=0\n",
    "        for n in arange(5*max(data)):\n",
    "            s+=poisson.pmf(n, d_out)*poisson.pmf(k, (n+1)*c_out)\n",
    "        P+=[s]\n",
    "    plot(arange(max(data)),P,'o',alpha=0.5,*args,**kwargs)\n",
    "    return P\n"
   ]
  },
  {
   "cell_type": "code",
   "execution_count": 43,
   "metadata": {},
   "outputs": [
    {
     "data": {
      "text/plain": [
       "[]"
      ]
     },
     "execution_count": 43,
     "metadata": {},
     "output_type": "execute_result"
    },
    {
     "data": {
      "image/png": "[encoded data removed]",
      "text/plain": [
       "<Figure size 244.08x150.85 with 1 Axes>"
      ]
     },
     "metadata": {
      "needs_background": "light"
     },
     "output_type": "display_data"
    }
   ],
   "source": [
    "P=plot_corrected_Poissoninan_out(d,c,1,[1,25],'co')\n",
    "xlabel('$d$')\n",
    "ylabel('$P^{in}_{\\mathcal{D}}(d)$',fontsize=13)\n",
    "semilogy()"
   ]
  },
  {
   "cell_type": "code",
   "execution_count": 74,
   "metadata": {},
   "outputs": [
    {
     "data": {
      "text/plain": [
       "array([7694.8876, 9196.1048, 9671.9148, 9854.7566, 9932.2334, 9967.1586,\n",
       "       9983.479 , 9991.605 , 9995.649 , 9997.7262, 9998.7912, 9999.344 ,\n",
       "       9999.6446, 9999.797 , 9999.8928, 9999.9394, 9999.9684, 9999.982 ,\n",
       "       9999.9874, 9999.9904, 9999.9948, 9999.9964, 9999.9976, 9999.9984,\n",
       "       9999.9996, 9999.9998, 9999.9998])"
      ]
     },
     "execution_count": 74,
     "metadata": {},
     "output_type": "execute_result"
    }
   ],
   "source": [
    "cumsum(mean(hs,axis=0))"
   ]
  },
  {
   "cell_type": "code",
   "execution_count": 70,
   "metadata": {},
   "outputs": [
    {
     "data": {
      "text/plain": [
       "0.9999999982944942"
      ]
     },
     "execution_count": 70,
     "metadata": {},
     "output_type": "execute_result"
    }
   ],
   "source": [
    "sum(P)"
   ]
  },
  {
   "cell_type": "code",
   "execution_count": 78,
   "metadata": {},
   "outputs": [
    {
     "data": {
      "text/plain": [
       "[<matplotlib.lines.Line2D at 0x7f76dc12cc50>]"
      ]
     },
     "execution_count": 78,
     "metadata": {},
     "output_type": "execute_result"
    },
    {
     "data": {
      "image/png": "[encoded data removed]",
      "text/plain": [
       "<Figure size 244.08x150.85 with 1 Axes>"
      ]
     },
     "metadata": {
      "needs_background": "light"
     },
     "output_type": "display_data"
    }
   ],
   "source": [
    "plot(cumsum(mean(hs,axis=0)/N1))\n",
    "plot(cumsum(P))"
   ]
  },
  {
   "cell_type": "code",
   "execution_count": 9,
   "metadata": {},
   "outputs": [],
   "source": [
    "legend?"
   ]
  },
  {
   "cell_type": "code",
   "execution_count": 31,
   "metadata": {},
   "outputs": [
    {
     "name": "stderr",
     "output_type": "stream",
     "text": [
      "/opt/miniconda3/lib/python3.7/site-packages/ipykernel_launcher.py:1: ParserWarning: Falling back to the 'python' engine because the 'c' engine does not support regex separators (separators > 1 char and different from '\\s+' are interpreted as regex); you can avoid this warning by specifying engine='python'.\n",
      "  \"\"\"Entry point for launching an IPython kernel.\n"
     ]
    }
   ],
   "source": [
    "tb = pd.read_csv('GRegNL-p1overNp10k',sep='   ',names = ['s','g','t'])"
   ]
  },
  {
   "cell_type": "code",
   "execution_count": 166,
   "metadata": {},
   "outputs": [
    {
     "data": {
      "text/plain": [
       "<matplotlib.legend.Legend at 0x1a230eab10>"
      ]
     },
     "execution_count": 166,
     "metadata": {},
     "output_type": "execute_result"
    },
    {
     "data": {
      "image/png": "[encoded data removed]",
      "text/plain": [
       "<Figure size 244.08x150.85 with 1 Axes>"
      ]
     },
     "metadata": {
      "needs_background": "light"
     },
     "output_type": "display_data"
    }
   ],
   "source": [
    "plot(tb.g[tb.s<250],'s',mfc = 'w',alpha = 0.7,label = 'pop. dynamics G')\n",
    "plot(tb.t[tb.s<250],'*',mfc = 'w',alpha = 0.7,label = 'pop. dynamics TF')\n",
    "semilogy()\n",
    "x=bs[0]-1\n",
    "#bar((x[:-1]+x[1:])/2,mean(hs,axis=0)/N1,diff(bs[0]),label='aval.')\n",
    "plot((x[:-1]+x[1:])/2,mean(hs,axis=0)/N1,'o',mfc = 'w',label='single instance G',alpha = 0.4)\n",
    "\n",
    "#errorbar((x[:-1]+x[1:])/2,mean(hs,axis=0)/N1,yerr=std(hs,axis=0)/N1/sqrt(len(hs)),ecolor='m',fmt='none',label='std')\n",
    "semilogy()\n",
    "xlabel(\"Avalanche size\",fontsize=13)\n",
    "ylabel(\"Frequency\",fontsize=13)\n",
    "#savefig('pop_vs_single.pdf')\n",
    "legend()"
   ]
  },
  {
   "cell_type": "code",
   "execution_count": 53,
   "metadata": {},
   "outputs": [
    {
     "data": {
      "text/plain": [
       "0          1\n",
       "1          2\n",
       "2          3\n",
       "3          4\n",
       "4          5\n",
       "        ... \n",
       "1995    1996\n",
       "1996    1997\n",
       "1997    1998\n",
       "1998    1999\n",
       "1999    2000\n",
       "Name: s, Length: 2000, dtype: int64"
      ]
     },
     "execution_count": 53,
     "metadata": {},
     "output_type": "execute_result"
    }
   ],
   "source": []
  },
  {
   "cell_type": "code",
   "execution_count": 99,
   "metadata": {},
   "outputs": [
    {
     "data": {
      "text/plain": [
       "<function collections.Counter.__add__>"
      ]
     },
     "execution_count": 99,
     "metadata": {},
     "output_type": "execute_result"
    }
   ],
   "source": [
    "Counter.__add__\n"
   ]
  },
  {
   "cell_type": "code",
   "execution_count": 112,
   "metadata": {},
   "outputs": [
    {
     "data": {
      "text/plain": [
       "True"
      ]
     },
     "execution_count": 112,
     "metadata": {},
     "output_type": "execute_result"
    }
   ],
   "source": [
    "a =3\n",
    "a.__divmod__"
   ]
  },
  {
   "cell_type": "code",
   "execution_count": 114,
   "metadata": {},
   "outputs": [],
   "source": [
    "    def division(self, other):\n",
    "        '''Add counts from two counters.\n",
    "\n",
    "        >>> Counter('abbb') + Counter('bcc')\n",
    "        Counter({'b': 4, 'c': 2, 'a': 1})\n",
    "\n",
    "\n",
    "        '''\n",
    "        if  isinstance(other, Counter):\n",
    "            return NotImplemented\n",
    "        if other<0:\n",
    "            return NotImplemented\n",
    "        result = Counter()\n",
    "        for elem in set(self) :\n",
    "            newcount = self[elem] / other\n",
    "            if newcount > 0:\n",
    "                result[elem] = newcount\n",
    "        return result\n"
   ]
  },
  {
   "cell_type": "code",
   "execution_count": 115,
   "metadata": {},
   "outputs": [],
   "source": [
    "Counter.__division__ =  division"
   ]
  },
  {
   "cell_type": "code",
   "execution_count": 122,
   "metadata": {},
   "outputs": [
    {
     "ename": "TypeError",
     "evalue": "unsupported operand type(s) for +: 'Counter' and 'int'",
     "output_type": "error",
     "traceback": [
      "\u001b[0;31m---------------------------------------------------------------------------\u001b[0m",
      "\u001b[0;31mTypeError\u001b[0m                                 Traceback (most recent call last)",
      "\u001b[0;32m<ipython-input-122-4ee95c4810b4>\u001b[0m in \u001b[0;36m<module>\u001b[0;34m()\u001b[0m\n\u001b[1;32m      1\u001b[0m \u001b[0mh\u001b[0m\u001b[0;34m[\u001b[0m\u001b[0;36m0\u001b[0m\u001b[0;34m]\u001b[0m\u001b[0;34m.\u001b[0m\u001b[0m__division__\u001b[0m\u001b[0;34m(\u001b[0m\u001b[0;36m10\u001b[0m\u001b[0;34m)\u001b[0m\u001b[0;34m\u001b[0m\u001b[0;34m\u001b[0m\u001b[0m\n\u001b[0;32m----> 2\u001b[0;31m \u001b[0mh\u001b[0m\u001b[0;34m[\u001b[0m\u001b[0;36m0\u001b[0m\u001b[0;34m]\u001b[0m\u001b[0;34m+\u001b[0m\u001b[0;36m2\u001b[0m\u001b[0;34m\u001b[0m\u001b[0;34m\u001b[0m\u001b[0m\n\u001b[0m",
      "\u001b[0;31mTypeError\u001b[0m: unsupported operand type(s) for +: 'Counter' and 'int'"
     ]
    }
   ],
   "source": [
    "h[0].__division__(10)\n",
    "h[0]+2"
   ]
  },
  {
   "cell_type": "code",
   "execution_count": null,
   "metadata": {},
   "outputs": [],
   "source": []
  }
 ],
 "metadata": {
  "kernelspec": {
   "display_name": "Python 3",
   "language": "python",
   "name": "python3"
  },
  "language_info": {
   "codemirror_mode": {
    "name": "ipython",
    "version": 3
   },
   "file_extension": ".py",
   "mimetype": "text/x-python",
   "name": "python",
   "nbconvert_exporter": "python",
   "pygments_lexer": "ipython3",
   "version": "3.7.4"
  }
 },
 "nbformat": 4,
 "nbformat_minor": 2
}
