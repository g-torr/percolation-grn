{
 "cells": [
  {
   "cell_type": "code",
   "execution_count": 16,
   "metadata": {},
   "outputs": [],
   "source": [
    "from pylab import *\n",
    "%matplotlib inline\n",
    "sys.path.insert(0, \"../../lib\")# add the library folder to the path I look for modules\n",
    "sys.path.insert(0, \"./linear\")# add the library folder to the path I look for modules\n",
    "from dynamics import *\n",
    "import itertools\n",
    "import pickle\n",
    "import latexify# execute function latexify for plots coherent with latex\n",
    "from collections import Counter\n",
    "import pandas as pd\n",
    "import re\n",
    "import os\n",
    "from scipy.stats import poisson\n",
    "import latexify\n",
    "import time #to measure performances\n",
    "\n",
    "def save_obj(obj, name ):\n",
    "    with open('dic-'+ name + '.pkl', 'wb') as f:\n",
    "        pickle.dump(obj, f, pickle.HIGHEST_PROTOCOL)\n",
    "def load_obj(path,name ):\n",
    "    with open(path+'/dic-' + name + '.pkl', 'rb') as f:\n",
    "        return pickle.load(f)"
   ]
  },
  {
   "cell_type": "markdown",
   "metadata": {},
   "source": [
    "Let me call $$\\Pi_d(k)=  e^{-d}\\frac{d^k}{k!}$$ the Poisson degree distribution.\n",
    "Given the out-degree distribution of genes, for $k\\geq1$ $P_D^{\\mathrm{out}}(k) = \\Pi_d(k-1)$\n",
    "\n",
    "and the out-degree distribution of TFs, for $k\\geq0$\n",
    "$P_C^{\\mathrm{out}}(k) = \\Pi_c(k)$\n",
    "The out degree distribution for the projected graph on genes is:\n",
    "$$\n",
    "P(k)= \\sum_{n=0}^{\\infty}\\Pi_d(n)\\Pi_{n+1}(k)\n",
    "$$"
   ]
  },
  {
   "cell_type": "code",
   "execution_count": 12,
   "metadata": {},
   "outputs": [],
   "source": [
    "def plot_corrected_Poissoninan_out(d,c,alpha,data,*args,**kwargs):\n",
    "    '''Plot the out degree distribution for the projected graph on genes. '''\n",
    "    d_out=d+where(alpha>1,alpha-1,0)\n",
    "    c_out=c+1/alpha\n",
    "    P=[]\n",
    "    for k in  arange(max(data)):\n",
    "        s=0\n",
    "        for n in arange(5*max(data)):\n",
    "            s+=poisson.pmf(n, d_out)*poisson.pmf(k, (n+1)*c_out)\n",
    "        P+=[s]\n",
    "    plot(arange(max(data)),P,'o',alpha=0.5,*args,**kwargs)\n",
    "    return P\n"
   ]
  },
  {
   "cell_type": "code",
   "execution_count": 13,
   "metadata": {},
   "outputs": [],
   "source": [
    "folder_name='knockout-cascade_multiple'\n"
   ]
  },
  {
   "cell_type": "code",
   "execution_count": 4,
   "metadata": {},
   "outputs": [
    {
     "name": "stdout",
     "output_type": "stream",
     "text": [
      "dic-c:1.0 d:1.0.pkl  dic-c:2.0 d:1.0.pkl\r\n"
     ]
    }
   ],
   "source": [
    "ls knockout-cascade_multiple/"
   ]
  },
  {
   "cell_type": "code",
   "execution_count": 18,
   "metadata": {},
   "outputs": [],
   "source": [
    "folder_name='knockout-cascade_multiple'\n",
    "\n",
    "dic=load_obj(folder_name,'c:1.0 d:1.0')\n",
    "d=dic['d']\n",
    "c=dic['c']\n",
    "N1=dic['N1']\n",
    "N2=dic['N2']\n",
    "gs=dic['g']\n",
    "Nrep=dic['Nrep']\n",
    "descritpion=dic['description']\n"
   ]
  },
  {
   "cell_type": "markdown",
   "metadata": {},
   "source": [
    "I now aggregate the counts of the cascade over different repetitions."
   ]
  },
  {
   "cell_type": "code",
   "execution_count": 5,
   "metadata": {},
   "outputs": [],
   "source": [
    "bs=[]\n",
    "hs=[]\n",
    "g_max=max(flatten(gs))\n",
    "for i in range(Nrep):\n",
    "    h,b=histogram(gs[i],bins=arange(1,g_max+1))\n",
    "    hs+=[h]\n",
    "    bs+=[b]"
   ]
  },
  {
   "cell_type": "code",
   "execution_count": 26,
   "metadata": {},
   "outputs": [
    {
     "data": {
      "image/png": "[encoded data removed]",
      "text/plain": [
       "<Figure size 244.08x150.85 with 1 Axes>"
      ]
     },
     "metadata": {
      "needs_background": "light"
     },
     "output_type": "display_data"
    }
   ],
   "source": [
    "latexify.latexify(columns=2)\n",
    "x=bs[0]-1\n",
    "#bar((x[:-1]+x[1:])/2,mean(hs,axis=0)/N1,diff(bs[0]),label='aval.')\n",
    "plot((x[:-1]+x[1:])/2,mean(hs,axis=0)/N1,'s',mfc = 'w',label='AND av.')\n",
    "#errorbar((x[:-1]+x[1:])/2,mean(hs,axis=0)/N1,yerr=std(hs,axis=0)/N1/sqrt(len(hs)),ecolor='m',fmt='none',label='std')\n",
    "semilogy()\n",
    "xlabel(\"Avalanche size\",fontsize=13)\n",
    "ylabel(\"Frequency\",fontsize=13)\n",
    "ax=gca()\n",
    "color = 'tab:red'\n",
    "a,b = zip(*Counter(N1-np.count_nonzero(simulation,axis =1)-1).items())\n",
    "plt.plot(a,b/sum(b),'*',label = 'OR av.')\n",
    "\n",
    "'''\n",
    "ax2=ax.twiny()\n",
    "ax2.set_xlabel('degree',color=color,fontsize=13)\n",
    "plot_corrected_Poissoninan_out(d,c,1,[1,25],color=color,label='degree')\n",
    "ax2.tick_params(axis='x', labelcolor=color)\n",
    "'''\n",
    "plot_corrected_Poissoninan_out(d,c,1,[1,30],color=color,mfc = 'w',label='degree')\n",
    "legend(ncol=2)\n",
    "tight_layout()\n",
    "xlim([0,25])\n",
    "ylim(0.0001,)\n",
    "#savefig('knockout-cascade_linear.pdf')\n"
   ]
  },
  {
   "cell_type": "code",
   "execution_count": 19,
   "metadata": {},
   "outputs": [],
   "source": [
    "N1, N2, cout, dout = (10000,10000,c,d)\n",
    "J = create_graph(cout, dout, N1, N2)\n",
    "simulation = array(replics_parallel(J))"
   ]
  },
  {
   "cell_type": "code",
   "execution_count": 27,
   "metadata": {},
   "outputs": [
    {
     "data": {
      "text/plain": [
       "(1.0, 1.0)"
      ]
     },
     "execution_count": 27,
     "metadata": {},
     "output_type": "execute_result"
    }
   ],
   "source": [
    "c,d"
   ]
  },
  {
   "cell_type": "code",
   "execution_count": null,
   "metadata": {},
   "outputs": [],
   "source": []
  }
 ],
 "metadata": {
  "kernelspec": {
   "display_name": "Python 3",
   "language": "python",
   "name": "python3"
  },
  "language_info": {
   "codemirror_mode": {
    "name": "ipython",
    "version": 3
   },
   "file_extension": ".py",
   "mimetype": "text/x-python",
   "name": "python",
   "nbconvert_exporter": "python",
   "pygments_lexer": "ipython3",
   "version": "3.8.8"
  }
 },
 "nbformat": 4,
 "nbformat_minor": 2
}
