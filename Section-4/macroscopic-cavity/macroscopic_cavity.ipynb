{
 "cells": [
  {
   "cell_type": "markdown",
   "metadata": {},
   "source": [
    "# Heatmaps fig. 5b and 6b.\n",
    "\n",
    "In this notebook we illustrate the results for the macroscopic cavity equations to investigate:\n",
    "\n",
    "- stability of percolating phase\n",
    "- stability of non percolating phase\n",
    "\n",
    "\n",
    "This notebook loads the theory for the system of  macroscopic cavity equations. It assumes the macroscopic cavity equations  have already been solved by running the script ```cavity.wls```. \n",
    "\n",
    "Run in terminal (in this folder)\n",
    "```\n",
    "wolframscript -script cavity.wls\n",
    "```\n"
   ]
  },
  {
   "cell_type": "code",
   "execution_count": null,
   "metadata": {},
   "outputs": [],
   "source": [
    "import numpy as np\n",
    "import sys\n",
    "import matplotlib.pyplot as plt\n",
    "import pandas as pd\n",
    "sys.path.insert(0, \"../../lib\")# add the library folder to the path I look for modules\n",
    "import load_mathematica_tb\n",
    "import latexify\n",
    "latexify.latexify(columns=2)"
   ]
  },
  {
   "cell_type": "code",
   "execution_count": 3,
   "metadata": {},
   "outputs": [],
   "source": [
    "on = load_mathematica_tb.cavity(\"./\")"
   ]
  },
  {
   "cell_type": "code",
   "execution_count": 14,
   "metadata": {},
   "outputs": [
    {
     "data": {
      "image/png": "[encoded data removed]",
      "text/plain": [
       "<Figure size 244.08x150.85 with 2 Axes>"
      ]
     },
     "metadata": {
      "needs_background": "light"
     },
     "output_type": "display_data"
    }
   ],
   "source": [
    "on.heatmap()\n",
    "plt.xlabel('$\\langle d^{\\mathrm{in}} \\\\rangle$',fontsize=13)\n",
    "plt.ylabel('$\\langle c^{\\mathrm{in}} \\\\rangle$',fontsize=13)\n",
    "#plot(c_thr+1,1+d_thr,'w--',lw=2)\n",
    "cs= np.linspace(min(on.gene_cavity_tb.columns),max(on.gene_cavity_tb.columns),100)\n",
    "plt.plot(cs+1, np.exp( cs),'--r',lw=2)\n",
    "cbar=plt.colorbar()\n",
    "cbar.set_label(\"$\\\\tilde{g}$\",rotation=90,fontsize=13,labelpad=-2)\n",
    "cbar.set_ticks([0,0.3,0.6,0.9])\n",
    "plt.ylim(1,max(on.gene_cavity_tb.index)+1)\n",
    "plt.tight_layout()\n",
    "#plt.savefig('genes_on.pdf')"
   ]
  },
  {
   "cell_type": "code",
   "execution_count": 17,
   "metadata": {},
   "outputs": [
    {
     "data": {
      "image/png": "[encoded data removed]",
      "text/plain": [
       "<Figure size 244.08x150.85 with 2 Axes>"
      ]
     },
     "metadata": {
      "needs_background": "light"
     },
     "output_type": "display_data"
    }
   ],
   "source": [
    "off = load_mathematica_tb.cavity(\"./\",False)\n",
    "off.heatmap()\n",
    "plt.xlabel('$\\langle d^{\\mathrm{in}} \\\\rangle$',fontsize=13)\n",
    "plt.ylabel('$\\langle c^{\\mathrm{in}} \\\\rangle$',fontsize=13)\n",
    "cbar=plt.colorbar()\n",
    "#plot(d_thr+1,1+c_thr,'k--',lw=3)\n",
    "cs= np.linspace(min(off.gene_cavity_tb.columns),max(off.gene_cavity_tb.columns),100)\n",
    "plt.plot(cs+1, 1+np.log( 1+cs),'--r',lw=2)\n",
    "cbar.set_label(\"$\\\\tilde{g}$\",rotation=90,fontsize=13,labelpad=-2)\n",
    "cbar.set_ticks([0,0.3,0.6,0.9])\n",
    "plt.tight_layout()\n",
    "plt.ylim(1,max(off.gene_cavity_tb.index)+1)\n",
    "#plt.savefig('genes_off.pdf')"
   ]
  },
  {
   "cell_type": "code",
   "execution_count": null,
   "metadata": {},
   "outputs": [],
   "source": []
  }
 ],
 "metadata": {
  "kernelspec": {
   "display_name": "Python 3",
   "language": "python",
   "name": "python3"
  },
  "language_info": {
   "codemirror_mode": {
    "name": "ipython",
    "version": 3
   },
   "file_extension": ".py",
   "mimetype": "text/x-python",
   "name": "python",
   "nbconvert_exporter": "python",
   "pygments_lexer": "ipython3",
   "version": "3.7.4"
  }
 },
 "nbformat": 4,
 "nbformat_minor": 2
}
