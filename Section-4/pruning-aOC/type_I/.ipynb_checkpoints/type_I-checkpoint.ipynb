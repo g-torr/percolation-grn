{
 "cells": [
  {
   "cell_type": "code",
   "execution_count": 11,
   "metadata": {},
   "outputs": [],
   "source": [
    "from pylab import *\n",
    "%matplotlib inline\n",
    "sys.path.insert(0, \"../../lib\")# add the library folder to the path I look for modules\n",
    "from directed_random_graph import *# this is the function I wrote\n",
    "from multiprocessing import Pool\n",
    "import itertools\n",
    "import pickle\n",
    "from scipy.optimize import fsolve,root\n",
    "import component as co\n",
    "from timeit import default_timer as timer\n",
    "import latexify# execute function latexify for plots coherent with latex\n",
    "from networkx.algorithms import bipartite\n",
    "import scipy\n",
    "import pandas as pd\n",
    "import time #to measure performances\n",
    "def save_obj(obj, name ):\n",
    "    with open('dic-'+ name + '.pkl', 'wb') as f:\n",
    "        pickle.dump(obj, f, pickle.HIGHEST_PROTOCOL)\n",
    "def load_obj(name ):\n",
    "    with open('dic-' + name + '.pkl', 'rb') as f:\n",
    "        return pickle.load(f)\n",
    "import latexify\n",
    "import load_mathematica_tb"
   ]
  },
  {
   "cell_type": "markdown",
   "metadata": {},
   "source": [
    "This code compute the out-component, than remove a fraction of ``genes perc_fraction``. I compute the out-component, and remove the nodes that do not satisfy the AND condition. I compare this with the results of cavity. For cavity results one needs Mathematica to run with the right choice of parameters. Open the mathematica file ``percolation_Genes.nb``.\n",
    "You can load results from for percolation of out component from the dictionary."
   ]
  },
  {
   "cell_type": "code",
   "execution_count": 5,
   "metadata": {},
   "outputs": [],
   "source": [
    "on = load_mathematica_tb.cavity(\"../macroscopic-cavity/\")\n",
    "off = load_mathematica_tb.cavity(\"../macroscopic-cavity/\",False)\n"
   ]
  },
  {
   "cell_type": "markdown",
   "metadata": {},
   "source": [
    "Save/load simulation results"
   ]
  },
  {
   "cell_type": "code",
   "execution_count": 2,
   "metadata": {},
   "outputs": [],
   "source": [
    "#dic={'data':data,'ds':ds,'c':c,'perc_fraction':perc_fraction,'N1':N1}\n",
    "#save_obj(dic,'out_comp')\n"
   ]
  },
  {
   "cell_type": "code",
   "execution_count": 12,
   "metadata": {},
   "outputs": [
    {
     "data": {
      "text/plain": [
       "1"
      ]
     },
     "execution_count": 12,
     "metadata": {},
     "output_type": "execute_result"
    }
   ],
   "source": [
    "dic=load_obj('perc-typeI')\n",
    "data=dic['data']\n",
    "ds=dic['ds']#note that here d+1 is the average out-degree of genes\n",
    "c=dic['c']#note that here c+1 is the average out-degree of TFs\n",
    "perc_fraction=dic['perc_fraction']\n",
    "N1=dic['N1']\n"
   ]
  },
  {
   "cell_type": "code",
   "execution_count": 27,
   "metadata": {},
   "outputs": [
    {
     "data": {
      "image/png": "[encoded data removed]",
      "text/plain": [
       "<Figure size 244.08x150.85 with 1 Axes>"
      ]
     },
     "metadata": {
      "needs_background": "light"
     },
     "output_type": "display_data"
    }
   ],
   "source": [
    "latexify.latexify(columns=2)\n",
    "a,b=zip(*data)\n",
    "plot(ds+1,array(a)/N1,'s',mfc='w',label='gene',alpha=0.5)\n",
    "plot(ds+1,array(b)/N1,'o',mfc='w',label='TF',alpha= 0.8)\n",
    "xlabel(\"$\\\\langle c^{\\mathrm{in}} \\\\rangle$\",fontsize=13)\n",
    "plt.ylabel('Percolating fraction',fontsize=12)\n",
    "#title('Removal of '+str(perc_fraction*100)+'\\% of genes ')\n",
    "cav_gene_curve=on.gene_cavity_tb.iloc[:,argmin((array(on.gene_cavity_tb.columns)-c)**2)]#select the theoretical values with the closest possible value of c\n",
    "index=cav_gene_curve.index\n",
    "value=cav_gene_curve.values\n",
    "plot(array(index) +1,value,'--',label='thr. gene')\n",
    "cav_TF_curve=on.TF_cavity_tb.iloc[:,argmin((array(on.gene_cavity_tb.columns)-c)**2)]\n",
    "index=cav_TF_curve.index\n",
    "value=cav_TF_curve.values\n",
    "plot(array(index)+1,value,':',label='thr. TF')\n",
    "legend()\n",
    "xlim(min(ds)+1-0.1,max(ds)+1.1)\n",
    "tight_layout()\n",
    "#savefig('out_comp.pdf')\n"
   ]
  },
  {
   "cell_type": "code",
   "execution_count": null,
   "metadata": {},
   "outputs": [],
   "source": []
  }
 ],
 "metadata": {
  "kernelspec": {
   "display_name": "Python 3",
   "language": "python",
   "name": "python3"
  },
  "language_info": {
   "codemirror_mode": {
    "name": "ipython",
    "version": 3
   },
   "file_extension": ".py",
   "mimetype": "text/x-python",
   "name": "python",
   "nbconvert_exporter": "python",
   "pygments_lexer": "ipython3",
   "version": "3.7.4"
  }
 },
 "nbformat": 4,
 "nbformat_minor": 2
}
