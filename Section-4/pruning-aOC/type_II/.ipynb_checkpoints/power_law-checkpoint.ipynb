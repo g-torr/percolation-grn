{
 "cells": [
  {
   "cell_type": "code",
   "execution_count": 1,
   "metadata": {},
   "outputs": [],
   "source": [
    "import numpy as np\n",
    "import matplotlib.pyplot as plt\n",
    "%matplotlib inline\n",
    "import networkx as nx\n",
    "import random\n",
    "import itertools\n",
    "import scipy\n",
    "from scipy.stats import pareto\n",
    "import sys\n",
    "from multiprocessing import Pool\n",
    "import pickle\n",
    "from scipy.optimize import fsolve\n",
    "import pandas as pd\n",
    "from scipy.special import zeta\n",
    "from scipy.stats import poisson\n",
    "sys.path.insert(0, \"../../lib\")# add the library folder to the path I look for modules\n",
    "import configurational_model\n",
    "import configurational_model_regulatory\n",
    "import component as co\n",
    "import latexify\n",
    "#generators.configuration_model as configuration_model"
   ]
  },
  {
   "cell_type": "markdown",
   "metadata": {},
   "source": [
    "The pareto degree pdf is:\n",
    "$$\n",
    "f(x)=\\frac{\\alpha}{x^{\\alpha+1}}\n",
    "$$\n",
    "for $x\\geq1$. \n",
    "The discete variables have the probabilty:\n",
    "$$p(k)=\\int_k^{k+1}f(x)dx=\\left(\\dfrac{1}{k}\\right)^\\alpha-\\left(\\dfrac{1}{k+1}\\right)^\\alpha$$\n",
    "discrete variables are obtained taking the ceil function.\n",
    "For the continuous variable the average exists as long $\\alpha>1$, and variance is finite if $\\alpha>2$\n",
    "The following cell shows that the discrete variable goes the continuous.\n",
    "\n",
    "\n",
    "$$p(k)=\\dfrac{\\left(1+\\frac{1}{k}\\right)^\\alpha-1}{(k+1)^\\alpha}\\sim \\frac{\\alpha}{k(k+1)^\\alpha}\\sim_{k\\gg1}\\frac{\\alpha}{k^{\\alpha+1}}\n",
    "$$"
   ]
  },
  {
   "cell_type": "code",
   "execution_count": 162,
   "metadata": {
    "scrolled": false
   },
   "outputs": [
    {
     "name": "stdout",
     "output_type": "stream",
     "text": [
      "Mean discrete variable: 1.6441594\n",
      "Mean continuous variable: 1.9996081838521287\n",
      "1.0000000789368275 1.9996081838521287\n"
     ]
    },
    {
     "data": {
      "image/png": "[encoded data removed]",
      "text/plain": [
       "<Figure size 432x288 with 1 Axes>"
      ]
     },
     "metadata": {
      "needs_background": "light"
     },
     "output_type": "display_data"
    }
   ],
   "source": [
    "N1=5000000\n",
    "N2=500000\n",
    "\n",
    "gamma_G=2\n",
    "aseq= np.floor(1+np.random.pareto(gamma_G,N1)) #generate_degree_seq(gamma_G,N1)\n",
    "h,b= np.histogram(aseq,bins=np.logspace(np.log10(min(aseq)),np.log10(max(aseq)),100))\n",
    "plt.bar(b[:-1],h/sum(h),np.diff(b),alpha=0.5,label='discrete')\n",
    "print('Mean discrete variable:',np.mean(aseq))\n",
    "aseq = 1+np.random.pareto(gamma_G,N1)\n",
    "h,b = np.histogram(aseq,bins=np.logspace(0,np.log10(max(aseq)),100),density=True)\n",
    "plt.bar(b[:-1],h,np.diff(b),alpha=0.2,label='continuous')\n",
    "print('Mean continuous variable:',np.mean(aseq))\n",
    "\n",
    "plt.loglog()\n",
    "k=np.arange(1,1000)\n",
    "plt.plot(k,(1/(k))**(gamma_G)-(1/(k+1)**(gamma_G)),'o',label='$k^{-\\\\alpha}-(k+1)^{-\\\\alpha}$')\n",
    "x= np.linspace(0.99,300,100)\n",
    "plt.plot(x,(1/(x)**(gamma_G+1))*gamma_G,label='$\\\\alpha/x^{\\\\alpha+1}$')\n",
    "\n",
    "\n",
    "plt.legend()\n",
    "print(np.min(aseq),np.mean(aseq))"
   ]
  },
  {
   "cell_type": "code",
   "execution_count": 166,
   "metadata": {},
   "outputs": [
    {
     "data": {
      "text/plain": [
       "1.0"
      ]
     },
     "execution_count": 166,
     "metadata": {},
     "output_type": "execute_result"
    },
    {
     "data": {
      "image/png": "[encoded data removed]",
      "text/plain": [
       "<Figure size 432x288 with 1 Axes>"
      ]
     },
     "metadata": {
      "needs_background": "light"
     },
     "output_type": "display_data"
    }
   ],
   "source": [
    "N1=5000\n",
    "aseq= np.floor(1+np.random.pareto(gamma_G,N1)) #generate_degree_seq(gamma_G,N1)\n",
    "h,b= np.histogram(aseq,bins=np.arange(1,max(aseq)+2))\n",
    "plt.bar(b[:-1],h/sum(h),np.diff(b),alpha=0.5,label='discrete')\n",
    "k=np.arange(1,30)\n",
    "plt.plot(k,(1/(k))**(gamma_G)-(1/(k+1)**(gamma_G)),'o',label='$1/k^{\\\\alpha}-1/k^{\\\\alpha+1}$')\n",
    "plt.semilogy()\n",
    "plt.xlim(0,30)\n",
    "np.min(aseq)"
   ]
  },
  {
   "cell_type": "code",
   "execution_count": 160,
   "metadata": {},
   "outputs": [
    {
     "data": {
      "text/plain": [
       "0.0"
      ]
     },
     "execution_count": 160,
     "metadata": {},
     "output_type": "execute_result"
    },
    {
     "data": {
      "image/png": "[encoded data removed]",
      "text/plain": [
       "<Figure size 432x288 with 1 Axes>"
      ]
     },
     "metadata": {
      "needs_background": "light"
     },
     "output_type": "display_data"
    }
   ],
   "source": [
    "N1=5000\n",
    "aseq= np.floor(0.9+np.random.pareto(gamma_G,N1)) #generate_degree_seq(gamma_G,N1)\n",
    "h,b= np.histogram(aseq,bins=np.arange(1,max(aseq)+2))\n",
    "plt.bar(b[:-1],h/sum(h),np.diff(b),alpha=0.5,label='discrete')\n",
    "k=np.arange(2,30)\n",
    "plt.plot(np.append(1,k),np.append(1-(1/1.01)**gamma_G,(1/(k-0.99))**(gamma_G)-(1/(k+.01)**(gamma_G))),'o',label='$1/k^{\\\\alpha}-1/k^{\\\\alpha+1}$')\n",
    "#plt.semilogy()\n",
    "plt.xlim(0,30)\n",
    "np.min(aseq)"
   ]
  },
  {
   "cell_type": "markdown",
   "metadata": {},
   "source": [
    "Theory is generated by the script ```power.wls```.\n",
    "\n",
    "Simulation is generated by the python script ```power-both.py``` (use it on Rosalind)"
   ]
  },
  {
   "cell_type": "code",
   "execution_count": 10,
   "metadata": {},
   "outputs": [
    {
     "data": {
      "text/plain": [
       "dict_keys(['data', 'N1', 'gamma_Gs', 'descr'])"
      ]
     },
     "execution_count": 10,
     "metadata": {},
     "output_type": "execute_result"
    }
   ],
   "source": [
    "dic = load_obj('powerlaw-both')\n",
    "data=np.array(dic['data'])\n",
    "gamma_Gs =dic['gamma_Gs']\n",
    "#gamma_Gs = dic['gamma']\n",
    "len(data)\n",
    "dic.keys()"
   ]
  },
  {
   "cell_type": "code",
   "execution_count": 8,
   "metadata": {
    "scrolled": true
   },
   "outputs": [
    {
     "data": {
      "image/png": "[encoded data removed]",
      "text/plain": [
       "<Figure size 244.08x150.85 with 1 Axes>"
      ]
     },
     "metadata": {
      "needs_background": "light"
     },
     "output_type": "display_data"
    }
   ],
   "source": [
    "latexify.latexify(columns=2)\n",
    "cin = data[:,2]\n",
    "plt.plot(cin,np.array(data)[:,0],'s',mfc='w',label= 'Gene',alpha = 0.7)\n",
    "plt.plot(cin,np.array(data)[:,1],'o',mfc='w',label='TF',alpha=0.7)\n",
    "din=np.mean(data,axis=0)[-1]\n",
    "cav_gene_curve=on.gene_cavity_tb.iloc[:,np.argmin((np.array(on.gene_cavity_tb.index)-din+1)**2)]#select the theoretical values with the closest possible value of c\n",
    "cav_TF_curve=on.TF_cavity_tb.iloc[:,np.argmin((np.array(on.gene_cavity_tb.index)-din+1)**2)]\n",
    "index=cav_gene_curve.index\n",
    "value=cav_gene_curve.values\n",
    "\n",
    "value=cav_TF_curve.values\n",
    "\n",
    "g_thr,lambda_thr,c_thr = spacchetta()\n",
    "if abs((c_thr+1)/data[0][3]-1)>0.2:\n",
    "    print('Attention!! Simulation and theory at different c')\n",
    "#plt.plot(np.array(lambda_thr),g_thr,'--',label= 'thr. Gene')\n",
    "plt.plot(zeta(lambda_thr),g_thr,'--',label= 'thr. Gene')\n",
    "t_thr,lambda_thr,c_thr = spacchetta('TF_power.txt')\n",
    "plt.plot(zeta(lambda_thr),t_thr,':',label= 'thr. TF')\n",
    "plt.legend()\n",
    "#plt.semilogx()\n",
    "plt.xlabel(\"$\\\\langle c^{\\mathrm{in}} \\\\rangle$\",fontsize=13)\n",
    "plt.ylabel('Percolating fraction',fontsize=12)\n",
    "plt.tight_layout()\n",
    "#plt.savefig('power-both.pdf')\n"
   ]
  },
  {
   "cell_type": "code",
   "execution_count": 113,
   "metadata": {},
   "outputs": [
    {
     "data": {
      "text/plain": [
       "(0.9999888888888889, 0.9999999999999997)"
      ]
     },
     "execution_count": 113,
     "metadata": {},
     "output_type": "execute_result"
    }
   ],
   "source": [
    "np.sum((1/(k))**(gamma_G)-(1/(k+1)**(gamma_G))),np.sum(h/sum(h))"
   ]
  },
  {
   "cell_type": "code",
   "execution_count": 3,
   "metadata": {},
   "outputs": [],
   "source": [
    "def load_obj(name ):\n",
    "    with open('dic-' + name + '.pkl', 'rb') as f:\n",
    "        return pickle.load(f)\n",
    "\n",
    "\n",
    "class cavity:\n",
    "    '''This class loads the cavity results computed with Mathematica script \"cavity.wls\".\n",
    "        mathematica script creates curves with percolation p=0.95\n",
    "        self.c and self.d contains the points on the critical line.\n",
    "    '''\n",
    "    def __init__(self,TF_on=True):\n",
    "        \n",
    "        self.TF_on=TF_on\n",
    "        if TF_on:\n",
    "            self.gene_cavity_tb=self.load_theoy_from_mathematica(\"gene_on_cavity.txt\")\n",
    "            self.TF_cavity_tb=self.load_theoy_from_mathematica(\"TF_on_cavity.txt\")\n",
    "            \n",
    "        else:\n",
    "            self.gene_cavity_tb=self.load_theoy_from_mathematica(\"gene_off_cavity.txt\")\n",
    "            self.TF_cavity_tb=self.load_theoy_from_mathematica(\"TF_on_cavity.txt\")\n",
    "            \n",
    "            '''\n",
    "            if not any(cavity_tb.values<0.5):\n",
    "                raise ValueError(\"The input text file does not contain a transition in the protocol 'on'. Change parameters in the mathematica script\")\n",
    "            line=[(col,min(cavity_tb[col].index[cavity_tb[col]==1])) for col in cavity_tb.columns if any(cavity_tb[col]==1)]#list of (c,d) where transition happens\n",
    "            \n",
    "        else:\n",
    "            cavity_tb=self.load_theoy_from_mathematica(\"off_cavity.txt\")\n",
    "            if not any(cavity_tb.values>0.5):\n",
    "                raise ValueError(\"The input text file does not contain a transition in the protocol 'off'. Change parameters in the mathematica script\")\n",
    "            line=[(col,min(cavity_tb[col].index[cavity_tb[col]==3])) for col in cavity_tb.columns if any(cavity_tb[col]==3)]#list of (c,d) where transition happens\n",
    "            '''\n",
    "        '''\n",
    "        c,d=zip(*line)\n",
    "        self.c=array(c)\n",
    "        self.d=array(d)\n",
    "        self.cavity_tb=cavity_tb\n",
    "        #self.heatmap()\n",
    "        '''    \n",
    "    def load_theoy_from_mathematica(self,file):\n",
    "        '''Create a Pandas dataframe, which contains \"d\" as index of rows, \"c\" as column name, content is the number of solutions'''\n",
    "        def spacchetta(row):\n",
    "            ds, root= zip(*[[ a for a in  row_list.strip(\" {\").split(\",\")] for row_list in row.strip(\"}\").split(\"},\") ])\n",
    "            ds = np.array(ds,dtype=float)\n",
    "            root = np.array(root,dtype=float)\n",
    "            return ds,root\n",
    "\n",
    "        tb=pd.read_table(file,header=None,names=[\"c\",\"ds\"],index_col=0)\n",
    "        A=[]\n",
    "        for row in tb[\"ds\"]:\n",
    "            ds_cavity,root=spacchetta(row)\n",
    "            A+=[root]\n",
    "        A=np.transpose(A)\n",
    "        num_cavity=pd.DataFrame(A,index=list(map(lambda x: round(x,3),ds_cavity)),columns=list(map(lambda x: round(x,3),tb.index)))\n",
    "        num_cavity.index.name=\"d\"\n",
    "        return num_cavity\n",
    "    def heatmap(self):\n",
    "        fig=figure()\n",
    "        cavity_tb=self.gene_cavity_tb\n",
    "        '''\n",
    "        if self.TF_on:\n",
    "            title(\"Number of solution. TF on\")\n",
    "        else:\n",
    "            title(\"Number of solutions. TF off\")\n",
    "        '''\n",
    "        cmap=cm.get_cmap('viridis')\n",
    "        #bounds = np.linspace(0.5, 3.5, 4)\n",
    "        #norm = mpl.colors.BoundaryNorm(bounds, cmap.N)\n",
    "        plt.imshow(cavity_tb,origin=\"lower\",extent=(min(list(cavity_tb.index))+1,max(list(cavity_tb.index))+1,min(list(cavity_tb.columns))+1,max(list(cavity_tb.columns))+1), aspect=\"auto\",cmap=cmap)\n",
    "        #colorbar()\n",
    "        plt.xlabel(\"Mean gene in-degree\")\n",
    "        plt.ylabel(\"Mean TF in-degree\")\n",
    "        plt.tight_layout()\n",
    "        return fig\n",
    "on=cavity(True)\n",
    "off=cavity(False)\n",
    "\n",
    "def generate_degree_seq(gamma,N):\n",
    "    kseq=np.floor(1+np.random.pareto(gamma,N))#era floor\n",
    "    cond=kseq>N\n",
    "    while any(cond):\n",
    "        temp_seq=np.floor(1+np.random.pareto(gamma,np.count_nonzero(cond)))\n",
    "        kseq[cond]=temp_seq\n",
    "        cond=kseq>N\n",
    "    return np.array(kseq,dtype=int)\n",
    "\n",
    "def spacchetta(filename='gene_power.txt'):\n",
    "    ''' This reads the theory for the power law Mathematica file \"power.nb\"'''\n",
    "    with open(filename) as f:\n",
    "        lines=f.read().splitlines()\n",
    "    c_thr = float(lines[0])\n",
    "    lines[1]=lines[1].replace( 'x /. {}[[-1]]}','0')\n",
    "    content  = [[float(el.strip('}').strip('{')) for el in line.split(',')]for line in lines[1].split('\\t')]\n",
    "    lambda_thr, g_thr = zip(*content)\n",
    "    return g_thr,lambda_thr,c_thr"
   ]
  },
  {
   "cell_type": "code",
   "execution_count": null,
   "metadata": {},
   "outputs": [],
   "source": []
  },
  {
   "cell_type": "code",
   "execution_count": 8,
   "metadata": {},
   "outputs": [],
   "source": [
    "#data=load_obj('powerlaw-out')['data']\n",
    "data1=load_obj('powerlaw-out1')['data']\n",
    "data=data1"
   ]
  },
  {
   "cell_type": "code",
   "execution_count": 9,
   "metadata": {},
   "outputs": [
    {
     "data": {
      "image/png": "[encoded data removed]",
      "text/plain": [
       "<Figure size 244.08x150.85 with 1 Axes>"
      ]
     },
     "metadata": {
      "needs_background": "light"
     },
     "output_type": "display_data"
    }
   ],
   "source": [
    "latexify.latexify(columns=2)\n",
    "plt.plot(np.array(data)[:,2],np.array(data)[:,0],'s',mfc='w',label='gene',alpha=0.7)\n",
    "plt.plot(np.array(data)[:,2],np.array(data)[:,1],'o',mfc='w',label='TF',alpha=0.9)\n",
    "din=np.mean(data,axis=0)[-1]-1\n",
    "cav_gene_curve=on.gene_cavity_tb.iloc[:,np.argmin((np.array(on.gene_cavity_tb.index)-din)**2)]#select the theoretical values with the closest possible value of c\n",
    "cav_TF_curve=on.TF_cavity_tb.iloc[:,np.argmin((np.array(on.gene_cavity_tb.index)-din)**2)]\n",
    "index=cav_gene_curve.index\n",
    "value=cav_gene_curve.values\n",
    "plt.plot(np.array(index) +1,value,'--',label='thr. gene')\n",
    "value=cav_TF_curve.values\n",
    "plt.plot(np.array(index) +1,value,':',label='thr. TF')\n",
    "plt.legend()\n",
    "plt.xlabel(\"$\\\\langle c^{\\mathrm{in}} \\\\rangle$\",fontsize=13)\n",
    "plt.ylabel('Percolating fraction',fontsize=12)\n",
    "plt.xlim([1,2])\n",
    "plt.tight_layout()\n",
    "#plt.semilogx()\n",
    "#plt.savefig('power-out.pdf')"
   ]
  },
  {
   "cell_type": "code",
   "execution_count": 93,
   "metadata": {},
   "outputs": [
    {
     "data": {
      "text/plain": [
       "[(0.0, 0.0, 2.72152, 2.63161),\n",
       " (0.84161, 0.65753, 2.5717, 2.63161),\n",
       " (0.8791987919879198, 0.7375473754737547, 2.46258, 2.63161),\n",
       " (0.88563, 0.75688, 2.37936, 2.63161),\n",
       " (0.88555, 0.76361, 2.30999, 2.63161),\n",
       " (0.89809, 0.79682, 2.1712, 2.63161),\n",
       " (0.89713, 0.80559, 2.04233, 2.63161),\n",
       " (0.90774, 0.83365, 1.91625, 2.63161),\n",
       " (0.90843, 0.83651, 1.89708, 2.63161)]"
      ]
     },
     "execution_count": 93,
     "metadata": {},
     "output_type": "execute_result"
    }
   ],
   "source": [
    "data"
   ]
  },
  {
   "cell_type": "code",
   "execution_count": 300,
   "metadata": {},
   "outputs": [
    {
     "name": "stderr",
     "output_type": "stream",
     "text": [
      "/opt/miniconda3/lib/python3.7/site-packages/scipy/optimize/minpack.py:162: RuntimeWarning: The iteration is not making good progress, as measured by the \n",
      "  improvement from the last ten iterations.\n",
      "  warnings.warn(msg, RuntimeWarning)\n",
      "/opt/miniconda3/lib/python3.7/site-packages/scipy/optimize/minpack.py:162: RuntimeWarning: The iteration is not making good progress, as measured by the \n",
      "  improvement from the last five Jacobian evaluations.\n",
      "  warnings.warn(msg, RuntimeWarning)\n"
     ]
    },
    {
     "data": {
      "text/plain": [
       "(1.5, 3)"
      ]
     },
     "execution_count": 300,
     "metadata": {},
     "output_type": "execute_result"
    },
    {
     "data": {
      "image/png": "[encoded data removed]",
      "text/plain": [
       "<Figure size 432x288 with 1 Axes>"
      ]
     },
     "metadata": {
      "needs_background": "light"
     },
     "output_type": "display_data"
    }
   ],
   "source": [
    "def f(g,d,c,alpha,p):\n",
    "    return -g + p*np.exp(-(alpha*c*g*np.exp((d*(-1 + g))/alpha)))*(-1 + g*np.exp((d*(-1 + g))/alpha) + np.exp(alpha*c*g*np.exp((d*(-1 + g))/alpha)))\n",
    "def plot_cavity(data):\n",
    "    data=np.array(data)\n",
    "    c=data[0,3]-1\n",
    "    ds=data[:,2]-1\n",
    "    ds_thr=np.linspace(np.min(ds),np.max(ds),100)\n",
    "    plt.plot(ds_thr+1,[fsolve(f,1,args=(d,c,1,0.95))for d in ds_thr])\n",
    "plot_cavity(data)\n",
    "plt.xlabel('ds')\n",
    "cav_gene_curve=on.gene_cavity_tb.iloc[:,np.argmin((np.array(on.gene_cavity_tb.index)-din)**2)]#select the theoretical values with the closest possible value of c\n",
    "index=cav_gene_curve.index\n",
    "value=cav_gene_curve.values\n",
    "plt.plot(np.array(index) +1,value,'--',label='thr. gene')\n",
    "plt.xlim([1.5,3])\n",
    "\n"
   ]
  },
  {
   "cell_type": "code",
   "execution_count": 3,
   "metadata": {},
   "outputs": [
    {
     "name": "stdout",
     "output_type": "stream",
     "text": [
      "1.55705 1.39215\n"
     ]
    },
    {
     "data": {
      "text/plain": [
       "[]"
      ]
     },
     "execution_count": 3,
     "metadata": {},
     "output_type": "execute_result"
    },
    {
     "data": {
      "image/png": "[encoded data removed]",
      "text/plain": [
       "<Figure size 432x288 with 1 Axes>"
      ]
     },
     "metadata": {
      "needs_background": "light"
     },
     "output_type": "display_data"
    }
   ],
   "source": [
    "N1= 20000\n",
    "N2= 20000\n",
    "gamma_G = 2.1 \n",
    "gamma_TF=1.7\n",
    "aseq = generate_degree_seq(gamma_G,N1)\n",
    "c = 0.4\n",
    "bseq=np.random.poisson(c+1,N2)\n",
    "\n",
    "\n",
    "#bseq=generate_degree_seq(gamma_TF,N2)\n",
    "#plt.hist(bseq,bins=np.logspace(np.log10(min(bseq)),np.log10(max(bseq)),100),density=True)\n",
    "#plt.loglog()\n",
    "print(np.mean(aseq),np.mean(bseq))\n",
    "plt.figure()\n",
    "plt.hist(bseq,bins= np.arange(np.min(bseq),np.max(bseq)+2),density=True)\n",
    "plt.plot(np.arange(0,8),[poisson.pmf(k, np.mean(bseq)) for k in range(0,8)],'-o')\n",
    "plt.semilogy()\n"
   ]
  },
  {
   "cell_type": "code",
   "execution_count": 4,
   "metadata": {},
   "outputs": [
    {
     "data": {
      "text/plain": [
       "1.55705"
      ]
     },
     "execution_count": 4,
     "metadata": {},
     "output_type": "execute_result"
    }
   ],
   "source": [
    "BG=configurational_model_regulatory.configuration_model_mirroring(aseq,bseq,nx.MultiDiGraph())\n",
    "np.mean(aseq)\n"
   ]
  },
  {
   "cell_type": "code",
   "execution_count": 178,
   "metadata": {},
   "outputs": [
    {
     "name": "stdout",
     "output_type": "stream",
     "text": [
      "1.4947 1.38555\n"
     ]
    },
    {
     "data": {
      "text/plain": [
       "<matplotlib.legend.Legend at 0x1a2720b910>"
      ]
     },
     "execution_count": 178,
     "metadata": {},
     "output_type": "execute_result"
    },
    {
     "data": {
      "image/png": "[encoded data removed]",
      "text/plain": [
       "<Figure size 432x288 with 1 Axes>"
      ]
     },
     "metadata": {
      "needs_background": "light"
     },
     "output_type": "display_data"
    }
   ],
   "source": [
    "plt.hist(dict(BG.in_degree(np.arange(N1))).values(),bins=np.arange(1,8),density=True,label='in degree G')\n",
    "print(np.mean(aseq),np.mean(bseq))\n",
    "plt.plot(1+np.arange(0,7),[poisson.pmf(k, np.mean(bseq)-1) for k in range(0,7)],'-o')\n",
    "plt.legend()"
   ]
  },
  {
   "cell_type": "code",
   "execution_count": 179,
   "metadata": {},
   "outputs": [
    {
     "data": {
      "text/plain": [
       "[]"
      ]
     },
     "execution_count": 179,
     "metadata": {},
     "output_type": "execute_result"
    },
    {
     "data": {
      "image/png": "[encoded data removed]",
      "text/plain": [
       "<Figure size 432x288 with 1 Axes>"
      ]
     },
     "metadata": {
      "needs_background": "light"
     },
     "output_type": "display_data"
    }
   ],
   "source": [
    "plt.hist(dict(BG.in_degree(np.arange(N1,N1+N2))).values(),bins=np.arange(1,30),density=True,label='TF in degree')\n",
    "k=np.arange(1,60)\n",
    "plt.plot(k,(1/(k))**(gamma_G)-(1/(k+1)**(gamma_G)),label='$1/k^{\\\\alpha}-1/k^{\\\\alpha+1}$')\n",
    "\n",
    "plt.legend()\n",
    "#plt.plot(1+np.arange(0,10),[poisson.pmf(k, np.mean(aseq)-1) for k in range(0,10)],'-o')\n",
    "plt.loglog()"
   ]
  },
  {
   "cell_type": "code",
   "execution_count": 5,
   "metadata": {},
   "outputs": [
    {
     "name": "stdout",
     "output_type": "stream",
     "text": [
      "1.39205 1.39215\n",
      "1.5568 1.55705\n",
      "relative error: 0.00016058581706079877\n"
     ]
    },
    {
     "data": {
      "image/png": "[encoded data removed]",
      "text/plain": [
       "<Figure size 432x288 with 1 Axes>"
      ]
     },
     "metadata": {
      "needs_background": "light"
     },
     "output_type": "display_data"
    }
   ],
   "source": [
    "\n",
    "print(np.mean(list(dict(nx.DiGraph(BG).in_degree(np.arange(N1))).values())),np.mean(list(dict(BG.in_degree(np.arange(N1))).values())))                                                                                                  \n",
    "print(np.mean(list(dict(nx.DiGraph(BG).in_degree(np.arange(N1,N1+N2))).values())),np.mean(list(dict(BG.in_degree(np.arange(N1,N1+N2))).values())))                                                                                                  \n",
    "\n",
    "plt.hist(dict(BG.in_degree(np.arange(N1,N1+N2))).values(),bins=np.arange(1,30),density=True,label='TF in degree')\n",
    "plt.hist(dict(nx.DiGraph(BG).in_degree(np.arange(N1,N1+N2))).values(),bins=np.arange(1,30),density=True,alpha= 0.5,label='TF in degree')\n",
    "plt.semilogy()\n",
    "\n",
    "print('relative error:',np.mean(list(dict(BG.in_degree(np.arange(N1,N1+N2))).values()))/np.mean(list(dict(nx.DiGraph(BG).in_degree(np.arange(N1,N1+N2))).values()))-1) \n",
    "\n"
   ]
  },
  {
   "cell_type": "code",
   "execution_count": 213,
   "metadata": {},
   "outputs": [],
   "source": [
    "def out_nonlinear_remove(BG,Genes,TFs,genes_rm):\n",
    "    '''Return the subgraph in the SCC, and then removes TFs whose in degree is not the same as initially '''\n",
    "    BG_filtered=BG.copy()\n",
    "    BG_tf=dict(BG.in_degree(TFs))# dictionary of in degree for TF in the bipartite graph\n",
    "    BG_filtered.remove_nodes_from(genes_rm)\n",
    "    count=0\n",
    "    while True:\n",
    "        Gc_nodes=co.out_component(BG_filtered)\n",
    "        Gc=BG_filtered.subgraph(Gc_nodes).copy()\n",
    "        if len(Gc_nodes)==len(BG_filtered):\n",
    "            print(\"number of deletion iterations:\",count)\n",
    "            return BG_filtered,count\n",
    "        count+=1\n",
    "        \n",
    "        Gc_G=set(Gc.nodes()).intersection(Genes)# set of genes in the giant cluster\n",
    "        Gc_tf=dict(Gc.in_degree(TFs))# dictionary of in degree for TF in the SCC\n",
    "        filtered={v for v,k in Gc_tf.items() if BG_tf[v]==k} # filtered dictionary of SCC if TF has same indegree as initially\n",
    "        #BG_filtered.remove_nodes_from([n for n in BG_filtered if n not in set(filtered).union(Gc_G)])#remove TFs with wrond in-degree and Genes not in SCC\n",
    "        if len(filtered)==0:\n",
    "            return nx.empty_graph(),count\n",
    "        BG_filtered=BG_filtered.subgraph(set(filtered).union(Gc_G)).copy()\n",
    "        #print(set(filtered),Gc_G)\n",
    "def filter_out(BG):\n",
    "    '''It extract the out subgraph'''\n",
    "    nodes_out=co.out_component(BG)\n",
    "    Gc=BG.subgraph(nodes_out).copy()\n",
    "    Genes = []\n",
    "    TFs = []\n",
    "    for n,d in Gc.nodes(data=True):\n",
    "        if d['bipartite']==0:\n",
    "            Genes+=[n ]\n",
    "        elif d['bipartite']==1:\n",
    "            TFs+=[n]\n",
    "    N1=len(Genes)\n",
    "    N2=len(TFs)\n",
    "    in_deg=scipy.sparse.csr_matrix(list(dict(Gc.in_degree(TFs)).values()))\n",
    "    return Genes,TFs,in_deg\n",
    "\n",
    "perc_fraction=0.05\n",
    "def create_graph_and_remove(N1,N2,gamma_G,bseq,perc_fraction):\n",
    "    aseq= generate_degree_seq(gamma_G,N1)\n",
    "    BG=configurational_model_regulatory.configuration_model_mirroring(aseq,bseq,nx.MultiDiGraph())\n",
    "    Genes,TFs,in_deg=filter_out(BG)\n",
    "    print('Starting from ',len(Genes)+len(TFs), 'nodes in out component')\n",
    "    genes_rm=random.sample(Genes,int(perc_fraction*N1))\n",
    "    print(' we remove ',len(genes_rm),' genes initially')\n",
    "    BG_filtered,count=out_nonlinear_remove(BG,Genes,TFs,genes_rm)\n",
    "    print('we are left with:',len(BG_filtered.nodes()), 'nodes in non-linear out-component')\n",
    "    return len(set(BG_filtered.nodes()).intersection(Genes)),len(set(BG_filtered.nodes()).intersection(TFs)),np.mean(aseq),np.mean(bseq)\n"
   ]
  },
  {
   "cell_type": "code",
   "execution_count": 217,
   "metadata": {},
   "outputs": [
    {
     "name": "stdout",
     "output_type": "stream",
     "text": [
      "Starting from  100000 nodes in out component\n",
      " we remove  2500  genes initially\n"
     ]
    },
    {
     "ename": "KeyboardInterrupt",
     "evalue": "",
     "output_type": "error",
     "traceback": [
      "\u001b[0;31m---------------------------------------------------------------------------\u001b[0m",
      "\u001b[0;31mKeyboardInterrupt\u001b[0m                         Traceback (most recent call last)",
      "\u001b[0;32m<ipython-input-217-277a5dba0982>\u001b[0m in \u001b[0;36m<module>\u001b[0;34m()\u001b[0m\n\u001b[1;32m      8\u001b[0m     \u001b[0;32mraise\u001b[0m \u001b[0mValueError\u001b[0m\u001b[0;34m(\u001b[0m\u001b[0;34m'degree sequence non compatible for regulations'\u001b[0m\u001b[0;34m)\u001b[0m\u001b[0;34m\u001b[0m\u001b[0;34m\u001b[0m\u001b[0m\n\u001b[1;32m      9\u001b[0m \u001b[0mdata\u001b[0m \u001b[0;34m=\u001b[0m \u001b[0mitertools\u001b[0m\u001b[0;34m.\u001b[0m\u001b[0mstarmap\u001b[0m\u001b[0;34m(\u001b[0m\u001b[0mcreate_graph_and_remove\u001b[0m\u001b[0;34m,\u001b[0m\u001b[0mitertools\u001b[0m\u001b[0;34m.\u001b[0m\u001b[0mproduct\u001b[0m\u001b[0;34m(\u001b[0m\u001b[0;34m[\u001b[0m\u001b[0mN1\u001b[0m\u001b[0;34m]\u001b[0m\u001b[0;34m,\u001b[0m\u001b[0;34m[\u001b[0m\u001b[0mN2\u001b[0m\u001b[0;34m]\u001b[0m\u001b[0;34m,\u001b[0m\u001b[0mgamma_Gs\u001b[0m\u001b[0;34m,\u001b[0m\u001b[0;34m[\u001b[0m\u001b[0mbseq\u001b[0m\u001b[0;34m]\u001b[0m\u001b[0;34m,\u001b[0m\u001b[0;34m[\u001b[0m\u001b[0mperc_fraction\u001b[0m\u001b[0;34m]\u001b[0m\u001b[0;34m)\u001b[0m\u001b[0;34m)\u001b[0m\u001b[0;34m\u001b[0m\u001b[0;34m\u001b[0m\u001b[0m\n\u001b[0;32m---> 10\u001b[0;31m \u001b[0mdata\u001b[0m\u001b[0;34m=\u001b[0m\u001b[0mlist\u001b[0m\u001b[0;34m(\u001b[0m\u001b[0mdata\u001b[0m\u001b[0;34m)\u001b[0m\u001b[0;34m\u001b[0m\u001b[0;34m\u001b[0m\u001b[0m\n\u001b[0m",
      "\u001b[0;32m<ipython-input-213-4e79b3a0360c>\u001b[0m in \u001b[0;36mcreate_graph_and_remove\u001b[0;34m(N1, N2, gamma_G, bseq, perc_fraction)\u001b[0m\n\u001b[1;32m     45\u001b[0m     \u001b[0mgenes_rm\u001b[0m\u001b[0;34m=\u001b[0m\u001b[0mrandom\u001b[0m\u001b[0;34m.\u001b[0m\u001b[0msample\u001b[0m\u001b[0;34m(\u001b[0m\u001b[0mGenes\u001b[0m\u001b[0;34m,\u001b[0m\u001b[0mint\u001b[0m\u001b[0;34m(\u001b[0m\u001b[0mperc_fraction\u001b[0m\u001b[0;34m*\u001b[0m\u001b[0mN1\u001b[0m\u001b[0;34m)\u001b[0m\u001b[0;34m)\u001b[0m\u001b[0;34m\u001b[0m\u001b[0;34m\u001b[0m\u001b[0m\n\u001b[1;32m     46\u001b[0m     \u001b[0mprint\u001b[0m\u001b[0;34m(\u001b[0m\u001b[0;34m' we remove '\u001b[0m\u001b[0;34m,\u001b[0m\u001b[0mlen\u001b[0m\u001b[0;34m(\u001b[0m\u001b[0mgenes_rm\u001b[0m\u001b[0;34m)\u001b[0m\u001b[0;34m,\u001b[0m\u001b[0;34m' genes initially'\u001b[0m\u001b[0;34m)\u001b[0m\u001b[0;34m\u001b[0m\u001b[0;34m\u001b[0m\u001b[0m\n\u001b[0;32m---> 47\u001b[0;31m     \u001b[0mBG_filtered\u001b[0m\u001b[0;34m,\u001b[0m\u001b[0mcount\u001b[0m\u001b[0;34m=\u001b[0m\u001b[0mout_nonlinear_remove\u001b[0m\u001b[0;34m(\u001b[0m\u001b[0mBG\u001b[0m\u001b[0;34m,\u001b[0m\u001b[0mGenes\u001b[0m\u001b[0;34m,\u001b[0m\u001b[0mTFs\u001b[0m\u001b[0;34m,\u001b[0m\u001b[0mgenes_rm\u001b[0m\u001b[0;34m)\u001b[0m\u001b[0;34m\u001b[0m\u001b[0;34m\u001b[0m\u001b[0m\n\u001b[0m\u001b[1;32m     48\u001b[0m     \u001b[0mprint\u001b[0m\u001b[0;34m(\u001b[0m\u001b[0;34m'we are left with:'\u001b[0m\u001b[0;34m,\u001b[0m\u001b[0mlen\u001b[0m\u001b[0;34m(\u001b[0m\u001b[0mBG_filtered\u001b[0m\u001b[0;34m.\u001b[0m\u001b[0mnodes\u001b[0m\u001b[0;34m(\u001b[0m\u001b[0;34m)\u001b[0m\u001b[0;34m)\u001b[0m\u001b[0;34m,\u001b[0m \u001b[0;34m'nodes in non-linear out-component'\u001b[0m\u001b[0;34m)\u001b[0m\u001b[0;34m\u001b[0m\u001b[0;34m\u001b[0m\u001b[0m\n\u001b[1;32m     49\u001b[0m     \u001b[0;32mreturn\u001b[0m \u001b[0mlen\u001b[0m\u001b[0;34m(\u001b[0m\u001b[0mset\u001b[0m\u001b[0;34m(\u001b[0m\u001b[0mBG_filtered\u001b[0m\u001b[0;34m.\u001b[0m\u001b[0mnodes\u001b[0m\u001b[0;34m(\u001b[0m\u001b[0;34m)\u001b[0m\u001b[0;34m)\u001b[0m\u001b[0;34m.\u001b[0m\u001b[0mintersection\u001b[0m\u001b[0;34m(\u001b[0m\u001b[0mGenes\u001b[0m\u001b[0;34m)\u001b[0m\u001b[0;34m)\u001b[0m\u001b[0;34m,\u001b[0m\u001b[0mlen\u001b[0m\u001b[0;34m(\u001b[0m\u001b[0mset\u001b[0m\u001b[0;34m(\u001b[0m\u001b[0mBG_filtered\u001b[0m\u001b[0;34m.\u001b[0m\u001b[0mnodes\u001b[0m\u001b[0;34m(\u001b[0m\u001b[0;34m)\u001b[0m\u001b[0;34m)\u001b[0m\u001b[0;34m.\u001b[0m\u001b[0mintersection\u001b[0m\u001b[0;34m(\u001b[0m\u001b[0mTFs\u001b[0m\u001b[0;34m)\u001b[0m\u001b[0;34m)\u001b[0m\u001b[0;34m,\u001b[0m\u001b[0mnp\u001b[0m\u001b[0;34m.\u001b[0m\u001b[0mmean\u001b[0m\u001b[0;34m(\u001b[0m\u001b[0maseq\u001b[0m\u001b[0;34m)\u001b[0m\u001b[0;34m,\u001b[0m\u001b[0mnp\u001b[0m\u001b[0;34m.\u001b[0m\u001b[0mmean\u001b[0m\u001b[0;34m(\u001b[0m\u001b[0mbseq\u001b[0m\u001b[0;34m)\u001b[0m\u001b[0;34m\u001b[0m\u001b[0;34m\u001b[0m\u001b[0m\n",
      "\u001b[0;32m<ipython-input-213-4e79b3a0360c>\u001b[0m in \u001b[0;36mout_nonlinear_remove\u001b[0;34m(BG, Genes, TFs, genes_rm)\u001b[0m\n\u001b[1;32m     19\u001b[0m         \u001b[0;32mif\u001b[0m \u001b[0mlen\u001b[0m\u001b[0;34m(\u001b[0m\u001b[0mfiltered\u001b[0m\u001b[0;34m)\u001b[0m\u001b[0;34m==\u001b[0m\u001b[0;36m0\u001b[0m\u001b[0;34m:\u001b[0m\u001b[0;34m\u001b[0m\u001b[0;34m\u001b[0m\u001b[0m\n\u001b[1;32m     20\u001b[0m             \u001b[0;32mreturn\u001b[0m \u001b[0mnx\u001b[0m\u001b[0;34m.\u001b[0m\u001b[0mempty_graph\u001b[0m\u001b[0;34m(\u001b[0m\u001b[0;34m)\u001b[0m\u001b[0;34m,\u001b[0m\u001b[0mcount\u001b[0m\u001b[0;34m\u001b[0m\u001b[0;34m\u001b[0m\u001b[0m\n\u001b[0;32m---> 21\u001b[0;31m         \u001b[0mBG_filtered\u001b[0m\u001b[0;34m=\u001b[0m\u001b[0mBG_filtered\u001b[0m\u001b[0;34m.\u001b[0m\u001b[0msubgraph\u001b[0m\u001b[0;34m(\u001b[0m\u001b[0mset\u001b[0m\u001b[0;34m(\u001b[0m\u001b[0mfiltered\u001b[0m\u001b[0;34m)\u001b[0m\u001b[0;34m.\u001b[0m\u001b[0munion\u001b[0m\u001b[0;34m(\u001b[0m\u001b[0mGc_G\u001b[0m\u001b[0;34m)\u001b[0m\u001b[0;34m)\u001b[0m\u001b[0;34m.\u001b[0m\u001b[0mcopy\u001b[0m\u001b[0;34m(\u001b[0m\u001b[0;34m)\u001b[0m\u001b[0;34m\u001b[0m\u001b[0;34m\u001b[0m\u001b[0m\n\u001b[0m\u001b[1;32m     22\u001b[0m         \u001b[0;31m#print(set(filtered),Gc_G)\u001b[0m\u001b[0;34m\u001b[0m\u001b[0;34m\u001b[0m\u001b[0;34m\u001b[0m\u001b[0m\n\u001b[1;32m     23\u001b[0m \u001b[0;32mdef\u001b[0m \u001b[0mfilter_out\u001b[0m\u001b[0;34m(\u001b[0m\u001b[0mBG\u001b[0m\u001b[0;34m)\u001b[0m\u001b[0;34m:\u001b[0m\u001b[0;34m\u001b[0m\u001b[0;34m\u001b[0m\u001b[0m\n",
      "\u001b[0;32m/opt/miniconda3/lib/python3.7/site-packages/networkx/classes/multigraph.py\u001b[0m in \u001b[0;36mcopy\u001b[0;34m(self, as_view)\u001b[0m\n\u001b[1;32m    970\u001b[0m         \u001b[0mG\u001b[0m\u001b[0;34m.\u001b[0m\u001b[0madd_nodes_from\u001b[0m\u001b[0;34m(\u001b[0m\u001b[0;34m(\u001b[0m\u001b[0mn\u001b[0m\u001b[0;34m,\u001b[0m \u001b[0md\u001b[0m\u001b[0;34m.\u001b[0m\u001b[0mcopy\u001b[0m\u001b[0;34m(\u001b[0m\u001b[0;34m)\u001b[0m\u001b[0;34m)\u001b[0m \u001b[0;32mfor\u001b[0m \u001b[0mn\u001b[0m\u001b[0;34m,\u001b[0m \u001b[0md\u001b[0m \u001b[0;32min\u001b[0m \u001b[0mself\u001b[0m\u001b[0;34m.\u001b[0m\u001b[0m_node\u001b[0m\u001b[0;34m.\u001b[0m\u001b[0mitems\u001b[0m\u001b[0;34m(\u001b[0m\u001b[0;34m)\u001b[0m\u001b[0;34m)\u001b[0m\u001b[0;34m\u001b[0m\u001b[0;34m\u001b[0m\u001b[0m\n\u001b[1;32m    971\u001b[0m         G.add_edges_from((u, v, key, datadict.copy())\n\u001b[0;32m--> 972\u001b[0;31m                          \u001b[0;32mfor\u001b[0m \u001b[0mu\u001b[0m\u001b[0;34m,\u001b[0m \u001b[0mnbrs\u001b[0m \u001b[0;32min\u001b[0m \u001b[0mself\u001b[0m\u001b[0;34m.\u001b[0m\u001b[0m_adj\u001b[0m\u001b[0;34m.\u001b[0m\u001b[0mitems\u001b[0m\u001b[0;34m(\u001b[0m\u001b[0;34m)\u001b[0m\u001b[0;34m\u001b[0m\u001b[0;34m\u001b[0m\u001b[0m\n\u001b[0m\u001b[1;32m    973\u001b[0m                          \u001b[0;32mfor\u001b[0m \u001b[0mv\u001b[0m\u001b[0;34m,\u001b[0m \u001b[0mkeydict\u001b[0m \u001b[0;32min\u001b[0m \u001b[0mnbrs\u001b[0m\u001b[0;34m.\u001b[0m\u001b[0mitems\u001b[0m\u001b[0;34m(\u001b[0m\u001b[0;34m)\u001b[0m\u001b[0;34m\u001b[0m\u001b[0;34m\u001b[0m\u001b[0m\n\u001b[1;32m    974\u001b[0m                          for key, datadict in keydict.items())\n",
      "\u001b[0;32m/opt/miniconda3/lib/python3.7/site-packages/networkx/classes/multigraph.py\u001b[0m in \u001b[0;36madd_edges_from\u001b[0;34m(self, ebunch_to_add, **attr)\u001b[0m\n\u001b[1;32m    513\u001b[0m         \"\"\"\n\u001b[1;32m    514\u001b[0m         \u001b[0mkeylist\u001b[0m \u001b[0;34m=\u001b[0m \u001b[0;34m[\u001b[0m\u001b[0;34m]\u001b[0m\u001b[0;34m\u001b[0m\u001b[0;34m\u001b[0m\u001b[0m\n\u001b[0;32m--> 515\u001b[0;31m         \u001b[0;32mfor\u001b[0m \u001b[0me\u001b[0m \u001b[0;32min\u001b[0m \u001b[0mebunch_to_add\u001b[0m\u001b[0;34m:\u001b[0m\u001b[0;34m\u001b[0m\u001b[0;34m\u001b[0m\u001b[0m\n\u001b[0m\u001b[1;32m    516\u001b[0m             \u001b[0mne\u001b[0m \u001b[0;34m=\u001b[0m \u001b[0mlen\u001b[0m\u001b[0;34m(\u001b[0m\u001b[0me\u001b[0m\u001b[0;34m)\u001b[0m\u001b[0;34m\u001b[0m\u001b[0;34m\u001b[0m\u001b[0m\n\u001b[1;32m    517\u001b[0m             \u001b[0;32mif\u001b[0m \u001b[0mne\u001b[0m \u001b[0;34m==\u001b[0m \u001b[0;36m4\u001b[0m\u001b[0;34m:\u001b[0m\u001b[0;34m\u001b[0m\u001b[0;34m\u001b[0m\u001b[0m\n",
      "\u001b[0;32m/opt/miniconda3/lib/python3.7/site-packages/networkx/classes/multigraph.py\u001b[0m in \u001b[0;36m<genexpr>\u001b[0;34m(.0)\u001b[0m\n\u001b[1;32m    972\u001b[0m                          \u001b[0;32mfor\u001b[0m \u001b[0mu\u001b[0m\u001b[0;34m,\u001b[0m \u001b[0mnbrs\u001b[0m \u001b[0;32min\u001b[0m \u001b[0mself\u001b[0m\u001b[0;34m.\u001b[0m\u001b[0m_adj\u001b[0m\u001b[0;34m.\u001b[0m\u001b[0mitems\u001b[0m\u001b[0;34m(\u001b[0m\u001b[0;34m)\u001b[0m\u001b[0;34m\u001b[0m\u001b[0;34m\u001b[0m\u001b[0m\n\u001b[1;32m    973\u001b[0m                          \u001b[0;32mfor\u001b[0m \u001b[0mv\u001b[0m\u001b[0;34m,\u001b[0m \u001b[0mkeydict\u001b[0m \u001b[0;32min\u001b[0m \u001b[0mnbrs\u001b[0m\u001b[0;34m.\u001b[0m\u001b[0mitems\u001b[0m\u001b[0;34m(\u001b[0m\u001b[0;34m)\u001b[0m\u001b[0;34m\u001b[0m\u001b[0;34m\u001b[0m\u001b[0m\n\u001b[0;32m--> 974\u001b[0;31m                          for key, datadict in keydict.items())\n\u001b[0m\u001b[1;32m    975\u001b[0m         \u001b[0;32mreturn\u001b[0m \u001b[0mG\u001b[0m\u001b[0;34m\u001b[0m\u001b[0;34m\u001b[0m\u001b[0m\n\u001b[1;32m    976\u001b[0m \u001b[0;34m\u001b[0m\u001b[0m\n",
      "\u001b[0;32m/opt/miniconda3/lib/python3.7/_collections_abc.py\u001b[0m in \u001b[0;36m__iter__\u001b[0;34m(self)\u001b[0m\n\u001b[1;32m    742\u001b[0m     \u001b[0;32mdef\u001b[0m \u001b[0m__iter__\u001b[0m\u001b[0;34m(\u001b[0m\u001b[0mself\u001b[0m\u001b[0;34m)\u001b[0m\u001b[0;34m:\u001b[0m\u001b[0;34m\u001b[0m\u001b[0;34m\u001b[0m\u001b[0m\n\u001b[1;32m    743\u001b[0m         \u001b[0;32mfor\u001b[0m \u001b[0mkey\u001b[0m \u001b[0;32min\u001b[0m \u001b[0mself\u001b[0m\u001b[0;34m.\u001b[0m\u001b[0m_mapping\u001b[0m\u001b[0;34m:\u001b[0m\u001b[0;34m\u001b[0m\u001b[0;34m\u001b[0m\u001b[0m\n\u001b[0;32m--> 744\u001b[0;31m             \u001b[0;32myield\u001b[0m \u001b[0;34m(\u001b[0m\u001b[0mkey\u001b[0m\u001b[0;34m,\u001b[0m \u001b[0mself\u001b[0m\u001b[0;34m.\u001b[0m\u001b[0m_mapping\u001b[0m\u001b[0;34m[\u001b[0m\u001b[0mkey\u001b[0m\u001b[0;34m]\u001b[0m\u001b[0;34m)\u001b[0m\u001b[0;34m\u001b[0m\u001b[0;34m\u001b[0m\u001b[0m\n\u001b[0m\u001b[1;32m    745\u001b[0m \u001b[0;34m\u001b[0m\u001b[0m\n\u001b[1;32m    746\u001b[0m \u001b[0mItemsView\u001b[0m\u001b[0;34m.\u001b[0m\u001b[0mregister\u001b[0m\u001b[0;34m(\u001b[0m\u001b[0mdict_items\u001b[0m\u001b[0;34m)\u001b[0m\u001b[0;34m\u001b[0m\u001b[0;34m\u001b[0m\u001b[0m\n",
      "\u001b[0;32m/opt/miniconda3/lib/python3.7/site-packages/networkx/classes/coreviews.py\u001b[0m in \u001b[0;36m__getitem__\u001b[0;34m(self, key)\u001b[0m\n\u001b[1;32m    276\u001b[0m         \u001b[0;32mreturn\u001b[0m \u001b[0;34m(\u001b[0m\u001b[0mn\u001b[0m \u001b[0;32mfor\u001b[0m \u001b[0mn\u001b[0m \u001b[0;32min\u001b[0m \u001b[0mself\u001b[0m\u001b[0;34m.\u001b[0m\u001b[0m_atlas\u001b[0m \u001b[0;32mif\u001b[0m \u001b[0mself\u001b[0m\u001b[0;34m.\u001b[0m\u001b[0mNODE_OK\u001b[0m\u001b[0;34m(\u001b[0m\u001b[0mn\u001b[0m\u001b[0;34m)\u001b[0m\u001b[0;34m)\u001b[0m\u001b[0;34m\u001b[0m\u001b[0;34m\u001b[0m\u001b[0m\n\u001b[1;32m    277\u001b[0m \u001b[0;34m\u001b[0m\u001b[0m\n\u001b[0;32m--> 278\u001b[0;31m     \u001b[0;32mdef\u001b[0m \u001b[0m__getitem__\u001b[0m\u001b[0;34m(\u001b[0m\u001b[0mself\u001b[0m\u001b[0;34m,\u001b[0m \u001b[0mkey\u001b[0m\u001b[0;34m)\u001b[0m\u001b[0;34m:\u001b[0m\u001b[0;34m\u001b[0m\u001b[0;34m\u001b[0m\u001b[0m\n\u001b[0m\u001b[1;32m    279\u001b[0m         \u001b[0;32mif\u001b[0m \u001b[0mkey\u001b[0m \u001b[0;32min\u001b[0m \u001b[0mself\u001b[0m\u001b[0;34m.\u001b[0m\u001b[0m_atlas\u001b[0m \u001b[0;32mand\u001b[0m \u001b[0mself\u001b[0m\u001b[0;34m.\u001b[0m\u001b[0mNODE_OK\u001b[0m\u001b[0;34m(\u001b[0m\u001b[0mkey\u001b[0m\u001b[0;34m)\u001b[0m\u001b[0;34m:\u001b[0m\u001b[0;34m\u001b[0m\u001b[0;34m\u001b[0m\u001b[0m\n\u001b[1;32m    280\u001b[0m             \u001b[0;32mreturn\u001b[0m \u001b[0mself\u001b[0m\u001b[0;34m.\u001b[0m\u001b[0m_atlas\u001b[0m\u001b[0;34m[\u001b[0m\u001b[0mkey\u001b[0m\u001b[0;34m]\u001b[0m\u001b[0;34m\u001b[0m\u001b[0;34m\u001b[0m\u001b[0m\n",
      "\u001b[0;31mKeyboardInterrupt\u001b[0m: "
     ]
    }
   ],
   "source": [
    "N1=50000\n",
    "N2=50000\n",
    "c=0.3\n",
    "\n",
    "gamma_Gs=np.append(np.linspace(1.8,2.5,4),[3,5,7])\n",
    "bseq=np.random.poisson(1+c,N2)\n",
    "if sum(bseq)<N1:\n",
    "    raise ValueError('degree sequence non compatible for regulations')\n",
    "data = itertools.starmap(create_graph_and_remove,itertools.product([N1],[N2],gamma_Gs,[bseq],[perc_fraction]))\n",
    "data=list(data)"
   ]
  },
  {
   "cell_type": "code",
   "execution_count": 18,
   "metadata": {},
   "outputs": [
    {
     "data": {
      "text/plain": [
       "dict_keys(['data', 'descr'])"
      ]
     },
     "execution_count": 18,
     "metadata": {},
     "output_type": "execute_result"
    }
   ],
   "source": [
    "load_obj('powerlaw-both').keys()\n"
   ]
  },
  {
   "cell_type": "code",
   "execution_count": 193,
   "metadata": {},
   "outputs": [],
   "source": []
  },
  {
   "cell_type": "markdown",
   "metadata": {},
   "source": []
  },
  {
   "cell_type": "markdown",
   "metadata": {},
   "source": [
    "## Generate random number following power law"
   ]
  },
  {
   "cell_type": "code",
   "execution_count": 37,
   "metadata": {},
   "outputs": [
    {
     "data": {
      "text/plain": [
       "array([4, 4, 4, ..., 2, 4, 2])"
      ]
     },
     "execution_count": 37,
     "metadata": {},
     "output_type": "execute_result"
    }
   ],
   "source": [
    "aseq=np.random.poisson(3.5,N1)"
   ]
  },
  {
   "cell_type": "code",
   "execution_count": null,
   "metadata": {},
   "outputs": [],
   "source": [
    "t_in= np.random.shuffle"
   ]
  },
  {
   "cell_type": "markdown",
   "metadata": {},
   "source": [
    "Assume the degree sequence of upper nodes is given, we want to generate the list of nodes in the bottom layer. Nodes in the bottom layer are kept sampling with a \"preferential sampling\"  probability. "
   ]
  },
  {
   "cell_type": "code",
   "execution_count": 28,
   "metadata": {},
   "outputs": [],
   "source": [
    "N2=N1\n",
    "in_stubs=  list(range(N2))\n",
    "n_links= sum(aseq)-len(in_stubs)\n",
    "for i in range(n_links):#pair all links\n",
    "    x=random.choice(in_stubs)#sample one node from the list of bottom nodes\n",
    "    in_stubs+=[x]\n"
   ]
  },
  {
   "cell_type": "code",
   "execution_count": 29,
   "metadata": {},
   "outputs": [],
   "source": [
    "i,k=np.unique(in_stubs,return_counts=True)"
   ]
  },
  {
   "cell_type": "code",
   "execution_count": 30,
   "metadata": {},
   "outputs": [
    {
     "data": {
      "text/plain": [
       "[]"
      ]
     },
     "execution_count": 30,
     "metadata": {},
     "output_type": "execute_result"
    },
    {
     "data": {
      "image/png": "[encoded data removed]",
      "text/plain": [
       "<Figure size 432x288 with 1 Axes>"
      ]
     },
     "metadata": {
      "needs_background": "light"
     },
     "output_type": "display_data"
    }
   ],
   "source": [
    "plt.hist(k,bins=np.logspace(min(np.log10(k)),max(np.log10(k)),100),density=True)\n",
    "plt.loglog()"
   ]
  },
  {
   "cell_type": "code",
   "execution_count": 23,
   "metadata": {},
   "outputs": [
    {
     "data": {
      "text/plain": [
       "[]"
      ]
     },
     "execution_count": 23,
     "metadata": {},
     "output_type": "execute_result"
    },
    {
     "data": {
      "image/png": "[encoded data removed]",
      "text/plain": [
       "<Figure size 432x288 with 1 Axes>"
      ]
     },
     "metadata": {
      "needs_background": "light"
     },
     "output_type": "display_data"
    }
   ],
   "source": [
    "plt.hist(k,100)\n",
    "plt.semilogy()"
   ]
  },
  {
   "cell_type": "code",
   "execution_count": 195,
   "metadata": {},
   "outputs": [
    {
     "data": {
      "text/plain": [
       "(291270, 29127)"
      ]
     },
     "execution_count": 195,
     "metadata": {},
     "output_type": "execute_result"
    }
   ],
   "source": [
    "len(in_stubs),sum(aseq)"
   ]
  },
  {
   "cell_type": "code",
   "execution_count": 6,
   "metadata": {},
   "outputs": [],
   "source": [
    "in_stubs=  list(range(N1))\n",
    "new_stubs = in_stubs\n",
    "for i in range(100*sum(aseq)-len(in_stubs)):\n",
    "    x=random.choice(in_stubs)\n",
    "    new_stubs+=[x]"
   ]
  },
  {
   "cell_type": "code",
   "execution_count": 7,
   "metadata": {},
   "outputs": [
    {
     "data": {
      "text/plain": [
       "[]"
      ]
     },
     "execution_count": 7,
     "metadata": {},
     "output_type": "execute_result"
    },
    {
     "data": {
      "image/png": "[encoded data removed]",
      "text/plain": [
       "<Figure size 432x288 with 1 Axes>"
      ]
     },
     "metadata": {
      "needs_background": "light"
     },
     "output_type": "display_data"
    }
   ],
   "source": [
    "i,k=np.unique(new_stubs,return_counts=True)\n",
    "plt.hist(k,bins=np.logspace(min(np.log10(k)),max(np.log10(k)),100),density=True)\n",
    "plt.loglog()\n"
   ]
  },
  {
   "cell_type": "code",
   "execution_count": 223,
   "metadata": {},
   "outputs": [
    {
     "data": {
      "text/plain": [
       "[]"
      ]
     },
     "execution_count": 223,
     "metadata": {},
     "output_type": "execute_result"
    },
    {
     "data": {
      "image/png": "[encoded data removed]",
      "text/plain": [
       "<Figure size 244.08x150.85 with 1 Axes>"
      ]
     },
     "metadata": {
      "needs_background": "light"
     },
     "output_type": "display_data"
    }
   ],
   "source": [
    "plt.hist(k,100)\n",
    "plt.semilogy()"
   ]
  },
  {
   "cell_type": "code",
   "execution_count": 244,
   "metadata": {},
   "outputs": [
    {
     "data": {
      "text/plain": [
       "(array([7., 0., 0., 0., 0., 0., 0., 0., 0., 3.]),\n",
       " array([1. , 1.1, 1.2, 1.3, 1.4, 1.5, 1.6, 1.7, 1.8, 1.9, 2. ]),\n",
       " <a list of 10 Patch objects>)"
      ]
     },
     "execution_count": 244,
     "metadata": {},
     "output_type": "execute_result"
    },
    {
     "data": {
      "image/png": "[encoded data removed]",
      "text/plain": [
       "<Figure size 244.08x150.85 with 1 Axes>"
      ]
     },
     "metadata": {
      "needs_background": "light"
     },
     "output_type": "display_data"
    }
   ],
   "source": [
    "plt.hist([random.choice([1,1,2]) for i in range(100)],density=True)"
   ]
  },
  {
   "cell_type": "code",
   "execution_count": 152,
   "metadata": {},
   "outputs": [],
   "source": []
  },
  {
   "cell_type": "code",
   "execution_count": 153,
   "metadata": {},
   "outputs": [
    {
     "data": {
      "text/plain": [
       "(1.8,\n",
       " 1.9000000000000001,\n",
       " 2.0,\n",
       " 2.1,\n",
       " 2.2,\n",
       " 2.3,\n",
       " 2.4000000000000004,\n",
       " 2.5,\n",
       " 2.6,\n",
       " 2.7,\n",
       " 2.8,\n",
       " 2.9000000000000004,\n",
       " 3.0,\n",
       " 3.1,\n",
       " 3.2,\n",
       " 3.3,\n",
       " 3.4000000000000004,\n",
       " 3.5)"
      ]
     },
     "execution_count": 153,
     "metadata": {},
     "output_type": "execute_result"
    }
   ],
   "source": []
  },
  {
   "cell_type": "code",
   "execution_count": 49,
   "metadata": {},
   "outputs": [
    {
     "data": {
      "text/plain": [
       "array([[0.25076762, 0.21356417, 1.72535   , 1.29612   , 1.8       ],\n",
       "       [0.        , 0.        , 1.57711   , 1.29612   , 1.94      ],\n",
       "       [0.31526591, 0.27422697, 1.46773   , 1.29612   , 2.08      ],\n",
       "       [0.46581466, 0.4199642 , 1.38464   , 1.29612   , 2.22      ],\n",
       "       [0.56071   , 0.52075   , 1.32069   , 1.29612   , 2.36      ],\n",
       "       [0.54727   , 0.50877   , 1.27047   , 1.29612   , 2.5       ],\n",
       "       [0.66874669, 0.6403464 , 1.1992    , 1.29612   , 3.        ],\n",
       "       [0.74861   , 0.73629   , 1.08026   , 1.29612   , 4.        ],\n",
       "       [0.77227356, 0.76611492, 1.0369    , 1.29612   , 5.        ]])"
      ]
     },
     "execution_count": 49,
     "metadata": {},
     "output_type": "execute_result"
    }
   ],
   "source": [
    "np.c_[data,gamma_Gs]"
   ]
  },
  {
   "cell_type": "code",
   "execution_count": 236,
   "metadata": {},
   "outputs": [],
   "source": [
    "def mirror_stubs(nodes_from,nodes_to,kseq):\n",
    "    '''\n",
    "    Create in- stubs  among the set \"nodes_to\"\n",
    "    '''\n",
    "    m = min(nodes_from)  # m=0 if \"nodes_from\" is set A, m = len(aseq) if n \"nodes_from\" is set B\n",
    "    stubs_from = list(itertools.chain.from_iterable([[v] * kseq[v - m] for v in nodes_from]))\n",
    "    bseq_in = kseq.copy()\n",
    "    m = min(nodes_to)\n",
    "    np.random.shuffle(bseq_in)#in-degree sequence of \"nodes_to\"\n",
    "    stubs_to = list(itertools.chain.from_iterable([[v] * bseq_in[v - m] for v in nodes_to]))\n",
    "    np.random.shuffle(stubs_to)\n",
    "    return  stubs_from,stubs_to\n"
   ]
  },
  {
   "cell_type": "code",
   "execution_count": 240,
   "metadata": {},
   "outputs": [],
   "source": [
    "stubs_from,stubs_to = mirror_stubs(range(N1),range(N1,N1+N2),aseq)\n",
    "\n"
   ]
  },
  {
   "cell_type": "code",
   "execution_count": 242,
   "metadata": {},
   "outputs": [
    {
     "data": {
      "text/plain": [
       "[20000,\n",
       " 20001,\n",
       " 20002,\n",
       " 20003,\n",
       " 20003,\n",
       " 20004,\n",
       " 20005,\n",
       " 20006,\n",
       " 20007,\n",
       " 20008,\n",
       " 20008,\n",
       " 20008,\n",
       " 20009,\n",
       " 20010,\n",
       " 20011,\n",
       " 20012,\n",
       " 20012,\n",
       " 20013,\n",
       " 20014,\n",
       " 20015,\n",
       " 20015,\n",
       " 20015,\n",
       " 20015,\n",
       " 20015,\n",
       " 20015,\n",
       " 20015,\n",
       " 20015,\n",
       " 20015,\n",
       " 20016,\n",
       " 20017,\n",
       " 20017,\n",
       " 20018,\n",
       " 20019,\n",
       " 20019,\n",
       " 20020,\n",
       " 20021,\n",
       " 20022,\n",
       " 20022,\n",
       " 20022,\n",
       " 20022,\n",
       " 20022,\n",
       " 20022,\n",
       " 20022,\n",
       " 20022,\n",
       " 20022,\n",
       " 20022,\n",
       " 20022,\n",
       " 20022,\n",
       " 20022,\n",
       " 20022,\n",
       " 20022,\n",
       " 20022,\n",
       " 20022,\n",
       " 20022,\n",
       " 20022,\n",
       " 20022,\n",
       " 20023,\n",
       " 20024,\n",
       " 20025,\n",
       " 20026,\n",
       " 20027,\n",
       " 20027,\n",
       " 20028,\n",
       " 20029,\n",
       " 20029,\n",
       " 20030,\n",
       " 20031,\n",
       " 20032,\n",
       " 20033,\n",
       " 20033,\n",
       " 20033,\n",
       " 20033,\n",
       " 20033,\n",
       " 20033,\n",
       " 20033,\n",
       " 20033,\n",
       " 20033,\n",
       " 20033,\n",
       " 20033,\n",
       " 20034,\n",
       " 20035,\n",
       " 20036,\n",
       " 20037,\n",
       " 20037,\n",
       " 20038,\n",
       " 20038,\n",
       " 20038,\n",
       " 20039,\n",
       " 20039,\n",
       " 20040,\n",
       " 20041,\n",
       " 20042,\n",
       " 20042,\n",
       " 20043,\n",
       " 20044,\n",
       " 20044,\n",
       " 20044,\n",
       " 20045,\n",
       " 20046,\n",
       " 20046,\n",
       " 20047,\n",
       " 20048,\n",
       " 20048,\n",
       " 20049,\n",
       " 20050,\n",
       " 20050,\n",
       " 20051,\n",
       " 20052,\n",
       " 20053,\n",
       " 20053,\n",
       " 20053,\n",
       " 20053,\n",
       " 20053,\n",
       " 20053,\n",
       " 20054,\n",
       " 20055,\n",
       " 20056,\n",
       " 20056,\n",
       " 20056,\n",
       " 20057,\n",
       " 20058,\n",
       " 20059,\n",
       " 20060,\n",
       " 20060,\n",
       " 20060,\n",
       " 20060,\n",
       " 20060,\n",
       " 20060,\n",
       " 20060,\n",
       " 20060,\n",
       " 20060,\n",
       " 20061,\n",
       " 20062,\n",
       " 20063,\n",
       " 20064,\n",
       " 20065,\n",
       " 20066,\n",
       " 20067,\n",
       " 20068,\n",
       " 20068,\n",
       " 20069,\n",
       " 20070,\n",
       " 20071,\n",
       " 20072,\n",
       " 20073,\n",
       " 20074,\n",
       " 20075,\n",
       " 20076,\n",
       " 20077,\n",
       " 20078,\n",
       " 20078,\n",
       " 20079,\n",
       " 20080,\n",
       " 20081,\n",
       " 20082,\n",
       " 20083,\n",
       " 20084,\n",
       " 20085,\n",
       " 20086,\n",
       " 20087,\n",
       " 20087,\n",
       " 20087,\n",
       " 20088,\n",
       " 20089,\n",
       " 20089,\n",
       " 20090,\n",
       " 20091,\n",
       " 20091,\n",
       " 20092,\n",
       " 20093,\n",
       " 20093,\n",
       " 20093,\n",
       " 20093,\n",
       " 20093,\n",
       " 20093,\n",
       " 20093,\n",
       " 20093,\n",
       " 20093,\n",
       " 20093,\n",
       " 20093,\n",
       " 20093,\n",
       " 20093,\n",
       " 20093,\n",
       " 20093,\n",
       " 20093,\n",
       " 20094,\n",
       " 20094,\n",
       " 20095,\n",
       " 20095,\n",
       " 20095,\n",
       " 20095,\n",
       " 20096,\n",
       " 20097,\n",
       " 20098,\n",
       " 20099,\n",
       " 20100,\n",
       " 20101,\n",
       " 20102,\n",
       " 20103,\n",
       " 20104,\n",
       " 20105,\n",
       " 20106,\n",
       " 20107,\n",
       " 20108,\n",
       " 20109,\n",
       " 20110,\n",
       " 20111,\n",
       " 20112,\n",
       " 20113,\n",
       " 20114,\n",
       " 20115,\n",
       " 20116,\n",
       " 20117,\n",
       " 20117,\n",
       " 20118,\n",
       " 20119,\n",
       " 20120,\n",
       " 20121,\n",
       " 20122,\n",
       " 20123,\n",
       " 20124,\n",
       " 20124,\n",
       " 20125,\n",
       " 20126,\n",
       " 20127,\n",
       " 20128,\n",
       " 20129,\n",
       " 20130,\n",
       " 20131,\n",
       " 20132,\n",
       " 20133,\n",
       " 20134,\n",
       " 20135,\n",
       " 20135,\n",
       " 20135,\n",
       " 20135,\n",
       " 20136,\n",
       " 20136,\n",
       " 20136,\n",
       " 20136,\n",
       " 20136,\n",
       " 20136,\n",
       " 20137,\n",
       " 20137,\n",
       " 20137,\n",
       " 20137,\n",
       " 20137,\n",
       " 20137,\n",
       " 20137,\n",
       " 20137,\n",
       " 20137,\n",
       " 20137,\n",
       " 20137,\n",
       " 20137,\n",
       " 20137,\n",
       " 20137,\n",
       " 20137,\n",
       " 20137,\n",
       " 20137,\n",
       " 20137,\n",
       " 20137,\n",
       " 20137,\n",
       " 20137,\n",
       " 20137,\n",
       " 20137,\n",
       " 20137,\n",
       " 20137,\n",
       " 20137,\n",
       " 20137,\n",
       " 20137,\n",
       " 20137,\n",
       " 20137,\n",
       " 20137,\n",
       " 20137,\n",
       " 20137,\n",
       " 20137,\n",
       " 20137,\n",
       " 20137,\n",
       " 20137,\n",
       " 20137,\n",
       " 20137,\n",
       " 20137,\n",
       " 20137,\n",
       " 20137,\n",
       " 20137,\n",
       " 20138,\n",
       " 20139,\n",
       " 20139,\n",
       " 20140,\n",
       " 20141,\n",
       " 20142,\n",
       " 20142,\n",
       " 20143,\n",
       " 20144,\n",
       " 20144,\n",
       " 20145,\n",
       " 20146,\n",
       " 20147,\n",
       " 20148,\n",
       " 20149,\n",
       " 20150,\n",
       " 20151,\n",
       " 20152,\n",
       " 20153,\n",
       " 20154,\n",
       " 20155,\n",
       " 20155,\n",
       " 20156,\n",
       " 20157,\n",
       " 20158,\n",
       " 20159,\n",
       " 20160,\n",
       " 20160,\n",
       " 20160,\n",
       " 20161,\n",
       " 20162,\n",
       " 20163,\n",
       " 20164,\n",
       " 20164,\n",
       " 20165,\n",
       " 20165,\n",
       " 20166,\n",
       " 20167,\n",
       " 20168,\n",
       " 20168,\n",
       " 20169,\n",
       " 20170,\n",
       " 20171,\n",
       " 20171,\n",
       " 20171,\n",
       " 20172,\n",
       " 20173,\n",
       " 20173,\n",
       " 20174,\n",
       " 20174,\n",
       " 20175,\n",
       " 20176,\n",
       " 20177,\n",
       " 20178,\n",
       " 20178,\n",
       " 20179,\n",
       " 20179,\n",
       " 20179,\n",
       " 20180,\n",
       " 20181,\n",
       " 20182,\n",
       " 20183,\n",
       " 20184,\n",
       " 20185,\n",
       " 20186,\n",
       " 20187,\n",
       " 20187,\n",
       " 20188,\n",
       " 20189,\n",
       " 20190,\n",
       " 20190,\n",
       " 20190,\n",
       " 20190,\n",
       " 20190,\n",
       " 20190,\n",
       " 20190,\n",
       " 20190,\n",
       " 20191,\n",
       " 20192,\n",
       " 20192,\n",
       " 20192,\n",
       " 20193,\n",
       " 20194,\n",
       " 20195,\n",
       " 20196,\n",
       " 20197,\n",
       " 20197,\n",
       " 20198,\n",
       " 20199,\n",
       " 20200,\n",
       " 20201,\n",
       " 20202,\n",
       " 20202,\n",
       " 20202,\n",
       " 20203,\n",
       " 20204,\n",
       " 20205,\n",
       " 20205,\n",
       " 20205,\n",
       " 20206,\n",
       " 20207,\n",
       " 20208,\n",
       " 20209,\n",
       " 20210,\n",
       " 20211,\n",
       " 20212,\n",
       " 20212,\n",
       " 20212,\n",
       " 20212,\n",
       " 20212,\n",
       " 20212,\n",
       " 20212,\n",
       " 20212,\n",
       " 20212,\n",
       " 20212,\n",
       " 20212,\n",
       " 20213,\n",
       " 20214,\n",
       " 20215,\n",
       " 20216,\n",
       " 20217,\n",
       " 20218,\n",
       " 20219,\n",
       " 20220,\n",
       " 20221,\n",
       " 20222,\n",
       " 20223,\n",
       " 20224,\n",
       " 20225,\n",
       " 20226,\n",
       " 20227,\n",
       " 20227,\n",
       " 20227,\n",
       " 20227,\n",
       " 20228,\n",
       " 20229,\n",
       " 20229,\n",
       " 20230,\n",
       " 20231,\n",
       " 20232,\n",
       " 20232,\n",
       " 20233,\n",
       " 20233,\n",
       " 20234,\n",
       " 20235,\n",
       " 20236,\n",
       " 20236,\n",
       " 20237,\n",
       " 20238,\n",
       " 20239,\n",
       " 20240,\n",
       " 20241,\n",
       " 20241,\n",
       " 20242,\n",
       " 20243,\n",
       " 20243,\n",
       " 20244,\n",
       " 20245,\n",
       " 20246,\n",
       " 20247,\n",
       " 20248,\n",
       " 20249,\n",
       " 20249,\n",
       " 20250,\n",
       " 20251,\n",
       " 20252,\n",
       " 20253,\n",
       " 20254,\n",
       " 20255,\n",
       " 20256,\n",
       " 20257,\n",
       " 20258,\n",
       " 20259,\n",
       " 20260,\n",
       " 20261,\n",
       " 20262,\n",
       " 20263,\n",
       " 20264,\n",
       " 20265,\n",
       " 20266,\n",
       " 20267,\n",
       " 20268,\n",
       " 20269,\n",
       " 20270,\n",
       " 20271,\n",
       " 20272,\n",
       " 20273,\n",
       " 20274,\n",
       " 20275,\n",
       " 20276,\n",
       " 20277,\n",
       " 20278,\n",
       " 20279,\n",
       " 20280,\n",
       " 20281,\n",
       " 20282,\n",
       " 20283,\n",
       " 20284,\n",
       " 20285,\n",
       " 20286,\n",
       " 20286,\n",
       " 20287,\n",
       " 20288,\n",
       " 20289,\n",
       " 20289,\n",
       " 20290,\n",
       " 20291,\n",
       " 20292,\n",
       " 20292,\n",
       " 20292,\n",
       " 20292,\n",
       " 20292,\n",
       " 20292,\n",
       " 20293,\n",
       " 20294,\n",
       " 20294,\n",
       " 20294,\n",
       " 20295,\n",
       " 20295,\n",
       " 20296,\n",
       " 20297,\n",
       " 20298,\n",
       " 20299,\n",
       " 20299,\n",
       " 20300,\n",
       " 20301,\n",
       " 20302,\n",
       " 20302,\n",
       " 20303,\n",
       " 20304,\n",
       " 20305,\n",
       " 20306,\n",
       " 20307,\n",
       " 20308,\n",
       " 20309,\n",
       " 20309,\n",
       " 20309,\n",
       " 20310,\n",
       " 20311,\n",
       " 20312,\n",
       " 20312,\n",
       " 20312,\n",
       " 20313,\n",
       " 20314,\n",
       " 20315,\n",
       " 20316,\n",
       " 20317,\n",
       " 20318,\n",
       " 20319,\n",
       " 20319,\n",
       " 20319,\n",
       " 20320,\n",
       " 20321,\n",
       " 20321,\n",
       " 20322,\n",
       " 20322,\n",
       " 20322,\n",
       " 20322,\n",
       " 20323,\n",
       " 20323,\n",
       " 20324,\n",
       " 20325,\n",
       " 20326,\n",
       " 20327,\n",
       " 20328,\n",
       " 20329,\n",
       " 20329,\n",
       " 20330,\n",
       " 20331,\n",
       " 20332,\n",
       " 20332,\n",
       " 20333,\n",
       " 20334,\n",
       " 20335,\n",
       " 20336,\n",
       " 20337,\n",
       " 20337,\n",
       " 20337,\n",
       " 20338,\n",
       " 20339,\n",
       " 20340,\n",
       " 20340,\n",
       " 20341,\n",
       " 20341,\n",
       " 20341,\n",
       " 20341,\n",
       " 20341,\n",
       " 20342,\n",
       " 20343,\n",
       " 20344,\n",
       " 20345,\n",
       " 20346,\n",
       " 20346,\n",
       " 20346,\n",
       " 20346,\n",
       " 20346,\n",
       " 20346,\n",
       " 20346,\n",
       " 20346,\n",
       " 20346,\n",
       " 20347,\n",
       " 20347,\n",
       " 20347,\n",
       " 20347,\n",
       " 20348,\n",
       " 20349,\n",
       " 20350,\n",
       " 20351,\n",
       " 20351,\n",
       " 20352,\n",
       " 20353,\n",
       " 20354,\n",
       " 20354,\n",
       " 20354,\n",
       " 20354,\n",
       " 20354,\n",
       " 20354,\n",
       " 20354,\n",
       " 20354,\n",
       " 20355,\n",
       " 20355,\n",
       " 20356,\n",
       " 20357,\n",
       " 20357,\n",
       " 20357,\n",
       " 20357,\n",
       " 20358,\n",
       " 20358,\n",
       " 20359,\n",
       " 20360,\n",
       " 20361,\n",
       " 20362,\n",
       " 20363,\n",
       " 20364,\n",
       " 20365,\n",
       " 20366,\n",
       " 20367,\n",
       " 20367,\n",
       " 20368,\n",
       " 20369,\n",
       " 20369,\n",
       " 20370,\n",
       " 20371,\n",
       " 20371,\n",
       " 20372,\n",
       " 20372,\n",
       " 20372,\n",
       " 20373,\n",
       " 20374,\n",
       " 20375,\n",
       " 20376,\n",
       " 20377,\n",
       " 20378,\n",
       " 20379,\n",
       " 20379,\n",
       " 20379,\n",
       " 20379,\n",
       " 20380,\n",
       " 20381,\n",
       " 20382,\n",
       " 20383,\n",
       " 20384,\n",
       " 20384,\n",
       " 20384,\n",
       " 20385,\n",
       " 20386,\n",
       " 20387,\n",
       " 20387,\n",
       " 20388,\n",
       " 20389,\n",
       " 20390,\n",
       " 20390,\n",
       " 20391,\n",
       " 20391,\n",
       " 20391,\n",
       " 20392,\n",
       " 20392,\n",
       " 20392,\n",
       " 20393,\n",
       " 20394,\n",
       " 20395,\n",
       " 20396,\n",
       " 20397,\n",
       " 20397,\n",
       " 20397,\n",
       " 20397,\n",
       " 20397,\n",
       " 20398,\n",
       " 20398,\n",
       " 20399,\n",
       " 20400,\n",
       " 20400,\n",
       " 20401,\n",
       " 20402,\n",
       " 20403,\n",
       " 20404,\n",
       " 20404,\n",
       " 20404,\n",
       " 20404,\n",
       " 20404,\n",
       " 20405,\n",
       " 20405,\n",
       " 20406,\n",
       " 20406,\n",
       " 20407,\n",
       " 20408,\n",
       " 20408,\n",
       " 20408,\n",
       " 20408,\n",
       " 20408,\n",
       " 20408,\n",
       " 20408,\n",
       " 20408,\n",
       " 20408,\n",
       " 20408,\n",
       " 20409,\n",
       " 20410,\n",
       " 20411,\n",
       " 20412,\n",
       " 20413,\n",
       " 20414,\n",
       " 20415,\n",
       " 20416,\n",
       " 20417,\n",
       " 20418,\n",
       " 20419,\n",
       " 20420,\n",
       " 20420,\n",
       " 20420,\n",
       " 20420,\n",
       " 20420,\n",
       " 20420,\n",
       " 20421,\n",
       " 20422,\n",
       " 20422,\n",
       " 20422,\n",
       " 20423,\n",
       " 20424,\n",
       " 20425,\n",
       " 20426,\n",
       " 20427,\n",
       " 20428,\n",
       " 20429,\n",
       " 20430,\n",
       " 20431,\n",
       " 20432,\n",
       " 20433,\n",
       " 20434,\n",
       " 20435,\n",
       " 20436,\n",
       " 20437,\n",
       " 20437,\n",
       " 20437,\n",
       " 20438,\n",
       " 20439,\n",
       " 20440,\n",
       " 20441,\n",
       " 20442,\n",
       " 20443,\n",
       " 20444,\n",
       " 20445,\n",
       " 20446,\n",
       " 20447,\n",
       " 20447,\n",
       " 20448,\n",
       " 20449,\n",
       " 20450,\n",
       " 20451,\n",
       " 20452,\n",
       " 20453,\n",
       " 20454,\n",
       " 20455,\n",
       " 20456,\n",
       " 20456,\n",
       " 20456,\n",
       " 20457,\n",
       " 20457,\n",
       " 20458,\n",
       " 20459,\n",
       " 20460,\n",
       " 20460,\n",
       " 20461,\n",
       " 20462,\n",
       " 20463,\n",
       " 20464,\n",
       " 20465,\n",
       " 20465,\n",
       " 20466,\n",
       " 20467,\n",
       " 20468,\n",
       " 20469,\n",
       " 20470,\n",
       " 20471,\n",
       " 20472,\n",
       " 20473,\n",
       " 20474,\n",
       " 20474,\n",
       " 20474,\n",
       " 20475,\n",
       " 20476,\n",
       " 20477,\n",
       " 20478,\n",
       " 20479,\n",
       " 20480,\n",
       " 20481,\n",
       " 20482,\n",
       " 20482,\n",
       " 20482,\n",
       " 20482,\n",
       " 20482,\n",
       " 20483,\n",
       " 20484,\n",
       " 20485,\n",
       " 20486,\n",
       " 20487,\n",
       " 20488,\n",
       " 20489,\n",
       " 20490,\n",
       " 20491,\n",
       " 20492,\n",
       " 20492,\n",
       " 20493,\n",
       " 20493,\n",
       " 20494,\n",
       " 20495,\n",
       " 20496,\n",
       " 20497,\n",
       " 20498,\n",
       " 20499,\n",
       " 20500,\n",
       " 20501,\n",
       " 20502,\n",
       " 20503,\n",
       " 20504,\n",
       " 20504,\n",
       " 20505,\n",
       " 20506,\n",
       " 20507,\n",
       " 20508,\n",
       " 20509,\n",
       " 20509,\n",
       " 20509,\n",
       " 20509,\n",
       " 20509,\n",
       " 20509,\n",
       " 20509,\n",
       " 20510,\n",
       " 20511,\n",
       " 20511,\n",
       " 20511,\n",
       " 20511,\n",
       " 20511,\n",
       " 20511,\n",
       " 20511,\n",
       " 20511,\n",
       " 20511,\n",
       " 20511,\n",
       " 20511,\n",
       " 20511,\n",
       " 20511,\n",
       " 20511,\n",
       " 20512,\n",
       " 20513,\n",
       " 20514,\n",
       " 20515,\n",
       " 20516,\n",
       " 20517,\n",
       " 20518,\n",
       " 20519,\n",
       " 20520,\n",
       " 20520,\n",
       " 20520,\n",
       " 20520,\n",
       " 20520,\n",
       " 20521,\n",
       " 20522,\n",
       " 20522,\n",
       " 20522,\n",
       " 20522,\n",
       " 20522,\n",
       " 20522,\n",
       " 20523,\n",
       " 20523,\n",
       " 20523,\n",
       " 20524,\n",
       " 20524,\n",
       " 20524,\n",
       " 20524,\n",
       " 20524,\n",
       " 20525,\n",
       " 20526,\n",
       " 20527,\n",
       " 20528,\n",
       " 20529,\n",
       " 20530,\n",
       " 20531,\n",
       " 20532,\n",
       " 20533,\n",
       " 20533,\n",
       " 20534,\n",
       " 20535,\n",
       " 20536,\n",
       " 20537,\n",
       " 20538,\n",
       " 20539,\n",
       " 20540,\n",
       " 20541,\n",
       " 20542,\n",
       " 20543,\n",
       " 20544,\n",
       " 20545,\n",
       " 20546,\n",
       " 20546,\n",
       " 20547,\n",
       " 20548,\n",
       " 20549,\n",
       " 20550,\n",
       " 20551,\n",
       " 20552,\n",
       " 20553,\n",
       " 20554,\n",
       " 20555,\n",
       " 20556,\n",
       " 20557,\n",
       " 20558,\n",
       " 20559,\n",
       " 20560,\n",
       " 20560,\n",
       " 20561,\n",
       " 20562,\n",
       " 20563,\n",
       " 20564,\n",
       " 20565,\n",
       " 20566,\n",
       " 20567,\n",
       " 20568,\n",
       " 20569,\n",
       " 20570,\n",
       " 20570,\n",
       " 20571,\n",
       " 20572,\n",
       " 20573,\n",
       " 20574,\n",
       " 20575,\n",
       " 20576,\n",
       " 20577,\n",
       " 20578,\n",
       " 20579,\n",
       " 20579,\n",
       " 20579,\n",
       " 20580,\n",
       " 20580,\n",
       " 20581,\n",
       " 20582,\n",
       " 20583,\n",
       " 20584,\n",
       " 20584,\n",
       " 20585,\n",
       " 20586,\n",
       " 20587,\n",
       " 20588,\n",
       " 20589,\n",
       " 20589,\n",
       " 20589,\n",
       " 20589,\n",
       " 20590,\n",
       " 20591,\n",
       " 20591,\n",
       " 20592,\n",
       " 20592,\n",
       " 20593,\n",
       " 20594,\n",
       " 20595,\n",
       " 20596,\n",
       " 20597,\n",
       " 20598,\n",
       " 20599,\n",
       " 20600,\n",
       " 20600,\n",
       " 20601,\n",
       " 20602,\n",
       " 20603,\n",
       " 20604,\n",
       " 20605,\n",
       " 20606,\n",
       " 20606,\n",
       " 20606,\n",
       " 20606,\n",
       " 20607,\n",
       " 20607,\n",
       " 20607,\n",
       " 20607,\n",
       " 20607,\n",
       " 20608,\n",
       " 20609,\n",
       " 20610,\n",
       " 20611,\n",
       " 20611,\n",
       " 20611,\n",
       " 20611,\n",
       " 20612,\n",
       " 20613,\n",
       " 20614,\n",
       " 20615,\n",
       " 20616,\n",
       " 20617,\n",
       " 20618,\n",
       " 20618,\n",
       " 20619,\n",
       " 20620,\n",
       " 20620,\n",
       " 20621,\n",
       " 20621,\n",
       " 20621,\n",
       " 20622,\n",
       " ...]"
      ]
     },
     "execution_count": 242,
     "metadata": {},
     "output_type": "execute_result"
    }
   ],
   "source": [
    "stubs_from\n",
    "stubs_to"
   ]
  },
  {
   "cell_type": "code",
   "execution_count": null,
   "metadata": {},
   "outputs": [],
   "source": []
  }
 ],
 "metadata": {
  "kernelspec": {
   "display_name": "Python 3",
   "language": "python",
   "name": "python3"
  },
  "language_info": {
   "codemirror_mode": {
    "name": "ipython",
    "version": 3
   },
   "file_extension": ".py",
   "mimetype": "text/x-python",
   "name": "python",
   "nbconvert_exporter": "python",
   "pygments_lexer": "ipython3",
   "version": "3.7.4"
  }
 },
 "nbformat": 4,
 "nbformat_minor": 2
}
