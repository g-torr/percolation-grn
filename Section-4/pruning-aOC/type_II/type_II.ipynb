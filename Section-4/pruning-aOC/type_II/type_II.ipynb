{
 "cells": [
  {
   "cell_type": "code",
   "execution_count": 1,
   "metadata": {},
   "outputs": [],
   "source": [
    "import numpy as np\n",
    "import matplotlib.pyplot as plt\n",
    "%matplotlib inline\n",
    "import itertools\n",
    "from scipy.stats import pareto\n",
    "import sys\n",
    "import pickle\n",
    "import pandas as pd\n",
    "from scipy.special import zeta\n",
    "sys.path.insert(0, \"../../../lib\")# add the library folder to the path I look for modules\n",
    "\n",
    "import latexify\n",
    "import load_mathematica_tb\n",
    "def load_obj(name ):\n",
    "    with open('dic-' + name + '.pkl', 'rb') as f:\n",
    "        return pickle.load(f)\n",
    "\n",
    "def spacchetta(filename):\n",
    "    ''' This reads the macroscopic cavity theory generated from the  Mathematica file \"power.nb\"'''\n",
    "    with open(filename) as f:\n",
    "        lines=f.read().splitlines()\n",
    "    c_thr = float(lines[0])\n",
    "    lines[1]=lines[1].replace( 'x /. {}[[-1]]}','0')\n",
    "    content  = [[float(el.strip('}').strip('{')) for el in line.split(',')]for line in lines[1].split('\\t')]\n",
    "    lambda_thr, g_thr = zip(*content)\n",
    "    return g_thr,lambda_thr,c_thr"
   ]
  },
  {
   "cell_type": "markdown",
   "metadata": {},
   "source": [
    "The pareto degree pdf is:\n",
    "$$\n",
    "f(x)=\\frac{\\gamma}{x^{\\gamma+1}}\n",
    "$$\n",
    "for $x\\geq1$. \n",
    "The discete variables have the probabilty:\n",
    "$$p(k)=\\int_k^{k+1}f(x)dx=\\left(\\dfrac{1}{k}\\right)^\\gamma-\\left(\\dfrac{1}{k+1}\\right)^\\gamma$$\n",
    "discrete variables are obtained taking the ceil function.\n",
    "For the continuous variable the average exists as long $\\gamma>1$, and variance is finite if $\\gamma>2$\n",
    "The following cell shows that the discrete variable goes the continuous.\n",
    "\n",
    "\n",
    "$$p(k)=\\dfrac{\\left(1+\\frac{1}{k}\\right)^\\gamma-1}{(k+1)^\\gamma}\\sim \\frac{\\gamma}{k(k+1)^\\gamma}\\sim_{k\\gg1}\\frac{\\gamma}{k^{\\gamma+1}}\n",
    "$$"
   ]
  },
  {
   "cell_type": "code",
   "execution_count": 5,
   "metadata": {},
   "outputs": [
    {
     "data": {
      "text/plain": [
       "Text(0, 0.5, '$p(k)$')"
      ]
     },
     "execution_count": 5,
     "metadata": {},
     "output_type": "execute_result"
    },
    {
     "data": {
      "image/png": "[encoded data removed]",
      "text/plain": [
       "<Figure size 432x288 with 1 Axes>"
      ]
     },
     "metadata": {
      "needs_background": "light"
     },
     "output_type": "display_data"
    }
   ],
   "source": [
    "N1=100000\n",
    "gamma_G = 2.5\n",
    "aseq= np.floor(1+np.random.pareto(gamma_G,N1)) #generate_degree_seq(gamma_G,N1)\n",
    "h,b= np.histogram(aseq,bins=np.arange(1,max(aseq)+2))\n",
    "plt.bar(b[:-1],h/sum(h),np.diff(b),alpha=0.5,label='histogram')\n",
    "k=np.arange(1,30)\n",
    "plt.plot(k,(1/(k))**(gamma_G)-(1/(k+1)**(gamma_G)),'o',label='$1/k^{\\\\gamma}-1/k^{\\\\gamma+1}$')\n",
    "plt.semilogy()\n",
    "plt.xlim(0,30)\n",
    "plt.legend()\n",
    "np.min(aseq)\n",
    "plt.xlabel('k')\n",
    "plt.ylabel('$p(k)$')"
   ]
  },
  {
   "cell_type": "markdown",
   "metadata": {},
   "source": [
    "Theory is generated by the script ```power.wls```. Go in the folder and run from terminal \n",
    "\n",
    "```\n",
    "wolframscript -script power.wls\n",
    "```\n",
    "\n",
    "Simulation is generated by the python script ```power-both.py```"
   ]
  },
  {
   "cell_type": "code",
   "execution_count": 6,
   "metadata": {},
   "outputs": [
    {
     "data": {
      "text/plain": [
       "dict_keys(['data', 'N1', 'gamma_Gs', 'descr'])"
      ]
     },
     "execution_count": 6,
     "metadata": {},
     "output_type": "execute_result"
    }
   ],
   "source": [
    "dic = load_obj('powerlaw-both')\n",
    "data=np.array(dic['data'])\n",
    "gamma_Gs =dic['gamma_Gs']\n",
    "#gamma_Gs = dic['gamma']\n",
    "dic.keys()"
   ]
  },
  {
   "cell_type": "code",
   "execution_count": 9,
   "metadata": {
    "scrolled": true
   },
   "outputs": [
    {
     "data": {
      "image/png": "[encoded data removed]",
      "text/plain": [
       "<Figure size 244.08x150.85 with 1 Axes>"
      ]
     },
     "metadata": {
      "needs_background": "light"
     },
     "output_type": "display_data"
    }
   ],
   "source": [
    "latexify.latexify(columns=2)\n",
    "cin = data[:,2]\n",
    "plt.plot(cin,np.array(data)[:,0],'s',mfc='w',label= 'gene',alpha = 0.7)\n",
    "plt.plot(cin,np.array(data)[:,1],'o',mfc='w',label='TF',alpha=0.7)\n",
    "din=np.mean(data,axis=0)[-1]\n",
    "'''cav_gene_curve=on.gene_cavity_tb.iloc[:,np.argmin((np.array(on.gene_cavity_tb.index)-din+1)**2)]#select the theoretical values with the closest possible value of c\n",
    "cav_TF_curve=on.TF_cavity_tb.iloc[:,np.argmin((np.array(on.gene_cavity_tb.index)-din+1)**2)]\n",
    "index=cav_gene_curve.index\n",
    "value=cav_gene_curve.values\n",
    "\n",
    "value=cav_TF_curve.values\n",
    "'''\n",
    "g_thr,lambda_thr,c_thr = spacchetta(\"genes_on_cavity.txt\")\n",
    "if abs((c_thr+1)/data[0][3]-1)>0.2:\n",
    "    print('Attention!! Simulation and theory at different c')\n",
    "#plt.plot(np.array(lambda_thr),g_thr,'--',label= 'thr. Gene')\n",
    "plt.plot(zeta(lambda_thr),g_thr,'--',label= 'thr. gene')\n",
    "t_thr,lambda_thr,c_thr = spacchetta('TFs_on_cavity.txt')\n",
    "plt.plot(zeta(lambda_thr),t_thr,':',label= 'thr. TF')\n",
    "plt.legend()\n",
    "#plt.semilogx()\n",
    "plt.xlabel(\"$\\\\langle c^{\\mathrm{in}} \\\\rangle$\",fontsize=13)\n",
    "plt.ylabel('Percolating fraction',fontsize=12)\n",
    "plt.tight_layout()\n",
    "#plt.savefig('power-both.pdf')\n"
   ]
  },
  {
   "cell_type": "code",
   "execution_count": null,
   "metadata": {},
   "outputs": [],
   "source": []
  }
 ],
 "metadata": {
  "kernelspec": {
   "display_name": "Python 3",
   "language": "python",
   "name": "python3"
  },
  "language_info": {
   "codemirror_mode": {
    "name": "ipython",
    "version": 3
   },
   "file_extension": ".py",
   "mimetype": "text/x-python",
   "name": "python",
   "nbconvert_exporter": "python",
   "pygments_lexer": "ipython3",
   "version": "3.7.4"
  }
 },
 "nbformat": 4,
 "nbformat_minor": 2
}
