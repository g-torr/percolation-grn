{
 "cells": [
  {
   "cell_type": "code",
   "execution_count": 5,
   "metadata": {},
   "outputs": [],
   "source": [
    "from pylab import *\n",
    "%matplotlib inline\n",
    "import numpy.random\n",
    "#from scipy.special import factorial\n",
    "import itertools\n",
    "import scipy\n",
    "import sys\n",
    "import pickle\n",
    "import pandas as pd\n",
    "#from scipy.stats import poisson\n",
    "import warnings\n",
    "sys.path.insert(0, \"../lib\")# add the library folder to the path I look for modules\n",
    "from directed_random_graph import *# this is the function I wrote\n",
    "import latexify# execute function latexify for plots coherent with latex\n",
    "import load_mathematica_tb"
   ]
  },
  {
   "cell_type": "code",
   "execution_count": 4,
   "metadata": {},
   "outputs": [],
   "source": [
    "def save_obj(obj, name ):\n",
    "    with open('dic-'+ name + '.pkl', 'wb') as f:\n",
    "        pickle.dump(obj, f, pickle.HIGHEST_PROTOCOL)\n",
    "def load_obj(name,prefix=\".\" ):\n",
    "    print(prefix+'/dic-' + name + '.pkl')\n",
    "    with open(prefix+'/dic-' + name + '.pkl', 'rb') as f:\n",
    "        return pickle.load(f)        "
   ]
  },
  {
   "cell_type": "markdown",
   "metadata": {},
   "source": [
    "Dynamics:\n",
    "$\\xi_i^\\mu$ links from TF $\\mu $ to Gene $i$. \n",
    "\n",
    "$\\eta_j^\\mu$ link from Gene $j$ to TF $\\mu$\n",
    "$$\n",
    "    \\sigma_i(t+1)=\\Theta \\left[\\sum_{\\mu}^{\\alpha N} \\xi_i^\\mu\\delta_{m_\\mu,1} -z_i(t)-\\theta\\right]\n",
    "$$\n",
    "$$\n",
    " m_\\mu(t)=\\dfrac{\\sum_j^N \\eta_j^\\mu \\sigma_j(t)}{q_\\mu}\n",
    "$$\n",
    "where $q_\\mu=\\sum_j^N \\eta_j^\\mu$ is the in-degree of TF $\\mu$ \n"
   ]
  },
  {
   "cell_type": "code",
   "execution_count": 3,
   "metadata": {},
   "outputs": [],
   "source": [
    "class cavity:\n",
    "    '''This class loads the cavity results computed with Mathematica script \"cavity.wls\".\n",
    "        mathematica script creates curves with percolation p=0.99.\n",
    "        self.c and self.d contains the points on the critical line.\n",
    "    '''\n",
    "    def __init__(self,TF_on=True):\n",
    "        \n",
    "        self.TF_on=TF_on\n",
    "        if TF_on:\n",
    "            cavity_tb=self.load_theoy_from_mathematica(\"on_cavity.txt\")\n",
    "            if not any(cavity_tb.values==1):\n",
    "                raise ValueError(\"The input text file does not contain a transition in the protocol 'on'. Change parameters in the mathematica script\")\n",
    "\n",
    "            line=[(col,min(cavity_tb[col].index[cavity_tb[col]==1])) for col in cavity_tb.columns if any(cavity_tb[col]==1)]#list of (c,d) where transition happens\n",
    "        else:\n",
    "            cavity_tb=self.load_theoy_from_mathematica(\"off_cavity.txt\")\n",
    "            if not any(cavity_tb.values==3):\n",
    "                raise ValueError(\"The input text file does not contain a transition in the protocol 'off'. Change parameters in the mathematica script\")\n",
    "            line=[(col,min(cavity_tb[col].index[cavity_tb[col]==3])) for col in cavity_tb.columns if any(cavity_tb[col]==3)]#list of (c,d) where transition happens\n",
    "            \n",
    "        c,d=zip(*line)\n",
    "        self.c=array(c)\n",
    "        self.d=array(d)\n",
    "        self.cavity_tb=cavity_tb\n",
    "        #self.heatmap()\n",
    "            \n",
    "    def load_theoy_from_mathematica(self,file):\n",
    "        '''Create a Pandas dataframe, which contains \"d\" as index of rows, \"c\" as column name, content is the number of solutions'''\n",
    "        def spacchetta(row):\n",
    "            ds, n_roots= zip(*[[ a for a in  row_list.strip(\" {\").split(\",\")] for row_list in row.strip(\"}\").split(\"},\") ])\n",
    "            ds = array(ds,dtype=float)\n",
    "            n_roots = array(n_roots,dtype=int)\n",
    "            return ds,n_roots\n",
    "\n",
    "        tb=pd.read_table(file,header=None,names=[\"c\",\"ds\"],index_col=0)\n",
    "        A=[]\n",
    "        for row in tb[\"ds\"]:\n",
    "            ds_cavity,n_roots=spacchetta(row)\n",
    "            A+=[n_roots]\n",
    "        A=transpose(A)\n",
    "        num_cavity=pd.DataFrame(A,index=list(map(lambda x: round(x,3),ds_cavity)),columns=list(map(lambda x: round(x,3),tb.index)))\n",
    "        num_cavity.index.name=\"d\"\n",
    "        return num_cavity\n",
    "    def heatmap(self):\n",
    "        fig=figure()\n",
    "        cavity_tb=self.cavity_tb\n",
    "        '''\n",
    "        if self.TF_on:\n",
    "            title(\"Number of solution. TF on\")\n",
    "        else:\n",
    "            title(\"Number of solutions. TF off\")\n",
    "        '''\n",
    "        cmap=cm.get_cmap('viridis',3)\n",
    "        bounds = np.linspace(0.5, 3.5, 4)\n",
    "        norm = mpl.colors.BoundaryNorm(bounds, cmap.N)\n",
    "        imshow(self.cavity_tb,origin=\"lower\",extent=(min(list(cavity_tb.index))+1,max(list(cavity_tb.index))+1,min(list(cavity_tb.columns))+1,max(list(cavity_tb.columns))+1), aspect=\"auto\",cmap=cmap)\n",
    "        cbar=colorbar(boundaries=bounds)\n",
    "        cbar.set_ticks([1, 2, 3])\n",
    "        cbar.set_ticklabels(['1', '2', '3'])\n",
    "        cbar.set_label(\"N. of solutions\",rotation=90,fontsize=10,labelpad=5)\n",
    "        \n",
    "        xlabel(\"Mean gene in-degree\")\n",
    "        ylabel(\"Mean TF in-degree\")\n",
    "        tight_layout()\n",
    "        return fig"
   ]
  },
  {
   "cell_type": "code",
   "execution_count": 7,
   "metadata": {},
   "outputs": [],
   "source": [
    "class cavity:\n",
    "    '''This class loads the cavity results computed with Mathematica script \"cavity.wls\".\n",
    "        mathematica script creates curves with percolation p=0.95\n",
    "        self.c and self.d contains the points on the critical line.\n",
    "    '''\n",
    "    def __init__(self,TF_on=True):\n",
    "        \n",
    "        if TF_on:\n",
    "            cavity_tb=self.load_theoy_from_mathematica(\"gene_on_cavity.txt\")\n",
    "            self.gene_cavity_tb=cavity_tb\n",
    "            #self.TF_cavity_tb=self.load_theoy_from_mathematica(\"TF_on_cavity.txt\")\n",
    "            line=[(col,max(cavity_tb[col].index[cavity_tb[col]>0.])) for col in cavity_tb.columns if (any(cavity_tb[col]>0) and any(cavity_tb[col]==0))]\n",
    "            c_thr,d_thr=zip(*line)\n",
    "            self.d_thr=array(d_thr)\n",
    "            self.c_thr=array(c_thr)\n",
    "\n",
    "        else:\n",
    "            cavity_tb=self.load_theoy_from_mathematica(\"gene_off_cavity.txt\")\n",
    "            self.gene_cavity_tb=cavity_tb\n",
    "            #self.TF_cavity_tb=self.load_theoy_from_mathematica(\"../out_nonlinear/TF_on_cavity.txt\")\n",
    "            line=[(col,min(cavity_tb[col].index[cavity_tb[col]<1])) for col in cavity_tb.columns if (any(cavity_tb[col]<1) and any(cavity_tb[col]==1))]\n",
    "            c_thr,d_thr=zip(*line)\n",
    "            self.d_thr=array(d_thr)\n",
    "            self.c_thr=array(c_thr)\n",
    "\n",
    "        '''\n",
    "            if not any(cavity_tb.values<0.5):\n",
    "                raise ValueError(\"The input text file does not contain a transition in the protocol 'on'. Change parameters in the mathematica script\")\n",
    "            line=[(col,min(cavity_tb[col].index[cavity_tb[col]==1])) for col in cavity_tb.columns if any(cavity_tb[col]==1)]#list of (c,d) where transition happens\n",
    "            \n",
    "        else:\n",
    "            cavity_tb=self.load_theoy_from_mathematica(\"off_cavity.txt\")\n",
    "            if not any(cavity_tb.values>0.5):\n",
    "                raise ValueError(\"The input text file does not contain a transition in the protocol 'off'. Change parameters in the mathematica script\")\n",
    "            line=[(col,min(cavity_tb[col].index[cavity_tb[col]==3])) for col in cavity_tb.columns if any(cavity_tb[col]==3)]#list of (c,d) where transition happens\n",
    "            '''\n",
    "        '''\n",
    "        c,d=zip(*line)\n",
    "        self.c=array(c)\n",
    "        self.d=array(d)\n",
    "        self.cavity_tb=cavity_tb\n",
    "        #self.heatmap()\n",
    "        '''    \n",
    "    def load_theoy_from_mathematica(self,file):\n",
    "        '''Create a Pandas dataframe, which contains \"d\" as index of rows, \"c\" as column name, content is the number of solutions'''\n",
    "        def spacchetta(row):\n",
    "            ds, root= zip(*[[ a for a in  row_list.strip(\" {\").split(\",\")] for row_list in row.strip(\"}\").split(\"},\") ])\n",
    "            ds = array(ds,dtype=float)\n",
    "            root = array(root,dtype=float)\n",
    "            return ds,root\n",
    "\n",
    "        tb=pd.read_table(file,header=None,names=[\"c\",\"ds\"],index_col=0)\n",
    "        A=[]\n",
    "        for row in tb[\"ds\"]:\n",
    "            ds_cavity,root=spacchetta(row)\n",
    "            A+=[root]\n",
    "        A=transpose(A)\n",
    "        num_cavity=pd.DataFrame(A,index=list(map(lambda x: round(x,3),ds_cavity)),columns=list(map(lambda x: round(x,3),tb.index)))\n",
    "        num_cavity.index.name=\"d\"\n",
    "        return num_cavity\n",
    "    def heatmap(self):\n",
    "        fig=figure()\n",
    "        cavity_tb=self.gene_cavity_tb\n",
    "        '''\n",
    "        if self.TF_on:\n",
    "            title(\"Number of solution. TF on\")\n",
    "        else:\n",
    "            title(\"Number of solutions. TF off\")\n",
    "        '''\n",
    "        cmap=cm.get_cmap('viridis')\n",
    "        #bounds = np.linspace(0.5, 3.5, 4)\n",
    "        #norm = mpl.colors.BoundaryNorm(bounds, cmap.N)\n",
    "        imshow(cavity_tb,origin=\"lower\",extent=(min(list(cavity_tb.index))+1,max(list(cavity_tb.index))+1,min(list(cavity_tb.columns))+1,max(list(cavity_tb.columns))+1), aspect=\"auto\",cmap=cmap)\n",
    "        #colorbar()\n",
    "        xlabel(\"Mean gene in-degree\")\n",
    "        ylabel(\"Mean TF in-degree\")\n",
    "        tight_layout()\n",
    "        return fig\n",
    "on=cavity(True)\n",
    "off=cavity(False)"
   ]
  },
  {
   "cell_type": "code",
   "execution_count": 8,
   "metadata": {},
   "outputs": [
    {
     "data": {
      "image/png": "[encoded data removed]",
      "text/plain": [
       "<Figure size 244.08x150.85 with 1 Axes>"
      ]
     },
     "metadata": {
      "needs_background": "light"
     },
     "output_type": "display_data"
    },
    {
     "data": {
      "image/png": "[encoded data removed]",
      "text/plain": [
       "<Figure size 244.08x150.85 with 1 Axes>"
      ]
     },
     "metadata": {
      "needs_background": "light"
     },
     "output_type": "display_data"
    }
   ],
   "source": [
    "latexify.latexify(columns=2)\n",
    "on=cavity(True)\n",
    "on.heatmap()\n",
    "tight_layout()\n",
    "#savefig(\"cavity_on.pdf\")\n",
    "off=cavity(False)\n",
    "off.heatmap()\n",
    "tight_layout()\n",
    "#savefig(\"cavity_off.pdf\")"
   ]
  },
  {
   "cell_type": "code",
   "execution_count": 37,
   "metadata": {},
   "outputs": [
    {
     "data": {
      "image/png": "[encoded data removed]",
      "text/plain": [
       "<Figure size 244.08x150.85 with 1 Axes>"
      ]
     },
     "metadata": {
      "needs_background": "light"
     },
     "output_type": "display_data"
    }
   ],
   "source": [
    "imshow(on.cavity_tb.values)\n",
    "#savefig(\"cavity_on.pdf\")"
   ]
  },
  {
   "cell_type": "code",
   "execution_count": 8,
   "metadata": {},
   "outputs": [],
   "source": [
    "cavity_tb=on.cavity_tb\n",
    "#savefig(\"cavity_on.pdf\")"
   ]
  },
  {
   "cell_type": "code",
   "execution_count": 18,
   "metadata": {},
   "outputs": [
    {
     "data": {
      "text/plain": [
       "<matplotlib.colorbar.Colorbar at 0x7f8aa63256a0>"
      ]
     },
     "execution_count": 18,
     "metadata": {},
     "output_type": "execute_result"
    },
    {
     "data": {
      "image/png": "[encoded data removed]",
      "text/plain": [
       "<Figure size 432x288 with 2 Axes>"
      ]
     },
     "metadata": {
      "needs_background": "light"
     },
     "output_type": "display_data"
    }
   ],
   "source": []
  },
  {
   "cell_type": "code",
   "execution_count": 263,
   "metadata": {},
   "outputs": [],
   "source": [
    "ax.figure.savefig?"
   ]
  },
  {
   "cell_type": "markdown",
   "metadata": {},
   "source": [
    "### Cavity curves"
   ]
  },
  {
   "cell_type": "code",
   "execution_count": 6,
   "metadata": {},
   "outputs": [],
   "source": [
    "def fon(g,c,d,alpha,p):\n",
    "    return exp(-(c*g*p*alpha*exp((d*(-1 + g))/alpha)))*(-1 + g*p*exp((d*(-1 + g))/alpha) + exp(c*g*p*alpha*exp((d*(-1 + g))/alpha)))-g\n",
    "def foff(g,c,d,alpha,p):\n",
    "    return exp(-(alpha*c*(p + g*exp((d*(-1 + g))/alpha))))*(-1 + p + g*exp((d*(-1 + g))/alpha) + exp(alpha*c*(p + g*exp((d*(-1 + g))/alpha))))-g\n",
    "def foff2(g,c,d,alpha,p):\n",
    "    return  exp(-(alpha*c*(p - g*(-1 + p)*exp((d*(-1 + g))/alpha))))*(-1 + p - g*(-1 + p)*exp((d*(-1 + g))/alpha) + exp(alpha*c*(p - g*(-1 + p)*exp((d*(-1 + g))/alpha))))-g\n",
    "def d_critical(ds,c,alpha,p,up):\n",
    "    if up:\n",
    "        f=fon\n",
    "    else:\n",
    "        f=foff\n",
    "    num=[]\n",
    "    status=[]\n",
    "    for d in ds:\n",
    "        if up:\n",
    "            sol=root(f,1,args=(c,d,alpha,p))\n",
    "        else:\n",
    "            sol=root(f,0,args=(c,d,alpha,1.-p))\n",
    "        num+=[sol.x]\n",
    "        status+=[sol.success]\n",
    "    num=squeeze(array(num))\n",
    "    status=squeeze(array(status))\n",
    "    \n",
    "    if up:\n",
    "        d=ds[status&(num<1)&(num>0)][-1]# return the highest d the transistion happen\n",
    "        if d==ds[-1]:\n",
    "            warnings.warn(\"Adjust the boundaries of ds\")\n",
    "            return d_critical(linspace(max(ds),max(ds)+4,100),c,alpha,p,up)\n",
    "        return d \n",
    "    else:\n",
    "        return ds[status&(num<1)&(num>0)][0]# return the lowest d\n",
    "def d_critical2(ds,c,alpha,p,up):\n",
    "    if up:\n",
    "        f=fon\n",
    "    else:\n",
    "        f=foff2\n",
    "    num=[]\n",
    "    status=[]\n",
    "    for d in ds:\n",
    "        if up:\n",
    "            sol=root(f,1,args=(c,d,alpha,p))\n",
    "        else:\n",
    "            sol=root(f,0,args=(c,d,alpha,1.-p))\n",
    "        num+=[sol.x]\n",
    "        status+=[sol.success]\n",
    "    num=squeeze(array(num))\n",
    "    status=squeeze(array(status))\n",
    "    \n",
    "    if up:\n",
    "        d=ds[status&(num<1)&(num>0)][-1]# return the highest d the transistion happen\n",
    "        if d==ds[-1]:\n",
    "            warnings.warn(\"Adjust the boundaries of ds\")\n",
    "            return d_critical(linspace(max(ds),max(ds)+4,100),c,alpha,p,up)\n",
    "        return d \n",
    "    else:\n",
    "        return ds[status&(num<1)&(num>0)][0]# return the lowest d\n",
    "    \n",
    "    #return ds,num,status"
   ]
  },
  {
   "cell_type": "code",
   "execution_count": 162,
   "metadata": {},
   "outputs": [
    {
     "data": {
      "text/plain": [
       "array([0.07, 0.08, 0.09, 0.1 , 0.11, 0.12, 0.13, 0.14, 0.15, 0.16, 0.17,\n",
       "       0.18, 0.19, 0.2 , 0.21, 0.22, 0.23, 0.24, 0.25, 0.26, 0.27, 0.28,\n",
       "       0.29, 0.3 , 0.31, 0.32, 0.33, 0.34, 0.35, 0.36, 0.37, 0.38, 0.39,\n",
       "       0.4 , 0.41, 0.42, 0.43, 0.44, 0.45, 0.46, 0.47, 0.48, 0.49, 0.5 ,\n",
       "       0.51, 0.52, 0.53, 0.54, 0.55, 0.56, 0.57, 0.58, 0.59, 0.6 , 0.61,\n",
       "       0.62, 0.63, 0.64, 0.65, 0.66, 0.67, 0.68, 0.69, 0.7 , 0.71, 0.72,\n",
       "       0.73, 0.74, 0.75, 0.76, 0.77, 0.78, 0.79, 0.8 , 0.81, 0.82, 0.83,\n",
       "       0.84, 0.85, 0.86, 0.87, 0.88, 0.89, 0.9 , 0.91, 0.92, 0.93, 0.94,\n",
       "       0.95, 0.96, 0.97, 0.98, 0.99, 1.  , 1.01, 1.02, 1.03, 1.04, 1.05,\n",
       "       1.06, 1.07, 1.08, 1.09, 1.1 , 1.11, 1.12, 1.13, 1.14, 1.15, 1.16,\n",
       "       1.17, 1.18, 1.19, 1.2 , 1.21, 1.22, 1.23, 1.24, 1.25, 1.26, 1.27,\n",
       "       1.28, 1.29, 1.3 , 1.31, 1.32, 1.33, 1.34, 1.35, 1.36, 1.37, 1.38,\n",
       "       1.39, 1.4 , 1.41, 1.42, 1.43, 1.44, 1.45, 1.46, 1.47, 1.48, 1.49,\n",
       "       1.5 , 1.51, 1.52, 1.53, 1.54, 1.55, 1.56, 1.57, 1.58, 1.59, 1.6 ,\n",
       "       1.61, 1.62, 1.63, 1.64, 1.65, 1.66, 1.67, 1.68, 1.69, 1.7 , 1.71,\n",
       "       1.72, 1.73, 1.74, 1.75, 1.76, 1.77, 1.78, 1.79, 1.8 , 1.81, 1.82,\n",
       "       1.83, 1.84, 1.85, 1.86, 1.87, 1.88, 1.89, 1.9 , 1.91, 1.92, 1.93,\n",
       "       1.94, 1.95, 1.96, 1.97, 1.98, 1.99, 2.  , 2.01, 2.02, 2.03, 2.04,\n",
       "       2.05, 2.06, 2.07, 2.08, 2.09, 2.1 , 2.11, 2.12, 2.13, 2.14, 2.15,\n",
       "       2.16, 2.17, 2.18, 2.19, 2.2 , 2.21, 2.22, 2.23, 2.24, 2.25, 2.26,\n",
       "       2.27, 2.28, 2.29, 2.3 , 2.31, 2.32, 2.33, 2.34, 2.35, 2.36, 2.37,\n",
       "       2.38, 2.39, 2.4 , 2.41, 2.42, 2.43, 2.44, 2.45, 2.46, 2.47, 2.48,\n",
       "       2.49, 2.5 , 2.51, 2.52, 2.53, 2.54, 2.55, 2.56, 2.57, 2.58, 2.59,\n",
       "       2.6 , 2.61, 2.62, 2.63, 2.64, 2.65, 2.66, 2.67, 2.68, 2.69])"
      ]
     },
     "execution_count": 162,
     "metadata": {},
     "output_type": "execute_result"
    }
   ],
   "source": [
    "on.c_thr"
   ]
  },
  {
   "cell_type": "markdown",
   "metadata": {},
   "source": [
    "## Percolation in non-linear dynamics\n",
    "My reference line have been obtained looking at the out component.\n",
    "### How to run simulations\n",
    "Considering that nice graph requires long simulations, I create a python script called percolation.py. Execute this from terminal and then load data here.\n",
    "In terminal type:\n",
    "\n",
    "```\n",
    "python percolation.py --ds 0.0001 4 50 --cs 0.0001 4 70 -N1 10000 -N2 10000 \n",
    "```\n",
    "\n",
    "which means:\n",
    "```python\n",
    "ds=arange(0.0001,4,50)\n",
    "cs=arange(0.0001,4,70)```\n",
    "\n",
    "Two sets of simulations are performed for the given set of parameter. The first one starts with TFS initially on means that 99% of TF are on. The second one with TFS initially off which means that only 5 of TF are on."
   ]
  },
  {
   "cell_type": "code",
   "execution_count": 5,
   "metadata": {},
   "outputs": [
    {
     "name": "stdout",
     "output_type": "stream",
     "text": [
      "./dic-magnetisation.pkl\n"
     ]
    }
   ],
   "source": [
    "perc=0.95\n",
    "#load data from simulation\n",
    "dic=load_obj(\"magnetisation\",\".\")\n",
    "ds=dic[\"ds\"]\n",
    "cs=dic[\"cs\"]\n",
    "N1=dic[\"N1\"]\n",
    "N2=dic[\"N2\"]\n",
    "data_on=dic[\"data_on\"]\n",
    "data_off=dic[\"data_off\"]\n",
    "alpha=N2/N1\n",
    "#d_num_up=[1+d_critical(linspace(min(ds),max(ds),1000),c,alpha,perc,up=True) for c in cs]\n",
    "#d_num_down=[1+d_critical(linspace(min(ds),max(ds),1000),c,alpha,perc,up=False) for c in cs]\n",
    "#d_num_down2=[1+d_critical2(linspace(min(ds),max(ds),1000),c,alpha,perc,up=False) for c in cs]"
   ]
  },
  {
   "cell_type": "code",
   "execution_count": 10,
   "metadata": {},
   "outputs": [
    {
     "data": {
      "image/png": "[encoded data removed]",
      "text/plain": [
       "<Figure size 244.08x150.85 with 2 Axes>"
      ]
     },
     "metadata": {
      "needs_background": "light"
     },
     "output_type": "display_data"
    }
   ],
   "source": [
    "latexify.latexify(columns=2)\n",
    "#title(\"average gene  expression level,RC initially on \")\n",
    "cmap=\"spring\"\n",
    "\n",
    "imshow(data_on[:,:,0],extent=(cs[0]+1,cs[-1]+1,ds[0]+1,ds[-1]+1),origin=\"lower\", aspect=\"auto\",cmap=cmap,alpha=0.5)\n",
    "plot(on.c_thr+1,1+on.d_thr,'k--',lw=2,label=\"cavity\")\n",
    "#imshow(data_on[:,:,0],extent=(cs[0]+1,cs[-1]+1,ds[0]+1,ds[-1]+1),origin=\"lower\", aspect=\"auto\",cmap=cmap,alpha=0.5)\n",
    "\n",
    "cbar=colorbar(cmap=cmap)\n",
    "#cbar.ax.set_ylabel('Average gene activation', rotation=270)\n",
    "ylim(ds[0]+1,ds[-1]+1)\n",
    "#plot(cs+1,1+(-1 +exp(cs*alpha) )*alpha+(alpha-1)*where(alpha<1,1,0)) # for d larger then this,the state with n=1 becomes instable\n",
    "#plot(cs+1,d_num_up,\"k-\",lw=2,label=\"cavity\")\n",
    "\n",
    "\n",
    "\n",
    "xlabel(\"$\\\\langle d^{\\mathrm{in}} \\\\rangle$\",fontsize=13)\n",
    "ylabel(\"$\\\\langle c^{\\mathrm{in}} \\\\rangle$\",fontsize=13)\n",
    "legend()\n",
    "\n",
    "cbar.set_label(\"$g$\",rotation=90,fontsize=12,labelpad=-5)\n",
    "cbar.set_ticks([0,1])\n",
    "cbar.patch.set_facecolor(\"none\")\n",
    "i=50\n",
    "axvline(cs[i]+1,ls=\"-.\")\n",
    "tight_layout()\n",
    "#savefig(\"TF_on.pdf\")\n"
   ]
  },
  {
   "cell_type": "code",
   "execution_count": 144,
   "metadata": {},
   "outputs": [
    {
     "data": {
      "text/plain": [
       "'/home/k1762355/Documents/phd_projects/percolation/non-linear/corrected/out/percolation_Gene'"
      ]
     },
     "execution_count": 144,
     "metadata": {},
     "output_type": "execute_result"
    }
   ],
   "source": [
    "pwd"
   ]
  },
  {
   "cell_type": "code",
   "execution_count": 12,
   "metadata": {},
   "outputs": [
    {
     "data": {
      "image/png": "[encoded data removed]",
      "text/plain": [
       "<Figure size 244.08x150.85 with 2 Axes>"
      ]
     },
     "metadata": {
      "needs_background": "light"
     },
     "output_type": "display_data"
    }
   ],
   "source": [
    "#figure(figsize=(4,3))\n",
    "#title(\"Average gene expression level\")\n",
    "\n",
    "imshow(data_off[:,:,0],extent=(cs[0]+1,cs[-1]+1,ds[0]+1,ds[-1]+1),origin=\"lower\", aspect=\"auto\",cmap=\"spring\",vmin=0,vmax=1,alpha=0.5)\n",
    "\n",
    "#plot(cs+1,1+(1-alpha)*where(alpha<1,1,0)+alpha *log(1 + cs*alpha))# for d larger then this,the state with  n=0 genes becomes stable, and n=1 remains stable\n",
    "ylim(ds[0]+1,ds[-1]+1)\n",
    "#plot(cs+1,d_num_down2,\"-k\",lw=2,label=\"cavity\")\n",
    "plot(off.c_thr+1,off.d_thr+1,\"--k\",lw=2,label=\"cavity\")\n",
    "#xlim(cs[0],cs[-1])\n",
    "xlabel(\"$\\\\langle d^{\\mathrm{in}} \\\\rangle$\",fontsize=13)\n",
    "ylabel(\"$\\\\langle c^{\\mathrm{in}} \\\\rangle$\",fontsize=13)\n",
    "cbar=colorbar()\n",
    "cbar.set_label(\"$g$\",rotation=90,fontsize=12,labelpad=-5)\n",
    "cbar.set_ticks([0,1])\n",
    "axvline(cs[i]+1,ls=\"-.\")\n",
    "legend()\n",
    "tight_layout()\n",
    "#savefig(\"TF_off.pdf\")\n"
   ]
  },
  {
   "cell_type": "code",
   "execution_count": 13,
   "metadata": {},
   "outputs": [
    {
     "data": {
      "image/png": "[encoded data removed]",
      "text/plain": [
       "<Figure size 244.08x150.85 with 2 Axes>"
      ]
     },
     "metadata": {
      "needs_background": "light"
     },
     "output_type": "display_data"
    }
   ],
   "source": [
    "#figure(figsize=(4,3))\n",
    "#title(\"Gene expr. level,RC initially on - off \")\n",
    "imshow(data_on[:,:,0]-data_off[:,:,0],extent=(cs[0]+1,cs[-1]+1,ds[0]+1,ds[-1]+1),origin=\"lower\", aspect=\"auto\",vmin=-1,vmax=1)\n",
    "\n",
    "#plot(cs+1,1+(1-alpha)*where(alpha<1,1,0)+alpha *log(1 + cs*alpha))# for d larger then this,the histeresys begins\n",
    "#plot(cs+1,1+(-1 +exp(cs*alpha) )*alpha+(alpha-1)*where(alpha<1,1,0)) # for d larger then this, the histeresys terminate\n",
    "ylim(ds[0]+1,ds[-1]+1)\n",
    "xlabel(\"$\\\\langle d^{\\mathrm{in}} \\\\rangle$\",fontsize=13)\n",
    "ylabel(\"$\\\\langle c^{\\mathrm{in}} \\\\rangle$\",fontsize=13)\n",
    "plot(off.c_thr+1,off.d_thr+1,\"-k\",lw=2)\n",
    "plot(on.c_thr+1,on.d_thr+1,\"-k\",lw=2,label=\"cavity\")\n",
    "legend()\n",
    "cbar=colorbar()\n",
    "#cbar.set_label(\"$g_{on}-g_{off}$\",rotation=90,fontsize=12,labelpad=-15)\n",
    "cbar.set_ticks([-1,1])\n",
    "tight_layout()\n",
    "savefig(\"histeresys.pdf\")"
   ]
  },
  {
   "cell_type": "markdown",
   "metadata": {},
   "source": [
    "## Plots for perturbed cavity"
   ]
  },
  {
   "cell_type": "code",
   "execution_count": 7,
   "metadata": {},
   "outputs": [],
   "source": [
    "from matplotlib.offsetbox import AnchoredOffsetbox, TextArea, HPacker, VPacker"
   ]
  },
  {
   "cell_type": "code",
   "execution_count": 14,
   "metadata": {},
   "outputs": [
    {
     "data": {
      "image/png": "[encoded data removed]",
      "text/plain": [
       "<Figure size 244.08x150.85 with 1 Axes>"
      ]
     },
     "metadata": {
      "needs_background": "light"
     },
     "output_type": "display_data"
    }
   ],
   "source": [
    "def fon(g,c,d,alpha,p):\n",
    "    return  p*exp(-(alpha*c*g*exp((d*(-1 + g))/alpha)))*(-1 + g*exp((d*(-1 + g))/alpha) + exp(alpha*c*g*exp((d*(-1 + g))/alpha)))\n",
    "def fTF(t,c,d,alpha,p):\n",
    "    return  p*(-1 + t + exp(alpha*c*t))*exp(-(alpha*c*t) + (d*(-1 + p*exp(-(alpha*c*t))*(-1 + t + exp(alpha*c*t))))/alpha)\n",
    "def foff(g,c,d,alpha,p):\n",
    "    return   p + (alpha - p)*exp(-(c*g*exp(d*(-1 + g))))*(-1 + g*exp(d*(-1 + g)) + exp(c*g*exp(d*(-1 + g))))\n",
    "latexify.latexify(columns=2)\n",
    "c=1\n",
    "d=3\n",
    "alpha=1\n",
    "p=1\n",
    "\n",
    "x=linspace(0,1)\n",
    "plot(x,fon(x,c,d,alpha,p),ls=':',label='genes')\n",
    "plot(x,fTF(x,c,d,alpha,p),label='TFs')\n",
    "plot(x,x,'k--')\n",
    "legend()\n",
    "xlabel('$x$',fontsize=13)\n",
    "ylabel('$F(x)$',fontsize=13)\n",
    "\n",
    "tight_layout()\n",
    "#savefig('../numerical_curve/out1.pdf')"
   ]
  },
  {
   "cell_type": "code",
   "execution_count": 34,
   "metadata": {},
   "outputs": [
    {
     "data": {
      "image/png": "[encoded data removed]",
      "text/plain": [
       "<Figure size 244.08x150.85 with 1 Axes>"
      ]
     },
     "metadata": {
      "needs_background": "light"
     },
     "output_type": "display_data"
    }
   ],
   "source": [
    "latexify.latexify(columns=2)\n",
    "c=3\n",
    "d=1\n",
    "alpha=1\n",
    "p=0.9\n",
    "x=linspace(0,1)\n",
    "plot(x,fon(x,c,d,alpha,1),ls=':',label='$p=$1')\n",
    "plot(x,fon(x,c,d,alpha,p),c='g',label='$p=$'+str(p))\n",
    "plot(x,x,'k--')\n",
    "legend()\n",
    "ax=gca()\n",
    "xlabel('$x$')\n",
    "ylabel('$pF_1(x)$')\n",
    "tight_layout()\n",
    "#savefig('../numerical_curve/perturbed.pdf')"
   ]
  },
  {
   "cell_type": "code",
   "execution_count": 10,
   "metadata": {},
   "outputs": [
    {
     "data": {
      "image/png": "[encoded data removed]",
      "text/plain": [
       "<Figure size 244.08x150.85 with 1 Axes>"
      ]
     },
     "metadata": {
      "needs_background": "light"
     },
     "output_type": "display_data"
    }
   ],
   "source": [
    "latexify.latexify(columns=2)\n",
    "c=1\n",
    "d=3\n",
    "alpha=1\n",
    "p=0.9\n",
    "x=linspace(0,1)\n",
    "plot(x,foff(x,c,d,alpha,0),':',label='un-pert')\n",
    "plot(x,foff(x,c,d,alpha,1-p),'g',label='pert')\n",
    "plot(x,x,'k--')\n",
    "legend()\n",
    "xlabel('x')\n",
    "ylabel('F(x)')\n",
    "tight_layout()\n",
    "#savefig('../numerical_curve/perturbed1.pdf')"
   ]
  },
  {
   "cell_type": "code",
   "execution_count": 22,
   "metadata": {},
   "outputs": [
    {
     "name": "stdout",
     "output_type": "stream",
     "text": [
      "(75, 70, 2)\n"
     ]
    },
    {
     "data": {
      "text/plain": [
       "75"
      ]
     },
     "execution_count": 22,
     "metadata": {},
     "output_type": "execute_result"
    }
   ],
   "source": [
    "print(shape(data_on))\n",
    "len(ds)\n",
    "#cs[i]"
   ]
  },
  {
   "cell_type": "code",
   "execution_count": 200,
   "metadata": {},
   "outputs": [
    {
     "name": "stdout",
     "output_type": "stream",
     "text": [
      "4.3505797101449275\n"
     ]
    },
    {
     "data": {
      "image/png": "[encoded data removed]",
      "text/plain": [
       "<Figure size 244.08x150.85 with 1 Axes>"
      ]
     },
     "metadata": {
      "needs_background": "light"
     },
     "output_type": "display_data"
    }
   ],
   "source": [
    "\n",
    "plot(ds+1,data_on[:,i,0],\"o\",c=\"g\",mfc=\"w\",label=\"perc.\")\n",
    "plot(ds+1,data_off[:,i,0],\"*\",c=\"r\",mfc=\"w\",label=\"non-perc.\")\n",
    "\n",
    "axvline(on.d_thr[argmin((on.c_thr-cs[i])**2)]+1,c=\"g\",ls=\"--\")\n",
    "axvline(off.d_thr[argmin((off.c_thr-cs[i])**2)]+1,c=\"r\",ls=\"--\")\n",
    "print(cs[i])\n",
    "#legend(fontsize=12)\n",
    "xlabel('$\\\\langle c ^\\mathrm{in}\\\\rangle$',fontsize=13)\n",
    "ylabel(\"$g$\",fontsize=13)\n",
    "tight_layout()\n",
    "#savefig(\"slice.pdf\")\n"
   ]
  },
  {
   "cell_type": "code",
   "execution_count": 33,
   "metadata": {},
   "outputs": [
    {
     "data": {
      "text/plain": [
       "(500, 40, 2)"
      ]
     },
     "execution_count": 33,
     "metadata": {},
     "output_type": "execute_result"
    }
   ],
   "source": [
    "len(ds)\n",
    "shape(data_on)"
   ]
  },
  {
   "cell_type": "markdown",
   "metadata": {},
   "source": [
    "### The code below produces the same simulation in Jupyter"
   ]
  },
  {
   "cell_type": "code",
   "execution_count": 71,
   "metadata": {},
   "outputs": [],
   "source": [
    "def percolation(ds,cs,N1=10000,N2=10000,genes_initially_on=True,N_iter=20):\n",
    "    if genes_initially_on:\n",
    "        n_start=scipy.sparse.random(1,N1,density=1-10/N2)\n",
    "    else:\n",
    "        n_start=scipy.sparse.random(1,N1,density=0.01)\n",
    "    n_start.data[:] = 1 # turn on the genes accordingly to the specified protocol\n",
    "    data=[]\n",
    "    for d in ds:\n",
    "        for c in cs:\n",
    "            n,m=dynamics_light(N1,N2,d,c,N_iter,n_start)\n",
    "            data+=[[n,m]]\n",
    "    data=reshape(data,(len(ds),len(cs),2))\n",
    "    return data\n",
    "def percolation_parallel(ds,cs,N1=10000,N2=10000,TFs_initially_on=True,N_iter=100,perc_fraction=0.99):\n",
    "    pool=Pool()\n",
    "    if TFs_initially_on:\n",
    "        m_start=scipy.sparse.random(1,N2,density=perc_fraction)\n",
    "    else:\n",
    "        m_start=scipy.sparse.random(1,N2,density=1-perc_fraction)\n",
    "    m_start.data[:] = 1 # turn on the genes accordingly to the specified protocol\n",
    "    data=pool.starmap(dynamics_light_perc,itertools.product([N1],[N2],ds,cs,[N_iter],[m_start],[TFs_initially_on]))\n",
    "    data=reshape(data,(len(ds),len(cs),2))\n",
    "    pool.close()\n",
    "    return data\n",
    "def initialise_genes(m_start,xi):\n",
    "    n=scipy.sparse.csr_matrix(m_start)*xi\n",
    "    n=where(n.toarray()>0,1,0)\n",
    "    n=scipy.sparse.csr_matrix(n)\n",
    "    return  n\n",
    "def dynamics_light(N1,N2,d,c,N_iter,m_start):\n",
    "    '''It does not store the entire trajectory, but only the manetisation in the final state'''\n",
    "    def time_step(n):\n",
    "        m=where((n*eta!=in_deg).toarray(),0,1)\n",
    "        n=scipy.sparse.csr_matrix(m)*xi\n",
    "        n=where(n.toarray()>0,1,0)\n",
    "        n=scipy.sparse.csr_matrix(n)\n",
    "        return n,m # it is in the array format\n",
    "    Genes = arange(0,N1)\n",
    "    TFs = arange(N1,N1+N2)\n",
    "    _,F=create_bipartite(N1,N2,d,c)\n",
    "    eta=bipartite.biadjacency_matrix(F,Genes)#from genes  to TF\n",
    "    xi=bipartite.biadjacency_matrix(F,TFs)#from  TF to  genes\n",
    "    in_deg=scipy.sparse.csr_matrix(list(dict(F.in_degree(TFs)).values()))\n",
    "    t=0\n",
    "    n=initialise_genes(m_start,xi)\n",
    "    while t< N_iter:\n",
    "        n,m=time_step(n)\n",
    "        t+=1\n",
    "    return mean(n.toarray()),mean(m)\n",
    "def dynamics_light_perc(N1,N2,d,c,N_iter,m_start,TFs_initially_on):\n",
    "    '''It enforce initial nodes to remain off '''\n",
    "    def time_step_on(n):\n",
    "        m=where((n*eta!=in_deg).toarray(),0,1)\n",
    "        m[0][m_start==0]=0# enforce elimination constrain of TF initially eliminated\n",
    "        n=scipy.sparse.csr_matrix(m)*xi\n",
    "        n=where(n.toarray()>0,1,0)\n",
    "        n=scipy.sparse.csr_matrix(n)\n",
    "        return n,m # it is in the array format\n",
    "    def time_step_off(n):\n",
    "        m=where((n*eta!=in_deg).toarray(),0,1)\n",
    "        m[0][m_start==1]=1# enforce retain of TF initially activated\n",
    "        n=scipy.sparse.csr_matrix(m)*xi\n",
    "        n=where(n.toarray()>0,1,0)\n",
    "        n=scipy.sparse.csr_matrix(n)\n",
    "        return n,m # it is in the array format\n",
    "    Genes = arange(0,N1)\n",
    "    TFs = arange(N1,N1+N2)\n",
    "    _,F=create_bipartite(N1,N2,d,c)\n",
    "    eta=bipartite.biadjacency_matrix(F,Genes)#from genes  to TF\n",
    "    xi=bipartite.biadjacency_matrix(F,TFs)#from  TF to  genes\n",
    "    in_deg=scipy.sparse.csr_matrix(list(dict(F.in_degree(TFs)).values()))\n",
    "    t=0\n",
    "    n=initialise_genes(m_start,xi)\n",
    "    m_start=m_start.toarray()[0]\n",
    "    if TFs_initially_on:\n",
    "        time_step=time_step_on\n",
    "    else:\n",
    "        time_step=time_step_off\n",
    "    while t< N_iter:\n",
    "        n,m=time_step(n)\n",
    "        t+=1\n",
    "    return mean(n.toarray()),mean(m)\n"
   ]
  },
  {
   "cell_type": "markdown",
   "metadata": {},
   "source": [
    "Load average over many realsiation"
   ]
  },
  {
   "cell_type": "code",
   "execution_count": 28,
   "metadata": {},
   "outputs": [
    {
     "name": "stdout",
     "output_type": "stream",
     "text": [
      "./dic-magnetisation_perc.pkl\n"
     ]
    }
   ],
   "source": [
    "dic=load_obj(\"magnetisation_perc\")\n",
    "dic.keys()\n",
    "ds=dic[\"ds\"]\n",
    "c=dic[\"c\"]\n",
    "N1=dic[\"N1\"]\n",
    "N2=dic[\"N2\"]\n",
    "data_on=array(dic[\"data_on\"])\n",
    "data_off=array(dic[\"data_off\"])\n",
    "alpha=N2/N1"
   ]
  },
  {
   "cell_type": "code",
   "execution_count": 29,
   "metadata": {},
   "outputs": [
    {
     "ename": "NameError",
     "evalue": "name 'd_critical' is not defined",
     "output_type": "error",
     "traceback": [
      "\u001b[0;31m---------------------------------------------------------------------------\u001b[0m",
      "\u001b[0;31mNameError\u001b[0m                                 Traceback (most recent call last)",
      "\u001b[0;32m<ipython-input-29-fb6a42395bbc>\u001b[0m in \u001b[0;36m<module>\u001b[0;34m()\u001b[0m\n\u001b[1;32m      1\u001b[0m \u001b[0mshape\u001b[0m\u001b[0;34m(\u001b[0m\u001b[0mdata_on\u001b[0m\u001b[0;34m)\u001b[0m\u001b[0;34m\u001b[0m\u001b[0m\n\u001b[1;32m      2\u001b[0m \u001b[0mplot\u001b[0m\u001b[0;34m(\u001b[0m\u001b[0mds\u001b[0m\u001b[0;34m,\u001b[0m\u001b[0mdata_on\u001b[0m\u001b[0;34m[\u001b[0m\u001b[0;34m:\u001b[0m\u001b[0;34m,\u001b[0m\u001b[0;34m:\u001b[0m\u001b[0;34m,\u001b[0m\u001b[0;36m0\u001b[0m\u001b[0;34m]\u001b[0m\u001b[0;34m.\u001b[0m\u001b[0mT\u001b[0m\u001b[0;34m,\u001b[0m\u001b[0;34m\".\"\u001b[0m\u001b[0;34m)\u001b[0m\u001b[0;34m\u001b[0m\u001b[0m\n\u001b[0;32m----> 3\u001b[0;31m \u001b[0maxvline\u001b[0m\u001b[0;34m(\u001b[0m\u001b[0md_critical\u001b[0m\u001b[0;34m(\u001b[0m\u001b[0mlinspace\u001b[0m\u001b[0;34m(\u001b[0m\u001b[0mmin\u001b[0m\u001b[0;34m(\u001b[0m\u001b[0mds\u001b[0m\u001b[0;34m)\u001b[0m\u001b[0;34m,\u001b[0m\u001b[0mmax\u001b[0m\u001b[0;34m(\u001b[0m\u001b[0mds\u001b[0m\u001b[0;34m)\u001b[0m\u001b[0;34m,\u001b[0m\u001b[0;36m100\u001b[0m\u001b[0;34m)\u001b[0m\u001b[0;34m,\u001b[0m\u001b[0mc\u001b[0m\u001b[0;34m,\u001b[0m\u001b[0malpha\u001b[0m\u001b[0;34m,\u001b[0m\u001b[0;36m0.99\u001b[0m\u001b[0;34m,\u001b[0m\u001b[0mup\u001b[0m\u001b[0;34m=\u001b[0m\u001b[0;32mTrue\u001b[0m\u001b[0;34m)\u001b[0m \u001b[0;34m,\u001b[0m\u001b[0mls\u001b[0m\u001b[0;34m=\u001b[0m\u001b[0;34m\"--\"\u001b[0m\u001b[0;34m)\u001b[0m\u001b[0;34m\u001b[0m\u001b[0m\n\u001b[0m\u001b[1;32m      4\u001b[0m \u001b[0mxlabel\u001b[0m\u001b[0;34m(\u001b[0m\u001b[0;34m\"d\"\u001b[0m\u001b[0;34m)\u001b[0m\u001b[0;34m\u001b[0m\u001b[0m\n\u001b[1;32m      5\u001b[0m \u001b[0mylabel\u001b[0m\u001b[0;34m(\u001b[0m\u001b[0;34m\"magnetisation\"\u001b[0m\u001b[0;34m)\u001b[0m\u001b[0;34m\u001b[0m\u001b[0m\n",
      "\u001b[0;31mNameError\u001b[0m: name 'd_critical' is not defined"
     ]
    },
    {
     "data": {
      "image/png": "[encoded data removed]",
      "text/plain": [
       "<Figure size 244.08x150.85 with 1 Axes>"
      ]
     },
     "metadata": {
      "needs_background": "light"
     },
     "output_type": "display_data"
    }
   ],
   "source": [
    "shape(data_on)\n",
    "plot(ds,data_on[:,:,0].T,\".\")\n",
    "axvline(d_critical(linspace(min(ds),max(ds),100),c,alpha,0.99,up=True) ,ls=\"--\")\n",
    "xlabel(\"d\")\n",
    "ylabel(\"magnetisation\")"
   ]
  },
  {
   "cell_type": "code",
   "execution_count": 15,
   "metadata": {},
   "outputs": [],
   "source": [
    "data_on=[]\n",
    "for p in [0.8,0.85,0.9,0.95,0.99]:\n",
    "    data_on+=[squeeze(percolation_parallel(ds,cs,perc_fraction=p))]"
   ]
  },
  {
   "cell_type": "code",
   "execution_count": null,
   "metadata": {},
   "outputs": [],
   "source": []
  },
  {
   "cell_type": "code",
   "execution_count": 51,
   "metadata": {
    "scrolled": true
   },
   "outputs": [
    {
     "name": "stderr",
     "output_type": "stream",
     "text": [
      "/home/k1762355/anaconda3/lib/python3.7/site-packages/ipykernel_launcher.py:2: RuntimeWarning: invalid value encountered in multiply\n",
      "  \n"
     ]
    },
    {
     "data": {
      "text/plain": [
       "<matplotlib.legend.Legend at 0x7ff6184673c8>"
      ]
     },
     "execution_count": 51,
     "metadata": {},
     "output_type": "execute_result"
    },
    {
     "data": {
      "image/png": "[encoded data removed]",
      "text/plain": [
       "<Figure size 432x288 with 1 Axes>"
      ]
     },
     "metadata": {
      "needs_background": "light"
     },
     "output_type": "display_data"
    }
   ],
   "source": [
    "color=cm.rainbow(np.linspace(0,1,5))\n",
    "for i,p in enumerate([0.8,0.85,0.9,0.95,0.99]):    \n",
    "    plot(ds,array(data_on)[i,:,0],\"-o\",color=color[i])\n",
    "    axvline(d_critical(linspace(min(ds),max(ds),200),cs[0],1,p,up=True),color=color[i],label=str(p))\n",
    "legend()"
   ]
  },
  {
   "cell_type": "markdown",
   "metadata": {},
   "source": [
    "#### Averages over many realisations"
   ]
  },
  {
   "cell_type": "code",
   "execution_count": 74,
   "metadata": {},
   "outputs": [
    {
     "name": "stdout",
     "output_type": "stream",
     "text": [
      "0\n",
      "1\n",
      "2\n",
      "3\n",
      "4\n",
      "5\n",
      "6\n",
      "7\n",
      "8\n",
      "9\n",
      "10\n",
      "11\n",
      "12\n",
      "13\n",
      "14\n",
      "15\n",
      "16\n",
      "17\n",
      "18\n",
      "19\n",
      "20\n",
      "21\n",
      "22\n",
      "23\n",
      "24\n",
      "25\n",
      "26\n",
      "27\n",
      "28\n",
      "29\n",
      "30\n",
      "31\n",
      "32\n",
      "33\n",
      "34\n",
      "35\n",
      "36\n",
      "37\n",
      "38\n",
      "39\n",
      "40\n",
      "41\n",
      "42\n",
      "43\n",
      "44\n",
      "45\n",
      "46\n",
      "47\n",
      "48\n",
      "49\n",
      "50\n",
      "51\n",
      "52\n",
      "53\n",
      "54\n",
      "55\n",
      "56\n",
      "57\n",
      "58\n",
      "59\n",
      "60\n",
      "61\n",
      "62\n",
      "63\n",
      "64\n",
      "65\n",
      "66\n",
      "67\n",
      "68\n",
      "69\n",
      "70\n",
      "71\n",
      "72\n",
      "73\n",
      "74\n",
      "75\n",
      "76\n",
      "77\n",
      "78\n",
      "79\n",
      "80\n",
      "81\n",
      "82\n",
      "83\n",
      "84\n",
      "85\n",
      "86\n",
      "87\n",
      "88\n",
      "89\n",
      "90\n",
      "91\n",
      "92\n",
      "93\n",
      "94\n",
      "95\n",
      "96\n",
      "97\n",
      "98\n",
      "99\n"
     ]
    }
   ],
   "source": [
    "N2=10000\n",
    "ds=linspace(0.5,2,10)\n",
    "cs=[1]\n",
    "data_on=[]\n",
    "for i in range(100):\n",
    "    print(i)\n",
    "    data_on+=[squeeze(percolation_parallel(ds,cs,N1=10000,N2=10000,perc_fraction=0.99)[:,0])]"
   ]
  },
  {
   "cell_type": "code",
   "execution_count": 75,
   "metadata": {},
   "outputs": [
    {
     "name": "stderr",
     "output_type": "stream",
     "text": [
      "/home/k1762355/anaconda3/lib/python3.7/site-packages/ipykernel_launcher.py:3: RuntimeWarning: divide by zero encountered in log\n",
      "  This is separate from the ipykernel package so we can avoid doing imports until\n"
     ]
    },
    {
     "data": {
      "text/plain": [
       "<matplotlib.lines.Line2D at 0x7f970c176b00>"
      ]
     },
     "execution_count": 75,
     "metadata": {},
     "output_type": "execute_result"
    },
    {
     "data": {
      "image/png": "[encoded data removed]",
      "text/plain": [
       "<Figure size 432x288 with 1 Axes>"
      ]
     },
     "metadata": {
      "needs_background": "light"
     },
     "output_type": "display_data"
    },
    {
     "data": {
      "image/png": "[encoded data removed]",
      "text/plain": [
       "<Figure size 432x288 with 1 Axes>"
      ]
     },
     "metadata": {
      "needs_background": "light"
     },
     "output_type": "display_data"
    }
   ],
   "source": [
    "\n",
    "genes=transpose(data_on)[0,:]\n",
    "plot(ds,exp(mean(log(genes),axis=1)),\".\",lw=5)\n",
    "plot(ds,mean(genes,axis=1),\".\")\n",
    "axvline([d_critical(linspace(min(ds),max(ds),100),c,alpha,perc,up=True) for c in cs],ls=\"--\")\n",
    "figure()\n",
    "plot(ds,array(genes)[:,:20],\"o\")\n",
    "axvline([d_critical(linspace(min(ds),max(ds),100),c,alpha,perc,up=True) for c in cs])"
   ]
  },
  {
   "cell_type": "markdown",
   "metadata": {},
   "source": [
    "#### Average many realisation, different percolation levels"
   ]
  },
  {
   "cell_type": "code",
   "execution_count": 20,
   "metadata": {},
   "outputs": [],
   "source": [
    "N1=10000\n",
    "N2=N1\n",
    "ds=linspace(0.01,3,30)\n",
    "cs=[1]\n",
    "\n",
    "percs=[0.85,0.9,0.95,0.99,0.999]\n",
    "data=[]\n",
    "for p in percs:\n",
    "    data_on=[]\n",
    "    for i in range(100):\n",
    "        data_on+=[squeeze(percolation_parallel(ds,cs,perc_fraction=p)[:,0])]\n",
    "    genes=transpose(data_on)[0,:]\n",
    "    data+=[genes]"
   ]
  },
  {
   "cell_type": "code",
   "execution_count": 94,
   "metadata": {},
   "outputs": [],
   "source": [
    "dic={\"N1\":N1,\"N2\":N2,\"ds\":ds,\"c\":cs[0],\"percs\":percs,\"data\":data,\"descr\":\"data contains averaged magnetisation only for genes. data has shape: (len(percs),len(ds), N_repetition). Please average over N_repetition. \"}\n",
    "save_obj(dic,\"perc_multiple\")"
   ]
  },
  {
   "cell_type": "markdown",
   "metadata": {},
   "source": [
    "Take the average only over the second axis, i.e. the averaged vector should have dimensions $(5,30)$, try to run the line below"
   ]
  },
  {
   "cell_type": "code",
   "execution_count": 43,
   "metadata": {},
   "outputs": [
    {
     "name": "stderr",
     "output_type": "stream",
     "text": [
      "/home/k1762355/anaconda3/lib/python3.7/site-packages/ipykernel_launcher.py:4: RuntimeWarning: divide by zero encountered in log\n",
      "  after removing the cwd from sys.path.\n"
     ]
    },
    {
     "data": {
      "text/plain": [
       "<matplotlib.legend.Legend at 0x7f970f3dfa58>"
      ]
     },
     "execution_count": 43,
     "metadata": {},
     "output_type": "execute_result"
    },
    {
     "data": {
      "image/png": "[encoded data removed]",
      "text/plain": [
       "<Figure size 432x288 with 1 Axes>"
      ]
     },
     "metadata": {
      "needs_background": "light"
     },
     "output_type": "display_data"
    }
   ],
   "source": [
    "color=cm.rainbow(np.linspace(0,1,5))\n",
    "for i,p in enumerate(percs):\n",
    "    #axvline(d_critical(linspace(min(ds),max(ds),200),cs[0],1,p,up=True),color=color[i],label=str(p))\n",
    "    plot(ds,array([exp(mean(log(genes),axis=1)) for genes in data])[i,:],\"--o\",lw=2,color=color[i],label=str(p))\n",
    "    plot(ds,array([mean(genes,axis=1) for genes in data])[i,:],\"s\",ms=3,lw=5,color=color[i],label=str(p))\n",
    "legend()\n"
   ]
  },
  {
   "cell_type": "code",
   "execution_count": 22,
   "metadata": {},
   "outputs": [
    {
     "name": "stderr",
     "output_type": "stream",
     "text": [
      "No handles with labels found to put in legend.\n"
     ]
    },
    {
     "data": {
      "text/plain": [
       "<matplotlib.legend.Legend at 0x7f970fec5438>"
      ]
     },
     "execution_count": 22,
     "metadata": {},
     "output_type": "execute_result"
    },
    {
     "data": {
      "image/png": "[encoded data removed]",
      "text/plain": [
       "<Figure size 432x288 with 1 Axes>"
      ]
     },
     "metadata": {
      "needs_background": "light"
     },
     "output_type": "display_data"
    }
   ],
   "source": [
    "ds=linspace(0.01,3,30)\n",
    "color=cm.rainbow(np.linspace(0,1,5))\n",
    "for i,p in enumerate(percs):\n",
    "    plot(ds,array([mean(genes,axis=1) for genes in data])[i,:],color=color[i],lw=2)\n",
    "    #axvline(d_critical(linspace(min(ds),max(ds),200),cs[0],1,p,up=True),color=color[i],label=str(p))\n",
    "legend()"
   ]
  },
  {
   "cell_type": "code",
   "execution_count": 93,
   "metadata": {},
   "outputs": [
    {
     "data": {
      "text/plain": [
       "(5, 30, 100)"
      ]
     },
     "execution_count": 93,
     "metadata": {},
     "output_type": "execute_result"
    }
   ],
   "source": [
    "shape(data)"
   ]
  },
  {
   "cell_type": "code",
   "execution_count": 88,
   "metadata": {},
   "outputs": [
    {
     "name": "stderr",
     "output_type": "stream",
     "text": [
      "/home/k1762355/anaconda3/lib/python3.7/site-packages/ipykernel_launcher.py:2: RuntimeWarning: invalid value encountered in multiply\n",
      "  \n"
     ]
    },
    {
     "data": {
      "text/plain": [
       "[<matplotlib.lines.Line2D at 0x7fb239aee6a0>]"
      ]
     },
     "execution_count": 88,
     "metadata": {},
     "output_type": "execute_result"
    },
    {
     "data": {
      "image/png": "[encoded data removed]",
      "text/plain": [
       "<Figure size 432x288 with 1 Axes>"
      ]
     },
     "metadata": {
      "needs_background": "light"
     },
     "output_type": "display_data"
    }
   ],
   "source": [
    "plot(ds,array([mean(genes,axis=1) for genes in data])[-1,:],color=color[i],lw=2)\n",
    "x,num,status=d_critical(linspace(min(ds),max(ds),200),cs[0],1,percs[-1],up=True)\n",
    "plot(x[status&(num<1)&(num>=0)],num[status&(num<1)&(num>=0)],\".\")"
   ]
  },
  {
   "cell_type": "code",
   "execution_count": 177,
   "metadata": {},
   "outputs": [
    {
     "data": {
      "text/plain": [
       "<matplotlib.image.AxesImage at 0x7f7fe162c5f8>"
      ]
     },
     "execution_count": 177,
     "metadata": {},
     "output_type": "execute_result"
    },
    {
     "data": {
      "image/png": "[encoded data removed]",
      "text/plain": [
       "<Figure size 244.08x150.85 with 1 Axes>"
      ]
     },
     "metadata": {
      "needs_background": "light"
     },
     "output_type": "display_data"
    }
   ],
   "source": [
    "imshow(off.gene_cavity_tb)"
   ]
  },
  {
   "cell_type": "markdown",
   "metadata": {},
   "source": [
    "## Initialisation"
   ]
  },
  {
   "cell_type": "code",
   "execution_count": 141,
   "metadata": {},
   "outputs": [
    {
     "name": "stdout",
     "output_type": "stream",
     "text": [
      "the number of non zero elements is:10\n"
     ]
    }
   ],
   "source": [
    "T=0\n",
    "time=0\n",
    "n_start=scipy.sparse.random(1,N1,density=10/N1)\n",
    "n_start.data[:] = 1\n",
    "N_iterations=20\n",
    "print(\"the number of non zero elements is:\"+str(count_nonzero(n_start.data)))\n",
    "\n"
   ]
  },
  {
   "cell_type": "code",
   "execution_count": 5,
   "metadata": {},
   "outputs": [],
   "source": [
    "n_start.toarray()\n",
    "n=n_start"
   ]
  },
  {
   "cell_type": "code",
   "execution_count": 20,
   "metadata": {},
   "outputs": [],
   "source": [
    "N1=1000\n",
    "N2=N1\n",
    "d=1\n",
    "c=1\n",
    "Genes = arange(0,N1)\n",
    "TFs = arange(N1,N1+N2)\n",
    "_,F=create_bipartite(N1,N2,d,c)\n",
    "eta=bipartite.biadjacency_matrix(F,Genes)#from genes  to TF\n",
    "xi=bipartite.biadjacency_matrix(F,TFs)#from  TF to  genes\n",
    "in_deg=scipy.sparse.csr_matrix(list(dict(F.in_degree(TFs)).values()))\n",
    "m_start=scipy.sparse.random(1,N2,density=.99)"
   ]
  },
  {
   "cell_type": "code",
   "execution_count": 51,
   "metadata": {},
   "outputs": [],
   "source": [
    "m_start\n",
    "m_start.data[:] = 1 # turn on the genes accordingly to the specified protocol\n",
    "n=scipy.sparse.csr_matrix(m_start)*xi\n",
    "n=where(n.toarray()>0,1,0)\n",
    "n=scipy.sparse.csr_matrix(n)\n",
    "m=where((n*eta!=in_deg).toarray(),0,1)\n"
   ]
  },
  {
   "cell_type": "code",
   "execution_count": 52,
   "metadata": {},
   "outputs": [],
   "source": [
    "m[0][m_start.toarray()[0]==0]=0\n",
    "#m_start.toarray()==0"
   ]
  },
  {
   "cell_type": "code",
   "execution_count": 89,
   "metadata": {},
   "outputs": [],
   "source": [
    "def latexify(fig_width=None, fig_height=None, columns=1):\n",
    "    \"\"\"Set up matplotlib's RC params for LaTeX plotting.\n",
    "    Call this before plotting a figure.\n",
    "\n",
    "    Parameters\n",
    "    ----------\n",
    "    fig_width : float, optional, inches\n",
    "    fig_height : float,  optional, inches\n",
    "    columns : {1, 2}\n",
    "    \"\"\"\n",
    "\n",
    "    # code adapted from http://www.scipy.org/Cookbook/Matplotlib/LaTeX_Examples\n",
    "\n",
    "    # Width and max height in inches for IEEE journals taken from\n",
    "    # computer.org/cms/Computer.org/Journal%20templates/transactions_art_guide.pdf\n",
    "\n",
    "    assert(columns in [1,2])\n",
    "\n",
    "    if fig_width is None:\n",
    "        fig_width = 3.39 if columns==1 else 6.9 # width in inches\n",
    "\n",
    "    if fig_height is None:\n",
    "        golden_mean = (sqrt(5)-1.0)/2.0    # Aesthetic ratio\n",
    "        fig_height = fig_width*golden_mean # height in inches\n",
    "\n",
    "    MAX_HEIGHT_INCHES = 8.0\n",
    "    if fig_height > MAX_HEIGHT_INCHES:\n",
    "        print(\"WARNING: fig_height too large:\" + fig_height + \n",
    "              \"so will reduce to\" + MAX_HEIGHT_INCHES + \"inches.\")\n",
    "        fig_height = MAX_HEIGHT_INCHES\n",
    "\n",
    "    params = {'backend': 'ps',\n",
    "              'text.latex.preamble': [r'\\usepackage{gensymb}'],\n",
    "              'axes.labelsize': 8, # fontsize for x and y labels (was 10)\n",
    "              'axes.titlesize': 8,\n",
    "              'font.size': 8, # was 10\n",
    "              'legend.fontsize': 8, # was 10\n",
    "              'xtick.labelsize': 8,\n",
    "              'ytick.labelsize': 8,\n",
    "              'text.usetex': True,\n",
    "              'figure.figsize': [fig_width,fig_height],\n",
    "              'font.family': 'serif'\n",
    "    }\n",
    "\n",
    "    matplotlib.rcParams.update(params)\n",
    "\n",
    "\n",
    "def format_axes(ax):\n",
    "\n",
    "    for spine in ['top', 'right']:\n",
    "        ax.spines[spine].set_visible(False)\n",
    "\n",
    "    for spine in ['left', 'bottom']:\n",
    "        ax.spines[spine].set_color(SPINE_COLOR)\n",
    "        ax.spines[spine].set_linewidth(0.5)\n",
    "\n",
    "    ax.xaxis.set_ticks_position('bottom')\n",
    "    ax.yaxis.set_ticks_position('left')\n",
    "\n",
    "    for axis in [ax.xaxis, ax.yaxis]:\n",
    "        axis.set_tick_params(direction='out', color=SPINE_COLOR)\n",
    "\n",
    "    return ax"
   ]
  },
  {
   "cell_type": "code",
   "execution_count": 90,
   "metadata": {},
   "outputs": [],
   "source": [
    "latexify()"
   ]
  },
  {
   "cell_type": "code",
   "execution_count": 86,
   "metadata": {},
   "outputs": [],
   "source": []
  },
  {
   "cell_type": "code",
   "execution_count": 110,
   "metadata": {},
   "outputs": [
    {
     "data": {
      "text/plain": [
       "[<matplotlib.lines.Line2D at 0x7f64401cf668>]"
      ]
     },
     "execution_count": 110,
     "metadata": {},
     "output_type": "execute_result"
    },
    {
     "data": {
      "image/png": "[encoded data removed]",
      "text/plain": [
       "<Figure size 432x288 with 2 Axes>"
      ]
     },
     "metadata": {
      "needs_background": "light"
     },
     "output_type": "display_data"
    }
   ],
   "source": [
    "ax=sns.heatmap(num_cavity)\n",
    "xlabel(\"\")\n",
    "ax.invert_yaxis()\n",
    "xlabel(\"c\")\n",
    "ylabel(\"d\")\n",
    "plot(c,d,\"m.\")"
   ]
  },
  {
   "cell_type": "code",
   "execution_count": 99,
   "metadata": {},
   "outputs": [],
   "source": [
    "theory_line=[(col,min(num_cavity[col].index[num_cavity[col]==3])) for col in num_cavity.columns if any(num_cavity[col]==3)]#list of (c,d) where transition happens\n",
    "#any(num_cavity.values.T[20]==3)"
   ]
  },
  {
   "cell_type": "code",
   "execution_count": 122,
   "metadata": {},
   "outputs": [
    {
     "data": {
      "text/plain": [
       "array([0.12, 0.18, 0.19, 0.2 , 0.21, 0.22, 0.23, 0.24, 0.25, 0.26, 0.27,\n",
       "       0.28, 0.29, 0.3 , 0.31, 0.32, 0.33, 0.34, 0.35, 0.36, 0.37, 0.38,\n",
       "       0.39, 0.4 , 0.41, 0.42, 0.43, 0.44, 0.45, 0.46, 0.47, 0.48, 0.49,\n",
       "       0.5 , 0.51, 0.52, 0.53, 0.54, 0.55, 0.56, 0.57, 0.58, 0.59, 0.6 ,\n",
       "       0.61, 0.62, 0.63, 0.64, 0.65, 0.66, 0.67, 0.68, 0.69, 0.7 , 0.71,\n",
       "       0.72, 0.73, 0.74, 0.75, 0.76, 0.77, 0.78, 0.79, 0.8 , 0.81, 0.82,\n",
       "       0.83, 0.84, 0.85, 0.86, 0.87, 0.88, 0.89, 0.9 , 0.91, 0.92, 0.93,\n",
       "       0.94, 0.95, 0.96, 0.97, 0.98, 0.99, 1.  , 1.01, 1.02, 1.03, 1.04,\n",
       "       1.05, 1.06, 1.07, 1.08, 1.09, 1.1 , 1.11, 1.12, 1.13, 1.14, 1.15,\n",
       "       1.16, 1.17, 1.18, 1.19, 1.2 , 1.21, 1.22, 1.23, 1.24, 1.25, 1.26,\n",
       "       1.27, 1.28, 1.29, 1.3 , 1.31, 1.32, 1.33, 1.34, 1.35, 1.36, 1.37,\n",
       "       1.38, 1.39, 1.4 , 1.41, 1.42, 1.43, 1.44, 1.45, 1.46, 1.47, 1.48,\n",
       "       1.49, 1.5 , 1.51, 1.52, 1.53, 1.54, 1.55, 1.56, 1.57, 1.58, 1.59,\n",
       "       1.6 , 1.61, 1.62, 1.63, 1.64, 1.65, 1.66, 1.67, 1.68, 1.69, 1.7 ,\n",
       "       1.71, 1.72, 1.73, 1.74, 1.75, 1.76, 1.77, 1.78, 1.79, 1.8 , 1.81,\n",
       "       1.82, 1.83, 1.84, 1.85, 1.86, 1.87, 1.88, 1.89, 1.9 , 1.91, 1.92,\n",
       "       1.93, 1.94, 1.95, 1.96, 1.97, 1.98, 1.99, 2.  , 2.01, 2.02, 2.03,\n",
       "       2.04, 2.05, 2.06, 2.07, 2.08, 2.09, 2.1 , 2.11, 2.12, 2.13, 2.14,\n",
       "       2.15, 2.16, 2.17, 2.18, 2.19, 2.2 , 2.21, 2.22, 2.23, 2.24, 2.25,\n",
       "       2.26, 2.27, 2.28, 2.29, 2.3 , 2.31, 2.32, 2.33, 2.34, 2.35, 2.36,\n",
       "       2.37, 2.38, 2.39, 2.4 , 2.41, 2.42, 2.43, 2.44, 2.45, 2.46, 2.47,\n",
       "       2.48, 2.49, 2.5 , 2.51, 2.52, 2.53, 2.54, 2.55, 2.56, 2.57, 2.58,\n",
       "       2.59, 2.6 , 2.61, 2.62, 2.63, 2.64, 2.65, 2.66, 2.67, 2.68, 2.69,\n",
       "       2.7 , 2.71, 2.72, 2.73, 2.74, 2.75, 2.76, 2.77, 2.78, 2.79, 2.8 ,\n",
       "       2.81, 2.82, 2.83, 2.84, 2.85, 2.86, 2.87, 2.88, 2.89, 2.9 , 2.91,\n",
       "       2.92, 2.93, 2.94, 2.95, 2.96, 2.97, 2.98, 2.99, 3.  , 3.01, 3.02,\n",
       "       3.03, 3.04, 3.05, 3.06, 3.07, 3.08, 3.09, 3.1 , 3.11, 3.12, 3.13,\n",
       "       3.14, 3.15, 3.16, 3.17, 3.18, 3.19, 3.2 , 3.21, 3.22, 3.23, 3.24,\n",
       "       3.25, 3.26, 3.27, 3.28, 3.29, 3.3 , 3.31, 3.32, 3.33, 3.34, 3.35,\n",
       "       3.36, 3.37, 3.38, 3.39, 3.4 , 3.41, 3.42, 3.43, 3.44, 3.45, 3.46,\n",
       "       3.47, 3.48, 3.49, 3.5 , 3.51, 3.52, 3.53, 3.54, 3.55, 3.56, 3.57,\n",
       "       3.58, 3.59, 3.6 , 3.61, 3.62, 3.63, 3.64, 3.65, 3.66, 3.67, 3.68,\n",
       "       3.69, 3.7 , 3.71, 3.72, 3.73, 3.74, 3.75, 3.76, 3.77, 3.78, 3.79,\n",
       "       3.8 , 3.81, 3.82, 3.83, 3.84, 3.85, 3.86, 3.87, 3.88, 3.89, 3.9 ,\n",
       "       3.91, 3.92, 3.93, 3.94, 3.95, 3.96, 3.97, 3.98, 3.99, 4.  , 4.01,\n",
       "       4.02, 4.03, 4.04, 4.05, 4.06, 4.07, 4.08, 4.09, 4.1 , 4.11, 4.12,\n",
       "       4.13, 4.14, 4.15, 4.16, 4.17, 4.18, 4.19, 4.2 , 4.21, 4.22, 4.23,\n",
       "       4.24, 4.25, 4.26, 4.27, 4.28, 4.29, 4.3 , 4.31, 4.32, 4.33, 4.34,\n",
       "       4.35, 4.36, 4.37, 4.38, 4.39, 4.4 , 4.41, 4.42, 4.43, 4.44, 4.45,\n",
       "       4.46, 4.47, 4.48, 4.49, 4.5 , 4.51, 4.52, 4.53, 4.54, 4.55, 4.56,\n",
       "       4.57, 4.58, 4.59, 4.6 , 4.61, 4.62, 4.63, 4.64, 4.65, 4.66, 4.67,\n",
       "       4.68, 4.69, 4.7 , 4.71, 4.72, 4.73, 4.74, 4.75, 4.76, 4.77, 4.78,\n",
       "       4.79, 4.8 , 4.81, 4.82, 4.83, 4.84, 4.85, 4.86, 4.87, 4.88, 4.89,\n",
       "       4.9 , 4.91, 4.92, 4.93, 4.94, 4.95, 4.96, 4.97, 4.98, 4.99, 5.  ,\n",
       "       5.01, 5.02, 5.03, 5.04, 5.05, 5.06, 5.07, 5.08, 5.09, 5.1 , 5.11,\n",
       "       5.12, 5.13, 5.14, 5.15, 5.16, 5.17, 5.18, 5.19, 5.2 , 5.21, 5.22,\n",
       "       5.23, 5.24, 5.25, 5.26, 5.27, 5.28, 5.29, 5.3 , 5.31, 5.32, 5.33,\n",
       "       5.34, 5.35, 5.36, 5.37, 5.38, 5.39, 5.4 , 5.41, 5.42, 5.43, 5.44,\n",
       "       5.45, 5.46, 5.47, 5.48, 5.49, 5.5 , 5.51, 5.52, 5.53, 5.54, 5.55,\n",
       "       5.56, 5.57, 5.58, 5.59, 5.6 , 5.61, 5.62, 5.63, 5.64, 5.65, 5.66,\n",
       "       5.67, 5.68, 5.69, 5.7 , 5.71, 5.72, 5.73, 5.74, 5.75, 5.76, 5.77,\n",
       "       5.78, 5.79, 5.8 , 5.81, 5.82, 5.83, 5.84, 5.85, 5.86, 5.87, 5.88,\n",
       "       5.89, 5.9 , 5.91, 5.92, 5.93, 5.94, 5.95, 5.96, 5.97, 5.98, 5.99])"
      ]
     },
     "execution_count": 122,
     "metadata": {},
     "output_type": "execute_result"
    },
    {
     "data": {
      "image/png": "[encoded data removed]",
      "text/plain": [
       "<Figure size 432x288 with 1 Axes>"
      ]
     },
     "metadata": {
      "needs_background": "light"
     },
     "output_type": "display_data"
    }
   ],
   "source": [
    "c,d=zip(*theory_line)\n",
    "c=array(c)\n",
    "d=array(d)\n",
    "plot(c,d,\"m.\")\n",
    "c"
   ]
  },
  {
   "cell_type": "code",
   "execution_count": 24,
   "metadata": {},
   "outputs": [
    {
     "data": {
      "text/plain": [
       "[[0.01],\n",
       " [0.02],\n",
       " [0.03],\n",
       " [0.04],\n",
       " [0.05],\n",
       " [0.060000000000000005],\n",
       " [0.06999999999999999],\n",
       " [0.08],\n",
       " [0.09],\n",
       " [0.09999999999999999],\n",
       " [0.11],\n",
       " [0.12],\n",
       " [0.13],\n",
       " [0.14],\n",
       " [0.14],\n",
       " [0.15000000000000002],\n",
       " [0.16],\n",
       " [0.17],\n",
       " [0.18000000000000002],\n",
       " [0.19],\n",
       " [0.2],\n",
       " [0.21000000000000002],\n",
       " [0.22],\n",
       " [0.23],\n",
       " [0.24000000000000002],\n",
       " [0.25],\n",
       " [0.26],\n",
       " [0.27],\n",
       " [0.28],\n",
       " [0.29000000000000004],\n",
       " [0.3],\n",
       " [0.31],\n",
       " [0.32],\n",
       " [0.33],\n",
       " [0.34],\n",
       " [0.35000000000000003],\n",
       " [0.36000000000000004],\n",
       " [0.38],\n",
       " [0.39],\n",
       " [0.4],\n",
       " [0.41000000000000003],\n",
       " [0.42000000000000004],\n",
       " [0.43],\n",
       " [0.44],\n",
       " [0.45],\n",
       " [0.46],\n",
       " [0.48000000000000004],\n",
       " [0.49],\n",
       " [0.5],\n",
       " [0.51],\n",
       " [0.52],\n",
       " [0.54],\n",
       " [0.55],\n",
       " [0.56],\n",
       " [0.5700000000000001],\n",
       " [0.5800000000000001],\n",
       " [0.6],\n",
       " [0.61],\n",
       " [0.62],\n",
       " [0.63],\n",
       " [0.65],\n",
       " [0.66],\n",
       " [0.67],\n",
       " [0.6900000000000001],\n",
       " [0.7000000000000001],\n",
       " [0.7100000000000001],\n",
       " [0.73],\n",
       " [0.74],\n",
       " [0.75],\n",
       " [0.77],\n",
       " [0.78],\n",
       " [0.79],\n",
       " [0.81],\n",
       " [0.8200000000000001],\n",
       " [0.8300000000000001],\n",
       " [0.85],\n",
       " [0.86],\n",
       " [0.88],\n",
       " [0.89],\n",
       " [0.91],\n",
       " [0.92],\n",
       " [0.9400000000000001],\n",
       " [0.9500000000000001],\n",
       " [0.97],\n",
       " [0.98],\n",
       " [1.0],\n",
       " [1.01],\n",
       " [1.03],\n",
       " [1.04],\n",
       " [1.06],\n",
       " [1.07],\n",
       " [1.09],\n",
       " [1.1],\n",
       " [1.12],\n",
       " [1.1400000000000001],\n",
       " [1.1500000000000001],\n",
       " [1.17],\n",
       " [1.18],\n",
       " [1.2],\n",
       " [1.22],\n",
       " [1.23],\n",
       " [1.25],\n",
       " [1.27],\n",
       " [1.28],\n",
       " [1.3],\n",
       " [1.32],\n",
       " [1.34],\n",
       " [1.35],\n",
       " [1.37],\n",
       " [1.3900000000000001],\n",
       " [1.4100000000000001],\n",
       " [1.42],\n",
       " [1.44],\n",
       " [1.46],\n",
       " [1.48],\n",
       " [1.5],\n",
       " [1.51],\n",
       " [1.53],\n",
       " [1.55],\n",
       " [1.57],\n",
       " [1.59],\n",
       " [1.61],\n",
       " [1.6300000000000001],\n",
       " [1.6400000000000001],\n",
       " [1.6600000000000001],\n",
       " [1.68],\n",
       " [1.7],\n",
       " [1.72],\n",
       " [1.74],\n",
       " [1.76],\n",
       " [1.78],\n",
       " [1.8],\n",
       " [1.82],\n",
       " [1.84],\n",
       " [1.86],\n",
       " [1.8800000000000001],\n",
       " [1.9000000000000001],\n",
       " [1.9200000000000002],\n",
       " [1.94],\n",
       " [1.97],\n",
       " [1.99],\n",
       " [2.01],\n",
       " [2.03],\n",
       " [2.05],\n",
       " [2.07],\n",
       " [2.09],\n",
       " [2.1199999999999997],\n",
       " [2.1399999999999997],\n",
       " [2.1599999999999997],\n",
       " [2.1799999999999997],\n",
       " [2.1999999999999997],\n",
       " [2.23],\n",
       " [2.25],\n",
       " [2.27],\n",
       " [2.29],\n",
       " [2.32],\n",
       " [2.34],\n",
       " [2.36],\n",
       " [2.3899999999999997],\n",
       " [2.4099999999999997],\n",
       " [2.4299999999999997],\n",
       " [2.46],\n",
       " [2.48],\n",
       " [2.51],\n",
       " [2.53],\n",
       " [2.55],\n",
       " [2.5799999999999996],\n",
       " [2.5999999999999996],\n",
       " [2.63],\n",
       " [2.65],\n",
       " [2.6799999999999997],\n",
       " [2.6999999999999997],\n",
       " [2.73],\n",
       " [2.75],\n",
       " [2.78],\n",
       " [2.8],\n",
       " [2.8299999999999996],\n",
       " [2.8499999999999996],\n",
       " [2.88],\n",
       " [2.9099999999999997],\n",
       " [2.9299999999999997],\n",
       " [2.96],\n",
       " [2.98],\n",
       " [3.01],\n",
       " [3.04],\n",
       " [3.06],\n",
       " [3.09],\n",
       " [3.1199999999999997],\n",
       " [3.15],\n",
       " [3.17],\n",
       " [3.1999999999999997],\n",
       " [3.23],\n",
       " [3.26],\n",
       " [3.28],\n",
       " [3.31],\n",
       " [3.34],\n",
       " [3.3699999999999997],\n",
       " [3.4],\n",
       " [3.42],\n",
       " [3.4499999999999997],\n",
       " [3.48],\n",
       " [3.51],\n",
       " [3.54],\n",
       " [3.57],\n",
       " [3.5999999999999996],\n",
       " [3.63],\n",
       " [3.6599999999999997],\n",
       " [3.69],\n",
       " [3.7199999999999998],\n",
       " [3.75],\n",
       " [3.78],\n",
       " [3.81],\n",
       " [3.84],\n",
       " [3.8699999999999997],\n",
       " [3.9],\n",
       " [3.9299999999999997],\n",
       " [3.96],\n",
       " [3.9899999999999998],\n",
       " [4.02],\n",
       " [4.06],\n",
       " [4.09],\n",
       " [4.12],\n",
       " [4.1499999999999995],\n",
       " [4.18],\n",
       " [4.21],\n",
       " [4.25],\n",
       " [4.28],\n",
       " [4.31],\n",
       " [4.34],\n",
       " [4.38],\n",
       " [4.41],\n",
       " [4.4399999999999995],\n",
       " [4.4799999999999995],\n",
       " [4.51],\n",
       " [4.54],\n",
       " [4.58],\n",
       " [4.61],\n",
       " [4.64],\n",
       " [4.68],\n",
       " [4.71],\n",
       " [4.75],\n",
       " [4.78],\n",
       " [4.82],\n",
       " [4.85],\n",
       " [4.89],\n",
       " [4.92],\n",
       " [4.96],\n",
       " [4.99],\n",
       " [5.03],\n",
       " [5.06],\n",
       " [5.1],\n",
       " [5.13],\n",
       " [5.17],\n",
       " [5.21],\n",
       " [5.24],\n",
       " [5.28],\n",
       " [5.32],\n",
       " [5.35],\n",
       " [5.39],\n",
       " [5.43],\n",
       " [5.46],\n",
       " [5.5],\n",
       " [5.54],\n",
       " [5.58],\n",
       " [5.61],\n",
       " [5.6499999999999995],\n",
       " [5.6899999999999995],\n",
       " [5.7299999999999995],\n",
       " [5.76],\n",
       " [5.8],\n",
       " [5.84],\n",
       " [5.88],\n",
       " [5.92],\n",
       " [5.96],\n",
       " [6.0]]"
      ]
     },
     "execution_count": 24,
     "metadata": {},
     "output_type": "execute_result"
    }
   ],
   "source": [
    "#[min(ds_cavity[x==2])]\n",
    "[[min(ds_cavity[row==1])] for row in num_cavity.iterco if any(row==1)]\n"
   ]
  },
  {
   "cell_type": "code",
   "execution_count": 46,
   "metadata": {},
   "outputs": [
    {
     "data": {
      "text/plain": [
       "c\n",
       "0.00    1\n",
       "0.01    2\n",
       "0.02    2\n",
       "0.03    2\n",
       "0.04    2\n",
       "0.05    2\n",
       "0.06    2\n",
       "0.07    2\n",
       "0.08    2\n",
       "0.09    2\n",
       "0.10    2\n",
       "0.11    2\n",
       "0.12    2\n",
       "0.13    2\n",
       "0.14    2\n",
       "0.15    2\n",
       "0.16    2\n",
       "0.17    2\n",
       "0.18    2\n",
       "0.19    2\n",
       "0.20    2\n",
       "0.21    2\n",
       "0.22    2\n",
       "0.23    2\n",
       "0.24    2\n",
       "0.25    2\n",
       "0.26    2\n",
       "0.27    2\n",
       "0.28    2\n",
       "0.29    2\n",
       "       ..\n",
       "5.70    2\n",
       "5.71    2\n",
       "5.72    2\n",
       "5.73    2\n",
       "5.74    2\n",
       "5.75    2\n",
       "5.76    2\n",
       "5.77    2\n",
       "5.78    2\n",
       "5.79    2\n",
       "5.80    2\n",
       "5.81    2\n",
       "5.82    2\n",
       "5.83    2\n",
       "5.84    2\n",
       "5.85    2\n",
       "5.86    2\n",
       "5.87    2\n",
       "5.88    2\n",
       "5.89    2\n",
       "5.90    2\n",
       "5.91    2\n",
       "5.92    2\n",
       "5.93    2\n",
       "5.94    2\n",
       "5.95    2\n",
       "5.96    2\n",
       "5.97    2\n",
       "5.98    2\n",
       "5.99    2\n",
       "Name: 0.01, Length: 600, dtype: int64"
      ]
     },
     "execution_count": 46,
     "metadata": {},
     "output_type": "execute_result"
    }
   ],
   "source": [
    "num_cavity.iloc[:,0]"
   ]
  },
  {
   "cell_type": "markdown",
   "metadata": {},
   "source": [
    "## Dynamics"
   ]
  },
  {
   "cell_type": "code",
   "execution_count": 13,
   "metadata": {},
   "outputs": [],
   "source": [
    "def dynamics_light_perc(N1,N2,d,c,N_iter,n_start,Genes_initially_on):\n",
    "    '''It enforce initial nodes to remain off '''\n",
    "    def time_step_on(n):\n",
    "        m=np.where((n*eta!=in_deg).toarray(),0,1)\n",
    "        n=scipy.sparse.csr_matrix(m)*xi\n",
    "        n=np.where(n.toarray()>0,1,0)\n",
    "        n[0][n_start==0]=0# enforce elimination constrain of Genes initially eliminated\n",
    "        n=scipy.sparse.csr_matrix(n)\n",
    "        return n,m # it is in the array format\n",
    "    def time_step_off(n):\n",
    "        m=np.where((n*eta!=in_deg).toarray(),0,1)\n",
    "        n=scipy.sparse.csr_matrix(m)*xi\n",
    "        n=np.where(n.toarray()>0,1,0)\n",
    "        n[0][n_start==1]=1# enforce retain of Genes initially activated\n",
    "        n=scipy.sparse.csr_matrix(n)\n",
    "        return n,m # it is in the array format\n",
    "\n",
    "    Genes = arange(0,N1)\n",
    "    TFs = arange(N1,N1+N2)\n",
    "    _,F=create_bipartite(N1,N2,d,c)\n",
    "    eta=bipartite.biadjacency_matrix(F,Genes)#from genes  to TF\n",
    "    xi=bipartite.biadjacency_matrix(F,TFs)#from  TF to  genes\n",
    "    in_deg=scipy.sparse.csr_matrix(list(dict(F.in_degree(TFs)).values()))\n",
    "    t=0\n",
    "    n=n_start\n",
    "    n_start=n_start.toarray()[0]\n",
    "    if Genes_initially_on:\n",
    "        time_step=time_step_on\n",
    "    else:\n",
    "        time_step=time_step_off\n",
    "    while t< N_iter:\n",
    "        n_new,m=time_step(n)\n",
    "        if n_new.nnz==n.nnz:\n",
    "           if all(n_new.indices==n.indices):# exit if no improvements occur\n",
    "               return np.mean(n.toarray()), np.mean(m)\n",
    "        n=n_new\n",
    "        t+=1\n",
    "    return np.mean(n.toarray()),np.mean(m)"
   ]
  },
  {
   "cell_type": "code",
   "execution_count": 14,
   "metadata": {},
   "outputs": [],
   "source": [
    "def percolation_parallel(ds,cs,N1,N2,cores,Genes_initially_on=True,N_iter=1000,perc_fraction=0.99):\n",
    "    if cores < 1:\n",
    "        pool = Pool()\n",
    "    else:\n",
    "        pool = Pool(processes=cores)\n",
    "    if Genes_initially_on:\n",
    "        n_start=scipy.sparse.random(1,N1,density=perc_fraction)\n",
    "    else:\n",
    "        n_start=scipy.sparse.random(1,N1,density=1-perc_fraction)\n",
    "    n_start.data[:] = 1 # turn on the genes accordingly to the specified protocol\n",
    "    data=pool.starmap(dynamics_light_perc,itertools.product([N1],[N2],ds,cs,[N_iter],[n_start],[Genes_initially_on]))\n",
    "    data=reshape(data,(len(ds),len(cs),2))\n",
    "    pool.close()\n",
    "    return data"
   ]
  },
  {
   "cell_type": "code",
   "execution_count": 16,
   "metadata": {},
   "outputs": [
    {
     "data": {
      "text/plain": [
       "(0.871, 0.763)"
      ]
     },
     "execution_count": 16,
     "metadata": {},
     "output_type": "execute_result"
    }
   ],
   "source": [
    "N1=1000\n",
    "n_start=scipy.sparse.random(1,N1,density=0.9)\n",
    "n_start.data[:] = 1 # turn on the genes accordingly to the specified protocol\n",
    "#percolation_parallel([1,2],[1,2],100,100,-1)\n",
    "dynamics_light_perc(N1,N1,1,3,100,n_start,True)"
   ]
  },
  {
   "cell_type": "code",
   "execution_count": 19,
   "metadata": {},
   "outputs": [
    {
     "data": {
      "text/plain": [
       "array([[[0.967, 0.934],\n",
       "        [0.984, 0.969]],\n",
       "\n",
       "       [[0.   , 0.   ],\n",
       "        [0.983, 0.946]]])"
      ]
     },
     "execution_count": 19,
     "metadata": {},
     "output_type": "execute_result"
    }
   ],
   "source": [
    "percolation_parallel([1,2],[1,2],1000,1000,1)"
   ]
  },
  {
   "cell_type": "code",
   "execution_count": 20,
   "metadata": {},
   "outputs": [],
   "source": [
    "import nonlinear_dynamics as nl"
   ]
  },
  {
   "cell_type": "code",
   "execution_count": 21,
   "metadata": {},
   "outputs": [
    {
     "data": {
      "text/plain": [
       "array([[[0.992, 0.976],\n",
       "        [0.997, 0.981]],\n",
       "\n",
       "       [[0.   , 0.   ],\n",
       "        [0.998, 0.987]]])"
      ]
     },
     "execution_count": 21,
     "metadata": {},
     "output_type": "execute_result"
    }
   ],
   "source": [
    "nl.percolation_parallel([1,2],[1,2],1000,1000,1)"
   ]
  },
  {
   "cell_type": "code",
   "execution_count": 38,
   "metadata": {},
   "outputs": [
    {
     "data": {
      "text/plain": [
       "<1x1000 sparse matrix of type '<class 'numpy.float64'>'\n",
       "\twith 900 stored elements in Compressed Sparse Row format>"
      ]
     },
     "execution_count": 38,
     "metadata": {},
     "output_type": "execute_result"
    }
   ],
   "source": [
    "n_start=scipy.sparse.random(1,N1,density=0.9,format=\"csr\")\n",
    "n=n_start\n",
    "#n_start=n_start.toarray()[0]\n",
    "n_start"
   ]
  },
  {
   "cell_type": "code",
   "execution_count": 29,
   "metadata": {},
   "outputs": [
    {
     "data": {
      "text/plain": [
       "scipy.sparse.coo.coo_matrix"
      ]
     },
     "execution_count": 29,
     "metadata": {},
     "output_type": "execute_result"
    }
   ],
   "source": [
    "type(n)"
   ]
  },
  {
   "cell_type": "code",
   "execution_count": 32,
   "metadata": {},
   "outputs": [
    {
     "data": {
      "text/plain": [
       "<1x1000 sparse matrix of type '<class 'numpy.float64'>'\n",
       "\twith 960 stored elements in Compressed Sparse Row format>"
      ]
     },
     "execution_count": 32,
     "metadata": {},
     "output_type": "execute_result"
    }
   ],
   "source": [
    "d=1\n",
    "c=1\n",
    "N2=N1\n",
    "Genes = arange(0,N1)\n",
    "TFs = arange(N1,N1+N2)\n",
    "_,F=create_bipartite(N1,N2,d,c)\n",
    "eta=bipartite.biadjacency_matrix(F,Genes)#from genes  to TF\n",
    "xi=bipartite.biadjacency_matrix(F,TFs)#from  TF to  genes\n",
    "n*eta"
   ]
  },
  {
   "cell_type": "code",
   "execution_count": 35,
   "metadata": {},
   "outputs": [
    {
     "ename": "AttributeError",
     "evalue": "indices not found",
     "output_type": "error",
     "traceback": [
      "\u001b[0;31m---------------------------------------------------------------------------\u001b[0m",
      "\u001b[0;31mAttributeError\u001b[0m                            Traceback (most recent call last)",
      "\u001b[0;32m<ipython-input-35-d8abdbd9df2a>\u001b[0m in \u001b[0;36m<module>\u001b[0;34m()\u001b[0m\n\u001b[0;32m----> 1\u001b[0;31m \u001b[0mn\u001b[0m\u001b[0;34m.\u001b[0m\u001b[0mindices\u001b[0m\u001b[0;34m\u001b[0m\u001b[0m\n\u001b[0m",
      "\u001b[0;32m~/anaconda3/lib/python3.7/site-packages/scipy/sparse/base.py\u001b[0m in \u001b[0;36m__getattr__\u001b[0;34m(self, attr)\u001b[0m\n\u001b[1;32m    684\u001b[0m             \u001b[0;32mreturn\u001b[0m \u001b[0mself\u001b[0m\u001b[0;34m.\u001b[0m\u001b[0mgetnnz\u001b[0m\u001b[0;34m(\u001b[0m\u001b[0;34m)\u001b[0m\u001b[0;34m\u001b[0m\u001b[0m\n\u001b[1;32m    685\u001b[0m         \u001b[0;32melse\u001b[0m\u001b[0;34m:\u001b[0m\u001b[0;34m\u001b[0m\u001b[0m\n\u001b[0;32m--> 686\u001b[0;31m             \u001b[0;32mraise\u001b[0m \u001b[0mAttributeError\u001b[0m\u001b[0;34m(\u001b[0m\u001b[0mattr\u001b[0m \u001b[0;34m+\u001b[0m \u001b[0;34m\" not found\"\u001b[0m\u001b[0;34m)\u001b[0m\u001b[0;34m\u001b[0m\u001b[0m\n\u001b[0m\u001b[1;32m    687\u001b[0m \u001b[0;34m\u001b[0m\u001b[0m\n\u001b[1;32m    688\u001b[0m     \u001b[0;32mdef\u001b[0m \u001b[0mtranspose\u001b[0m\u001b[0;34m(\u001b[0m\u001b[0mself\u001b[0m\u001b[0;34m,\u001b[0m \u001b[0maxes\u001b[0m\u001b[0;34m=\u001b[0m\u001b[0;32mNone\u001b[0m\u001b[0;34m,\u001b[0m \u001b[0mcopy\u001b[0m\u001b[0;34m=\u001b[0m\u001b[0;32mFalse\u001b[0m\u001b[0;34m)\u001b[0m\u001b[0;34m:\u001b[0m\u001b[0;34m\u001b[0m\u001b[0m\n",
      "\u001b[0;31mAttributeError\u001b[0m: indices not found"
     ]
    }
   ],
   "source": [
    "n.indices"
   ]
  },
  {
   "cell_type": "code",
   "execution_count": 36,
   "metadata": {},
   "outputs": [
    {
     "data": {
      "text/plain": [
       "scipy.sparse.coo.coo_matrix"
      ]
     },
     "execution_count": 36,
     "metadata": {},
     "output_type": "execute_result"
    }
   ],
   "source": [
    "type(n)"
   ]
  },
  {
   "cell_type": "code",
   "execution_count": 37,
   "metadata": {},
   "outputs": [],
   "source": [
    "scipy.sparse.random?"
   ]
  },
  {
   "cell_type": "code",
   "execution_count": 27,
   "metadata": {},
   "outputs": [
    {
     "data": {
      "text/plain": [
       "(15, 10, 2)"
      ]
     },
     "execution_count": 27,
     "metadata": {},
     "output_type": "execute_result"
    }
   ],
   "source": [
    "shape(data_on)"
   ]
  },
  {
   "cell_type": "code",
   "execution_count": 28,
   "metadata": {},
   "outputs": [],
   "source": [
    "import non_linear.percolation_Genes as nl"
   ]
  },
  {
   "cell_type": "code",
   "execution_count": 126,
   "metadata": {},
   "outputs": [],
   "source": [
    "perc_fraction=0.99\n",
    "d=1\n",
    "c=2\n",
    "Genes_initially_on=True\n",
    "N_iter=1000\n",
    "n_start=scipy.sparse.random(1,N1,density=perc_fraction,format=\"csr\")"
   ]
  },
  {
   "cell_type": "code",
   "execution_count": 127,
   "metadata": {},
   "outputs": [
    {
     "data": {
      "text/plain": [
       "(0.0, 0.0)"
      ]
     },
     "execution_count": 127,
     "metadata": {},
     "output_type": "execute_result"
    }
   ],
   "source": [
    "nl.dynamics_light_perc(N1,N2,d,c,1000,n_start,Genes_initially_on)"
   ]
  },
  {
   "cell_type": "code",
   "execution_count": 128,
   "metadata": {},
   "outputs": [],
   "source": [
    "    def time_step_on(n,n_start):\n",
    "        m=np.where((n*eta!=in_deg).toarray(),0,1)\n",
    "        n=scipy.sparse.csr_matrix(m)*xi\n",
    "        n=np.where(n.toarray()>0,1,0)\n",
    "        n[0][n_start==0]=0# enforce elimination constrain of Genes initially eliminated\n",
    "        n=scipy.sparse.csr_matrix(n)\n",
    "        return n,m # it is in the array format\n",
    "    def time_step_off(n,n_start):\n",
    "        m=np.where((n*eta!=in_deg).toarray(),0,1)\n",
    "        n=scipy.sparse.csr_matrix(m)*xi\n",
    "        n=np.where(n.toarray()>0,1,0)\n",
    "        n[0][n_start==1]=1# enforce retain of Genes initially activated\n",
    "        n=scipy.sparse.csr_matrix(n)\n",
    "        return n,m # it is in the array format\n",
    "    n_start=scipy.sparse.random(1,N1,density=perc_fraction,format=\"csr\")\n",
    "    Genes = arange(0,N1)\n",
    "    TFs = arange(N1,N1+N2)\n",
    "    _,F=create_bipartite(N1,N2,d,c)\n",
    "    eta=bipartite.biadjacency_matrix(F,Genes)#from genes  to TF\n",
    "    xi=bipartite.biadjacency_matrix(F,TFs)#from  TF to  genes\n",
    "    in_deg=scipy.sparse.csr_matrix(list(dict(F.in_degree(TFs)).values()))\n",
    "    t=0\n",
    "    n=n_start\n",
    "    n_start.data[:] = 1\n",
    "    trj=[]\n",
    "    n_start=n_start.toarray()[0]\n",
    "    trj+=[np.mean(n_start)]\n",
    "    if Genes_initially_on:\n",
    "        time_step=time_step_on\n",
    "    else:\n",
    "        time_step=time_step_off\n",
    "    while t< N_iter:\n",
    "        n_new,m=time_step(n,n_start)\n",
    "        if n_new.nnz==n.nnz:\n",
    "           if all(n_new.indices==n.indices):# exit if no improvements occur\n",
    "                trj+=[np.mean(n.toarray())]\n",
    "        #break\n",
    "               #return np.mean(n.toarray()), np.mean(m)\n",
    "        n=n_new\n",
    "        t+=1\n",
    "    #return np.mean(n.toarray()),np.mean(m)\n"
   ]
  },
  {
   "cell_type": "code",
   "execution_count": 111,
   "metadata": {},
   "outputs": [
    {
     "data": {
      "text/plain": [
       "(1, 1000)"
      ]
     },
     "execution_count": 111,
     "metadata": {},
     "output_type": "execute_result"
    }
   ],
   "source": [
    "shape(n.toarray())"
   ]
  },
  {
   "cell_type": "code",
   "execution_count": 129,
   "metadata": {},
   "outputs": [
    {
     "data": {
      "text/plain": [
       "[0.99,\n",
       " 0.9876,\n",
       " 0.9876,\n",
       " 0.9876,\n",
       " 0.9876,\n",
       " 0.9876,\n",
       " 0.9876,\n",
       " 0.9876,\n",
       " 0.9876,\n",
       " 0.9876,\n",
       " 0.9876,\n",
       " 0.9876,\n",
       " 0.9876,\n",
       " 0.9876,\n",
       " 0.9876,\n",
       " 0.9876,\n",
       " 0.9876,\n",
       " 0.9876,\n",
       " 0.9876,\n",
       " 0.9876,\n",
       " 0.9876,\n",
       " 0.9876,\n",
       " 0.9876,\n",
       " 0.9876,\n",
       " 0.9876,\n",
       " 0.9876,\n",
       " 0.9876,\n",
       " 0.9876,\n",
       " 0.9876,\n",
       " 0.9876,\n",
       " 0.9876,\n",
       " 0.9876,\n",
       " 0.9876,\n",
       " 0.9876,\n",
       " 0.9876,\n",
       " 0.9876,\n",
       " 0.9876,\n",
       " 0.9876,\n",
       " 0.9876,\n",
       " 0.9876,\n",
       " 0.9876,\n",
       " 0.9876,\n",
       " 0.9876,\n",
       " 0.9876,\n",
       " 0.9876,\n",
       " 0.9876,\n",
       " 0.9876,\n",
       " 0.9876,\n",
       " 0.9876,\n",
       " 0.9876,\n",
       " 0.9876,\n",
       " 0.9876,\n",
       " 0.9876,\n",
       " 0.9876,\n",
       " 0.9876,\n",
       " 0.9876,\n",
       " 0.9876,\n",
       " 0.9876,\n",
       " 0.9876,\n",
       " 0.9876,\n",
       " 0.9876,\n",
       " 0.9876,\n",
       " 0.9876,\n",
       " 0.9876,\n",
       " 0.9876,\n",
       " 0.9876,\n",
       " 0.9876,\n",
       " 0.9876,\n",
       " 0.9876,\n",
       " 0.9876,\n",
       " 0.9876,\n",
       " 0.9876,\n",
       " 0.9876,\n",
       " 0.9876,\n",
       " 0.9876,\n",
       " 0.9876,\n",
       " 0.9876,\n",
       " 0.9876,\n",
       " 0.9876,\n",
       " 0.9876,\n",
       " 0.9876,\n",
       " 0.9876,\n",
       " 0.9876,\n",
       " 0.9876,\n",
       " 0.9876,\n",
       " 0.9876,\n",
       " 0.9876,\n",
       " 0.9876,\n",
       " 0.9876,\n",
       " 0.9876,\n",
       " 0.9876,\n",
       " 0.9876,\n",
       " 0.9876,\n",
       " 0.9876,\n",
       " 0.9876,\n",
       " 0.9876,\n",
       " 0.9876,\n",
       " 0.9876,\n",
       " 0.9876,\n",
       " 0.9876,\n",
       " 0.9876,\n",
       " 0.9876,\n",
       " 0.9876,\n",
       " 0.9876,\n",
       " 0.9876,\n",
       " 0.9876,\n",
       " 0.9876,\n",
       " 0.9876,\n",
       " 0.9876,\n",
       " 0.9876,\n",
       " 0.9876,\n",
       " 0.9876,\n",
       " 0.9876,\n",
       " 0.9876,\n",
       " 0.9876,\n",
       " 0.9876,\n",
       " 0.9876,\n",
       " 0.9876,\n",
       " 0.9876,\n",
       " 0.9876,\n",
       " 0.9876,\n",
       " 0.9876,\n",
       " 0.9876,\n",
       " 0.9876,\n",
       " 0.9876,\n",
       " 0.9876,\n",
       " 0.9876,\n",
       " 0.9876,\n",
       " 0.9876,\n",
       " 0.9876,\n",
       " 0.9876,\n",
       " 0.9876,\n",
       " 0.9876,\n",
       " 0.9876,\n",
       " 0.9876,\n",
       " 0.9876,\n",
       " 0.9876,\n",
       " 0.9876,\n",
       " 0.9876,\n",
       " 0.9876,\n",
       " 0.9876,\n",
       " 0.9876,\n",
       " 0.9876,\n",
       " 0.9876,\n",
       " 0.9876,\n",
       " 0.9876,\n",
       " 0.9876,\n",
       " 0.9876,\n",
       " 0.9876,\n",
       " 0.9876,\n",
       " 0.9876,\n",
       " 0.9876,\n",
       " 0.9876,\n",
       " 0.9876,\n",
       " 0.9876,\n",
       " 0.9876,\n",
       " 0.9876,\n",
       " 0.9876,\n",
       " 0.9876,\n",
       " 0.9876,\n",
       " 0.9876,\n",
       " 0.9876,\n",
       " 0.9876,\n",
       " 0.9876,\n",
       " 0.9876,\n",
       " 0.9876,\n",
       " 0.9876,\n",
       " 0.9876,\n",
       " 0.9876,\n",
       " 0.9876,\n",
       " 0.9876,\n",
       " 0.9876,\n",
       " 0.9876,\n",
       " 0.9876,\n",
       " 0.9876,\n",
       " 0.9876,\n",
       " 0.9876,\n",
       " 0.9876,\n",
       " 0.9876,\n",
       " 0.9876,\n",
       " 0.9876,\n",
       " 0.9876,\n",
       " 0.9876,\n",
       " 0.9876,\n",
       " 0.9876,\n",
       " 0.9876,\n",
       " 0.9876,\n",
       " 0.9876,\n",
       " 0.9876,\n",
       " 0.9876,\n",
       " 0.9876,\n",
       " 0.9876,\n",
       " 0.9876,\n",
       " 0.9876,\n",
       " 0.9876,\n",
       " 0.9876,\n",
       " 0.9876,\n",
       " 0.9876,\n",
       " 0.9876,\n",
       " 0.9876,\n",
       " 0.9876,\n",
       " 0.9876,\n",
       " 0.9876,\n",
       " 0.9876,\n",
       " 0.9876,\n",
       " 0.9876,\n",
       " 0.9876,\n",
       " 0.9876,\n",
       " 0.9876,\n",
       " 0.9876,\n",
       " 0.9876,\n",
       " 0.9876,\n",
       " 0.9876,\n",
       " 0.9876,\n",
       " 0.9876,\n",
       " 0.9876,\n",
       " 0.9876,\n",
       " 0.9876,\n",
       " 0.9876,\n",
       " 0.9876,\n",
       " 0.9876,\n",
       " 0.9876,\n",
       " 0.9876,\n",
       " 0.9876,\n",
       " 0.9876,\n",
       " 0.9876,\n",
       " 0.9876,\n",
       " 0.9876,\n",
       " 0.9876,\n",
       " 0.9876,\n",
       " 0.9876,\n",
       " 0.9876,\n",
       " 0.9876,\n",
       " 0.9876,\n",
       " 0.9876,\n",
       " 0.9876,\n",
       " 0.9876,\n",
       " 0.9876,\n",
       " 0.9876,\n",
       " 0.9876,\n",
       " 0.9876,\n",
       " 0.9876,\n",
       " 0.9876,\n",
       " 0.9876,\n",
       " 0.9876,\n",
       " 0.9876,\n",
       " 0.9876,\n",
       " 0.9876,\n",
       " 0.9876,\n",
       " 0.9876,\n",
       " 0.9876,\n",
       " 0.9876,\n",
       " 0.9876,\n",
       " 0.9876,\n",
       " 0.9876,\n",
       " 0.9876,\n",
       " 0.9876,\n",
       " 0.9876,\n",
       " 0.9876,\n",
       " 0.9876,\n",
       " 0.9876,\n",
       " 0.9876,\n",
       " 0.9876,\n",
       " 0.9876,\n",
       " 0.9876,\n",
       " 0.9876,\n",
       " 0.9876,\n",
       " 0.9876,\n",
       " 0.9876,\n",
       " 0.9876,\n",
       " 0.9876,\n",
       " 0.9876,\n",
       " 0.9876,\n",
       " 0.9876,\n",
       " 0.9876,\n",
       " 0.9876,\n",
       " 0.9876,\n",
       " 0.9876,\n",
       " 0.9876,\n",
       " 0.9876,\n",
       " 0.9876,\n",
       " 0.9876,\n",
       " 0.9876,\n",
       " 0.9876,\n",
       " 0.9876,\n",
       " 0.9876,\n",
       " 0.9876,\n",
       " 0.9876,\n",
       " 0.9876,\n",
       " 0.9876,\n",
       " 0.9876,\n",
       " 0.9876,\n",
       " 0.9876,\n",
       " 0.9876,\n",
       " 0.9876,\n",
       " 0.9876,\n",
       " 0.9876,\n",
       " 0.9876,\n",
       " 0.9876,\n",
       " 0.9876,\n",
       " 0.9876,\n",
       " 0.9876,\n",
       " 0.9876,\n",
       " 0.9876,\n",
       " 0.9876,\n",
       " 0.9876,\n",
       " 0.9876,\n",
       " 0.9876,\n",
       " 0.9876,\n",
       " 0.9876,\n",
       " 0.9876,\n",
       " 0.9876,\n",
       " 0.9876,\n",
       " 0.9876,\n",
       " 0.9876,\n",
       " 0.9876,\n",
       " 0.9876,\n",
       " 0.9876,\n",
       " 0.9876,\n",
       " 0.9876,\n",
       " 0.9876,\n",
       " 0.9876,\n",
       " 0.9876,\n",
       " 0.9876,\n",
       " 0.9876,\n",
       " 0.9876,\n",
       " 0.9876,\n",
       " 0.9876,\n",
       " 0.9876,\n",
       " 0.9876,\n",
       " 0.9876,\n",
       " 0.9876,\n",
       " 0.9876,\n",
       " 0.9876,\n",
       " 0.9876,\n",
       " 0.9876,\n",
       " 0.9876,\n",
       " 0.9876,\n",
       " 0.9876,\n",
       " 0.9876,\n",
       " 0.9876,\n",
       " 0.9876,\n",
       " 0.9876,\n",
       " 0.9876,\n",
       " 0.9876,\n",
       " 0.9876,\n",
       " 0.9876,\n",
       " 0.9876,\n",
       " 0.9876,\n",
       " 0.9876,\n",
       " 0.9876,\n",
       " 0.9876,\n",
       " 0.9876,\n",
       " 0.9876,\n",
       " 0.9876,\n",
       " 0.9876,\n",
       " 0.9876,\n",
       " 0.9876,\n",
       " 0.9876,\n",
       " 0.9876,\n",
       " 0.9876,\n",
       " 0.9876,\n",
       " 0.9876,\n",
       " 0.9876,\n",
       " 0.9876,\n",
       " 0.9876,\n",
       " 0.9876,\n",
       " 0.9876,\n",
       " 0.9876,\n",
       " 0.9876,\n",
       " 0.9876,\n",
       " 0.9876,\n",
       " 0.9876,\n",
       " 0.9876,\n",
       " 0.9876,\n",
       " 0.9876,\n",
       " 0.9876,\n",
       " 0.9876,\n",
       " 0.9876,\n",
       " 0.9876,\n",
       " 0.9876,\n",
       " 0.9876,\n",
       " 0.9876,\n",
       " 0.9876,\n",
       " 0.9876,\n",
       " 0.9876,\n",
       " 0.9876,\n",
       " 0.9876,\n",
       " 0.9876,\n",
       " 0.9876,\n",
       " 0.9876,\n",
       " 0.9876,\n",
       " 0.9876,\n",
       " 0.9876,\n",
       " 0.9876,\n",
       " 0.9876,\n",
       " 0.9876,\n",
       " 0.9876,\n",
       " 0.9876,\n",
       " 0.9876,\n",
       " 0.9876,\n",
       " 0.9876,\n",
       " 0.9876,\n",
       " 0.9876,\n",
       " 0.9876,\n",
       " 0.9876,\n",
       " 0.9876,\n",
       " 0.9876,\n",
       " 0.9876,\n",
       " 0.9876,\n",
       " 0.9876,\n",
       " 0.9876,\n",
       " 0.9876,\n",
       " 0.9876,\n",
       " 0.9876,\n",
       " 0.9876,\n",
       " 0.9876,\n",
       " 0.9876,\n",
       " 0.9876,\n",
       " 0.9876,\n",
       " 0.9876,\n",
       " 0.9876,\n",
       " 0.9876,\n",
       " 0.9876,\n",
       " 0.9876,\n",
       " 0.9876,\n",
       " 0.9876,\n",
       " 0.9876,\n",
       " 0.9876,\n",
       " 0.9876,\n",
       " 0.9876,\n",
       " 0.9876,\n",
       " 0.9876,\n",
       " 0.9876,\n",
       " 0.9876,\n",
       " 0.9876,\n",
       " 0.9876,\n",
       " 0.9876,\n",
       " 0.9876,\n",
       " 0.9876,\n",
       " 0.9876,\n",
       " 0.9876,\n",
       " 0.9876,\n",
       " 0.9876,\n",
       " 0.9876,\n",
       " 0.9876,\n",
       " 0.9876,\n",
       " 0.9876,\n",
       " 0.9876,\n",
       " 0.9876,\n",
       " 0.9876,\n",
       " 0.9876,\n",
       " 0.9876,\n",
       " 0.9876,\n",
       " 0.9876,\n",
       " 0.9876,\n",
       " 0.9876,\n",
       " 0.9876,\n",
       " 0.9876,\n",
       " 0.9876,\n",
       " 0.9876,\n",
       " 0.9876,\n",
       " 0.9876,\n",
       " 0.9876,\n",
       " 0.9876,\n",
       " 0.9876,\n",
       " 0.9876,\n",
       " 0.9876,\n",
       " 0.9876,\n",
       " 0.9876,\n",
       " 0.9876,\n",
       " 0.9876,\n",
       " 0.9876,\n",
       " 0.9876,\n",
       " 0.9876,\n",
       " 0.9876,\n",
       " 0.9876,\n",
       " 0.9876,\n",
       " 0.9876,\n",
       " 0.9876,\n",
       " 0.9876,\n",
       " 0.9876,\n",
       " 0.9876,\n",
       " 0.9876,\n",
       " 0.9876,\n",
       " 0.9876,\n",
       " 0.9876,\n",
       " 0.9876,\n",
       " 0.9876,\n",
       " 0.9876,\n",
       " 0.9876,\n",
       " 0.9876,\n",
       " 0.9876,\n",
       " 0.9876,\n",
       " 0.9876,\n",
       " 0.9876,\n",
       " 0.9876,\n",
       " 0.9876,\n",
       " 0.9876,\n",
       " 0.9876,\n",
       " 0.9876,\n",
       " 0.9876,\n",
       " 0.9876,\n",
       " 0.9876,\n",
       " 0.9876,\n",
       " 0.9876,\n",
       " 0.9876,\n",
       " 0.9876,\n",
       " 0.9876,\n",
       " 0.9876,\n",
       " 0.9876,\n",
       " 0.9876,\n",
       " 0.9876,\n",
       " 0.9876,\n",
       " 0.9876,\n",
       " 0.9876,\n",
       " 0.9876,\n",
       " 0.9876,\n",
       " 0.9876,\n",
       " 0.9876,\n",
       " 0.9876,\n",
       " 0.9876,\n",
       " 0.9876,\n",
       " 0.9876,\n",
       " 0.9876,\n",
       " 0.9876,\n",
       " 0.9876,\n",
       " 0.9876,\n",
       " 0.9876,\n",
       " 0.9876,\n",
       " 0.9876,\n",
       " 0.9876,\n",
       " 0.9876,\n",
       " 0.9876,\n",
       " 0.9876,\n",
       " 0.9876,\n",
       " 0.9876,\n",
       " 0.9876,\n",
       " 0.9876,\n",
       " 0.9876,\n",
       " 0.9876,\n",
       " 0.9876,\n",
       " 0.9876,\n",
       " 0.9876,\n",
       " 0.9876,\n",
       " 0.9876,\n",
       " 0.9876,\n",
       " 0.9876,\n",
       " 0.9876,\n",
       " 0.9876,\n",
       " 0.9876,\n",
       " 0.9876,\n",
       " 0.9876,\n",
       " 0.9876,\n",
       " 0.9876,\n",
       " 0.9876,\n",
       " 0.9876,\n",
       " 0.9876,\n",
       " 0.9876,\n",
       " 0.9876,\n",
       " 0.9876,\n",
       " 0.9876,\n",
       " 0.9876,\n",
       " 0.9876,\n",
       " 0.9876,\n",
       " 0.9876,\n",
       " 0.9876,\n",
       " 0.9876,\n",
       " 0.9876,\n",
       " 0.9876,\n",
       " 0.9876,\n",
       " 0.9876,\n",
       " 0.9876,\n",
       " 0.9876,\n",
       " 0.9876,\n",
       " 0.9876,\n",
       " 0.9876,\n",
       " 0.9876,\n",
       " 0.9876,\n",
       " 0.9876,\n",
       " 0.9876,\n",
       " 0.9876,\n",
       " 0.9876,\n",
       " 0.9876,\n",
       " 0.9876,\n",
       " 0.9876,\n",
       " 0.9876,\n",
       " 0.9876,\n",
       " 0.9876,\n",
       " 0.9876,\n",
       " 0.9876,\n",
       " 0.9876,\n",
       " 0.9876,\n",
       " 0.9876,\n",
       " 0.9876,\n",
       " 0.9876,\n",
       " 0.9876,\n",
       " 0.9876,\n",
       " 0.9876,\n",
       " 0.9876,\n",
       " 0.9876,\n",
       " 0.9876,\n",
       " 0.9876,\n",
       " 0.9876,\n",
       " 0.9876,\n",
       " 0.9876,\n",
       " 0.9876,\n",
       " 0.9876,\n",
       " 0.9876,\n",
       " 0.9876,\n",
       " 0.9876,\n",
       " 0.9876,\n",
       " 0.9876,\n",
       " 0.9876,\n",
       " 0.9876,\n",
       " 0.9876,\n",
       " 0.9876,\n",
       " 0.9876,\n",
       " 0.9876,\n",
       " 0.9876,\n",
       " 0.9876,\n",
       " 0.9876,\n",
       " 0.9876,\n",
       " 0.9876,\n",
       " 0.9876,\n",
       " 0.9876,\n",
       " 0.9876,\n",
       " 0.9876,\n",
       " 0.9876,\n",
       " 0.9876,\n",
       " 0.9876,\n",
       " 0.9876,\n",
       " 0.9876,\n",
       " 0.9876,\n",
       " 0.9876,\n",
       " 0.9876,\n",
       " 0.9876,\n",
       " 0.9876,\n",
       " 0.9876,\n",
       " 0.9876,\n",
       " 0.9876,\n",
       " 0.9876,\n",
       " 0.9876,\n",
       " 0.9876,\n",
       " 0.9876,\n",
       " 0.9876,\n",
       " 0.9876,\n",
       " 0.9876,\n",
       " 0.9876,\n",
       " 0.9876,\n",
       " 0.9876,\n",
       " 0.9876,\n",
       " 0.9876,\n",
       " 0.9876,\n",
       " 0.9876,\n",
       " 0.9876,\n",
       " 0.9876,\n",
       " 0.9876,\n",
       " 0.9876,\n",
       " 0.9876,\n",
       " 0.9876,\n",
       " 0.9876,\n",
       " 0.9876,\n",
       " 0.9876,\n",
       " 0.9876,\n",
       " 0.9876,\n",
       " 0.9876,\n",
       " 0.9876,\n",
       " 0.9876,\n",
       " 0.9876,\n",
       " 0.9876,\n",
       " 0.9876,\n",
       " 0.9876,\n",
       " 0.9876,\n",
       " 0.9876,\n",
       " 0.9876,\n",
       " 0.9876,\n",
       " 0.9876,\n",
       " 0.9876,\n",
       " 0.9876,\n",
       " 0.9876,\n",
       " 0.9876,\n",
       " 0.9876,\n",
       " 0.9876,\n",
       " 0.9876,\n",
       " 0.9876,\n",
       " 0.9876,\n",
       " 0.9876,\n",
       " 0.9876,\n",
       " 0.9876,\n",
       " 0.9876,\n",
       " 0.9876,\n",
       " 0.9876,\n",
       " 0.9876,\n",
       " 0.9876,\n",
       " 0.9876,\n",
       " 0.9876,\n",
       " 0.9876,\n",
       " 0.9876,\n",
       " 0.9876,\n",
       " 0.9876,\n",
       " 0.9876,\n",
       " 0.9876,\n",
       " 0.9876,\n",
       " 0.9876,\n",
       " 0.9876,\n",
       " 0.9876,\n",
       " 0.9876,\n",
       " 0.9876,\n",
       " 0.9876,\n",
       " 0.9876,\n",
       " 0.9876,\n",
       " 0.9876,\n",
       " 0.9876,\n",
       " 0.9876,\n",
       " 0.9876,\n",
       " 0.9876,\n",
       " 0.9876,\n",
       " 0.9876,\n",
       " 0.9876,\n",
       " 0.9876,\n",
       " 0.9876,\n",
       " 0.9876,\n",
       " 0.9876,\n",
       " 0.9876,\n",
       " 0.9876,\n",
       " 0.9876,\n",
       " 0.9876,\n",
       " 0.9876,\n",
       " 0.9876,\n",
       " 0.9876,\n",
       " 0.9876,\n",
       " 0.9876,\n",
       " 0.9876,\n",
       " 0.9876,\n",
       " 0.9876,\n",
       " 0.9876,\n",
       " 0.9876,\n",
       " 0.9876,\n",
       " 0.9876,\n",
       " 0.9876,\n",
       " 0.9876,\n",
       " 0.9876,\n",
       " 0.9876,\n",
       " 0.9876,\n",
       " 0.9876,\n",
       " 0.9876,\n",
       " 0.9876,\n",
       " 0.9876,\n",
       " 0.9876,\n",
       " 0.9876,\n",
       " 0.9876,\n",
       " 0.9876,\n",
       " 0.9876,\n",
       " 0.9876,\n",
       " 0.9876,\n",
       " 0.9876,\n",
       " 0.9876,\n",
       " 0.9876,\n",
       " 0.9876,\n",
       " 0.9876,\n",
       " 0.9876,\n",
       " 0.9876,\n",
       " 0.9876,\n",
       " 0.9876,\n",
       " 0.9876,\n",
       " 0.9876,\n",
       " 0.9876,\n",
       " 0.9876,\n",
       " 0.9876,\n",
       " 0.9876,\n",
       " 0.9876,\n",
       " 0.9876,\n",
       " 0.9876,\n",
       " 0.9876,\n",
       " 0.9876,\n",
       " 0.9876,\n",
       " 0.9876,\n",
       " 0.9876,\n",
       " 0.9876,\n",
       " 0.9876,\n",
       " 0.9876,\n",
       " 0.9876,\n",
       " 0.9876,\n",
       " 0.9876,\n",
       " 0.9876,\n",
       " 0.9876,\n",
       " 0.9876,\n",
       " 0.9876,\n",
       " 0.9876,\n",
       " 0.9876,\n",
       " 0.9876,\n",
       " 0.9876,\n",
       " 0.9876,\n",
       " 0.9876,\n",
       " 0.9876,\n",
       " 0.9876,\n",
       " 0.9876,\n",
       " 0.9876,\n",
       " 0.9876,\n",
       " 0.9876,\n",
       " 0.9876,\n",
       " 0.9876,\n",
       " 0.9876,\n",
       " 0.9876,\n",
       " 0.9876,\n",
       " 0.9876,\n",
       " 0.9876,\n",
       " 0.9876,\n",
       " 0.9876,\n",
       " 0.9876,\n",
       " 0.9876,\n",
       " 0.9876,\n",
       " 0.9876,\n",
       " 0.9876,\n",
       " 0.9876,\n",
       " 0.9876,\n",
       " 0.9876,\n",
       " 0.9876,\n",
       " 0.9876,\n",
       " 0.9876,\n",
       " 0.9876,\n",
       " 0.9876,\n",
       " 0.9876,\n",
       " 0.9876,\n",
       " 0.9876,\n",
       " 0.9876,\n",
       " 0.9876,\n",
       " 0.9876,\n",
       " 0.9876,\n",
       " 0.9876,\n",
       " 0.9876,\n",
       " 0.9876,\n",
       " 0.9876,\n",
       " 0.9876,\n",
       " 0.9876,\n",
       " 0.9876,\n",
       " 0.9876,\n",
       " 0.9876,\n",
       " 0.9876,\n",
       " 0.9876,\n",
       " 0.9876,\n",
       " 0.9876,\n",
       " 0.9876,\n",
       " 0.9876,\n",
       " 0.9876,\n",
       " 0.9876,\n",
       " 0.9876,\n",
       " 0.9876,\n",
       " 0.9876,\n",
       " 0.9876,\n",
       " 0.9876,\n",
       " 0.9876,\n",
       " 0.9876,\n",
       " 0.9876,\n",
       " 0.9876,\n",
       " 0.9876,\n",
       " 0.9876,\n",
       " 0.9876,\n",
       " 0.9876,\n",
       " 0.9876,\n",
       " 0.9876,\n",
       " 0.9876,\n",
       " 0.9876,\n",
       " 0.9876,\n",
       " 0.9876,\n",
       " 0.9876,\n",
       " 0.9876,\n",
       " 0.9876,\n",
       " 0.9876,\n",
       " 0.9876,\n",
       " 0.9876,\n",
       " 0.9876,\n",
       " 0.9876,\n",
       " 0.9876,\n",
       " 0.9876,\n",
       " 0.9876,\n",
       " 0.9876,\n",
       " 0.9876,\n",
       " 0.9876,\n",
       " 0.9876,\n",
       " 0.9876,\n",
       " 0.9876,\n",
       " 0.9876,\n",
       " 0.9876,\n",
       " 0.9876,\n",
       " 0.9876,\n",
       " 0.9876,\n",
       " 0.9876,\n",
       " 0.9876,\n",
       " 0.9876,\n",
       " 0.9876,\n",
       " 0.9876,\n",
       " 0.9876,\n",
       " 0.9876,\n",
       " 0.9876,\n",
       " 0.9876,\n",
       " 0.9876,\n",
       " 0.9876,\n",
       " 0.9876,\n",
       " 0.9876,\n",
       " 0.9876,\n",
       " 0.9876,\n",
       " 0.9876,\n",
       " 0.9876,\n",
       " 0.9876,\n",
       " 0.9876,\n",
       " 0.9876,\n",
       " 0.9876,\n",
       " 0.9876,\n",
       " 0.9876,\n",
       " 0.9876,\n",
       " 0.9876,\n",
       " 0.9876,\n",
       " 0.9876,\n",
       " 0.9876,\n",
       " 0.9876,\n",
       " 0.9876,\n",
       " 0.9876,\n",
       " 0.9876,\n",
       " 0.9876,\n",
       " 0.9876,\n",
       " 0.9876,\n",
       " 0.9876,\n",
       " 0.9876,\n",
       " 0.9876,\n",
       " 0.9876,\n",
       " 0.9876,\n",
       " 0.9876,\n",
       " 0.9876,\n",
       " 0.9876,\n",
       " 0.9876,\n",
       " 0.9876,\n",
       " 0.9876,\n",
       " 0.9876,\n",
       " 0.9876,\n",
       " 0.9876,\n",
       " 0.9876,\n",
       " 0.9876,\n",
       " 0.9876,\n",
       " 0.9876,\n",
       " 0.9876,\n",
       " 0.9876,\n",
       " 0.9876,\n",
       " 0.9876,\n",
       " 0.9876,\n",
       " 0.9876,\n",
       " 0.9876,\n",
       " 0.9876,\n",
       " 0.9876,\n",
       " 0.9876,\n",
       " 0.9876,\n",
       " 0.9876,\n",
       " 0.9876,\n",
       " 0.9876,\n",
       " 0.9876,\n",
       " 0.9876,\n",
       " 0.9876,\n",
       " 0.9876,\n",
       " 0.9876,\n",
       " 0.9876,\n",
       " 0.9876,\n",
       " 0.9876,\n",
       " 0.9876,\n",
       " 0.9876,\n",
       " 0.9876,\n",
       " 0.9876,\n",
       " 0.9876,\n",
       " 0.9876,\n",
       " 0.9876,\n",
       " 0.9876,\n",
       " 0.9876,\n",
       " 0.9876,\n",
       " 0.9876,\n",
       " 0.9876,\n",
       " 0.9876,\n",
       " 0.9876,\n",
       " 0.9876,\n",
       " 0.9876,\n",
       " 0.9876,\n",
       " 0.9876,\n",
       " 0.9876,\n",
       " 0.9876,\n",
       " 0.9876,\n",
       " 0.9876,\n",
       " 0.9876,\n",
       " 0.9876,\n",
       " 0.9876,\n",
       " 0.9876,\n",
       " 0.9876,\n",
       " 0.9876,\n",
       " 0.9876,\n",
       " 0.9876,\n",
       " 0.9876,\n",
       " 0.9876,\n",
       " 0.9876,\n",
       " 0.9876,\n",
       " 0.9876,\n",
       " 0.9876]"
      ]
     },
     "execution_count": 129,
     "metadata": {},
     "output_type": "execute_result"
    }
   ],
   "source": [
    "trj"
   ]
  },
  {
   "cell_type": "code",
   "execution_count": 120,
   "metadata": {},
   "outputs": [],
   "source": [
    "n_start=scipy.sparse.random(1,N1,density=perc_fraction,format=\"csr\")\n",
    "n=n_start\n",
    "n_start.data[:] = 1\n",
    "n_start=n_start.toarray()[0]\n",
    "a,b=time_step(n,n_start)"
   ]
  },
  {
   "cell_type": "code",
   "execution_count": 121,
   "metadata": {},
   "outputs": [
    {
     "data": {
      "text/plain": [
       "990"
      ]
     },
     "execution_count": 121,
     "metadata": {},
     "output_type": "execute_result"
    }
   ],
   "source": [
    "n.nnz"
   ]
  },
  {
   "cell_type": "code",
   "execution_count": 10,
   "metadata": {},
   "outputs": [
    {
     "data": {
      "text/plain": [
       "dict_keys(['ds', 'cs', 'N1', 'N2', 'data_on', 'data_off'])"
      ]
     },
     "execution_count": 10,
     "metadata": {},
     "output_type": "execute_result"
    }
   ],
   "source": [
    "dic.keys()"
   ]
  },
  {
   "cell_type": "code",
   "execution_count": 125,
   "metadata": {},
   "outputs": [],
   "source": [
    "N1=10000\n",
    "N2=10000"
   ]
  },
  {
   "cell_type": "code",
   "execution_count": 124,
   "metadata": {},
   "outputs": [],
   "source": []
  },
  {
   "cell_type": "code",
   "execution_count": null,
   "metadata": {},
   "outputs": [],
   "source": []
  }
 ],
 "metadata": {
  "kernelspec": {
   "display_name": "Python 3",
   "language": "python",
   "name": "python3"
  },
  "language_info": {
   "codemirror_mode": {
    "name": "ipython",
    "version": 3
   },
   "file_extension": ".py",
   "mimetype": "text/x-python",
   "name": "python",
   "nbconvert_exporter": "python",
   "pygments_lexer": "ipython3",
   "version": "3.7.4"
  }
 },
 "nbformat": 4,
 "nbformat_minor": 2
}
