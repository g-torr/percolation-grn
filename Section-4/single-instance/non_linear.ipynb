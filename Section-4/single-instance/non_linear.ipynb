{
 "cells": [
  {
   "cell_type": "markdown",
   "metadata": {},
   "source": [
    "# Single instance cavity \n",
    "## Percolating and non-percolating phase of  ''AND out-component''\n",
    "In this section we compute the microscopic dynamics and we compare it with macroscopic cavity equation"
   ]
  },
  {
   "cell_type": "code",
   "execution_count": 2,
   "metadata": {},
   "outputs": [],
   "source": [
    "from pylab import *\n",
    "%matplotlib inline\n",
    "import sys\n",
    "import pickle\n",
    "import pandas as pd\n",
    "import inspect\n",
    "sys.path.insert(0, \"../../lib\")# add the library folder to the path I look for modules\n",
    "import latexify# execute function latexify for plots coherent with latex\n",
    "import load_mathematica_tb"
   ]
  },
  {
   "cell_type": "code",
   "execution_count": 3,
   "metadata": {},
   "outputs": [],
   "source": [
    "def load_obj(name,prefix=\".\" ):\n",
    "    print(prefix+'/dic-' + name + '.pkl')\n",
    "    with open(prefix+'/dic-' + name + '.pkl', 'rb') as f:\n",
    "        return pickle.load(f)        "
   ]
  },
  {
   "cell_type": "markdown",
   "metadata": {},
   "source": [
    "Dynamics:\n",
    "- percolation of the giant component\n",
    "$$\n",
    "\\begin{aligned}\n",
    "n_i(\\tau+1)&=&\\chi_i\\left(1-\\prod_{\\mu \\in \\partial _i^{\\mathrm{in}}}(1-n_\\mu(\\tau))\\right)\\, \\\\\n",
    "n_\\mu(\\tau)&=&\\prod_{i\\in \\partial _\\mu^{\\mathrm{in}}}n_i(\\tau) \\ .\n",
    "\\end{aligned}\n",
    "$$\n",
    "- activation dynamics\n",
    "$$\n",
    "\\begin{aligned}\n",
    "n_i(\\tau+1)&=&\\left(1-\\chi_i \\right)\\left(1-\\prod_{\\mu \\in \\partial _i^{\\mathrm{in}}}(1-n_\\mu(\\tau)\\right)+\\chi_i \\ ,\\\\\n",
    "n_\\mu(\\tau)&=&\\prod_{i\\in \\partial _\\mu^{\\mathrm{in}}}n_i(\\tau)\\ ,\n",
    "\\end{aligned}\n",
    "$$"
   ]
  },
  {
   "cell_type": "markdown",
   "metadata": {},
   "source": [
    "Consider the heatmap for the percolation problem. \n",
    "Find the transition curve from the numerical solution for the macroscopic cavity of the perturbed theory, as  computed from mathematica. We use a method ```get_transition_line()```\n",
    "\n",
    "The transition curve for the discontinuous transition is obtained by the values of connectivity where a jump in the heatmap happens. We look here simply where a transition from a value below $1/2$ to a value above. For more look at method ```get_transition_line``` in the class ```load_mathematica_tb```\n",
    "\n",
    "Let us compute for the perturbation of the giant \"AND out component\""
   ]
  },
  {
   "cell_type": "code",
   "execution_count": 6,
   "metadata": {},
   "outputs": [
    {
     "data": {
      "image/png": "[encoded data removed]",
      "text/plain": [
       "<Figure size 244.08x150.85 with 1 Axes>"
      ]
     },
     "metadata": {
      "needs_background": "light"
     },
     "output_type": "display_data"
    }
   ],
   "source": [
    "on = load_mathematica_tb.cavity(\"../macroscopic-cavity/\")\n",
    "on.heatmap()\n",
    "c_thr_on,d_thr_on = on.get_transition_line()#extract macroscopic cavity transition line\n",
    "plot(c_thr_on+1,1+d_thr_on,'k--',lw=4,label=\"cavity\")\n",
    "plt.legend()\n",
    "plt.tight_layout()\n"
   ]
  },
  {
   "cell_type": "markdown",
   "metadata": {},
   "source": [
    "Let us compute for the perturbation of the non percolating phase"
   ]
  },
  {
   "cell_type": "code",
   "execution_count": 7,
   "metadata": {},
   "outputs": [
    {
     "data": {
      "image/png": "[encoded data removed]",
      "text/plain": [
       "<Figure size 244.08x150.85 with 1 Axes>"
      ]
     },
     "metadata": {
      "needs_background": "light"
     },
     "output_type": "display_data"
    }
   ],
   "source": [
    "off = load_mathematica_tb.cavity(\"../macroscopic-cavity/\",False)\n",
    "off.heatmap()\n",
    "c_thr_off,d_thr_off = off.get_transition_line()#extract macroscopic cavity transition line\n",
    "plot(c_thr_off+1,1+d_thr_off,'k--',lw=4,label=\"cavity\")\n",
    "plt.legend()\n",
    "plt.tight_layout()\n"
   ]
  },
  {
   "cell_type": "markdown",
   "metadata": {},
   "source": [
    "## Single instance cavity simulations\n",
    "### How to run simulations\n",
    "Considering that nice graphs requires long simulations, I create a python script called percolation.py. Execute this from terminal and then load data here.\n",
    "In terminal type:\n",
    "\n",
    "```\n",
    "python percolation.py --ds 0.0001 4 50 --cs 0.0001 4 70 -N1 10000 -N2 10000\n",
    "--perc_fraction 0.95\n",
    "```\n",
    "\n",
    "which means:\n",
    "```python\n",
    "ds=arange(0.0001,4,50)\n",
    "cs=arange(0.0001,4,70)```\n",
    "\n",
    "Two sets of simulations are performed for the given set of parameter. The first one starts analyse the percolating phase, with $p=0.95$ . The second one the non-percolating phase, with $p = 0.05$."
   ]
  },
  {
   "cell_type": "code",
   "execution_count": 4,
   "metadata": {},
   "outputs": [
    {
     "name": "stdout",
     "output_type": "stream",
     "text": [
      "./dic-magnetisation.pkl\n"
     ]
    }
   ],
   "source": [
    "perc=0.95\n",
    "#load data from simulation\n",
    "dic=load_obj(\"magnetisation\",\".\")\n",
    "ds=dic[\"ds\"]# this is the paramenter of the Poisson distribution for the out-degree of genes, i.e.<d^{out}>= ds+1\n",
    "cs=dic[\"cs\"]\n",
    "N1=dic[\"N1\"]\n",
    "N2=dic[\"N2\"]\n",
    "data_on=dic[\"data_on\"]\n",
    "data_off=dic[\"data_off\"]\n",
    "alpha=N2/N1\n"
   ]
  },
  {
   "cell_type": "markdown",
   "metadata": {},
   "source": [
    "#### stability of the percolating phase"
   ]
  },
  {
   "cell_type": "code",
   "execution_count": 8,
   "metadata": {},
   "outputs": [
    {
     "data": {
      "image/png": "[encoded data removed]",
      "text/plain": [
       "<Figure size 244.08x150.85 with 2 Axes>"
      ]
     },
     "metadata": {
      "needs_background": "light"
     },
     "output_type": "display_data"
    }
   ],
   "source": [
    "latexify.latexify(columns=2)\n",
    "\n",
    "cmap=\"summer\"\n",
    "\n",
    "imshow(data_on[:,:,0],extent=(cs[0]+1,cs[-1]+1,ds[0]+1,ds[-1]+1),origin=\"lower\", aspect=\"auto\",cmap=cmap,alpha=0.5)\n",
    "c_thr_on,d_thr_on = on.get_transition_line()#extract macroscopic cavity transition line\n",
    "plot(c_thr_on+1,1+d_thr_on,'k--',lw=2,label=\"cavity\")\n",
    "\n",
    "\n",
    "cbar=colorbar(cmap=cmap)\n",
    "#cbar.ax.set_ylabel('Average gene activation', rotation=270)\n",
    "ylim(ds[0]+1,ds[-1]+1)\n",
    "\n",
    "\n",
    "\n",
    "\n",
    "xlabel(\"$\\\\langle d^{\\mathrm{in}} \\\\rangle$\",fontsize=13)\n",
    "ylabel(\"$\\\\langle c^{\\mathrm{in}} \\\\rangle$\",fontsize=13)\n",
    "legend()\n",
    "\n",
    "cbar.set_label(\"$g$\",rotation=90,fontsize=12,labelpad=-5)\n",
    "cbar.set_ticks([0,np.max(data_on[:,:,0])])\n",
    "cbar.patch.set_facecolor(\"none\")\n",
    "i=np.argmin(abs(ds -4))\n",
    "axvline(cs[i]+1,ls=\":\",color = 'blue')\n",
    "tight_layout()\n",
    "#savefig(\"TF_on.pdf\")\n"
   ]
  },
  {
   "cell_type": "markdown",
   "metadata": {},
   "source": [
    "#### stability of the non percolating phase"
   ]
  },
  {
   "cell_type": "code",
   "execution_count": 9,
   "metadata": {},
   "outputs": [
    {
     "data": {
      "image/png": "[encoded data removed]",
      "text/plain": [
       "<Figure size 244.08x150.85 with 2 Axes>"
      ]
     },
     "metadata": {
      "needs_background": "light"
     },
     "output_type": "display_data"
    }
   ],
   "source": [
    "c_thr_off,d_thr_off = off.get_transition_line()\n",
    "imshow(data_off[:,:,0],extent=(cs[0]+1,cs[-1]+1,ds[0]+1,ds[-1]+1),origin=\"lower\", aspect=\"auto\",cmap=cmap,alpha=0.5)\n",
    "\n",
    "ylim(ds[0]+1,ds[-1]+1)\n",
    "\n",
    "plot(c_thr_off+1,d_thr_off+1,\"--k\",lw=2,label=\"cavity\")\n",
    "\n",
    "xlabel(\"$\\\\langle d^{\\mathrm{in}} \\\\rangle$\",fontsize=13)\n",
    "ylabel(\"$\\\\langle c^{\\mathrm{in}} \\\\rangle$\",fontsize=13)\n",
    "cbar=colorbar()\n",
    "cbar.set_label(\"$g$\",rotation=90,fontsize=12,labelpad=-5)\n",
    "cbar.set_ticks([np.min(data_off[:,:,0][:]),1])\n",
    "axvline(cs[i]+1,ls=\":\",color = 'r')\n",
    "legend()\n",
    "tight_layout()\n",
    "#savefig(\"TF_off.pdf\")\n"
   ]
  },
  {
   "cell_type": "markdown",
   "metadata": {},
   "source": [
    "#### Difference between the two to highlight histeresis"
   ]
  },
  {
   "cell_type": "code",
   "execution_count": 60,
   "metadata": {},
   "outputs": [
    {
     "data": {
      "image/png": "[encoded data removed]",
      "text/plain": [
       "<Figure size 244.08x150.85 with 2 Axes>"
      ]
     },
     "metadata": {
      "needs_background": "light"
     },
     "output_type": "display_data"
    }
   ],
   "source": [
    "#figure(figsize=(4,3))\n",
    "#title(\"Gene expr. level,RC initially on - off \")\n",
    "imshow(np.abs(data_on[:,:,0]-data_off[:,:,0]),extent=(cs[0]+1,cs[-1]+1,ds[0]+1,ds[-1]+1),origin=\"lower\", aspect=\"auto\",vmin = 0,vmax = 1,cmap = 'spring')\n",
    "\n",
    "#plot(cs+1,1+(1-alpha)*where(alpha<1,1,0)+alpha *log(1 + cs*alpha))# for d larger then this,the histeresys begins\n",
    "#plot(cs+1,1+(-1 +exp(cs*alpha) )*alpha+(alpha-1)*where(alpha<1,1,0)) # for d larger then this, the histeresys terminate\n",
    "ylim(ds[0]+1,ds[-1]+1)\n",
    "xlabel(\"$\\\\langle d^{\\mathrm{in}} \\\\rangle$\",fontsize=13)\n",
    "ylabel(\"$\\\\langle c^{\\mathrm{in}} \\\\rangle$\",fontsize=13)\n",
    "plot(c_thr_on+1,d_thr_on+1,\"-k\",lw=2)\n",
    "plot(c_thr_off+1,d_thr_off+1,\"-k\",lw=2,label=\"cavity\")\n",
    "legend()\n",
    "cbar=colorbar()\n",
    "#cbar.set_label(\"$g_{on}-g_{off}$\",rotation=90,fontsize=12,labelpad=-15)\n",
    "cbar.set_ticks([0,1])\n",
    "tight_layout()\n",
    "savefig(\"histeresys.pdf\")"
   ]
  },
  {
   "cell_type": "markdown",
   "metadata": {},
   "source": [
    "#### slice in correspondence of the vertical dot dashed line"
   ]
  },
  {
   "cell_type": "code",
   "execution_count": 14,
   "metadata": {},
   "outputs": [
    {
     "name": "stdout",
     "output_type": "stream",
     "text": [
      "4.003333333333333\n"
     ]
    },
    {
     "data": {
      "image/png": "[encoded data removed]",
      "text/plain": [
       "<Figure size 244.08x150.85 with 1 Axes>"
      ]
     },
     "metadata": {
      "needs_background": "light"
     },
     "output_type": "display_data"
    }
   ],
   "source": [
    "\n",
    "plot(ds[::2]+1,data_on[:,i,0][::2],\"s\",c=\"b\",mfc=\"w\",label=\"(a)\")\n",
    "plot(ds[::2]+1,data_off[:,i,0][::2],\"d\",c=\"r\",mfc=\"w\",label=\"(b)\")\n",
    "\n",
    "axvline(d_thr_on[argmin((c_thr_on-cs[i])**2)]+1,c=\"b\",ls=\"--\")\n",
    "axvline(d_thr_off[argmin((c_thr_off-cs[i])**2)]+1,c=\"r\",ls=\"--\")\n",
    "print(cs[i])\n",
    "#legend(fontsize=12)\n",
    "xlabel('$\\\\langle c ^\\mathrm{in}\\\\rangle$',fontsize=13)\n",
    "ylabel(\"$g$\",fontsize=13)\n",
    "plt.legend(fontsize = 12)\n",
    "tight_layout()\n",
    "#savefig(\"slice.pdf\")\n"
   ]
  },
  {
   "cell_type": "code",
   "execution_count": 56,
   "metadata": {},
   "outputs": [
    {
     "data": {
      "text/plain": [
       "57"
      ]
     },
     "execution_count": 56,
     "metadata": {},
     "output_type": "execute_result"
    }
   ],
   "source": [
    "argmin(abs(ds -5))"
   ]
  },
  {
   "cell_type": "code",
   "execution_count": null,
   "metadata": {},
   "outputs": [],
   "source": []
  }
 ],
 "metadata": {
  "kernelspec": {
   "display_name": "Python 3",
   "language": "python",
   "name": "python3"
  },
  "language_info": {
   "codemirror_mode": {
    "name": "ipython",
    "version": 3
   },
   "file_extension": ".py",
   "mimetype": "text/x-python",
   "name": "python",
   "nbconvert_exporter": "python",
   "pygments_lexer": "ipython3",
   "version": "3.8.8"
  }
 },
 "nbformat": 4,
 "nbformat_minor": 2
}
