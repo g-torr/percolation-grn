{
 "cells": [
  {
   "cell_type": "code",
   "execution_count": 1,
   "metadata": {},
   "outputs": [
    {
     "ename": "ModuleNotFoundError",
     "evalue": "No module named 'directed_random_graph'",
     "output_type": "error",
     "traceback": [
      "\u001b[0;31m---------------------------------------------------------------------------\u001b[0m",
      "\u001b[0;31mModuleNotFoundError\u001b[0m                       Traceback (most recent call last)",
      "\u001b[0;32m<ipython-input-1-7328931a43bf>\u001b[0m in \u001b[0;36m<module>\u001b[0;34m\u001b[0m\n\u001b[1;32m      2\u001b[0m \u001b[0mget_ipython\u001b[0m\u001b[0;34m(\u001b[0m\u001b[0;34m)\u001b[0m\u001b[0;34m.\u001b[0m\u001b[0mrun_line_magic\u001b[0m\u001b[0;34m(\u001b[0m\u001b[0;34m'matplotlib'\u001b[0m\u001b[0;34m,\u001b[0m \u001b[0;34m'inline'\u001b[0m\u001b[0;34m)\u001b[0m\u001b[0;34m\u001b[0m\u001b[0;34m\u001b[0m\u001b[0m\n\u001b[1;32m      3\u001b[0m \u001b[0msys\u001b[0m\u001b[0;34m.\u001b[0m\u001b[0mpath\u001b[0m\u001b[0;34m.\u001b[0m\u001b[0minsert\u001b[0m\u001b[0;34m(\u001b[0m\u001b[0;36m0\u001b[0m\u001b[0;34m,\u001b[0m \u001b[0;34m\"../../../lib\"\u001b[0m\u001b[0;34m)\u001b[0m\u001b[0;31m# add the library folder to the path I look for modules\u001b[0m\u001b[0;34m\u001b[0m\u001b[0;34m\u001b[0m\u001b[0m\n\u001b[0;32m----> 4\u001b[0;31m \u001b[0;32mfrom\u001b[0m \u001b[0mdirected_random_graph\u001b[0m \u001b[0;32mimport\u001b[0m \u001b[0;34m*\u001b[0m\u001b[0;31m# this is the function I wrote\u001b[0m\u001b[0;34m\u001b[0m\u001b[0;34m\u001b[0m\u001b[0m\n\u001b[0m\u001b[1;32m      5\u001b[0m \u001b[0;32mfrom\u001b[0m \u001b[0mmultiprocessing\u001b[0m \u001b[0;32mimport\u001b[0m \u001b[0mPool\u001b[0m\u001b[0;34m\u001b[0m\u001b[0;34m\u001b[0m\u001b[0m\n\u001b[1;32m      6\u001b[0m \u001b[0;32mimport\u001b[0m \u001b[0mitertools\u001b[0m\u001b[0;34m\u001b[0m\u001b[0;34m\u001b[0m\u001b[0m\n",
      "\u001b[0;31mModuleNotFoundError\u001b[0m: No module named 'directed_random_graph'"
     ]
    }
   ],
   "source": [
    "from pylab import *\n",
    "%matplotlib inline\n",
    "sys.path.insert(0, \"../../lib\")# add the library folder to the path I look for modules\n",
    "from directed_random_graph import *# this is the function I wrote\n",
    "from multiprocessing import Pool\n",
    "import itertools\n",
    "import pickle\n",
    "import component\n",
    "import latexify"
   ]
  },
  {
   "cell_type": "code",
   "execution_count": null,
   "metadata": {},
   "outputs": [],
   "source": [
    "def SCC_nonlinear(BG,Genes,TFs,process=0):\n",
    "    '''Return the subgraph in the SCC, and then removes TFs whose in degree is not the same as initially '''\n",
    "    BG_filtered=BG.copy()\n",
    "    BG_tf=dict(BG.in_degree(TFs))# dictionary of in degree for TF in the bipartite graph\n",
    "    count=0\n",
    "    while True:\n",
    "        Gc=max(nx.strongly_connected_component_subgraphs(BG_filtered), key=len)\n",
    "        #print(len(Gc),len(BG_filtered))\n",
    "        #print(BG_filtered.nodes())\n",
    "        if len(Gc)==len(BG_filtered):\n",
    "            print(\"number of deletion iterations:\",count)\n",
    "            return BG_filtered,count\n",
    "        count+=1\n",
    "        \n",
    "        Gc_G=set(Gc.nodes()).intersection(Genes)# set of genes in the giant cluster\n",
    "        Gc_tf=dict(Gc.in_degree(TFs))# dictionary of in degree for TF in the SCC\n",
    "        filtered={v for v,k in Gc_tf.items() if BG_tf[v]==k} # filtered dictionary of SCC if TF has same indegree as initially\n",
    "        #BG_filtered.remove_nodes_from([n for n in BG_filtered if n not in set(filtered).union(Gc_G)])#remove TFs with wrond in-degree and Genes not in SCC\n",
    "        BG_filtered=BG_filtered.subgraph(set(filtered).union(Gc_G)).copy()\n",
    "        #print(set(filtered),Gc_G)"
   ]
  },
  {
   "cell_type": "markdown",
   "metadata": {},
   "source": [
    "## Fluctuation over many  repetition "
   ]
  },
  {
   "cell_type": "code",
   "execution_count": 3,
   "metadata": {},
   "outputs": [
    {
     "name": "stdout",
     "output_type": "stream",
     "text": [
      "number of deletion iterations: 1\n",
      "number of deletion iterations: 1\n",
      "number of deletion iterations: 1\n",
      "number of deletion iterations: 1\n",
      "number of deletion iterations: 1\n",
      "number of deletion iterations: 1\n",
      "number of deletion iterations: 1\n",
      "number of deletion iterations: 1\n",
      "number of deletion iterations: 1\n",
      "number of deletion iterations: 1\n",
      "number of deletion iterations: 1\n",
      "number of deletion iterations: 1\n",
      "number of deletion iterations: 1\n",
      "number of deletion iterations: 1\n",
      "number of deletion iterations: 1\n",
      "number of deletion iterations: 1\n",
      "number of deletion iterations: 1\n",
      "number of deletion iterations: 1\n",
      "number of deletion iterations: 1\n",
      "number of deletion iterations: 1\n",
      "number of deletion iterations: 1\n",
      "number of deletion iterations: 1\n",
      "number of deletion iterations: 1\n",
      "number of deletion iterations: 1\n",
      "number of deletion iterations: 1\n",
      "number of deletion iterations: 1\n",
      "number of deletion iterations: 1\n",
      "number of deletion iterations: 1\n",
      "number of deletion iterations: 1\n",
      "number of deletion iterations: 1\n",
      "number of deletion iterations: 1\n",
      "number of deletion iterations: 1\n",
      "number of deletion iterations: 1\n",
      "number of deletion iterations: 1\n",
      "number of deletion iterations: 1\n",
      "number of deletion iterations: 1\n",
      "number of deletion iterations: 1\n",
      "number of deletion iterations: 1\n",
      "number of deletion iterations: 1\n",
      "number of deletion iterations: 1\n",
      "number of deletion iterations: 1\n",
      "number of deletion iterations: 1\n",
      "number of deletion iterations: 1\n",
      "number of deletion iterations: 1\n",
      "number of deletion iterations: 1\n",
      "number of deletion iterations: 1\n",
      "number of deletion iterations: 1\n",
      "number of deletion iterations: 1\n",
      "number of deletion iterations: 1\n",
      "number of deletion iterations: 1\n",
      "number of deletion iterations: 1\n",
      "number of deletion iterations: 1\n",
      "number of deletion iterations: 1\n",
      "number of deletion iterations: 1\n",
      "number of deletion iterations: 1\n",
      "number of deletion iterations: 1\n",
      "number of deletion iterations: 1\n",
      "number of deletion iterations: 1\n",
      "number of deletion iterations: 1\n",
      "number of deletion iterations: 1\n",
      "number of deletion iterations: 1\n",
      "number of deletion iterations: 1\n",
      "number of deletion iterations: 1\n",
      "number of deletion iterations: 1\n",
      "number of deletion iterations: 1\n",
      "number of deletion iterations: 1\n",
      "number of deletion iterations: 1\n",
      "number of deletion iterations: 1\n",
      "number of deletion iterations: 1\n",
      "number of deletion iterations: 1\n",
      "number of deletion iterations: 1\n",
      "number of deletion iterations: 1\n",
      "number of deletion iterations: 1\n",
      "number of deletion iterations: 1\n",
      "number of deletion iterations: 1\n",
      "number of deletion iterations: 1\n",
      "number of deletion iterations: 1\n",
      "number of deletion iterations: 1\n"
     ]
    },
    {
     "ename": "KeyboardInterrupt",
     "evalue": "",
     "output_type": "error",
     "traceback": [
      "\u001b[0;31m---------------------------------------------------------------------------\u001b[0m",
      "\u001b[0;31mTypeError\u001b[0m                                 Traceback (most recent call last)",
      "\u001b[0;32m~/anaconda3/lib/python3.7/site-packages/networkx/classes/digraph.py\u001b[0m in \u001b[0;36madd_nodes_from\u001b[0;34m(self, nodes_for_adding, **attr)\u001b[0m\n\u001b[1;32m    463\u001b[0m             \u001b[0;32mtry\u001b[0m\u001b[0;34m:\u001b[0m\u001b[0;34m\u001b[0m\u001b[0m\n\u001b[0;32m--> 464\u001b[0;31m                 \u001b[0;32mif\u001b[0m \u001b[0mn\u001b[0m \u001b[0;32mnot\u001b[0m \u001b[0;32min\u001b[0m \u001b[0mself\u001b[0m\u001b[0;34m.\u001b[0m\u001b[0m_succ\u001b[0m\u001b[0;34m:\u001b[0m\u001b[0;34m\u001b[0m\u001b[0m\n\u001b[0m\u001b[1;32m    465\u001b[0m                     \u001b[0mself\u001b[0m\u001b[0;34m.\u001b[0m\u001b[0m_succ\u001b[0m\u001b[0;34m[\u001b[0m\u001b[0mn\u001b[0m\u001b[0;34m]\u001b[0m \u001b[0;34m=\u001b[0m \u001b[0mself\u001b[0m\u001b[0;34m.\u001b[0m\u001b[0madjlist_inner_dict_factory\u001b[0m\u001b[0;34m(\u001b[0m\u001b[0;34m)\u001b[0m\u001b[0;34m\u001b[0m\u001b[0m\n",
      "\u001b[0;31mTypeError\u001b[0m: unhashable type: 'dict'",
      "\nDuring handling of the above exception, another exception occurred:\n",
      "\u001b[0;31mKeyboardInterrupt\u001b[0m                         Traceback (most recent call last)",
      "\u001b[0;32m<ipython-input-3-6d6d117a94f7>\u001b[0m in \u001b[0;36m<module>\u001b[0;34m()\u001b[0m\n\u001b[1;32m      8\u001b[0m     \u001b[0mTFs\u001b[0m\u001b[0;34m=\u001b[0m\u001b[0marange\u001b[0m\u001b[0;34m(\u001b[0m\u001b[0mN1\u001b[0m\u001b[0;34m,\u001b[0m\u001b[0mN1\u001b[0m\u001b[0;34m+\u001b[0m\u001b[0mN2\u001b[0m\u001b[0;34m)\u001b[0m\u001b[0;34m\u001b[0m\u001b[0m\n\u001b[1;32m      9\u001b[0m     \u001b[0mGenes\u001b[0m\u001b[0;34m=\u001b[0m\u001b[0marange\u001b[0m\u001b[0;34m(\u001b[0m\u001b[0;36m0\u001b[0m\u001b[0;34m,\u001b[0m\u001b[0mN1\u001b[0m\u001b[0;34m)\u001b[0m\u001b[0;34m\u001b[0m\u001b[0m\n\u001b[0;32m---> 10\u001b[0;31m     \u001b[0mSG\u001b[0m\u001b[0;34m,\u001b[0m\u001b[0mcount\u001b[0m\u001b[0;34m=\u001b[0m\u001b[0mSCC_nonlinear\u001b[0m\u001b[0;34m(\u001b[0m\u001b[0mBG\u001b[0m\u001b[0;34m,\u001b[0m\u001b[0mGenes\u001b[0m\u001b[0;34m,\u001b[0m\u001b[0mTFs\u001b[0m\u001b[0;34m)\u001b[0m\u001b[0;34m\u001b[0m\u001b[0m\n\u001b[0m\u001b[1;32m     11\u001b[0m     \u001b[0mdata\u001b[0m\u001b[0;34m+=\u001b[0m\u001b[0;34m[\u001b[0m\u001b[0;34m[\u001b[0m\u001b[0mlen\u001b[0m\u001b[0;34m(\u001b[0m\u001b[0mset\u001b[0m\u001b[0;34m(\u001b[0m\u001b[0mSG\u001b[0m\u001b[0;34m.\u001b[0m\u001b[0mnodes\u001b[0m\u001b[0;34m(\u001b[0m\u001b[0;34m)\u001b[0m\u001b[0;34m)\u001b[0m\u001b[0;34m.\u001b[0m\u001b[0mintersection\u001b[0m\u001b[0;34m(\u001b[0m\u001b[0mGenes\u001b[0m\u001b[0;34m)\u001b[0m\u001b[0;34m)\u001b[0m\u001b[0;34m,\u001b[0m\u001b[0mlen\u001b[0m\u001b[0;34m(\u001b[0m\u001b[0mset\u001b[0m\u001b[0;34m(\u001b[0m\u001b[0mSG\u001b[0m\u001b[0;34m.\u001b[0m\u001b[0mnodes\u001b[0m\u001b[0;34m(\u001b[0m\u001b[0;34m)\u001b[0m\u001b[0;34m)\u001b[0m\u001b[0;34m.\u001b[0m\u001b[0mintersection\u001b[0m\u001b[0;34m(\u001b[0m\u001b[0mTFs\u001b[0m\u001b[0;34m)\u001b[0m\u001b[0;34m)\u001b[0m\u001b[0;34m]\u001b[0m\u001b[0;34m]\u001b[0m\u001b[0;34m\u001b[0m\u001b[0m\n\u001b[1;32m     12\u001b[0m \u001b[0;31m#Gc=max(nx.strongly_connected_component_subgraphs(BG), key=len)\u001b[0m\u001b[0;34m\u001b[0m\u001b[0;34m\u001b[0m\u001b[0m\n",
      "\u001b[0;32m<ipython-input-2-99ea63e1cdec>\u001b[0m in \u001b[0;36mSCC_nonlinear\u001b[0;34m(BG, Genes, TFs, process)\u001b[0m\n\u001b[1;32m      5\u001b[0m     \u001b[0mcount\u001b[0m\u001b[0;34m=\u001b[0m\u001b[0;36m0\u001b[0m\u001b[0;34m\u001b[0m\u001b[0m\n\u001b[1;32m      6\u001b[0m     \u001b[0;32mwhile\u001b[0m \u001b[0;32mTrue\u001b[0m\u001b[0;34m:\u001b[0m\u001b[0;34m\u001b[0m\u001b[0m\n\u001b[0;32m----> 7\u001b[0;31m         \u001b[0mGc\u001b[0m\u001b[0;34m=\u001b[0m\u001b[0mmax\u001b[0m\u001b[0;34m(\u001b[0m\u001b[0mnx\u001b[0m\u001b[0;34m.\u001b[0m\u001b[0mstrongly_connected_component_subgraphs\u001b[0m\u001b[0;34m(\u001b[0m\u001b[0mBG_filtered\u001b[0m\u001b[0;34m)\u001b[0m\u001b[0;34m,\u001b[0m \u001b[0mkey\u001b[0m\u001b[0;34m=\u001b[0m\u001b[0mlen\u001b[0m\u001b[0;34m)\u001b[0m\u001b[0;34m\u001b[0m\u001b[0m\n\u001b[0m\u001b[1;32m      8\u001b[0m         \u001b[0;31m#print(len(Gc),len(BG_filtered))\u001b[0m\u001b[0;34m\u001b[0m\u001b[0;34m\u001b[0m\u001b[0m\n\u001b[1;32m      9\u001b[0m         \u001b[0;31m#print(BG_filtered.nodes())\u001b[0m\u001b[0;34m\u001b[0m\u001b[0;34m\u001b[0m\u001b[0m\n",
      "\u001b[0;32m~/anaconda3/lib/python3.7/site-packages/networkx/algorithms/components/strongly_connected.py\u001b[0m in \u001b[0;36mstrongly_connected_component_subgraphs\u001b[0;34m(G, copy)\u001b[0m\n\u001b[1;32m    281\u001b[0m     \u001b[0;32mfor\u001b[0m \u001b[0mc\u001b[0m \u001b[0;32min\u001b[0m \u001b[0mstrongly_connected_components\u001b[0m\u001b[0;34m(\u001b[0m\u001b[0mG\u001b[0m\u001b[0;34m)\u001b[0m\u001b[0;34m:\u001b[0m\u001b[0;34m\u001b[0m\u001b[0m\n\u001b[1;32m    282\u001b[0m         \u001b[0;32mif\u001b[0m \u001b[0mcopy\u001b[0m\u001b[0;34m:\u001b[0m\u001b[0;34m\u001b[0m\u001b[0m\n\u001b[0;32m--> 283\u001b[0;31m             \u001b[0;32myield\u001b[0m \u001b[0mG\u001b[0m\u001b[0;34m.\u001b[0m\u001b[0msubgraph\u001b[0m\u001b[0;34m(\u001b[0m\u001b[0mc\u001b[0m\u001b[0;34m)\u001b[0m\u001b[0;34m.\u001b[0m\u001b[0mcopy\u001b[0m\u001b[0;34m(\u001b[0m\u001b[0;34m)\u001b[0m\u001b[0;34m\u001b[0m\u001b[0m\n\u001b[0m\u001b[1;32m    284\u001b[0m         \u001b[0;32melse\u001b[0m\u001b[0;34m:\u001b[0m\u001b[0;34m\u001b[0m\u001b[0m\n\u001b[1;32m    285\u001b[0m             \u001b[0;32myield\u001b[0m \u001b[0mG\u001b[0m\u001b[0;34m.\u001b[0m\u001b[0msubgraph\u001b[0m\u001b[0;34m(\u001b[0m\u001b[0mc\u001b[0m\u001b[0;34m)\u001b[0m\u001b[0;34m\u001b[0m\u001b[0m\n",
      "\u001b[0;32m~/anaconda3/lib/python3.7/site-packages/networkx/classes/graph.py\u001b[0m in \u001b[0;36mcopy\u001b[0;34m(self, as_view)\u001b[0m\n\u001b[1;32m   1528\u001b[0m         \u001b[0mG\u001b[0m \u001b[0;34m=\u001b[0m \u001b[0mself\u001b[0m\u001b[0;34m.\u001b[0m\u001b[0m__class__\u001b[0m\u001b[0;34m(\u001b[0m\u001b[0;34m)\u001b[0m\u001b[0;34m\u001b[0m\u001b[0m\n\u001b[1;32m   1529\u001b[0m         \u001b[0mG\u001b[0m\u001b[0;34m.\u001b[0m\u001b[0mgraph\u001b[0m\u001b[0;34m.\u001b[0m\u001b[0mupdate\u001b[0m\u001b[0;34m(\u001b[0m\u001b[0mself\u001b[0m\u001b[0;34m.\u001b[0m\u001b[0mgraph\u001b[0m\u001b[0;34m)\u001b[0m\u001b[0;34m\u001b[0m\u001b[0m\n\u001b[0;32m-> 1530\u001b[0;31m         \u001b[0mG\u001b[0m\u001b[0;34m.\u001b[0m\u001b[0madd_nodes_from\u001b[0m\u001b[0;34m(\u001b[0m\u001b[0;34m(\u001b[0m\u001b[0mn\u001b[0m\u001b[0;34m,\u001b[0m \u001b[0md\u001b[0m\u001b[0;34m.\u001b[0m\u001b[0mcopy\u001b[0m\u001b[0;34m(\u001b[0m\u001b[0;34m)\u001b[0m\u001b[0;34m)\u001b[0m \u001b[0;32mfor\u001b[0m \u001b[0mn\u001b[0m\u001b[0;34m,\u001b[0m \u001b[0md\u001b[0m \u001b[0;32min\u001b[0m \u001b[0mself\u001b[0m\u001b[0;34m.\u001b[0m\u001b[0m_node\u001b[0m\u001b[0;34m.\u001b[0m\u001b[0mitems\u001b[0m\u001b[0;34m(\u001b[0m\u001b[0;34m)\u001b[0m\u001b[0;34m)\u001b[0m\u001b[0;34m\u001b[0m\u001b[0m\n\u001b[0m\u001b[1;32m   1531\u001b[0m         G.add_edges_from((u, v, datadict.copy())\n\u001b[1;32m   1532\u001b[0m                          \u001b[0;32mfor\u001b[0m \u001b[0mu\u001b[0m\u001b[0;34m,\u001b[0m \u001b[0mnbrs\u001b[0m \u001b[0;32min\u001b[0m \u001b[0mself\u001b[0m\u001b[0;34m.\u001b[0m\u001b[0m_adj\u001b[0m\u001b[0;34m.\u001b[0m\u001b[0mitems\u001b[0m\u001b[0;34m(\u001b[0m\u001b[0;34m)\u001b[0m\u001b[0;34m\u001b[0m\u001b[0m\n",
      "\u001b[0;32m~/anaconda3/lib/python3.7/site-packages/networkx/classes/digraph.py\u001b[0m in \u001b[0;36madd_nodes_from\u001b[0;34m(self, nodes_for_adding, **attr)\u001b[0m\n\u001b[1;32m    474\u001b[0m                     \u001b[0mself\u001b[0m\u001b[0;34m.\u001b[0m\u001b[0m_pred\u001b[0m\u001b[0;34m[\u001b[0m\u001b[0mnn\u001b[0m\u001b[0;34m]\u001b[0m \u001b[0;34m=\u001b[0m \u001b[0mself\u001b[0m\u001b[0;34m.\u001b[0m\u001b[0madjlist_inner_dict_factory\u001b[0m\u001b[0;34m(\u001b[0m\u001b[0;34m)\u001b[0m\u001b[0;34m\u001b[0m\u001b[0m\n\u001b[1;32m    475\u001b[0m                     \u001b[0mnewdict\u001b[0m \u001b[0;34m=\u001b[0m \u001b[0mattr\u001b[0m\u001b[0;34m.\u001b[0m\u001b[0mcopy\u001b[0m\u001b[0;34m(\u001b[0m\u001b[0;34m)\u001b[0m\u001b[0;34m\u001b[0m\u001b[0m\n\u001b[0;32m--> 476\u001b[0;31m                     \u001b[0mnewdict\u001b[0m\u001b[0;34m.\u001b[0m\u001b[0mupdate\u001b[0m\u001b[0;34m(\u001b[0m\u001b[0mndict\u001b[0m\u001b[0;34m)\u001b[0m\u001b[0;34m\u001b[0m\u001b[0m\n\u001b[0m\u001b[1;32m    477\u001b[0m                     \u001b[0mself\u001b[0m\u001b[0;34m.\u001b[0m\u001b[0m_node\u001b[0m\u001b[0;34m[\u001b[0m\u001b[0mnn\u001b[0m\u001b[0;34m]\u001b[0m \u001b[0;34m=\u001b[0m \u001b[0mnewdict\u001b[0m\u001b[0;34m\u001b[0m\u001b[0m\n\u001b[1;32m    478\u001b[0m                 \u001b[0;32melse\u001b[0m\u001b[0;34m:\u001b[0m\u001b[0;34m\u001b[0m\u001b[0m\n",
      "\u001b[0;31mKeyboardInterrupt\u001b[0m: "
     ]
    }
   ],
   "source": [
    "N1=10000\n",
    "N2=10000\n",
    "c=1\n",
    "d=4\n",
    "data=[]\n",
    "for i in range(100):\n",
    "    _,BG=create_bipartite(N1,N2,d,c)\n",
    "    TFs=arange(N1,N1+N2)\n",
    "    Genes=arange(0,N1)\n",
    "    SG,count=SCC_nonlinear(BG,Genes,TFs)\n",
    "    data+=[[len(set(SG.nodes()).intersection(Genes)),len(set(SG.nodes()).intersection(TFs))]]\n",
    "#Gc=max(nx.strongly_connected_component_subgraphs(BG), key=len)\n",
    "#Gc_G=set(Gc.nodes()).intersection(Genes)# set of genes in the giant cluster\n",
    "data=array(data)"
   ]
  },
  {
   "cell_type": "code",
   "execution_count": 127,
   "metadata": {},
   "outputs": [
    {
     "name": "stdout",
     "output_type": "stream",
     "text": [
      "average fraction of genes in SCC non linear 0.985626\n",
      "average fraction of TFs in SCC non linear 0.854728\n"
     ]
    },
    {
     "data": {
      "image/png": "[encoded data removed]",
      "text/plain": [
       "<Figure size 432x288 with 1 Axes>"
      ]
     },
     "metadata": {
      "needs_background": "light"
     },
     "output_type": "display_data"
    },
    {
     "data": {
      "image/png": "[encoded data removed]",
      "text/plain": [
       "<Figure size 432x288 with 1 Axes>"
      ]
     },
     "metadata": {
      "needs_background": "light"
     },
     "output_type": "display_data"
    }
   ],
   "source": [
    "h,b=histogram(data[:,0]/N1,50)\n",
    "bar((b[-1]+b[1:])/2,h/sum(h),diff(b))\n",
    "title(\"hist of genes in non-linear SCC\")\n",
    "ylabel(\"frequency ( out of 100 trials)\")\n",
    "print(\"average fraction of genes in SCC non linear\",mean(data[:,0])/N1)\n",
    "figure()\n",
    "h,b=histogram(data[:,1]/N2)\n",
    "bar((b[-1]+b[1:])/2,h/sum(h),diff(b))\n",
    "title(\"hist of TFs in SCC\")\n",
    "ylabel(\"frequency ( out of 100 trials)\")\n",
    "print(\"average fraction of TFs in SCC non linear\",mean(data[:,1])/N2)\n"
   ]
  },
  {
   "cell_type": "markdown",
   "metadata": {},
   "source": [
    "## Fixed c"
   ]
  },
  {
   "cell_type": "code",
   "execution_count": 4,
   "metadata": {},
   "outputs": [
    {
     "name": "stdout",
     "output_type": "stream",
     "text": [
      "number of deletion iterations: 1\n",
      "number of deletion iterations: 1\n",
      "number of deletion iterations: 1\n",
      "number of deletion iterations: 1\n",
      "number of deletion iterations: 1\n",
      "number of deletion iterations: 1\n",
      "number of deletion iterations: 1\n",
      "number of deletion iterations: 3\n",
      "number of deletion iterations: 3\n",
      "number of deletion iterations: 1\n",
      "number of deletion iterations: 1\n",
      "number of deletion iterations: 1\n",
      "number of deletion iterations: 31\n",
      "number of deletion iterations: 23\n",
      "number of deletion iterations: 1\n",
      "number of deletion iterations: 1\n",
      "number of deletion iterations: 1\n",
      "number of deletion iterations: 1\n",
      "number of deletion iterations: 1\n",
      "number of deletion iterations: 1\n",
      "number of deletion iterations: 1\n",
      "number of deletion iterations: 1\n",
      "number of deletion iterations: 1\n",
      "number of deletion iterations: 1\n",
      "number of deletion iterations: 1\n",
      "number of deletion iterations: 1\n",
      "number of deletion iterations: 1\n",
      "number of deletion iterations: 1\n",
      "number of deletion iterations: 1\n",
      "number of deletion iterations: 1\n",
      "number of deletion iterations: 1\n",
      "number of deletion iterations: 1\n",
      "number of deletion iterations: 1\n",
      "number of deletion iterations: 1\n",
      "number of deletion iterations: 1\n",
      "number of deletion iterations: 1\n",
      "number of deletion iterations: 1\n",
      "number of deletion iterations: 11\n",
      "number of deletion iterations: 1\n",
      "number of deletion iterations: 1\n"
     ]
    }
   ],
   "source": [
    "N1=10000\n",
    "N2=10000\n",
    "c=0.5\n",
    "data=[]\n",
    "counts=[]\n",
    "ds=linspace(0.01,3,40)\n",
    "for d in ds:\n",
    "    _,BG=create_bipartite(N1,N2,d,c)\n",
    "    TFs=arange(N1,N1+N2)\n",
    "    Genes=arange(0,N1)\n",
    "    SG,count=SCC_nonlinear(BG,Genes,TFs)\n",
    "    data+=[[len(set(SG.nodes()).intersection(Genes)),len(set(SG.nodes()).intersection(TFs))]]\n",
    "    counts+=[count]\n",
    "data=array(data)"
   ]
  },
  {
   "cell_type": "code",
   "execution_count": 13,
   "metadata": {},
   "outputs": [
    {
     "data": {
      "image/png": "[encoded data removed]",
      "text/plain": [
       "<Figure size 244.08x150.85 with 1 Axes>"
      ]
     },
     "metadata": {
      "needs_background": "light"
     },
     "output_type": "display_data"
    }
   ],
   "source": [
    "latexify.latexify(columns=2)\n",
    "cmap = plt.get_cmap('brg')\n",
    "plot(1+ds,data[:,0]/N1,\"o\",color= cmap(0.4),mfc=\"w\",label=\"Genes\")\n",
    "plot(1+ds,data[:,1]/N2,\"s\",color= cmap(0.9),ms=8,mfc=\"w\",label=\"TF\",alpha=0.5)\n",
    "axvline(exp(c))\n",
    "#ylim(0.7,1)\n",
    "data_num=array([component.num_corrected(d,c,1).in_component for d in ds])\n",
    "plot(1+ds,data_num[:,0],\"r\",alpha=0.8)\n",
    "plot([1,max(ds)+1],[0,0],\"r\",alpha=0.8)\n",
    "#plot(1+ds[ds>exp(c)-1],data_num[:,0][ds>exp(c)-1],\"--r\",alpha=0.8)\n",
    "\n",
    "plot(1+ds,data_num[:,1],\"g\",alpha=0.8)\n",
    "#plot(1+ds[ds>exp(c)-1],data_num[:,1][ds>exp(c)-1],\"--g\",alpha=0.8)\n",
    "plot([1,1+max(ds)],[0,0],\"g\",alpha=0.7)\n",
    "\n",
    "xlabel(\"$\\\\langle c^{\\mathrm{in}}\\\\rangle $\",fontsize=13)\n",
    "ylabel(\"Fraction nodes in aSCC\")\n",
    "#title(\"c=\"+str(c))\n",
    "legend()\n",
    "tight_layout()\n",
    "#savefig(\"non-linearSCC.pdf\")\n"
   ]
  },
  {
   "cell_type": "code",
   "execution_count": 14,
   "metadata": {},
   "outputs": [
    {
     "data": {
      "text/plain": [
       "array([[0.82393333, 0.71086667]])"
      ]
     },
     "execution_count": 14,
     "metadata": {},
     "output_type": "execute_result"
    }
   ],
   "source": [
    "data[array(counts)>20]/N1"
   ]
  },
  {
   "cell_type": "markdown",
   "metadata": {},
   "source": [
    "## Test on a large network"
   ]
  },
  {
   "cell_type": "markdown",
   "metadata": {},
   "source": [
    "Procedure above consists in consecutive  node pruning. However, we observe that one iteration is usually enough. In fact, number of nodes returned by this procedure is consistent with the fraction of nodes in SCC as predicted by linear dynamics. To understand why I am exploring the properties of linear SCC.\n",
    "\n",
    "In general non-linear SCC is very similar to linear SCC. The reason being is that SCC eliminates all TFs with out-degree 0, then it eliminates the predecessors genes if the out  degree of these genes is 1 (or they bind to other TFs not in SCC). If these genes had successors in SCC, they would belong in SCC. New TF will have out degree 0, and we keep eliminating like that.  We end up eliminating TF with low out degree ( see histogram of out degree of TF not in SCC). When this iterative procedure ends, the AND constrain is satisfied as well.\n",
    "\n",
    "A very peculiar case is when a gene $i$ has a bidirectional link to a TF $\\mu$ which is not in SCC. Other successors/predecessors of $i$ will be affected, and will produce the case of a gene not being in SCC, but with TF in SCC. This violate the AND condition, therefore TF will be eliminated."
   ]
  },
  {
   "cell_type": "code",
   "execution_count": 14,
   "metadata": {},
   "outputs": [
    {
     "name": "stdout",
     "output_type": "stream",
     "text": [
      "number of deletion iterations: 1\n",
      "number of deletion iterations: 1\n",
      "number of deletion iterations: 1\n",
      "number of deletion iterations: 1\n",
      "number of deletion iterations: 1\n",
      "number of deletion iterations: 1\n",
      "number of deletion iterations: 1\n",
      "number of deletion iterations: 1\n",
      "number of deletion iterations: 1\n",
      "number of deletion iterations: 1\n",
      "number of deletion iterations: 1\n",
      "number of deletion iterations: 1\n",
      "number of deletion iterations: 1\n",
      "number of deletion iterations: 1\n",
      "number of deletion iterations: 1\n",
      "number of deletion iterations: 1\n",
      "number of deletion iterations: 1\n",
      "number of deletion iterations: 1\n",
      "number of deletion iterations: 1\n",
      "number of deletion iterations: 1\n",
      "number of deletion iterations: 1\n",
      "number of deletion iterations: 1\n",
      "number of deletion iterations: 1\n",
      "number of deletion iterations: 1\n",
      "number of deletion iterations: 1\n",
      "number of deletion iterations: 1\n",
      "number of deletion iterations: 1\n",
      "number of deletion iterations: 1\n",
      "number of deletion iterations: 1\n",
      "number of deletion iterations: 1\n",
      "number of deletion iterations: 1\n",
      "number of deletion iterations: 1\n",
      "number of deletion iterations: 1\n",
      "number of deletion iterations: 1\n",
      "number of deletion iterations: 1\n",
      "number of deletion iterations: 1\n",
      "number of deletion iterations: 1\n",
      "number of deletion iterations: 1\n",
      "number of deletion iterations: 1\n",
      "number of deletion iterations: 1\n",
      "number of deletion iterations: 1\n",
      "number of deletion iterations: 1\n",
      "number of deletion iterations: 1\n",
      "number of deletion iterations: 1\n",
      "number of deletion iterations: 1\n",
      "number of deletion iterations: 1\n",
      "number of deletion iterations: 1\n",
      "number of deletion iterations: 1\n",
      "number of deletion iterations: 1\n",
      "number of deletion iterations: 1\n",
      "number of deletion iterations: 1\n",
      "number of deletion iterations: 1\n",
      "number of deletion iterations: 1\n",
      "number of deletion iterations: 1\n",
      "number of deletion iterations: 1\n",
      "number of deletion iterations: 1\n",
      "number of deletion iterations: 1\n",
      "number of deletion iterations: 1\n",
      "number of deletion iterations: 1\n",
      "number of deletion iterations: 1\n",
      "number of deletion iterations: 1\n",
      "number of deletion iterations: 1\n",
      "number of deletion iterations: 1\n",
      "number of deletion iterations: 1\n",
      "number of deletion iterations: 1\n",
      "number of deletion iterations: 1\n",
      "number of deletion iterations: 1\n",
      "number of deletion iterations: 1\n",
      "number of deletion iterations: 1\n",
      "number of deletion iterations: 1\n",
      "number of deletion iterations: 1\n",
      "number of deletion iterations: 1\n",
      "number of deletion iterations: 1\n",
      "number of deletion iterations: 1\n",
      "number of deletion iterations: 1\n",
      "number of deletion iterations: 1\n",
      "number of deletion iterations: 1\n",
      "number of deletion iterations: 1\n",
      "number of deletion iterations: 1\n",
      "number of deletion iterations: 1\n",
      "number of deletion iterations: 1\n",
      "number of deletion iterations: 1\n",
      "number of deletion iterations: 1\n",
      "number of deletion iterations: 1\n",
      "number of deletion iterations: 1\n",
      "number of deletion iterations: 1\n",
      "number of deletion iterations: 1\n",
      "number of deletion iterations: 1\n",
      "number of deletion iterations: 1\n",
      "number of deletion iterations: 1\n",
      "number of deletion iterations: 1\n",
      "number of deletion iterations: 1\n",
      "number of deletion iterations: 1\n",
      "number of deletion iterations: 1\n",
      "number of deletion iterations: 1\n",
      "number of deletion iterations: 1\n",
      "number of deletion iterations: 1\n",
      "number of deletion iterations: 1\n",
      "number of deletion iterations: 1\n",
      "number of deletion iterations: 1\n",
      "number of deletion iterations: 1\n",
      "number of deletion iterations: 1\n",
      "number of deletion iterations: 1\n",
      "number of deletion iterations: 1\n",
      "number of deletion iterations: 1\n",
      "number of deletion iterations: 1\n",
      "number of deletion iterations: 1\n",
      "number of deletion iterations: 1\n",
      "number of deletion iterations: 1\n",
      "number of deletion iterations: 1\n",
      "number of deletion iterations: 1\n",
      "number of deletion iterations: 1\n",
      "number of deletion iterations: 1\n",
      "number of deletion iterations: 1\n",
      "number of deletion iterations: 1\n",
      "number of deletion iterations: 1\n",
      "number of deletion iterations: 1\n",
      "number of deletion iterations: 1\n",
      "number of deletion iterations: 1\n",
      "number of deletion iterations: 1\n",
      "number of deletion iterations: 1\n",
      "number of deletion iterations: 1\n",
      "number of deletion iterations: 1\n",
      "number of deletion iterations: 1\n",
      "number of deletion iterations: 1\n",
      "number of deletion iterations: 1\n",
      "number of deletion iterations: 1\n",
      "number of deletion iterations: 1\n",
      "number of deletion iterations: 1\n",
      "number of deletion iterations: 1\n",
      "number of deletion iterations: 1\n",
      "number of deletion iterations: 1\n",
      "number of deletion iterations: 1\n",
      "number of deletion iterations: 1\n",
      "number of deletion iterations: 1\n",
      "number of deletion iterations: 1\n",
      "number of deletion iterations: 1\n",
      "number of deletion iterations: 1\n",
      "number of deletion iterations: 1\n",
      "number of deletion iterations: 1\n",
      "number of deletion iterations: 1\n",
      "number of deletion iterations: 1\n",
      "number of deletion iterations: 1\n",
      "number of deletion iterations: 1\n",
      "number of deletion iterations: 1\n",
      "number of deletion iterations: 1\n",
      "number of deletion iterations: 1\n",
      "number of deletion iterations: 1\n",
      "number of deletion iterations: 1\n",
      "number of deletion iterations: 1\n",
      "number of deletion iterations: 1\n",
      "number of deletion iterations: 1\n",
      "number of deletion iterations: 1\n",
      "number of deletion iterations: 1\n",
      "number of deletion iterations: 1\n",
      "number of deletion iterations: 1\n",
      "number of deletion iterations: 1\n",
      "number of deletion iterations: 1\n",
      "number of deletion iterations: 1\n",
      "number of deletion iterations: 1\n",
      "number of deletion iterations: 1\n",
      "number of deletion iterations: 1\n",
      "number of deletion iterations: 1\n",
      "number of deletion iterations: 1\n",
      "number of deletion iterations: 1\n",
      "number of deletion iterations: 1\n",
      "number of deletion iterations: 1\n",
      "number of deletion iterations: 1\n",
      "number of deletion iterations: 1\n",
      "number of deletion iterations: 1\n",
      "number of deletion iterations: 1\n",
      "number of deletion iterations: 1\n",
      "number of deletion iterations: 1\n",
      "number of deletion iterations: 1\n",
      "number of deletion iterations: 1\n",
      "number of deletion iterations: 1\n",
      "number of deletion iterations: 1\n",
      "number of deletion iterations: 1\n",
      "number of deletion iterations: 1\n",
      "number of deletion iterations: 1\n",
      "number of deletion iterations: 4\n"
     ]
    },
    {
     "data": {
      "text/plain": [
       "18433"
      ]
     },
     "execution_count": 14,
     "metadata": {},
     "output_type": "execute_result"
    }
   ],
   "source": [
    "N1=10000\n",
    "N2=10000\n",
    "d=3\n",
    "c=1\n",
    "while True:\n",
    "    _,G=create_bipartite(N1,N2,d,c)\n",
    "    TFs=arange(N1,N1+N2)\n",
    "    Genes=arange(0,N1)\n",
    "    SG,count=SCC_nonlinear(G,Genes,TFs)\n",
    "    if count>1:\n",
    "        break\n",
    "#plot_bipartite(SG)\n",
    "len(SG.nodes())"
   ]
  },
  {
   "cell_type": "code",
   "execution_count": 15,
   "metadata": {},
   "outputs": [
    {
     "name": "stdout",
     "output_type": "stream",
     "text": [
      "18453\n"
     ]
    },
    {
     "data": {
      "text/plain": [
       "9882"
      ]
     },
     "execution_count": 15,
     "metadata": {},
     "output_type": "execute_result"
    }
   ],
   "source": [
    "Gc=max((G.subgraph(c) for c in nx.strongly_connected_components(G)), key=len)\n",
    "print(len(Gc))\n",
    "len(set(Gc.nodes).intersection(Genes))"
   ]
  },
  {
   "cell_type": "code",
   "execution_count": 16,
   "metadata": {},
   "outputs": [
    {
     "name": "stdout",
     "output_type": "stream",
     "text": [
      "fraction of nodes not  belonging to linear SCC:\n",
      "Genes TF\n",
      "118 1429\n"
     ]
    }
   ],
   "source": [
    "t=set(TFs).difference(set(Gc.nodes()))# TFs do not belong to SC\n",
    "g=set(Genes).difference(set(Gc.nodes()))# Genes do not belong to SC\n",
    "print(\"fraction of nodes not  belonging to linear SCC:\\nGenes TF\")\n",
    "print(len(g),len(t))"
   ]
  },
  {
   "cell_type": "markdown",
   "metadata": {},
   "source": [
    "Histogram of out degree of TFs not in SCC.Square box is theory"
   ]
  },
  {
   "cell_type": "code",
   "execution_count": 132,
   "metadata": {},
   "outputs": [
    {
     "data": {
      "text/plain": [
       "[<matplotlib.lines.Line2D at 0x7f61d7b57630>]"
      ]
     },
     "execution_count": 132,
     "metadata": {},
     "output_type": "execute_result"
    },
    {
     "data": {
      "image/png": "[encoded data removed]",
      "text/plain": [
       "<Figure size 432x288 with 1 Axes>"
      ]
     },
     "metadata": {
      "needs_background": "light"
     },
     "output_type": "display_data"
    }
   ],
   "source": [
    "h,bins=histogram(list(dict(G.out_degree(t)).values()))\n",
    "bar((bins[1:]+bins[:-1])/2,h,diff(bins))\n",
    "m=int(round(exp(-c-1)*N1))# number of TF with out degree 0\n",
    "plot(0,exp(-c-1)*N1,\"rs\")\n",
    "# below I compute the probabilities that, given m TFs down, one gene is down \n",
    "#exp(-c+-1)/(c+1)*m/N2*sum([(m/N2*(c+1))**k/math.factorial(k) for k in range(m)]) it is exact\n",
    "#plot(1,exp(-c-1)/(c+1)*m/N2*exp(m/N2*(c+1))*N1,\"rs\")# it is approximation for large m\n",
    "#print(h[h>0],[exp(-c-1)*N1,exp(-c+-1)/(c+1)*m/N2*exp(m/N2*(c+1))*N1])"
   ]
  },
  {
   "cell_type": "markdown",
   "metadata": {},
   "source": [
    "It exists some genes, out-neighbours of TF not in SCC, which belongs to SCC"
   ]
  },
  {
   "cell_type": "code",
   "execution_count": 17,
   "metadata": {},
   "outputs": [
    {
     "name": "stdout",
     "output_type": "stream",
     "text": [
      "34\n",
      "number of successors of TF not in SCC, which are in SCC 2\n"
     ]
    }
   ],
   "source": [
    "e=array(G.out_degree(t))\n",
    "e=array(e)[e[:,1]>0,0] # Tfs not in SCC with out degree greater than 0\n",
    "a,b=zip(*list(G.out_edges(e)))# b are the genes out neigbours of e\n",
    "print(len(b))\n",
    "print(\"number of successors of TF not in SCC, which are in SCC\",count_nonzero(~isin(list(b),list(g)))) \n"
   ]
  },
  {
   "cell_type": "markdown",
   "metadata": {},
   "source": []
  },
  {
   "cell_type": "code",
   "execution_count": 14,
   "metadata": {},
   "outputs": [],
   "source": [
    "#exp(-c-1)*N1\n",
    "#exp(-c-1)*N1*exp(-d)"
   ]
  },
  {
   "cell_type": "code",
   "execution_count": 134,
   "metadata": {
    "scrolled": true
   },
   "outputs": [
    {
     "data": {
      "text/plain": [
       "[<matplotlib.lines.Line2D at 0x7f61db0d88d0>]"
      ]
     },
     "execution_count": 134,
     "metadata": {},
     "output_type": "execute_result"
    },
    {
     "data": {
      "image/png": "[encoded data removed]",
      "text/plain": [
       "<Figure size 432x288 with 1 Axes>"
      ]
     },
     "metadata": {
      "needs_background": "light"
     },
     "output_type": "display_data"
    }
   ],
   "source": [
    "hist(dict(G.out_degree(g)).values())\n",
    "plot(1,sum(h)*exp(-d),\"s\")"
   ]
  },
  {
   "cell_type": "code",
   "execution_count": 330,
   "metadata": {},
   "outputs": [
    {
     "data": {
      "text/plain": [
       "array([1.12067865e+04, 3.70557539e+03, 6.09135680e+02, 7.04108448e+01,\n",
       "       8.18730753e+00])"
      ]
     },
     "execution_count": 330,
     "metadata": {},
     "output_type": "execute_result"
    }
   ],
   "source": []
  },
  {
   "cell_type": "code",
   "execution_count": 135,
   "metadata": {},
   "outputs": [],
   "source": [
    "a,b=zip(*list(G.out_edges(g))) # \"a\" is a list of genes not in SCC, i.e. \"g\" , \"b\"  is the out edge of \"a\" (TFs),  each for any link\n"
   ]
  },
  {
   "cell_type": "code",
   "execution_count": 136,
   "metadata": {},
   "outputs": [
    {
     "name": "stdout",
     "output_type": "stream",
     "text": [
      "this means that it exists 5  links to  TF, outneighbours of genes not in SCC, that do  belong to SCC\n"
     ]
    }
   ],
   "source": [
    "print( \"this means that it exists\",count_nonzero(~isin(b,list(t))),\" links to  TF, outneighbours of genes not in SCC, that do  belong to SCC\")"
   ]
  },
  {
   "cell_type": "code",
   "execution_count": 137,
   "metadata": {},
   "outputs": [
    {
     "name": "stdout",
     "output_type": "stream",
     "text": [
      "[16896 17182 10885 13949 13381] these are  out-neighbours of genes not in SCC, which  are in SCC\n",
      " these are the links that connects a Gene not in SCC to a TF  in  SCC: [{(9341, 16896)}, {(9341, 17182)}, {(203, 10885)}, {(203, 13949)}, {(203, 13381)}]\n"
     ]
    }
   ],
   "source": [
    "l=array(b)[~isin(b,list(t))]# these are  out-neighbours of genes not in SCC, which  are in SCC \n",
    "print(l,\"these are  out-neighbours of genes not in SCC, which  are in SCC\")\n",
    "print(\" these are the links that connects a Gene not in SCC to a TF  in  SCC:\",[set(G.in_edges(x))-set(Gc.in_edges(x)) for x in l])"
   ]
  },
  {
   "cell_type": "code",
   "execution_count": 138,
   "metadata": {},
   "outputs": [
    {
     "data": {
      "text/plain": [
       "{203, 9341}"
      ]
     },
     "execution_count": 138,
     "metadata": {},
     "output_type": "execute_result"
    }
   ],
   "source": [
    "list(G.predecessors(array(a)[b==l[0]][0]))\n",
    "g_bridge_2SCC=set(array(a)[~isin(b,list(t))])# these are genes not in SCC that have successors in SCC\n",
    "g_bridge_2SCC"
   ]
  },
  {
   "cell_type": "code",
   "execution_count": 139,
   "metadata": {},
   "outputs": [],
   "source": [
    "dead_end=set(flatten([list(nx.ancestors(G,i))+[i]+list(G.successors(i)) for i in g_bridge_2SCC]))#ancestrors of genes that have successors in SCC, and their successors "
   ]
  },
  {
   "cell_type": "code",
   "execution_count": 140,
   "metadata": {},
   "outputs": [
    {
     "data": {
      "image/png": "[encoded data removed]",
      "text/plain": [
       "<Figure size 432x288 with 1 Axes>"
      ]
     },
     "metadata": {
      "needs_background": "light"
     },
     "output_type": "display_data"
    }
   ],
   "source": [
    "node_color=[\"c\" if el  in Gc.nodes() else \"r\" for el in dead_end ]# color cyan nodes belonging to SCC\n",
    "plot_bipartite(G,dead_end,node_color)\n"
   ]
  },
  {
   "cell_type": "code",
   "execution_count": 169,
   "metadata": {},
   "outputs": [
    {
     "name": "stdout",
     "output_type": "stream",
     "text": [
      "[3134]\n"
     ]
    },
    {
     "data": {
      "text/plain": [
       "[10932]"
      ]
     },
     "execution_count": 169,
     "metadata": {},
     "output_type": "execute_result"
    }
   ],
   "source": [
    "print([x for x in G.predecessors(10932)])\n",
    "[x for x in G.predecessors(3134)]\n",
    "#[x for x in G.predecessors(9266)]"
   ]
  },
  {
   "cell_type": "code",
   "execution_count": 41,
   "metadata": {},
   "outputs": [
    {
     "name": "stdout",
     "output_type": "stream",
     "text": [
      "{11752, 12090, 10757, 16702} these are TF that will be eliminated due to AND constraint\n"
     ]
    }
   ],
   "source": [
    "print(set(unique(b)).difference(t), \"these are TF that will be eliminated due to AND constraint\")# number of TF successors of genes not in SCC is larger than t "
   ]
  },
  {
   "cell_type": "code",
   "execution_count": 199,
   "metadata": {},
   "outputs": [
    {
     "data": {
      "text/plain": [
       "{1654}"
      ]
     },
     "execution_count": 199,
     "metadata": {},
     "output_type": "execute_result"
    }
   ],
   "source": [
    "a=set(Gc.nodes).intersection(Genes).difference(set(SG.nodes()))\n",
    "a"
   ]
  },
  {
   "cell_type": "code",
   "execution_count": 195,
   "metadata": {},
   "outputs": [
    {
     "data": {
      "text/plain": [
       "{16440, 18449}"
      ]
     },
     "execution_count": 195,
     "metadata": {},
     "output_type": "execute_result"
    }
   ],
   "source": [
    "b=set(Gc.nodes).intersection(TFs).difference(set(SG.nodes()))\n",
    "b"
   ]
  },
  {
   "cell_type": "code",
   "execution_count": 46,
   "metadata": {},
   "outputs": [
    {
     "data": {
      "text/plain": [
       "False"
      ]
     },
     "execution_count": 46,
     "metadata": {},
     "output_type": "execute_result"
    }
   ],
   "source": [
    "3466 in Gc.nodes()"
   ]
  },
  {
   "cell_type": "code",
   "execution_count": 217,
   "metadata": {},
   "outputs": [
    {
     "data": {
      "text/plain": [
       "[12333, 19561, 16440]"
      ]
     },
     "execution_count": 217,
     "metadata": {},
     "output_type": "execute_result"
    }
   ],
   "source": [
    "[x  for x in G.predecessors(1654)]"
   ]
  },
  {
   "cell_type": "code",
   "execution_count": 221,
   "metadata": {},
   "outputs": [
    {
     "name": "stdout",
     "output_type": "stream",
     "text": [
      "[1, 2, 1]\n"
     ]
    },
    {
     "data": {
      "text/plain": [
       "[1]"
      ]
     },
     "execution_count": 221,
     "metadata": {},
     "output_type": "execute_result"
    }
   ],
   "source": [
    "print([G.in_degree(x)  for x in G.predecessors(1654)])\n",
    "[SG.in_degree(12333)]"
   ]
  },
  {
   "cell_type": "code",
   "execution_count": 45,
   "metadata": {},
   "outputs": [
    {
     "data": {
      "text/plain": [
       "InEdgeDataView([(4769, 12657), (8009, 12657), (1546, 12657)])"
      ]
     },
     "execution_count": 45,
     "metadata": {},
     "output_type": "execute_result"
    }
   ],
   "source": [
    "G.in_edges(l[0])"
   ]
  },
  {
   "cell_type": "code",
   "execution_count": 85,
   "metadata": {},
   "outputs": [
    {
     "name": "stdout",
     "output_type": "stream",
     "text": [
      "{14145}\n"
     ]
    },
    {
     "data": {
      "image/png": "[encoded data removed]",
      "text/plain": [
       "<Figure size 432x288 with 1 Axes>"
      ]
     },
     "metadata": {
      "needs_background": "light"
     },
     "output_type": "display_data"
    }
   ],
   "source": [
    "k=array(a)[~isin(b,list(t))]\n",
    "print(nx.ancestors(G,k[0]))\n",
    "plot_bipartite(G.subgraph(nx.ancestors(G,k[0]).union({k[0]})))"
   ]
  },
  {
   "cell_type": "code",
   "execution_count": 53,
   "metadata": {},
   "outputs": [],
   "source": []
  },
  {
   "cell_type": "code",
   "execution_count": 77,
   "metadata": {},
   "outputs": [
    {
     "data": {
      "text/plain": [
       "(InEdgeDataView([(253, 16060), (1794, 16060), (2319, 16060), (4657, 16060), (7397, 16060)]),\n",
       " InEdgeDataView([(253, 16060), (2319, 16060), (4657, 16060), (7397, 16060)]))"
      ]
     },
     "execution_count": 77,
     "metadata": {},
     "output_type": "execute_result"
    }
   ],
   "source": [
    "G.in_edges(16060),Gc.in_edges(16060)"
   ]
  },
  {
   "cell_type": "code",
   "execution_count": 392,
   "metadata": {},
   "outputs": [
    {
     "data": {
      "text/plain": [
       "(InDegreeView({11946: 4, 16725: 2}), InDegreeView({11946: 3, 16725: 1}))"
      ]
     },
     "execution_count": 392,
     "metadata": {},
     "output_type": "execute_result"
    }
   ],
   "source": [
    "G.in_degree(b),Gc.in_degree(b)\n"
   ]
  },
  {
   "cell_type": "code",
   "execution_count": 422,
   "metadata": {},
   "outputs": [
    {
     "name": "stdout",
     "output_type": "stream",
     "text": [
      "[False False  True  True]\n"
     ]
    },
    {
     "data": {
      "text/plain": [
       "OutEdgeDataView([(865, 11946), (865, 16725), (865, 19489), (865, 17906)])"
      ]
     },
     "execution_count": 422,
     "metadata": {},
     "output_type": "execute_result"
    }
   ],
   "source": [
    "print(isin(array(list(G.out_edges(865)))[:,1],list(t)))\n",
    "G.out_edges(865)"
   ]
  },
  {
   "cell_type": "code",
   "execution_count": 412,
   "metadata": {},
   "outputs": [
    {
     "data": {
      "text/plain": [
       "InEdgeDataView([(17906, 865)])"
      ]
     },
     "execution_count": 412,
     "metadata": {},
     "output_type": "execute_result"
    }
   ],
   "source": [
    "G.in_edges(865)"
   ]
  },
  {
   "cell_type": "code",
   "execution_count": 425,
   "metadata": {},
   "outputs": [
    {
     "data": {
      "text/plain": [
       "False"
      ]
     },
     "execution_count": 425,
     "metadata": {},
     "output_type": "execute_result"
    }
   ],
   "source": [
    "17906 in Gc.nodes()"
   ]
  },
  {
   "cell_type": "code",
   "execution_count": 431,
   "metadata": {},
   "outputs": [
    {
     "data": {
      "text/plain": [
       "InEdgeDataView([(865, 17906)])"
      ]
     },
     "execution_count": 431,
     "metadata": {},
     "output_type": "execute_result"
    }
   ],
   "source": [
    "G.in_edges(17906)"
   ]
  },
  {
   "cell_type": "code",
   "execution_count": 432,
   "metadata": {},
   "outputs": [
    {
     "name": "stdout",
     "output_type": "stream",
     "text": [
      "[ True False]\n"
     ]
    }
   ],
   "source": [
    "print(isin(array(list(G.out_edges(17906)))[:,1],list(g)))"
   ]
  },
  {
   "cell_type": "code",
   "execution_count": 433,
   "metadata": {},
   "outputs": [
    {
     "data": {
      "text/plain": [
       "OutEdgeDataView([(17906, 865), (17906, 3512)])"
      ]
     },
     "execution_count": 433,
     "metadata": {},
     "output_type": "execute_result"
    }
   ],
   "source": [
    "G.out_edges(17906)"
   ]
  },
  {
   "cell_type": "code",
   "execution_count": 102,
   "metadata": {},
   "outputs": [
    {
     "data": {
      "text/plain": [
       "(array([0., 0., 0., 0., 0., 0., 0., 0., 0., 0., 1., 0., 0., 0., 0., 0., 0.,\n",
       "        0., 0., 0.]),\n",
       " array([18516.5 , 18516.55, 18516.6 , 18516.65, 18516.7 , 18516.75,\n",
       "        18516.8 , 18516.85, 18516.9 , 18516.95, 18517.  , 18517.05,\n",
       "        18517.1 , 18517.15, 18517.2 , 18517.25, 18517.3 , 18517.35,\n",
       "        18517.4 , 18517.45, 18517.5 ]),\n",
       " <a list of 20 Patch objects>)"
      ]
     },
     "execution_count": 102,
     "metadata": {},
     "output_type": "execute_result"
    },
    {
     "data": {
      "image/png": "[encoded data removed]",
      "text/plain": [
       "<Figure size 432x288 with 1 Axes>"
      ]
     },
     "metadata": {
      "needs_background": "light"
     },
     "output_type": "display_data"
    }
   ],
   "source": [
    "a=array([len([a for a in x]) for x in nx.strongly_connected_components(G)])\n",
    "hist(a[a>1],20)"
   ]
  },
  {
   "cell_type": "code",
   "execution_count": 16,
   "metadata": {},
   "outputs": [
    {
     "data": {
      "text/plain": [
       "array([17811,     2])"
      ]
     },
     "execution_count": 16,
     "metadata": {},
     "output_type": "execute_result"
    }
   ],
   "source": [
    "a[a>1]"
   ]
  },
  {
   "cell_type": "code",
   "execution_count": 23,
   "metadata": {},
   "outputs": [
    {
     "data": {
      "text/plain": [
       "[11000, 3461]"
      ]
     },
     "execution_count": 23,
     "metadata": {},
     "output_type": "execute_result"
    }
   ],
   "source": [
    "a=array([[a for a  in x] for x in nx.strongly_connected_components(G)])\n",
    "[x for x in a if len(x)>1 ][1]"
   ]
  },
  {
   "cell_type": "code",
   "execution_count": 239,
   "metadata": {},
   "outputs": [
    {
     "data": {
      "text/plain": [
       "120.00488467886997"
      ]
     },
     "execution_count": 239,
     "metadata": {},
     "output_type": "execute_result"
    }
   ],
   "source": [
    "m=int(round(exp(-c-1)*N1))\n",
    "#exp(-c+-1)/(c+1)*m/N2*sum([(m/N2*(c+1))**k/math.factorial(k) for k in range(m)])\n",
    "exp(-c+-1)/(c+1)*m/N2*exp(m/N2*(c+1))*N1"
   ]
  },
  {
   "cell_type": "code",
   "execution_count": 237,
   "metadata": {},
   "outputs": [
    {
     "data": {
      "text/plain": [
       "1353"
      ]
     },
     "execution_count": 237,
     "metadata": {},
     "output_type": "execute_result"
    }
   ],
   "source": [
    "m"
   ]
  },
  {
   "cell_type": "code",
   "execution_count": null,
   "metadata": {},
   "outputs": [],
   "source": [
    "math.factorial(3)round"
   ]
  },
  {
   "cell_type": "code",
   "execution_count": 246,
   "metadata": {},
   "outputs": [
    {
     "data": {
      "text/plain": [
       "dict_values([0, 0, 0, 0, 0, 1, 0, 0, 0, 0, 0, 0, 0, 0, 0, 0, 0, 0, 1, 0, 0, 0, 1, 0, 0, 1, 0, 0, 0, 0, 0, 0, 0, 0, 0, 0, 0, 0, 0, 0, 0, 0, 0, 0, 0, 0, 0, 0, 0, 0, 0, 0, 0, 1, 0, 0, 0, 0, 0, 0, 0, 0, 0, 0, 2, 0, 1, 0, 0, 0, 0, 0, 0, 1, 1, 0, 0, 1, 0, 0, 1, 0, 0, 0, 0, 0, 0, 0, 0, 0, 1, 0, 0, 0, 0, 0, 0, 0, 0, 0, 0, 0, 0, 0, 0, 0, 0, 0, 0, 0, 0, 0, 0, 0, 0, 0, 0, 0, 0, 0, 0, 0, 0, 0, 0, 0, 0, 0, 0, 0, 1, 1, 0, 0, 1, 0, 0, 0, 0, 0, 0, 0, 0, 0, 0, 0, 0, 0, 0, 0, 0, 0, 0, 0, 1, 0, 0, 0, 0, 0, 0, 0, 0, 1, 0, 0, 0, 0, 0, 0, 0, 0, 0, 0, 0, 0, 0, 1, 0, 0, 0, 0, 0, 0, 0, 0, 0, 0, 0, 0, 0, 0, 0, 0, 1, 0, 0, 0, 0, 1, 0, 0, 0, 0, 0, 0, 0, 0, 0, 0, 0, 0, 0, 0, 0, 0, 0, 0, 0, 0, 0, 0, 0, 0, 0, 0, 0, 0, 0, 0, 0, 0, 0, 1, 1, 0, 0, 1, 0, 0, 0, 0, 0, 0, 0, 0, 0, 0, 0, 0, 0, 0, 0, 0, 0, 0, 0, 0, 1, 0, 0, 0, 0, 0, 0, 0, 0, 0, 0, 0, 0, 0, 1, 0, 0, 0, 0, 0, 0, 0, 0, 0, 0, 0, 0, 0, 0, 0, 1, 0, 0, 0, 0, 0, 0, 1, 0, 0, 0, 1, 0, 1, 0, 0, 0, 0, 0, 0, 0, 0, 0, 0, 0, 1, 0, 0, 0, 0, 0, 0, 0, 1, 0, 0, 1, 0, 0, 0, 0, 0, 0, 1, 0, 0, 0, 0, 1, 0, 0, 0, 0, 0, 0, 0, 0, 0, 0, 0, 1, 0, 0, 0, 0, 0, 0, 0, 0, 0, 0, 0, 0, 0, 0, 1, 0, 0, 0, 0, 0, 0, 0, 0, 0, 0, 0, 0, 0, 0, 0, 0, 0, 0, 0, 1, 1, 0, 0, 1, 0, 0, 0, 0, 0, 0, 0, 0, 0, 0, 0, 1, 0, 0, 0, 0, 0, 0, 0, 0, 0, 0, 0, 0, 1, 0, 0, 0, 0, 0, 0, 0, 0, 1, 0, 0, 0, 0, 0, 0, 0, 0, 1, 0, 0, 0, 0, 0, 0, 0, 0, 0, 0, 0, 0, 0, 0, 0, 0, 0, 0, 0, 0, 0, 0, 1, 0, 1, 0, 0, 0, 0, 0, 0, 0, 0, 0, 0, 0, 0, 0, 0, 0, 0, 0, 0, 0, 0, 1, 0, 0, 0, 0, 0, 2, 0, 0, 1, 0, 1, 0, 1, 0, 0, 0, 0, 0, 0, 0, 0, 0, 1, 0, 0, 0, 0, 0, 1, 0, 0, 0, 0, 0, 0, 0, 0, 0, 0, 0, 0, 1, 0, 0, 0, 0, 0, 1, 1, 0, 0, 0, 0, 0, 1, 0, 0, 0, 0, 0, 0, 0, 0, 0, 2, 0, 0, 0, 1, 0, 0, 0, 0, 1, 0, 1, 0, 0, 0, 0, 0, 0, 1, 0, 0, 0, 1, 1, 0, 0, 0, 0, 0, 0, 1, 0, 0, 0, 0, 0, 0, 0, 0, 0, 0, 0, 0, 1, 0, 0, 0, 0, 0, 0, 0, 0, 0, 0, 0, 0, 0, 1, 0, 0, 0, 0, 0, 0, 0, 0, 0, 0, 0, 0, 0, 0, 0, 0, 0, 0, 0, 0, 0, 0, 0, 0, 0, 0, 1, 0, 0, 0, 0, 0, 0, 0, 0, 1, 0, 1, 1, 0, 0, 0, 0, 0, 0, 0, 0, 0, 0, 0, 1, 1, 0, 0, 0, 0, 0, 0, 0, 0, 0, 0, 0, 0, 0, 0, 0, 0, 0, 0, 0, 0, 0, 0, 0, 0, 0, 0, 0, 0, 1, 0, 0, 0, 0, 0, 0, 0, 0, 0, 0, 0, 0, 0, 1, 0, 0, 0, 1, 1, 0, 1, 0, 0, 0, 1, 0, 0, 0, 0, 0, 0, 0, 0, 0, 0, 0, 0, 0, 0, 0, 1, 0, 0, 0, 0, 0, 0, 1, 0, 0, 1, 0, 1, 0, 0, 0, 0, 1, 0, 0, 1, 0, 0, 0, 0, 0, 0, 0, 0, 0, 0, 0, 0, 0, 0, 0, 0, 0, 0, 0, 1, 0, 0, 0, 0, 0, 0, 0, 0, 0, 1, 0, 0, 0, 0, 0, 1, 0, 1, 0, 0, 0, 0, 0, 0, 0, 0, 0, 0, 0, 0, 0, 0, 0, 0, 0, 0, 0, 0, 0, 0, 0, 0, 0, 0, 0, 0, 0, 0, 0, 0, 0, 0, 0, 0, 0, 0, 0, 0, 0, 0, 0, 0, 0, 0, 0, 0, 0, 0, 0, 0, 0, 0, 0, 0, 1, 0, 0, 0, 0, 0, 0, 0, 0, 0, 0, 0, 0, 0, 1, 1, 0, 1, 0, 1, 0, 1, 0, 0, 0, 0, 0, 0, 0, 1, 0, 0, 0, 0, 0, 0, 0, 0, 0, 0, 0, 0, 1, 0, 0, 0, 0, 0, 0, 0, 1, 0, 0, 0, 0, 0, 0, 0, 0, 0, 0, 0, 0, 0, 1, 0, 0, 0, 0, 0, 0, 0, 0, 0, 1, 0, 0, 0, 0, 0, 0, 0, 0, 0, 1, 1, 1, 1, 0, 0, 0, 0, 0, 0, 0, 0, 0, 1, 0, 0, 1, 0, 0, 0, 0, 0, 0, 0, 0, 0, 0, 0, 0, 0, 0, 0, 0, 0, 0, 0, 0, 0, 0, 0, 0, 0, 0, 0, 0, 0, 0, 0, 0, 0, 0, 1, 0, 0, 0, 0, 0, 0, 0, 1, 1, 1, 1, 0, 0, 0, 0, 0, 1, 0, 0, 0, 0, 0, 1, 0, 0, 0, 0, 0, 1, 0, 0, 1, 0, 0, 0, 0, 0, 0, 0, 0, 0, 0, 0, 0, 0, 0, 0, 0, 1, 0, 0, 0, 0, 0, 0, 2, 0, 0, 0, 0, 1, 1, 1, 0, 0, 0, 0, 0, 0, 0, 1, 0, 0, 1, 0, 0, 0, 0, 0, 0, 0, 0, 0, 0, 0, 0, 0, 0, 0, 1, 0, 0, 0, 0, 0, 1, 0, 1, 0, 0, 1, 1, 0, 0, 0, 0, 0, 0, 1, 0, 0, 1, 0, 0, 0, 0, 0, 0, 0, 0, 0, 0, 0, 0, 0, 1, 0, 0, 0, 0, 0, 0, 0, 0, 0, 1, 1, 0, 0, 0, 0, 0, 0, 0, 0, 0, 0, 0, 0, 0, 0, 0, 0, 0, 0, 0, 0, 0, 0, 0, 0, 0, 0, 0, 0, 0, 1, 0, 0, 0, 0, 0, 1, 0, 0, 0, 0, 1, 0, 0, 0, 1, 0, 1, 0, 0, 0, 1, 0, 0, 0, 0, 0, 0, 0, 0, 0, 0, 0, 0, 0, 0, 0, 0, 0, 0, 0, 0, 0, 0, 0, 0, 0, 0, 1, 0, 0, 0, 0, 0, 0, 0, 0, 0, 0, 0, 0, 0, 1, 0, 0, 0, 0, 0, 0, 0, 1, 0, 0, 2, 0, 0, 0, 0, 0, 0, 1, 0, 0, 0, 0, 1, 0, 0, 0, 0, 0, 0, 1, 0, 0, 1, 0, 1, 1, 0, 0, 0, 0, 0, 0, 0, 0, 0, 0, 0, 0, 0, 0, 0, 0, 0, 0, 0, 0, 0, 1, 0, 0, 0, 0, 0, 0, 0, 0, 1, 0, 1, 0, 0, 0, 1, 0, 0, 0, 0, 0, 0, 1, 1, 0, 0, 0, 0, 0, 0, 0, 0, 0, 0, 0, 0, 0, 1, 0, 0, 0, 0, 0, 0, 0, 0, 0, 0, 1, 0, 0, 0, 0, 0, 0, 0, 0, 0, 0, 0, 0, 1, 0, 0, 0, 0, 0, 0, 0, 0, 2, 0, 0, 0, 1, 0, 0, 0, 0, 1, 0, 0, 0, 0, 0, 0, 0, 0, 0, 0, 0, 0, 0, 1, 0, 1, 0, 0, 0, 0, 0, 0, 0, 0, 0, 0, 0, 0, 0, 0, 1, 0, 0, 0, 0, 0, 0, 0, 0, 0, 0, 0, 0, 0, 0, 1, 0, 0, 0, 0, 0, 0, 0, 0, 0, 0, 0, 0, 0, 0, 0, 0, 0, 0, 0, 0, 1, 0, 0, 0, 0, 0, 0, 0, 0, 0, 0, 0, 0, 0, 0, 0, 0, 1, 0, 0, 0, 0, 0, 0, 0, 0, 0, 1, 0, 0, 1, 0, 0, 0, 0, 0, 2, 0, 0, 0, 0, 0, 0, 0, 0, 0, 0, 0, 0, 0, 0, 0, 0, 0, 0, 0, 0, 0, 0, 0, 0, 0, 0, 0, 0])"
      ]
     },
     "execution_count": 246,
     "metadata": {},
     "output_type": "execute_result"
    }
   ],
   "source": [
    "dict(G.out_degree(t)).values()"
   ]
  },
  {
   "cell_type": "code",
   "execution_count": 13,
   "metadata": {},
   "outputs": [
    {
     "data": {
      "text/plain": [
       "{10250, 17342}"
      ]
     },
     "execution_count": 13,
     "metadata": {},
     "output_type": "execute_result"
    }
   ],
   "source": [
    "a=list(Gc.nodes())\n",
    "nx.descendants(G,list(g)[1])"
   ]
  },
  {
   "cell_type": "code",
   "execution_count": 12,
   "metadata": {},
   "outputs": [
    {
     "data": {
      "image/png": "[encoded data removed]",
      "text/plain": [
       "<Figure size 432x288 with 1 Axes>"
      ]
     },
     "metadata": {
      "needs_background": "light"
     },
     "output_type": "display_data"
    }
   ],
   "source": [
    "plot_bipartite(G.subgraph(nx.descendants(G,list(g)[0])))"
   ]
  },
  {
   "cell_type": "code",
   "execution_count": 14,
   "metadata": {},
   "outputs": [
    {
     "data": {
      "text/plain": [
       "1"
      ]
     },
     "execution_count": 14,
     "metadata": {},
     "output_type": "execute_result"
    }
   ],
   "source": [
    "random.choice(list({1,2,3}))"
   ]
  },
  {
   "cell_type": "code",
   "execution_count": null,
   "metadata": {},
   "outputs": [],
   "source": []
  }
 ],
 "metadata": {
  "kernelspec": {
   "display_name": "Python 3",
   "language": "python",
   "name": "python3"
  }
 },
 "nbformat": 4,
 "nbformat_minor": 2
}
