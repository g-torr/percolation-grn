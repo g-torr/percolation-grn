{
 "cells": [
  {
   "cell_type": "code",
   "execution_count": 19,
   "metadata": {},
   "outputs": [],
   "source": [
    "from pylab import *\n",
    "%matplotlib inline\n",
    "sys.path.insert(0, \"../lib/\")# add the library folder to the path I look for modules\n",
    "from directed_random_graph import *# this is the function I wrote\n",
    "from multiprocessing import Pool\n",
    "import itertools\n",
    "import pickle\n",
    "import component\n",
    "import latexify\n",
    "def load_obj(name ):\n",
    "    with open('dic-' + name + '.pkl', 'rb') as f:\n",
    "        return pickle.load(f)"
   ]
  },
  {
   "cell_type": "code",
   "execution_count": 21,
   "metadata": {},
   "outputs": [],
   "source": [
    "dic=load_obj('SCC')\n",
    "data=dic['data']\n",
    "ds=dic['ds']#note that here d+1 is the average out-degree of genes\n",
    "c=dic['c']#note that here c+1 is the average out-degree of TFs\n",
    "N1=dic['N1']\n",
    "N2=dic['N2']"
   ]
  },
  {
   "cell_type": "code",
   "execution_count": 23,
   "metadata": {},
   "outputs": [
    {
     "data": {
      "image/png": "[encoded data removed]",
      "text/plain": [
       "<Figure size 244.08x150.85 with 1 Axes>"
      ]
     },
     "metadata": {
      "needs_background": "light"
     },
     "output_type": "display_data"
    }
   ],
   "source": [
    "latexify.latexify(columns=2)\n",
    "#cmap = plt.get_cmap('brg')\n",
    "plot(1+ds,data[:,0]/N1,\"s\",mfc=\"w\",label=\"gene\")\n",
    "plot(1+ds,data[:,1]/N2,\"o\",ms=8,mfc=\"w\",label=\"TF\",alpha=0.5)\n",
    "#axvline(exp(c))\n",
    "data_num=array([component.num_corrected(d,c,1).in_component for d in ds])\n",
    "plot(1+ds,data_num[:,0],\"--g\",alpha=0.8,label = 'thr. gene')\n",
    "plot([1,max(ds)+1],[0,0],\"--g\",alpha=0.8)\n",
    "#plot(1+ds[ds>exp(c)-1],data_num[:,0][ds>exp(c)-1],\"--r\",alpha=0.8)\n",
    "\n",
    "plot(1+ds,data_num[:,1],\":r\",alpha=0.8,label= 'thr. TF' )\n",
    "#plot(1+ds[ds>exp(c)-1],data_num[:,1][ds>exp(c)-1],\"--g\",alpha=0.8)\n",
    "plot([1,1+max(ds)],[0,0],\":r\",alpha=0.7)\n",
    "\n",
    "xlabel(\"$\\\\langle c^{\\mathrm{in}}\\\\rangle $\",fontsize=13)\n",
    "ylabel(\"Fraction nodes in aSCC\")\n",
    "#title(\"c=\"+str(c))\n",
    "legend(ncol = 2)\n",
    "tight_layout()\n",
    "#savefig(\"non-linearSCC.pdf\")"
   ]
  },
  {
   "cell_type": "code",
   "execution_count": 2,
   "metadata": {},
   "outputs": [],
   "source": [
    "def SCC_nonlinear(BG,Genes,TFs,process=0):\n",
    "    '''Return the subgraph in the SCC, and then removes TFs whose in degree is not the same as initially '''\n",
    "    BG_filtered=BG.copy()\n",
    "    BG_tf=dict(BG.in_degree(TFs))# dictionary of in degree for TF in the bipartite graph\n",
    "    count=0\n",
    "    while True:\n",
    "        Gc= component.maximum_strongly_connected_component_subgraph(BG_filtered)\n",
    "        #print(len(Gc),len(BG_filtered))\n",
    "        #print(BG_filtered.nodes())\n",
    "        if len(Gc)==len(BG_filtered):\n",
    "            print(\"number of deletion iterations:\",count)\n",
    "            return BG_filtered,count\n",
    "        count+=1\n",
    "        \n",
    "        Gc_G=set(Gc.nodes()).intersection(Genes)# set of genes in the giant cluster\n",
    "        Gc_tf=dict(Gc.in_degree(TFs))# dictionary of in degree for TF in the SCC\n",
    "        filtered={v for v,k in Gc_tf.items() if BG_tf[v]==k} # filtered dictionary of SCC if TF has same indegree as initially\n",
    "        #BG_filtered.remove_nodes_from([n for n in BG_filtered if n not in set(filtered).union(Gc_G)])#remove TFs with wrond in-degree and Genes not in SCC\n",
    "        BG_filtered=BG_filtered.subgraph(set(filtered).union(Gc_G)).copy()\n",
    "        #print(set(filtered),Gc_G)"
   ]
  },
  {
   "cell_type": "markdown",
   "metadata": {},
   "source": [
    "## Test on a large network"
   ]
  },
  {
   "cell_type": "markdown",
   "metadata": {},
   "source": [
    "Procedure above consists in consecutive  node pruning. However, we observe that one iteration is usually enough. In fact, number of nodes returned by this procedure is consistent with the fraction of nodes in SCC as predicted by linear dynamics. To understand why I am exploring the properties of linear SCC.\n",
    "\n",
    "In general non-linear SCC is very similar to linear SCC. The reason being is that SCC eliminates all TFs with out-degree 0, then it eliminates the predecessors genes if the out  degree of these genes is 1 (or they bind to other TFs not in SCC). If these genes had successors in SCC, they would belong in SCC. New TF will have out degree 0, and we keep eliminating like that.  We end up eliminating TF with low out degree ( see histogram of out degree of TF not in SCC). When this iterative procedure ends, the AND constrain is satisfied as well.\n",
    "\n",
    "A very peculiar case is when a gene $i$ has a bidirectional link to a TF $\\mu$ which is not in SCC. Other successors/predecessors of $i$ will be affected, and will produce the case of a gene not being in SCC, but with TF in SCC. This violate the AND condition, therefore TF will be eliminated."
   ]
  },
  {
   "cell_type": "markdown",
   "metadata": {},
   "source": [
    "## Fixed c"
   ]
  },
  {
   "cell_type": "code",
   "execution_count": 3,
   "metadata": {
    "scrolled": true
   },
   "outputs": [
    {
     "name": "stdout",
     "output_type": "stream",
     "text": [
      "number of deletion iterations: 1\n",
      "number of deletion iterations: 1\n",
      "number of deletion iterations: 1\n",
      "number of deletion iterations: 2\n",
      "number of deletion iterations: 1\n",
      "number of deletion iterations: 1\n",
      "number of deletion iterations: 1\n",
      "number of deletion iterations: 27\n",
      "number of deletion iterations: 1\n",
      "number of deletion iterations: 3\n",
      "number of deletion iterations: 1\n",
      "number of deletion iterations: 1\n",
      "number of deletion iterations: 1\n",
      "number of deletion iterations: 1\n",
      "number of deletion iterations: 1\n",
      "number of deletion iterations: 1\n",
      "number of deletion iterations: 1\n",
      "number of deletion iterations: 1\n",
      "number of deletion iterations: 1\n",
      "number of deletion iterations: 3\n",
      "number of deletion iterations: 1\n",
      "number of deletion iterations: 1\n",
      "number of deletion iterations: 1\n",
      "number of deletion iterations: 1\n",
      "number of deletion iterations: 1\n",
      "number of deletion iterations: 1\n",
      "number of deletion iterations: 1\n",
      "number of deletion iterations: 1\n",
      "number of deletion iterations: 1\n",
      "number of deletion iterations: 1\n",
      "number of deletion iterations: 1\n",
      "number of deletion iterations: 1\n",
      "number of deletion iterations: 1\n",
      "number of deletion iterations: 1\n",
      "number of deletion iterations: 1\n",
      "number of deletion iterations: 1\n",
      "number of deletion iterations: 1\n",
      "number of deletion iterations: 1\n",
      "number of deletion iterations: 1\n",
      "number of deletion iterations: 1\n"
     ]
    }
   ],
   "source": [
    "N1=50000\n",
    "N2=50000\n",
    "c=0.5\n",
    "data=[]\n",
    "counts=[]\n",
    "ds=linspace(0.01,3,40)\n",
    "for d in ds:\n",
    "    _,BG=create_bipartite(N1,N2,d,c)\n",
    "    TFs=arange(N1,N1+N2)\n",
    "    Genes=arange(0,N1)\n",
    "    SG,count=SCC_nonlinear(BG,Genes,TFs)\n",
    "    data+=[[len(set(SG.nodes()).intersection(Genes)),len(set(SG.nodes()).intersection(TFs))]]\n",
    "    counts+=[count]\n",
    "data=array(data)"
   ]
  },
  {
   "cell_type": "code",
   "execution_count": 17,
   "metadata": {},
   "outputs": [
    {
     "data": {
      "image/png": "[encoded data removed]",
      "text/plain": [
       "<Figure size 244.08x150.85 with 1 Axes>"
      ]
     },
     "metadata": {
      "needs_background": "light"
     },
     "output_type": "display_data"
    }
   ],
   "source": [
    "latexify.latexify(columns=2)\n",
    "#cmap = plt.get_cmap('brg')\n",
    "plot(1+ds,data[:,0]/N1,\"s\",mfc=\"w\",label=\"gene\")\n",
    "plot(1+ds,data[:,1]/N2,\"o\",ms=8,mfc=\"w\",label=\"TF\",alpha=0.5)\n",
    "#axvline(exp(c))\n",
    "data_num=array([component.num_corrected(d,c,1).in_component for d in ds])\n",
    "plot(1+ds,data_num[:,0],\"--g\",alpha=0.8,label = 'thr. gene')\n",
    "plot([1,max(ds)+1],[0,0],\"--g\",alpha=0.8)\n",
    "#plot(1+ds[ds>exp(c)-1],data_num[:,0][ds>exp(c)-1],\"--r\",alpha=0.8)\n",
    "\n",
    "plot(1+ds,data_num[:,1],\":r\",alpha=0.8,label= 'thr. TF' )\n",
    "#plot(1+ds[ds>exp(c)-1],data_num[:,1][ds>exp(c)-1],\"--g\",alpha=0.8)\n",
    "plot([1,1+max(ds)],[0,0],\":r\",alpha=0.7)\n",
    "\n",
    "xlabel(\"$\\\\langle c^{\\mathrm{in}}\\\\rangle $\",fontsize=13)\n",
    "ylabel(\"Fraction nodes in aSCC\")\n",
    "#title(\"c=\"+str(c))\n",
    "legend(ncol = 2)\n",
    "tight_layout()\n",
    "#savefig(\"non-linearSCC.pdf\")\n"
   ]
  },
  {
   "cell_type": "code",
   "execution_count": null,
   "metadata": {},
   "outputs": [],
   "source": []
  }
 ],
 "metadata": {
  "kernelspec": {
   "display_name": "Python 3",
   "language": "python",
   "name": "python3"
  },
  "language_info": {
   "codemirror_mode": {
    "name": "ipython",
    "version": 3
   },
   "file_extension": ".py",
   "mimetype": "text/x-python",
   "name": "python",
   "nbconvert_exporter": "python",
   "pygments_lexer": "ipython3",
   "version": "3.7.4"
  }
 },
 "nbformat": 4,
 "nbformat_minor": 2
}
