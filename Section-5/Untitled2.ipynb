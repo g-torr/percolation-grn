{
 "cells": [
  {
   "cell_type": "code",
   "execution_count": 22,
   "metadata": {},
   "outputs": [],
   "source": [
    "from pylab import *\n",
    "%matplotlib inline\n",
    "import pickle\n",
    "import sys\n",
    "sys.path.insert(0,\"../lib/\") # add the library folder to the path I look for modules\n",
    "import latexify\n",
    "import component\n",
    "def load_obj(name ):\n",
    "    with open('dic-' + name + '.pkl', 'rb') as f:\n",
    "        return pickle.load(f)"
   ]
  },
  {
   "cell_type": "code",
   "execution_count": 24,
   "metadata": {},
   "outputs": [],
   "source": [
    "dic=load_obj('SCC')\n",
    "data=dic['data']\n",
    "ds=dic['ds']#note that here d+1 is the average out-degree of genes\\n,\n",
    "c=dic['c']#note that here c+1 is the average out-degree of TFs\\n,\n",
    "N1=dic['N1']\n",
    "N2=dic['N2']\n",
    "data_num=array([component.num_corrected(d,c,1).in_component for d in ds])"
   ]
  },
  {
   "cell_type": "code",
   "execution_count": 56,
   "metadata": {},
   "outputs": [
    {
     "data": {
      "image/png": "[encoded data removed]",
      "text/plain": [
       "<Figure size 244.08x150.85 with 1 Axes>"
      ]
     },
     "metadata": {
      "needs_background": "light"
     },
     "output_type": "display_data"
    }
   ],
   "source": [
    "latexify.latexify(columns=2)\n",
    "plot(1+ds,data[:,0]/N1,'s',mfc = 'w',ms = 4,label = 'gene')\n",
    "plot(1+ds,data[:,1]/N2,'o',mfc = 'w',ms =6 ,alpha = 0.6,label = 'TF')\n",
    "plot(1+ds,data_num[:,0],\"--g\",alpha=0.8,label = 'thr. gene')\n",
    "plot([1,max(ds)+1],[0,0],\"--g\",alpha=0.8)\n",
    "plot(1+ds,data_num[:,1],\":r\",alpha=0.5,label= 'thr. TF' )\n",
    "plot([1,1+max(ds)],[0,0],\":r\",alpha=0.5)\n",
    "xlabel(\"$\\\\langle c^{\\\\mathrm{in}}\\\\rangle $\",fontsize=13)\n",
    "ylabel(\"Fraction nodes in aSCC\")\n",
    "legend(ncol = 2)\n",
    "tight_layout()\n",
    "#savefig(\"non-linearSCC.pdf\")"
   ]
  },
  {
   "cell_type": "code",
   "execution_count": null,
   "metadata": {},
   "outputs": [],
   "source": []
  },
  {
   "cell_type": "code",
   "execution_count": null,
   "metadata": {},
   "outputs": [],
   "source": []
  }
 ],
 "metadata": {
  "kernelspec": {
   "display_name": "Python 3",
   "language": "python",
   "name": "python3"
  },
  "language_info": {
   "codemirror_mode": {
    "name": "ipython",
    "version": 3
   },
   "file_extension": ".py",
   "mimetype": "text/x-python",
   "name": "python",
   "nbconvert_exporter": "python",
   "pygments_lexer": "ipython3",
   "version": "3.7.4"
  }
 },
 "nbformat": 4,
 "nbformat_minor": 2
}
