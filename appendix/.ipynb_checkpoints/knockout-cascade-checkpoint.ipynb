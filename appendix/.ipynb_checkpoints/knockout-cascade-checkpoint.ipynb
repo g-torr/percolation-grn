{
 "cells": [
  {
   "cell_type": "code",
   "execution_count": 1,
   "metadata": {},
   "outputs": [
    {
     "name": "stdout",
     "output_type": "stream",
     "text": [
      "module loaded at  2020-03-25 11:58:57.872795\n"
     ]
    }
   ],
   "source": [
    "from pylab import *\n",
    "%matplotlib inline\n",
    "sys.path.insert(0, \"../../../../../lib\")# add the library folder to the path I look for modules\n",
    "from directed_random_graph import *# this is the function I wrote\n",
    "from multiprocessing import Pool\n",
    "import itertools\n",
    "import pickle\n",
    "from scipy.optimize import fsolve,root\n",
    "import component as co\n",
    "from timeit import default_timer as timer\n",
    "import latexify# execute function latexify for plots coherent with latex\n",
    "from networkx.algorithms import bipartite\n",
    "import component as cp\n",
    "import scipy\n",
    "import re\n",
    "import os\n",
    "from scipy.stats import poisson\n",
    "import latexify\n",
    "import time #to measure performances\n",
    "def save_obj(obj, name ):\n",
    "    with open('dic-'+ name + '.pkl', 'wb') as f:\n",
    "        pickle.dump(obj, f, pickle.HIGHEST_PROTOCOL)\n",
    "def load_obj(path,name ):\n",
    "    with open(path+'/dic-' + name + '.pkl', 'rb') as f:\n",
    "        return pickle.load(f)"
   ]
  },
  {
   "cell_type": "code",
   "execution_count": 2,
   "metadata": {},
   "outputs": [],
   "source": [
    "folder_name='knockout-cascade_multiple'\n"
   ]
  },
  {
   "cell_type": "code",
   "execution_count": 3,
   "metadata": {},
   "outputs": [
    {
     "name": "stdout",
     "output_type": "stream",
     "text": [
      "dic-c:1.0 d:1.0.pkl  dic-c:2.0 d:1.0.pkl\r\n"
     ]
    }
   ],
   "source": [
    "ls knockout-cascade_multiple/"
   ]
  },
  {
   "cell_type": "code",
   "execution_count": 4,
   "metadata": {},
   "outputs": [],
   "source": [
    "folder_name='knockout-cascade_multiple'\n",
    "\n",
    "dic=load_obj(folder_name,'c:1.0 d:1.0')\n",
    "d=dic['d']\n",
    "c=dic['c']\n",
    "N1=dic['N1']\n",
    "N2=dic['N2']\n",
    "g=dic['g']\n",
    "Nrep=dic['Nrep']\n",
    "descritpion=dic['description']\n"
   ]
  },
  {
   "cell_type": "code",
   "execution_count": 5,
   "metadata": {},
   "outputs": [],
   "source": [
    "bs=[]\n",
    "hs=[]\n",
    "g_max=max(flatten(g))\n",
    "for i in range(Nrep):\n",
    "    h,b=histogram(g[i],bins=arange(1,g_max))\n",
    "    hs+=[h]\n",
    "    bs+=[b]"
   ]
  },
  {
   "cell_type": "code",
   "execution_count": 22,
   "metadata": {},
   "outputs": [
    {
     "data": {
      "image/png": "[encoded data removed]",
      "text/plain": [
       "<Figure size 244.08x150.85 with 1 Axes>"
      ]
     },
     "metadata": {
      "needs_background": "light"
     },
     "output_type": "display_data"
    }
   ],
   "source": [
    "latexify.latexify(columns=2)\n",
    "x=bs[0]-1\n",
    "#bar((x[:-1]+x[1:])/2,mean(hs,axis=0)/N1,diff(bs[0]),label='aval.')\n",
    "plot((x[:-1]+x[1:])/2,mean(hs,axis=0)/N1,'.',label='aval.')\n",
    "#errorbar((x[:-1]+x[1:])/2,mean(hs,axis=0)/N1,yerr=std(hs,axis=0)/N1/sqrt(len(hs)),ecolor='m',fmt='none',label='std')\n",
    "semilogy()\n",
    "xlabel(\"Avalanche size\",fontsize=13)\n",
    "ylabel(\"Frequency\",fontsize=13)\n",
    "ax=gca()\n",
    "color = 'tab:red'\n",
    "'''\n",
    "ax2=ax.twiny()\n",
    "ax2.set_xlabel('degree',color=color,fontsize=13)\n",
    "plot_corrected_Poissoninan_out(d,c,1,[1,25],color=color,label='degree')\n",
    "ax2.tick_params(axis='x', labelcolor=color)\n",
    "'''\n",
    "plot_corrected_Poissoninan_out(d,c,1,[1,30],color=color,label='degree')\n",
    "legend(ncol=2)\n",
    "tight_layout()\n",
    "xlim([0,40])\n",
    "#savefig('knockout-cascade.pdf')\n"
   ]
  },
  {
   "cell_type": "code",
   "execution_count": 13,
   "metadata": {},
   "outputs": [],
   "source": [
    "def plot_convoluted_Poissoninan_in(d,c,alpha,data):\n",
    "    d_in=c*alpha\n",
    "    c_in=d/alpha+where(alpha<1,1/alpha-1,0)\n",
    "    P=[]\n",
    "    for k in  arange(max(data)):\n",
    "        s=0\n",
    "        for n in arange(5*max(data)):\n",
    "            s+=poisson.pmf(n, d_in)*poisson.pmf(k, n*c_in)\n",
    "        P+=[s]\n",
    "    plot(P)\n",
    "def plot_corrected_Poissoninan_out(d,c,alpha,data,*args,**kwargs):\n",
    "    d_out=d+where(alpha>1,alpha-1,0)\n",
    "    c_out=c+1/alpha\n",
    "    P=[]\n",
    "    for k in  arange(max(data)):\n",
    "        s=0\n",
    "        for n in arange(5*max(data)):\n",
    "            s+=poisson.pmf(n, d_out)*poisson.pmf(k, (n+1)*c_out)\n",
    "        P+=[s]\n",
    "    plot(arange(max(data)),P,'o',alpha=0.5,*args,**kwargs)\n",
    "    return P\n"
   ]
  },
  {
   "cell_type": "code",
   "execution_count": 43,
   "metadata": {},
   "outputs": [
    {
     "data": {
      "text/plain": [
       "[]"
      ]
     },
     "execution_count": 43,
     "metadata": {},
     "output_type": "execute_result"
    },
    {
     "data": {
      "image/png": "[encoded data removed]",
      "text/plain": [
       "<Figure size 244.08x150.85 with 1 Axes>"
      ]
     },
     "metadata": {
      "needs_background": "light"
     },
     "output_type": "display_data"
    }
   ],
   "source": [
    "P=plot_corrected_Poissoninan_out(d,c,1,[1,25],'co')\n",
    "xlabel('$d$')\n",
    "ylabel('$P^{in}_{\\mathcal{D}}(d)$',fontsize=13)\n",
    "semilogy()"
   ]
  },
  {
   "cell_type": "code",
   "execution_count": 74,
   "metadata": {},
   "outputs": [
    {
     "data": {
      "text/plain": [
       "array([7694.8876, 9196.1048, 9671.9148, 9854.7566, 9932.2334, 9967.1586,\n",
       "       9983.479 , 9991.605 , 9995.649 , 9997.7262, 9998.7912, 9999.344 ,\n",
       "       9999.6446, 9999.797 , 9999.8928, 9999.9394, 9999.9684, 9999.982 ,\n",
       "       9999.9874, 9999.9904, 9999.9948, 9999.9964, 9999.9976, 9999.9984,\n",
       "       9999.9996, 9999.9998, 9999.9998])"
      ]
     },
     "execution_count": 74,
     "metadata": {},
     "output_type": "execute_result"
    }
   ],
   "source": [
    "cumsum(mean(hs,axis=0))"
   ]
  },
  {
   "cell_type": "code",
   "execution_count": 70,
   "metadata": {},
   "outputs": [
    {
     "data": {
      "text/plain": [
       "0.9999999982944942"
      ]
     },
     "execution_count": 70,
     "metadata": {},
     "output_type": "execute_result"
    }
   ],
   "source": [
    "sum(P)"
   ]
  },
  {
   "cell_type": "code",
   "execution_count": 78,
   "metadata": {},
   "outputs": [
    {
     "data": {
      "text/plain": [
       "[<matplotlib.lines.Line2D at 0x7f76dc12cc50>]"
      ]
     },
     "execution_count": 78,
     "metadata": {},
     "output_type": "execute_result"
    },
    {
     "data": {
      "image/png": "[encoded data removed]",
      "text/plain": [
       "<Figure size 244.08x150.85 with 1 Axes>"
      ]
     },
     "metadata": {
      "needs_background": "light"
     },
     "output_type": "display_data"
    }
   ],
   "source": [
    "plot(cumsum(mean(hs,axis=0)/N1))\n",
    "plot(cumsum(P))"
   ]
  },
  {
   "cell_type": "code",
   "execution_count": 9,
   "metadata": {},
   "outputs": [],
   "source": [
    "legend?"
   ]
  },
  {
   "cell_type": "code",
   "execution_count": null,
   "metadata": {},
   "outputs": [],
   "source": []
  }
 ],
 "metadata": {
  "kernelspec": {
   "display_name": "Python 3",
   "language": "python",
   "name": "python3"
  },
  "language_info": {
   "codemirror_mode": {
    "name": "ipython",
    "version": 3
   },
   "file_extension": ".py",
   "mimetype": "text/x-python",
   "name": "python",
   "nbconvert_exporter": "python",
   "pygments_lexer": "ipython3",
   "version": "3.8.8"
  }
 },
 "nbformat": 4,
 "nbformat_minor": 2
}
