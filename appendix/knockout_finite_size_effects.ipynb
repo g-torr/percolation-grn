{
 "cells": [
  {
   "cell_type": "markdown",
   "metadata": {
    "scrolled": true
   },
   "source": [
    "This notebook deals with single node percolation. It shows that following the cascade of knokouts is equivalent to run the dynamics for the indicator variables of the out-component"
   ]
  },
  {
   "cell_type": "code",
   "execution_count": 1,
   "metadata": {},
   "outputs": [
    {
     "name": "stdout",
     "output_type": "stream",
     "text": [
      "module loaded at  2022-01-04 15:38:20.732840\n"
     ]
    }
   ],
   "source": [
    "import numpy as np\n",
    "%matplotlib inline\n",
    "import sys\n",
    "sys.path.insert(0, \"../lib\")# add the library folder to the path I look for modules\n",
    "from directed_random_graph import *# this is the function I wrote\n",
    "from multiprocessing import Pool\n",
    "import itertools\n",
    "import pickle\n",
    "from scipy.optimize import fsolve,root\n",
    "import component as co\n",
    "from timeit import default_timer as timer\n",
    "import latexify# execute function latexify for plots coherent with latex\n",
    "from networkx.algorithms import bipartite\n",
    "import component as cp\n",
    "import scipy\n",
    "import time #to measure performances\n",
    "def save_obj(obj, name ):\n",
    "    with open('dic-'+ name + '.pkl', 'wb') as f:\n",
    "        pickle.dump(obj, f, pickle.HIGHEST_PROTOCOL)\n",
    "def load_obj(name,path = '.'):\n",
    "    with open(path+'/dic-' + name + '.pkl', 'rb') as f:\n",
    "        return pickle.load(f)\n",
    "def filter_SCC(BG,Genes):\n",
    "        '''It extract the SCC subgraph'''\n",
    "        Gc=cp.maximum_strongly_connected_component_subgraph(BG)\n",
    "        Gc_G=set(Gc.nodes()).intersection(Genes)# set of genes in the giant cluster\n",
    "        Genes=[n for n,d in Gc.nodes(data=True) if d['bipartite']==0]\n",
    "        N1=len(Genes)\n",
    "        TFs=[n for n,d in Gc.nodes(data=True) if d['bipartite']==1]\n",
    "        N2=len(TFs)\n",
    "        eta=bipartite.biadjacency_matrix(Gc,Genes)#from genes  to TF\n",
    "        xi=bipartite.biadjacency_matrix(Gc,TFs)#from  TF to  genes\n",
    "        in_deg=scipy.sparse.csr_matrix(list(dict(Gc.in_degree(TFs)).values()))\n",
    "        return Genes,TFs,eta,xi,in_deg\n"
   ]
  },
  {
   "cell_type": "markdown",
   "metadata": {},
   "source": [
    "## Out-component propagation\n",
    "Propagation of eliminated nodes. It computes the nodes that do not belong to out-component as a consequence of the elimination of a single node.\n",
    "Core function is *propagate_nonlinear(BG,Genes,TFs,node)*\n",
    "\n",
    "\n",
    "*Input*: \n",
    "- BG: bipartite graph (should already be the SCC)\n",
    "- Genes: set of Genes\n",
    "- TFs: set of Trascription factors\n",
    "- node: one element of Genes\n",
    "\n",
    "\n",
    "*Returns*:\n",
    "filtered graph.\n",
    "\n",
    " It start off from a node(gene2remove) and consider its succesors ( TF2remove) which is removed. Genes that are not regulated, i.e. their in degree is 0, are removed.  The procedure is repeated until there is no new gene to be removed.\n",
    "\n",
    "Algorithm:\n",
    "- The SCC is computed\n",
    "- for each node in SCC\n",
    "    - *propagate_nonlinear*  function is executed on the SCC and return a filtered graph.\n",
    "    - compute $g$, the fraction of genes in the filtered graph over the SCC \n",
    "- histogram of $g$ over different sites, the relative ratio $$ \\dfrac{count[  g\\sim 1]}{count[  g\\sim 0]+count[  g\\sim 1]} $$ is shown in heatmap.\n",
    "It  is a stability measure, i.e. the fraction of initial conditions that do no lead to an elimination cascade.\n",
    "### remove_dynamics\n",
    "I compare *propagate_nonlinear* with the non linear dynamics on the same graph where 'node' is imposed to be off at all times. They gives the same result"
   ]
  },
  {
   "cell_type": "code",
   "execution_count": 2,
   "metadata": {},
   "outputs": [],
   "source": [
    "def remove_dynamics(eta,xi,in_deg,node,process=0):\n",
    "    N1=eta.shape[0]\n",
    "    def time_step_on(n,n_start):\n",
    "        m=np.where((n*eta!=in_deg).toarray(),0,1)\n",
    "        n=scipy.sparse.csr_matrix(m)*xi\n",
    "        n=np.where(n.toarray()>0,1,0)\n",
    "        n[0][n_start==0]=0# enforce elimination constrain of Genes initially eliminated\n",
    "        n=scipy.sparse.csr_matrix(n)\n",
    "        return n,m # it is in the array format\n",
    "    t=0\n",
    "    n_start=np.ones(N1)\n",
    "    n_start[node]=0\n",
    "    n=scipy.sparse.csr_matrix(n_start)\n",
    "    N_iter=1000\n",
    "    while t< N_iter:\n",
    "        n_new,m=time_step_on(n,n_start)\n",
    "        if n_new.nnz==n.nnz:\n",
    "            if all(n_new.indices==n.indices):# exit if no improvements occur\n",
    "                break\n",
    "        n=n_new\n",
    "        t+=1\n",
    "    return n.toarray()[0],m[0]\n",
    "\n",
    "    \n",
    "def propagate_nonlinear(BG,Genes,TFs,node):\n",
    "    '''\n",
    "    Input:\n",
    "    node: is the id of the node to be eliminated. It has to be a gene, otherwise ValueError is raised.\n",
    "    Algorithm:\n",
    "        Node is eliminated, then the successors of the node are eliminated. If then  genes are not regulated, than they are eliminated as well. \n",
    "\n",
    "    '''\n",
    "    BG_filtered=BG.copy()\n",
    "    #BG_tf=dict(BG.in_degree(TFs))# dictionary of in degree for TF in the original bipartite graph\n",
    "    count=0\n",
    "    if node not in Genes:\n",
    "        raise ValueError(\"starting point should be a Gene\")\n",
    "    genes2remove=[node]\n",
    "    while True:\n",
    "        \n",
    "        #print(count)\n",
    "        '''\n",
    "        TF2remove=set(flatten([list(BG_filtered.successors(n)) for n in genes2remove]))#TF successor of a gene have to be eliminated\n",
    "        BG_filtered.remove_nodes_from(genes2remove)\n",
    "        genes_potentially_rm=set(flatten([list(BG_filtered.successors(n)) for n in TF2remove]))\n",
    "        genes2remove=[n for n,k in dict(BG_filtered.in_degree(genes_potentially_rm)).items() if k ==1]#if a gene  is reached only by TF2remove \n",
    "        BG_filtered.remove_nodes_from(TF2remove)'''\n",
    "        \n",
    "        TF2remove=set(flatten([list(BG_filtered.successors(n)) for n in genes2remove]))#TF successor of a gene have to be eliminated\n",
    "        BG_filtered.remove_nodes_from(genes2remove+list(TF2remove))\n",
    "        genes2remove=[n for n,k in dict(BG_filtered.in_degree(Genes)).items() if k ==0]\n",
    "        #print(len(Gc),len(BG_filtered))\n",
    "        if len(genes2remove)==0:\n",
    "            #print(\"number of deletion iteration\",count)\n",
    "            return BG_filtered\n",
    "        count+=1\n",
    "\n",
    "\n",
    "def out_statistics(eta,xi,in_deg,node):\n",
    "    \n",
    "    n,m=remove_dynamics(eta,xi,in_deg,node)    \n",
    "    return [np.count_nonzero(n>0)/len(n), np.count_nonzero(m>0)/len(m)]\n",
    "def out_statistics2(BG,Genes,TFs,node):\n",
    "    SG=propagate_nonlinear(BG,Genes,TFs,node)\n",
    "    filtered_Genes = set(SG.nodes()).intersection(Genes)\n",
    "    filtered_TFs = set(SG.nodes()).intersection(TFs)\n",
    "    return [len(filtered_Genes)/len(Genes), len(filtered_TFs)/len(TFs)]\n",
    "def filter_SCC(BG,Genes):\n",
    "        '''It extract the SCC subgraph'''\n",
    "        Gc=maximum_strongly_connected_component_subgraph(BG)\n",
    "        Gc_G=set(Gc.nodes()).intersection(Genes)# set of genes in the giant cluster\n",
    "        Genes=[n for n,d in Gc.nodes(data=True) if d['bipartite']==0]\n",
    "        N1=len(Genes)\n",
    "        TFs=[n for n,d in Gc.nodes(data=True) if d['bipartite']==1]\n",
    "        N2=len(TFs)\n",
    "        eta=bipartite.biadjacency_matrix(Gc,Genes)#from genes  to TF\n",
    "        xi=bipartite.biadjacency_matrix(Gc,TFs)#from  TF to  genes\n",
    "        in_deg=scipy.sparse.csr_matrix(list(dict(Gc.in_degree(TFs)).values()))\n",
    "        return Genes,TFs,eta,xi,in_deg\n",
    "\n",
    "def create_graph_and_remove(N1,N2,d,c):\n",
    "\n",
    "    _,BG=create_bipartite(N1,N2,d,c)\n",
    "    Genes= np.arange(0,N1)\n",
    "    pool = Pool()\n",
    "    Genes,TFs,eta,xi,in_deg=filter_SCC(BG,Genes)\n",
    "    data=pool.starmap(out_statistics,itertools.product([eta],[xi],[in_deg],random.sample(range(len(Genes)),min(len(Genes),1000))))#knockout 1000 genes at the most\n",
    "    #data=pool.starmap(out_statistics,itertools.product([eta],[xi],[in_deg],range(len(Genes))))\n",
    "    pool.close()\n",
    "\n",
    "    return data\n",
    "def create_graph_and_remove2(N1,N2,d,c):\n",
    "    def filter_SCC(BG,Genes):\n",
    "        #It extract the SCC subgraph\n",
    "        Gc=maximum_strongly_connected_component_subgraph(BG)\n",
    "        Gc_G=set(Gc.nodes()).intersection(Genes)# set of genes in the giant cluster\n",
    "        Genes=[n for n,d in Gc.nodes(data=True) if d['bipartite']==0]\n",
    "        N1=len(Genes)\n",
    "        TFs=[n for n,d in Gc.nodes(data=True) if d['bipartite']==1]\n",
    "        N2=len(TFs)\n",
    "        eta=bipartite.biadjacency_matrix(Gc,Genes)#from genes  to TF\n",
    "        xi=bipartite.biadjacency_matrix(Gc,TFs)#from  TF to  genes\n",
    "        in_deg=scipy.sparse.csr_matrix(list(dict(Gc.in_degree(TFs)).values()))\n",
    "        return Genes,TFs,eta,xi,in_deg\n",
    "\n",
    "    _,BG=create_bipartite(N1,N2,d,c)\n",
    "    TFs=arange(N1,N1+N2)\n",
    "    Genes=arange(0,N1)\n",
    "    pool = Pool()\n",
    "    Genes,TFs,_,_,_=filter_SCC(BG,Genes)\n",
    "    Gc=maximum_strongly_connected_component_subgraph(BG)\n",
    "    data=pool.starmap(out_statistics2,itertools.product([Gc],[Genes],[TFs],random.sample(Genes,min(len(Genes),1000))))#knochout 1000 genes to the most\n",
    "    #data=[out_statistics2(Gc,Genes,TFs,node)for node in Genes]\n",
    "    pool.close()\n",
    "\n",
    "    return data\n"
   ]
  },
  {
   "cell_type": "code",
   "execution_count": null,
   "metadata": {},
   "outputs": [],
   "source": []
  },
  {
   "cell_type": "markdown",
   "metadata": {},
   "source": [
    "Comparison between dynamics and propagation on network"
   ]
  },
  {
   "cell_type": "code",
   "execution_count": 3,
   "metadata": {},
   "outputs": [],
   "source": [
    "d=2\n",
    "c=1\n",
    "N1=10000\n",
    "N2=10000\n",
    "TFs=np.arange(N1,N1+N2)\n",
    "Genes=np.arange(0,N1)\n",
    "_,BG=create_bipartite(N1,N2,d,c)\n",
    "Gc=maximum_strongly_connected_component_subgraph(BG).copy()\n",
    "Gc_G=set(Gc.nodes()).intersection(Genes)# set of genes in the giant cluster\n",
    "node=random.choice(list(Gc_G))\n",
    "Genes,TFs,eta,xi,in_deg=filter_SCC(Gc,Genes)"
   ]
  },
  {
   "cell_type": "code",
   "execution_count": 4,
   "metadata": {},
   "outputs": [
    {
     "data": {
      "text/plain": [
       "2.969315132423288"
      ]
     },
     "execution_count": 4,
     "metadata": {},
     "output_type": "execute_result"
    }
   ],
   "source": [
    "np.mean(list(dict(BG.in_degree(TFs)).values()))"
   ]
  },
  {
   "cell_type": "code",
   "execution_count": 5,
   "metadata": {},
   "outputs": [
    {
     "name": "stdout",
     "output_type": "stream",
     "text": [
      "--- 3.750331401824951 seconds ---\n"
     ]
    },
    {
     "ename": "NameError",
     "evalue": "name 'flatten' is not defined",
     "output_type": "error",
     "traceback": [
      "\u001b[0;31m---------------------------------------------------------------------------\u001b[0m",
      "\u001b[0;31mRemoteTraceback\u001b[0m                           Traceback (most recent call last)",
      "\u001b[0;31mRemoteTraceback\u001b[0m: \n\"\"\"\nTraceback (most recent call last):\n  File \"/home/giuseppe/anaconda3/lib/python3.8/multiprocessing/pool.py\", line 125, in worker\n    result = (True, func(*args, **kwds))\n  File \"/home/giuseppe/anaconda3/lib/python3.8/multiprocessing/pool.py\", line 51, in starmapstar\n    return list(itertools.starmap(args[0], args[1]))\n  File \"<ipython-input-2-a5eef3cd9a94>\", line 64, in out_statistics2\n    SG=propagate_nonlinear(BG,Genes,TFs,node)\n  File \"<ipython-input-2-a5eef3cd9a94>\", line 49, in propagate_nonlinear\n    TF2remove=set(flatten([list(BG_filtered.successors(n)) for n in genes2remove]))#TF successor of a gene have to be eliminated\nNameError: name 'flatten' is not defined\n\"\"\"",
      "\nThe above exception was the direct cause of the following exception:\n",
      "\u001b[0;31mNameError\u001b[0m                                 Traceback (most recent call last)",
      "\u001b[0;32m<ipython-input-5-180affd35a36>\u001b[0m in \u001b[0;36m<module>\u001b[0;34m\u001b[0m\n\u001b[1;32m      6\u001b[0m \u001b[0mpool\u001b[0m \u001b[0;34m=\u001b[0m \u001b[0mPool\u001b[0m\u001b[0;34m(\u001b[0m\u001b[0;34m)\u001b[0m\u001b[0;34m\u001b[0m\u001b[0;34m\u001b[0m\u001b[0m\n\u001b[1;32m      7\u001b[0m \u001b[0mstart_time\u001b[0m \u001b[0;34m=\u001b[0m \u001b[0mtime\u001b[0m\u001b[0;34m.\u001b[0m\u001b[0mtime\u001b[0m\u001b[0;34m(\u001b[0m\u001b[0;34m)\u001b[0m\u001b[0;34m\u001b[0m\u001b[0;34m\u001b[0m\u001b[0m\n\u001b[0;32m----> 8\u001b[0;31m \u001b[0mdata2\u001b[0m\u001b[0;34m=\u001b[0m\u001b[0mpool\u001b[0m\u001b[0;34m.\u001b[0m\u001b[0mstarmap\u001b[0m\u001b[0;34m(\u001b[0m\u001b[0mout_statistics2\u001b[0m\u001b[0;34m,\u001b[0m\u001b[0mitertools\u001b[0m\u001b[0;34m.\u001b[0m\u001b[0mproduct\u001b[0m\u001b[0;34m(\u001b[0m\u001b[0;34m[\u001b[0m\u001b[0mGc\u001b[0m\u001b[0;34m]\u001b[0m\u001b[0;34m,\u001b[0m\u001b[0;34m[\u001b[0m\u001b[0mGenes\u001b[0m\u001b[0;34m]\u001b[0m\u001b[0;34m,\u001b[0m\u001b[0;34m[\u001b[0m\u001b[0mTFs\u001b[0m\u001b[0;34m]\u001b[0m\u001b[0;34m,\u001b[0m\u001b[0mrandom\u001b[0m\u001b[0;34m.\u001b[0m\u001b[0msample\u001b[0m\u001b[0;34m(\u001b[0m\u001b[0mGc_G\u001b[0m\u001b[0;34m,\u001b[0m\u001b[0mmin\u001b[0m\u001b[0;34m(\u001b[0m\u001b[0mlen\u001b[0m\u001b[0;34m(\u001b[0m\u001b[0mGc_G\u001b[0m\u001b[0;34m)\u001b[0m\u001b[0;34m,\u001b[0m\u001b[0;36m1000\u001b[0m\u001b[0;34m)\u001b[0m\u001b[0;34m)\u001b[0m\u001b[0;34m)\u001b[0m\u001b[0;34m)\u001b[0m\u001b[0;31m#knochout 1000 genes to the most\u001b[0m\u001b[0;34m\u001b[0m\u001b[0;34m\u001b[0m\u001b[0m\n\u001b[0m\u001b[1;32m      9\u001b[0m \u001b[0mpool\u001b[0m\u001b[0;34m.\u001b[0m\u001b[0mclose\u001b[0m\u001b[0;34m(\u001b[0m\u001b[0;34m)\u001b[0m\u001b[0;34m\u001b[0m\u001b[0;34m\u001b[0m\u001b[0m\n\u001b[1;32m     10\u001b[0m \u001b[0mprint\u001b[0m\u001b[0;34m(\u001b[0m\u001b[0;34m\"--- %s seconds ---\"\u001b[0m \u001b[0;34m%\u001b[0m \u001b[0;34m(\u001b[0m\u001b[0mtime\u001b[0m\u001b[0;34m.\u001b[0m\u001b[0mtime\u001b[0m\u001b[0;34m(\u001b[0m\u001b[0;34m)\u001b[0m \u001b[0;34m-\u001b[0m \u001b[0mstart_time\u001b[0m\u001b[0;34m)\u001b[0m\u001b[0;34m)\u001b[0m\u001b[0;34m\u001b[0m\u001b[0;34m\u001b[0m\u001b[0m\n",
      "\u001b[0;32m~/anaconda3/lib/python3.8/multiprocessing/pool.py\u001b[0m in \u001b[0;36mstarmap\u001b[0;34m(self, func, iterable, chunksize)\u001b[0m\n\u001b[1;32m    370\u001b[0m         \u001b[0;31m`\u001b[0m\u001b[0mfunc\u001b[0m\u001b[0;31m`\u001b[0m \u001b[0;32mand\u001b[0m \u001b[0;34m(\u001b[0m\u001b[0ma\u001b[0m\u001b[0;34m,\u001b[0m \u001b[0mb\u001b[0m\u001b[0;34m)\u001b[0m \u001b[0mbecomes\u001b[0m \u001b[0mfunc\u001b[0m\u001b[0;34m(\u001b[0m\u001b[0ma\u001b[0m\u001b[0;34m,\u001b[0m \u001b[0mb\u001b[0m\u001b[0;34m)\u001b[0m\u001b[0;34m.\u001b[0m\u001b[0;34m\u001b[0m\u001b[0;34m\u001b[0m\u001b[0m\n\u001b[1;32m    371\u001b[0m         '''\n\u001b[0;32m--> 372\u001b[0;31m         \u001b[0;32mreturn\u001b[0m \u001b[0mself\u001b[0m\u001b[0;34m.\u001b[0m\u001b[0m_map_async\u001b[0m\u001b[0;34m(\u001b[0m\u001b[0mfunc\u001b[0m\u001b[0;34m,\u001b[0m \u001b[0miterable\u001b[0m\u001b[0;34m,\u001b[0m \u001b[0mstarmapstar\u001b[0m\u001b[0;34m,\u001b[0m \u001b[0mchunksize\u001b[0m\u001b[0;34m)\u001b[0m\u001b[0;34m.\u001b[0m\u001b[0mget\u001b[0m\u001b[0;34m(\u001b[0m\u001b[0;34m)\u001b[0m\u001b[0;34m\u001b[0m\u001b[0;34m\u001b[0m\u001b[0m\n\u001b[0m\u001b[1;32m    373\u001b[0m \u001b[0;34m\u001b[0m\u001b[0m\n\u001b[1;32m    374\u001b[0m     def starmap_async(self, func, iterable, chunksize=None, callback=None,\n",
      "\u001b[0;32m~/anaconda3/lib/python3.8/multiprocessing/pool.py\u001b[0m in \u001b[0;36mget\u001b[0;34m(self, timeout)\u001b[0m\n\u001b[1;32m    769\u001b[0m             \u001b[0;32mreturn\u001b[0m \u001b[0mself\u001b[0m\u001b[0;34m.\u001b[0m\u001b[0m_value\u001b[0m\u001b[0;34m\u001b[0m\u001b[0;34m\u001b[0m\u001b[0m\n\u001b[1;32m    770\u001b[0m         \u001b[0;32melse\u001b[0m\u001b[0;34m:\u001b[0m\u001b[0;34m\u001b[0m\u001b[0;34m\u001b[0m\u001b[0m\n\u001b[0;32m--> 771\u001b[0;31m             \u001b[0;32mraise\u001b[0m \u001b[0mself\u001b[0m\u001b[0;34m.\u001b[0m\u001b[0m_value\u001b[0m\u001b[0;34m\u001b[0m\u001b[0;34m\u001b[0m\u001b[0m\n\u001b[0m\u001b[1;32m    772\u001b[0m \u001b[0;34m\u001b[0m\u001b[0m\n\u001b[1;32m    773\u001b[0m     \u001b[0;32mdef\u001b[0m \u001b[0m_set\u001b[0m\u001b[0;34m(\u001b[0m\u001b[0mself\u001b[0m\u001b[0;34m,\u001b[0m \u001b[0mi\u001b[0m\u001b[0;34m,\u001b[0m \u001b[0mobj\u001b[0m\u001b[0;34m)\u001b[0m\u001b[0;34m:\u001b[0m\u001b[0;34m\u001b[0m\u001b[0;34m\u001b[0m\u001b[0m\n",
      "\u001b[0;31mNameError\u001b[0m: name 'flatten' is not defined"
     ]
    }
   ],
   "source": [
    "start_time = time.time()\n",
    "pool = Pool()\n",
    "data=pool.starmap(out_statistics,itertools.product([eta],[xi],[in_deg],random.sample(range(len(Genes)),min(len(Genes),1000))))#knockout 1000 genes at the most\n",
    "pool.close()\n",
    "print(\"--- %s seconds ---\" % (time.time() - start_time))\n",
    "pool = Pool()\n",
    "start_time = time.time()\n",
    "data2=pool.starmap(out_statistics2,itertools.product([Gc],[Genes],[TFs],random.sample(Gc_G,min(len(Gc_G),1000))))#knochout 1000 genes to the most\n",
    "pool.close()\n",
    "print(\"--- %s seconds ---\" % (time.time() - start_time))\n"
   ]
  },
  {
   "cell_type": "code",
   "execution_count": 18,
   "metadata": {},
   "outputs": [
    {
     "name": "stdout",
     "output_type": "stream",
     "text": [
      "--- 7.015820264816284 seconds ---\n",
      "--- 13.85520601272583 seconds ---\n"
     ]
    }
   ],
   "source": [
    "#A=propagate_nonlinear(Gc,Genes,TFs,node).nodes()\n",
    "#print(len(A))\n",
    "#B=remove_dynamics(eta,xi,in_deg,node)\n",
    "#nodes_B=set(Genes[where(B[0][0]>0,True,False)]).union(TFs[where(B[1][0]>0,True,False)])\n",
    "start_time = time.time()\n",
    "B=array([out_statistics(eta,xi,in_deg,node) for node in arange(len(Genes))])\n",
    "print(\"--- %s seconds ---\" % (time.time() - start_time))\n",
    "start_time = time.time()\n",
    "A=array([out_statistics2(Gc,Genes,TFs,node)for node in Genes])\n",
    "print(\"--- %s seconds ---\" % (time.time() - start_time))\n"
   ]
  },
  {
   "cell_type": "markdown",
   "metadata": {},
   "source": [
    "Two methods give the very same result, and the parallel version is faster"
   ]
  },
  {
   "cell_type": "code",
   "execution_count": 7,
   "metadata": {},
   "outputs": [
    {
     "ename": "NameError",
     "evalue": "name 'A' is not defined",
     "output_type": "error",
     "traceback": [
      "\u001b[0;31m---------------------------------------------------------------------------\u001b[0m",
      "\u001b[0;31mNameError\u001b[0m                                 Traceback (most recent call last)",
      "\u001b[0;32m<ipython-input-7-10402a98461d>\u001b[0m in \u001b[0;36m<module>\u001b[0;34m\u001b[0m\n\u001b[0;32m----> 1\u001b[0;31m \u001b[0mprint\u001b[0m\u001b[0;34m(\u001b[0m\u001b[0;34m\"non linear dynamics and `propagate` give the same result?\"\u001b[0m\u001b[0;34m,\u001b[0m\u001b[0many\u001b[0m\u001b[0;34m(\u001b[0m\u001b[0mA\u001b[0m\u001b[0;34m==\u001b[0m\u001b[0mB\u001b[0m\u001b[0;34m)\u001b[0m\u001b[0;34m)\u001b[0m\u001b[0;34m\u001b[0m\u001b[0;34m\u001b[0m\u001b[0m\n\u001b[0m",
      "\u001b[0;31mNameError\u001b[0m: name 'A' is not defined"
     ]
    }
   ],
   "source": [
    "print(\"non linear dynamics and `propagate` give the same result?\",any(A==B))"
   ]
  },
  {
   "cell_type": "code",
   "execution_count": 175,
   "metadata": {},
   "outputs": [],
   "source": [
    "ratio=[]\n",
    "for i in range(5000):\n",
    "    data=array(create_graph_and_remove(N1,N2,d,c))\n",
    "    ratio+=[np.count_nonzero(data[:,0]>0.5)/len(data)]"
   ]
  },
  {
   "cell_type": "markdown",
   "metadata": {},
   "source": [
    "Load the dictionary instead than executing"
   ]
  },
  {
   "cell_type": "code",
   "execution_count": 84,
   "metadata": {},
   "outputs": [
    {
     "name": "stdout",
     "output_type": "stream",
     "text": [
      "dict_keys(['d', 'c', 'N1', 'N2', 'g', 'Nrep', 'description'])\n"
     ]
    },
    {
     "ename": "KeyError",
     "evalue": "'ratio'",
     "output_type": "error",
     "traceback": [
      "\u001b[0;31m---------------------------------------------------------------------------\u001b[0m",
      "\u001b[0;31mKeyError\u001b[0m                                  Traceback (most recent call last)",
      "\u001b[0;32m<ipython-input-84-3d7d47ab1cae>\u001b[0m in \u001b[0;36m<module>\u001b[0;34m\u001b[0m\n\u001b[1;32m      2\u001b[0m \u001b[0mdic\u001b[0m\u001b[0;34m=\u001b[0m\u001b[0mload_obj\u001b[0m\u001b[0;34m(\u001b[0m\u001b[0;34m\"c:2.0 d:1.0\"\u001b[0m\u001b[0;34m,\u001b[0m\u001b[0;34m'knockout-cascade_multiple'\u001b[0m\u001b[0;34m)\u001b[0m\u001b[0;34m\u001b[0m\u001b[0;34m\u001b[0m\u001b[0m\n\u001b[1;32m      3\u001b[0m \u001b[0mprint\u001b[0m\u001b[0;34m(\u001b[0m\u001b[0mdic\u001b[0m\u001b[0;34m.\u001b[0m\u001b[0mkeys\u001b[0m\u001b[0;34m(\u001b[0m\u001b[0;34m)\u001b[0m\u001b[0;34m)\u001b[0m\u001b[0;34m\u001b[0m\u001b[0;34m\u001b[0m\u001b[0m\n\u001b[0;32m----> 4\u001b[0;31m \u001b[0mratio\u001b[0m\u001b[0;34m=\u001b[0m\u001b[0mdic\u001b[0m\u001b[0;34m[\u001b[0m\u001b[0;34m'ratio'\u001b[0m\u001b[0;34m]\u001b[0m\u001b[0;34m\u001b[0m\u001b[0;34m\u001b[0m\u001b[0m\n\u001b[0m\u001b[1;32m      5\u001b[0m \u001b[0mN1\u001b[0m\u001b[0;34m=\u001b[0m\u001b[0mdic\u001b[0m\u001b[0;34m[\u001b[0m\u001b[0;34m'N1'\u001b[0m\u001b[0;34m]\u001b[0m\u001b[0;34m\u001b[0m\u001b[0;34m\u001b[0m\u001b[0m\n\u001b[1;32m      6\u001b[0m \u001b[0mN2\u001b[0m\u001b[0;34m=\u001b[0m\u001b[0mdic\u001b[0m\u001b[0;34m[\u001b[0m\u001b[0;34m'N2'\u001b[0m\u001b[0;34m]\u001b[0m\u001b[0;34m\u001b[0m\u001b[0;34m\u001b[0m\u001b[0m\n",
      "\u001b[0;31mKeyError\u001b[0m: 'ratio'"
     ]
    }
   ],
   "source": [
    "dic=load_obj(\"repetion_elimination\")\n",
    "ratio=dic['ratio']\n",
    "N1=dic['N1']\n",
    "N2=dic['N2']\n",
    "c=dic['c']\n",
    "d=dic['d']\n"
   ]
  },
  {
   "cell_type": "code",
   "execution_count": 98,
   "metadata": {},
   "outputs": [
    {
     "data": {
      "text/plain": [
       "266.0"
      ]
     },
     "execution_count": 98,
     "metadata": {},
     "output_type": "execute_result"
    }
   ],
   "source": [
    "dic=load_obj(\"c:1.0 d:2.0\",'knockout-cascade_multiple')\n",
    "data =np.array(dic['g'])\n",
    "np.count_nonzero(data,axis = 1)\n"
   ]
  },
  {
   "cell_type": "markdown",
   "metadata": {},
   "source": [
    "Repeating the experiment, the fraction of nodes triggering an elimination cascade changes"
   ]
  },
  {
   "cell_type": "code",
   "execution_count": 9,
   "metadata": {},
   "outputs": [
    {
     "name": "stderr",
     "output_type": "stream",
     "text": [
      "/home/giuseppe/anaconda3/lib/python3.8/_collections_abc.py:832: MatplotlibDeprecationWarning: Support for setting the 'text.latex.preamble' or 'pgf.preamble' rcParam to a list of strings is deprecated since 3.3 and will be removed two minor releases later; set it to a single string instead.\n",
      "  self[key] = other[key]\n"
     ]
    },
    {
     "data": {
      "image/png": "[encoded data removed]",
      "text/plain": [
       "<Figure size 244.08x150.85 with 1 Axes>"
      ]
     },
     "metadata": {
      "needs_background": "light"
     },
     "output_type": "display_data"
    }
   ],
   "source": [
    "latexify.latexify(columns = 2)\n",
    "#title(\"N=\"+str(N1)+\" c= \"+str(c)+\" d= \"+str(d))\n",
    "plt.hist(ratio,20,density=True)\n",
    "plt.xlabel(\"$\\\\lambda$\",fontsize=13)\n",
    "plt.ylabel(\"Prob. density\",fontsize=12)\n",
    "plt.tight_layout()\n",
    "#plt.savefig(\"repetition_elimination.pdf\")"
   ]
  },
  {
   "cell_type": "code",
   "execution_count": 31,
   "metadata": {},
   "outputs": [],
   "source": [
    "dic={\"ratio\":ratio,\"N1\":N1,\"N2\":N2,\"c\":c,\"d\":d}\n",
    "#save_obj(dic,\"repetion_elimination\")"
   ]
  },
  {
   "cell_type": "code",
   "execution_count": 132,
   "metadata": {},
   "outputs": [
    {
     "data": {
      "text/plain": [
       "dict_keys(['lambda', 'ds', 'cs', 'N1', 'N2'])"
      ]
     },
     "execution_count": 132,
     "metadata": {},
     "output_type": "execute_result"
    }
   ],
   "source": [
    "#dic=load_obj(\"repetion_elimination\")\n"
   ]
  },
  {
   "cell_type": "code",
   "execution_count": 100,
   "metadata": {},
   "outputs": [],
   "source": [
    "d=2\n",
    "c=1\n",
    "N1=10000\n",
    "N2=10000\n",
    "TFs=np.arange(N1,N1+N2)\n",
    "Genes=np.arange(0,N1)\n",
    "_,BG=create_bipartite(N1,N2,d,c)\n",
    "#Gc=maximum_strongly_connected_component_subgraph(BG).copy()\n",
    "BG_G=set(BG.nodes()).intersection(Genes)# set of genes in the giant cluster\n",
    "#Genes,TFs,eta,xi,in_deg=filter_SCC(Gc,Genes)\n",
    "eta=bipartite.biadjacency_matrix(BG,Genes)#from genes  to TF\n",
    "xi=bipartite.biadjacency_matrix(BG,TFs)#from  TF to  genes\n",
    "in_deg=scipy.sparse.csr_matrix(list(dict(BG.in_degree(TFs)).values()))\n",
    "\n",
    "pool = Pool()\n",
    "data=np.array(pool.starmap(out_statistics,itertools.product([eta],[xi],[in_deg],range(len(Genes)))))\n",
    "#data=array(pool.starmap(out_statistics,itertools.product([eta],[xi],[in_deg],random.sample(range(len(Genes)),min(len(Genes),1000)))))#knockout 1000 genes at the most\n",
    "pool.close()"
   ]
  },
  {
   "cell_type": "code",
   "execution_count": 123,
   "metadata": {},
   "outputs": [
    {
     "data": {
      "image/png": "[encoded data removed]",
      "text/plain": [
       "<Figure size 244.08x150.85 with 1 Axes>"
      ]
     },
     "metadata": {
      "needs_background": "light"
     },
     "output_type": "display_data"
    }
   ],
   "source": [
    "latexify.latexify(columns=2)\n",
    "h0,b0=np.histogram(np.array(data)[:,0],bins=np.arange(0.,1,0.01),density = False)\n",
    "plt.bar(b0[:-1],h0/(np.sum(h0)),np.diff(b0),align='edge')\n",
    "plt.xlabel(\"$\\\\bar{g}$\",fontsize=13)\n",
    "plt.ylabel(\"Frequency\",fontsize=13)\n",
    "plt.tight_layout()\n",
    "#plt.savefig(\"elimination_nonlinear.pdf\")\n"
   ]
  },
  {
   "cell_type": "code",
   "execution_count": 112,
   "metadata": {},
   "outputs": [
    {
     "data": {
      "text/plain": [
       "99.99000000000001"
      ]
     },
     "execution_count": 112,
     "metadata": {},
     "output_type": "execute_result"
    }
   ],
   "source": [
    "h1/(np.sum(h0)*(np.diff(b0)[0]))"
   ]
  },
  {
   "cell_type": "code",
   "execution_count": 122,
   "metadata": {},
   "outputs": [
    {
     "data": {
      "image/png": "[encoded data removed]",
      "text/plain": [
       "<Figure size 244.08x150.85 with 1 Axes>"
      ]
     },
     "metadata": {
      "needs_background": "light"
     },
     "output_type": "display_data"
    }
   ],
   "source": [
    "h1,b1=np.histogram(np.array(data)[:,0],bins=np.arange(0.997,1,1/N1))\n",
    "plt.bar(b1[:-1],h1/(np.sum(h0)),np.diff(b1),align='edge')\n",
    "plt.xlabel(\"$\\\\bar{g}$\",fontsize=13)\n",
    "plt.ylabel(\"Frequency\",fontsize=13)\n",
    "plt.tight_layout()\n",
    "#plt.savefig('elimination_inset.pdf')"
   ]
  },
  {
   "cell_type": "markdown",
   "metadata": {},
   "source": [
    "I now look at $g$ around 1, I consider the number of genes that do not belong to aOC  as a result of the single gene elimination. The node that was initially eliminated  is not counted."
   ]
  },
  {
   "cell_type": "code",
   "execution_count": 69,
   "metadata": {},
   "outputs": [
    {
     "data": {
      "image/png": "[encoded data removed]",
      "text/plain": [
       "<Figure size 432x288 with 1 Axes>"
      ]
     },
     "metadata": {
      "needs_background": "light"
     },
     "output_type": "display_data"
    }
   ],
   "source": [
    "x=array(data)[:,0]\n",
    "g=numpy.round((1-x[x>0.5])*len(Genes))\n",
    "h,b=histogram(g,bins=arange(min(g),max(g)+2))\n",
    "bar(b[:-1]-1,h/sum(h),diff(b),align='edge')# -1 accounts for the gene that was initially eliminated\n",
    "xlabel(\"n. of genes not in aOC\",fontsize=14)\n",
    "ylabel(\"fraction of elimination experiments \",fontsize=14)\n",
    "#title(\"c=\"+str(c)+\" d=\"+str(d))\n",
    "semilogy()\n",
    "tight_layout()\n",
    "#savefig(\"genes_knocked_out.png\")"
   ]
  },
  {
   "cell_type": "markdown",
   "metadata": {},
   "source": [
    "## Create heatmap for $\\lambda$"
   ]
  },
  {
   "cell_type": "code",
   "execution_count": 58,
   "metadata": {},
   "outputs": [],
   "source": [
    "ds = np.linspace(0.001,4,50)\n",
    "cs = np.linspace(0.001,2,30)\n",
    "lambda_heat =[]\n",
    "for d in ds:\n",
    "    for c in cs:\n",
    "        data=np.array(create_graph_and_remove(N1,N2,d,c))\n",
    "        lambda_heat+=[np.count_nonzero(data[:,0]>0.5)/len(data)]"
   ]
  },
  {
   "cell_type": "code",
   "execution_count": 60,
   "metadata": {},
   "outputs": [],
   "source": [
    "dic = {'lambda':np.array(lambda_heat).reshape((len(ds),len(cs))),'ds':ds,'cs':cs,'N1':N1,'N2':N2}\n",
    "#save_obj(dic,'lambda_heatmap')"
   ]
  },
  {
   "cell_type": "code",
   "execution_count": 6,
   "metadata": {},
   "outputs": [],
   "source": [
    "dic = load_obj('lambda_heatmap')\n",
    "#dic = load_obj('lambda_heatmap_c_2.0_d_3.0')"
   ]
  },
  {
   "cell_type": "code",
   "execution_count": 8,
   "metadata": {},
   "outputs": [
    {
     "data": {
      "image/png": "[encoded data removed]",
      "text/plain": [
       "<Figure size 432x288 with 2 Axes>"
      ]
     },
     "metadata": {
      "needs_background": "light"
     },
     "output_type": "display_data"
    }
   ],
   "source": [
    "plt.imshow(dic['lambda'],aspect = 'auto', extent=(1+min(dic['cs']),1+max(dic['cs']),1+min(dic['ds']),1+max(dic['ds'])),origin='lower')\n",
    "plt.xlabel(\"$\\langle d^{\\\\mathrm{in}}\\\\rangle$\",fontsize = 12)\n",
    "plt.ylabel(\"$\\langle c^{\\\\mathrm{in}}\\\\rangle$\",fontsize = 12)\n",
    "x = np.linspace(1,3,100)\n",
    "plt.plot(x,np.exp(x-1),'k--')\n",
    "plt.ylim(1+min(dic['ds']),1+max(dic['ds']))\n",
    "plt.xlim(1+min(dic['cs']),1+max(dic['cs']))\n",
    "\n",
    "cbar = plt.colorbar()\n",
    "cbar.set_label(\"$\\\\lambda$\",rotation=90,fontsize=12,labelpad=0)"
   ]
  },
  {
   "cell_type": "code",
   "execution_count": 3,
   "metadata": {},
   "outputs": [
    {
     "ename": "NameError",
     "evalue": "name 'x' is not defined",
     "output_type": "error",
     "traceback": [
      "\u001b[0;31m---------------------------------------------------------------------------\u001b[0m",
      "\u001b[0;31mNameError\u001b[0m                                 Traceback (most recent call last)",
      "\u001b[0;32m<ipython-input-3-67f5a16d194d>\u001b[0m in \u001b[0;36m<module>\u001b[0;34m()\u001b[0m\n\u001b[0;32m----> 1\u001b[0;31m \u001b[0mg\u001b[0m\u001b[0;34m=\u001b[0m\u001b[0;34m(\u001b[0m\u001b[0;36m1\u001b[0m\u001b[0;34m-\u001b[0m\u001b[0mx\u001b[0m\u001b[0;34m[\u001b[0m\u001b[0mx\u001b[0m\u001b[0;34m>\u001b[0m\u001b[0;36m0.5\u001b[0m\u001b[0;34m]\u001b[0m\u001b[0;34m)\u001b[0m\u001b[0;34m*\u001b[0m\u001b[0mlen\u001b[0m\u001b[0;34m(\u001b[0m\u001b[0mGenes\u001b[0m\u001b[0;34m)\u001b[0m\u001b[0;34m\u001b[0m\u001b[0;34m\u001b[0m\u001b[0m\n\u001b[0m\u001b[1;32m      2\u001b[0m \u001b[0mh\u001b[0m\u001b[0;34m,\u001b[0m\u001b[0mb\u001b[0m\u001b[0;34m=\u001b[0m\u001b[0mhistogram\u001b[0m\u001b[0;34m(\u001b[0m\u001b[0mg\u001b[0m\u001b[0;34m,\u001b[0m\u001b[0mbins\u001b[0m\u001b[0;34m=\u001b[0m\u001b[0marange\u001b[0m\u001b[0;34m(\u001b[0m\u001b[0mmin\u001b[0m\u001b[0;34m(\u001b[0m\u001b[0mg\u001b[0m\u001b[0;34m)\u001b[0m\u001b[0;34m,\u001b[0m\u001b[0mmax\u001b[0m\u001b[0;34m(\u001b[0m\u001b[0mg\u001b[0m\u001b[0;34m)\u001b[0m\u001b[0;34m+\u001b[0m\u001b[0;36m2\u001b[0m\u001b[0;34m)\u001b[0m\u001b[0;34m)\u001b[0m\u001b[0;34m\u001b[0m\u001b[0;34m\u001b[0m\u001b[0m\n\u001b[1;32m      3\u001b[0m \u001b[0mr\u001b[0m\u001b[0;34m,\u001b[0m\u001b[0mt\u001b[0m\u001b[0;34m=\u001b[0m\u001b[0munique\u001b[0m\u001b[0;34m(\u001b[0m\u001b[0mg\u001b[0m\u001b[0;34m,\u001b[0m\u001b[0mreturn_counts\u001b[0m\u001b[0;34m=\u001b[0m\u001b[0;32mTrue\u001b[0m\u001b[0;34m)\u001b[0m\u001b[0;34m\u001b[0m\u001b[0;34m\u001b[0m\u001b[0m\n\u001b[1;32m      4\u001b[0m \u001b[0;31m#print(b,h)\u001b[0m\u001b[0;34m\u001b[0m\u001b[0;34m\u001b[0m\u001b[0;34m\u001b[0m\u001b[0m\n",
      "\u001b[0;31mNameError\u001b[0m: name 'x' is not defined"
     ]
    }
   ],
   "source": [
    "g=(1-x[x>0.5])*len(Genes)\n",
    "h,b=histogram(g,bins=arange(min(g),max(g)+2))\n",
    "r,t=unique(g,return_counts=True)\n",
    "#print(b,h)"
   ]
  },
  {
   "cell_type": "code",
   "execution_count": 7,
   "metadata": {},
   "outputs": [],
   "source": [
    "g = []\n",
    "for i in range(3):\n",
    "    data = array(create_graph_and_remove(N1, N2, d, c))\n",
    "    x = array(data)[:, 0]\n",
    "    g += [numpy.round((1 - x[x > 0.5]) * len(Genes))]\n"
   ]
  },
  {
   "cell_type": "code",
   "execution_count": 94,
   "metadata": {},
   "outputs": [],
   "source": [
    "bs=[]\n",
    "hs=[]\n",
    "for i in range(3):\n",
    "    h,b=histogram(g[i],bins=arange(1,max(flatten(g))))\n",
    "    hs+=[h]\n",
    "    bs+=[b]"
   ]
  },
  {
   "cell_type": "code",
   "execution_count": 130,
   "metadata": {},
   "outputs": [
    {
     "data": {
      "text/plain": [
       "[]"
      ]
     },
     "execution_count": 130,
     "metadata": {},
     "output_type": "execute_result"
    },
    {
     "data": {
      "image/png": "[encoded data removed]",
      "text/plain": [
       "<Figure size 432x288 with 1 Axes>"
      ]
     },
     "metadata": {
      "needs_background": "light"
     },
     "output_type": "display_data"
    }
   ],
   "source": [
    "x=bs[0]-1\n",
    "bar((x[:-1]+x[1:])/2,mean(hs,axis=0),diff(bs[0]))\n",
    "errorbar((x[:-1]+x[1:])/2,mean(hs,axis=0),yerr=std(hs,axis=0),ecolor='m',fmt='none')\n",
    "semilogy()"
   ]
  },
  {
   "cell_type": "code",
   "execution_count": 134,
   "metadata": {},
   "outputs": [
    {
     "data": {
      "text/plain": [
       "1000"
      ]
     },
     "execution_count": 134,
     "metadata": {},
     "output_type": "execute_result"
    }
   ],
   "source": [
    "len(x)"
   ]
  },
  {
   "cell_type": "markdown",
   "metadata": {},
   "source": [
    "h"
   ]
  },
  {
   "cell_type": "markdown",
   "metadata": {},
   "source": [
    "# Repetition over different networks"
   ]
  },
  {
   "cell_type": "code",
   "execution_count": 2,
   "metadata": {},
   "outputs": [],
   "source": [
    "def remove_dynamics(eta,xi,in_deg,node):\n",
    "    N1=eta.shape[0]\n",
    "    def time_step_on(n,n_start):\n",
    "            m=np.where((n*eta!=in_deg).toarray(),0,1)\n",
    "            n=scipy.sparse.csr_matrix(m)*xi\n",
    "            n=np.where(n.toarray()>0,1,0)\n",
    "            n[0][n_start==0]=0# enforce elimination constrain of Genes initially eliminated\n",
    "            n=scipy.sparse.csr_matrix(n)\n",
    "            return n,m # it is in the array format\n",
    "    t=0\n",
    "    n_start=ones(N1)\n",
    "    n_start[node]=0\n",
    "    n=scipy.sparse.csr_matrix(n_start)\n",
    "    N_iter=1000\n",
    "    while t< N_iter:\n",
    "            n_new,m=time_step_on(n,n_start)\n",
    "            if n_new.nnz==n.nnz:\n",
    "                if all(n_new.indices==n.indices):# exit if no improvements occur\n",
    "                    break\n",
    "            n=n_new\n",
    "            t+=1\n",
    "    return n.toarray()[0]\n",
    "\n",
    "\n",
    "def create_graph_and_remove(N1,N2,d,c):\n",
    "\n",
    "    _,BG=create_bipartite(N1,N2,d,c)\n",
    "    Genes=arange(0,N1)\n",
    "    pool = Pool()\n",
    "    Genes,TFs,eta,xi,in_deg=filter_SCC(BG,Genes)\n",
    "    data=pool.starmap(remove_dynamics,itertools.product([eta],[xi],[in_deg],range(len(Genes))))#knockout 1000 genes at the most\n",
    "    #data=pool.starmap(out_statistics,itertools.product([eta],[xi],[in_deg],range(len(Genes))))\n",
    "    pool.close()\n",
    "\n",
    "    return data   "
   ]
  },
  {
   "cell_type": "code",
   "execution_count": 7,
   "metadata": {},
   "outputs": [
    {
     "name": "stderr",
     "output_type": "stream",
     "text": [
      "Process ForkPoolWorker-245:\n",
      "Process ForkPoolWorker-247:\n",
      "Process ForkPoolWorker-248:\n",
      "Process ForkPoolWorker-246:\n",
      "Process ForkPoolWorker-244:\n",
      "Process ForkPoolWorker-242:\n",
      "Process ForkPoolWorker-243:\n",
      "Traceback (most recent call last):\n",
      "Traceback (most recent call last):\n",
      "Traceback (most recent call last):\n",
      "Traceback (most recent call last):\n",
      "Traceback (most recent call last):\n",
      "Traceback (most recent call last):\n",
      "Traceback (most recent call last):\n",
      "  File \"/home/k1762355/anaconda3/lib/python3.7/multiprocessing/process.py\", line 297, in _bootstrap\n",
      "    self.run()\n",
      "  File \"/home/k1762355/anaconda3/lib/python3.7/multiprocessing/process.py\", line 297, in _bootstrap\n",
      "    self.run()\n",
      "  File \"/home/k1762355/anaconda3/lib/python3.7/multiprocessing/process.py\", line 297, in _bootstrap\n",
      "    self.run()\n",
      "  File \"/home/k1762355/anaconda3/lib/python3.7/multiprocessing/process.py\", line 297, in _bootstrap\n",
      "    self.run()\n",
      "  File \"/home/k1762355/anaconda3/lib/python3.7/multiprocessing/process.py\", line 297, in _bootstrap\n",
      "    self.run()\n",
      "Process ForkPoolWorker-241:\n",
      "  File \"/home/k1762355/anaconda3/lib/python3.7/multiprocessing/process.py\", line 297, in _bootstrap\n",
      "    self.run()\n",
      "  File \"/home/k1762355/anaconda3/lib/python3.7/multiprocessing/process.py\", line 99, in run\n",
      "    self._target(*self._args, **self._kwargs)\n",
      "  File \"/home/k1762355/anaconda3/lib/python3.7/multiprocessing/process.py\", line 99, in run\n",
      "    self._target(*self._args, **self._kwargs)\n",
      "  File \"/home/k1762355/anaconda3/lib/python3.7/multiprocessing/process.py\", line 297, in _bootstrap\n",
      "    self.run()\n",
      "  File \"/home/k1762355/anaconda3/lib/python3.7/multiprocessing/process.py\", line 99, in run\n",
      "    self._target(*self._args, **self._kwargs)\n",
      "  File \"/home/k1762355/anaconda3/lib/python3.7/multiprocessing/process.py\", line 99, in run\n",
      "    self._target(*self._args, **self._kwargs)\n",
      "  File \"/home/k1762355/anaconda3/lib/python3.7/multiprocessing/process.py\", line 99, in run\n",
      "    self._target(*self._args, **self._kwargs)\n",
      "  File \"/home/k1762355/anaconda3/lib/python3.7/multiprocessing/process.py\", line 99, in run\n",
      "    self._target(*self._args, **self._kwargs)\n",
      "  File \"/home/k1762355/anaconda3/lib/python3.7/multiprocessing/pool.py\", line 110, in worker\n",
      "    task = get()\n",
      "  File \"/home/k1762355/anaconda3/lib/python3.7/multiprocessing/pool.py\", line 110, in worker\n",
      "    task = get()\n",
      "  File \"/home/k1762355/anaconda3/lib/python3.7/multiprocessing/pool.py\", line 110, in worker\n",
      "    task = get()\n",
      "  File \"/home/k1762355/anaconda3/lib/python3.7/multiprocessing/pool.py\", line 110, in worker\n",
      "    task = get()\n",
      "  File \"/home/k1762355/anaconda3/lib/python3.7/multiprocessing/process.py\", line 99, in run\n",
      "    self._target(*self._args, **self._kwargs)\n",
      "  File \"/home/k1762355/anaconda3/lib/python3.7/multiprocessing/pool.py\", line 110, in worker\n",
      "    task = get()\n",
      "  File \"/home/k1762355/anaconda3/lib/python3.7/multiprocessing/pool.py\", line 110, in worker\n",
      "    task = get()\n",
      "  File \"/home/k1762355/anaconda3/lib/python3.7/multiprocessing/queues.py\", line 351, in get\n",
      "    with self._rlock:\n",
      "  File \"/home/k1762355/anaconda3/lib/python3.7/multiprocessing/pool.py\", line 110, in worker\n",
      "    task = get()\n",
      "  File \"/home/k1762355/anaconda3/lib/python3.7/multiprocessing/queues.py\", line 351, in get\n",
      "    with self._rlock:\n",
      "  File \"/home/k1762355/anaconda3/lib/python3.7/multiprocessing/queues.py\", line 351, in get\n",
      "    with self._rlock:\n",
      "Traceback (most recent call last):\n",
      "  File \"/home/k1762355/anaconda3/lib/python3.7/multiprocessing/queues.py\", line 351, in get\n",
      "    with self._rlock:\n",
      "  File \"/home/k1762355/anaconda3/lib/python3.7/multiprocessing/queues.py\", line 351, in get\n",
      "    with self._rlock:\n",
      "  File \"/home/k1762355/anaconda3/lib/python3.7/multiprocessing/queues.py\", line 351, in get\n",
      "    with self._rlock:\n",
      "  File \"/home/k1762355/anaconda3/lib/python3.7/multiprocessing/queues.py\", line 351, in get\n",
      "    with self._rlock:\n",
      "  File \"/home/k1762355/anaconda3/lib/python3.7/multiprocessing/synchronize.py\", line 96, in __enter__\n",
      "    return self._semlock.__enter__()\n",
      "  File \"/home/k1762355/anaconda3/lib/python3.7/multiprocessing/synchronize.py\", line 96, in __enter__\n",
      "    return self._semlock.__enter__()\n",
      "  File \"/home/k1762355/anaconda3/lib/python3.7/multiprocessing/synchronize.py\", line 96, in __enter__\n",
      "    return self._semlock.__enter__()\n",
      "  File \"/home/k1762355/anaconda3/lib/python3.7/multiprocessing/process.py\", line 297, in _bootstrap\n",
      "    self.run()\n",
      "KeyboardInterrupt\n",
      "  File \"/home/k1762355/anaconda3/lib/python3.7/multiprocessing/synchronize.py\", line 96, in __enter__\n",
      "    return self._semlock.__enter__()\n",
      "  File \"/home/k1762355/anaconda3/lib/python3.7/multiprocessing/synchronize.py\", line 96, in __enter__\n",
      "    return self._semlock.__enter__()\n",
      "KeyboardInterrupt\n",
      "  File \"/home/k1762355/anaconda3/lib/python3.7/multiprocessing/synchronize.py\", line 96, in __enter__\n",
      "    return self._semlock.__enter__()\n",
      "  File \"/home/k1762355/anaconda3/lib/python3.7/multiprocessing/synchronize.py\", line 96, in __enter__\n",
      "    return self._semlock.__enter__()\n",
      "KeyboardInterrupt\n",
      "  File \"/home/k1762355/anaconda3/lib/python3.7/multiprocessing/process.py\", line 99, in run\n",
      "    self._target(*self._args, **self._kwargs)\n",
      "KeyboardInterrupt\n",
      "KeyboardInterrupt\n",
      "KeyboardInterrupt\n",
      "  File \"/home/k1762355/anaconda3/lib/python3.7/multiprocessing/pool.py\", line 110, in worker\n",
      "    task = get()\n",
      "KeyboardInterrupt\n",
      "  File \"/home/k1762355/anaconda3/lib/python3.7/multiprocessing/queues.py\", line 352, in get\n",
      "    res = self._reader.recv_bytes()\n",
      "  File \"/home/k1762355/anaconda3/lib/python3.7/multiprocessing/connection.py\", line 216, in recv_bytes\n",
      "    buf = self._recv_bytes(maxlength)\n",
      "  File \"/home/k1762355/anaconda3/lib/python3.7/multiprocessing/connection.py\", line 407, in _recv_bytes\n",
      "    buf = self._recv(4)\n",
      "  File \"/home/k1762355/anaconda3/lib/python3.7/multiprocessing/connection.py\", line 379, in _recv\n",
      "    chunk = read(handle, remaining)\n",
      "KeyboardInterrupt\n"
     ]
    },
    {
     "ename": "KeyboardInterrupt",
     "evalue": "",
     "output_type": "error",
     "traceback": [
      "\u001b[0;31m---------------------------------------------------------------------------\u001b[0m",
      "\u001b[0;31mKeyboardInterrupt\u001b[0m                         Traceback (most recent call last)",
      "\u001b[0;32m<ipython-input-7-3a5b666a7fab>\u001b[0m in \u001b[0;36m<module>\u001b[0;34m()\u001b[0m\n\u001b[1;32m      4\u001b[0m \u001b[0mc\u001b[0m\u001b[0;34m=\u001b[0m\u001b[0;36m2\u001b[0m\u001b[0;34m\u001b[0m\u001b[0m\n\u001b[1;32m      5\u001b[0m \u001b[0mNrepetions\u001b[0m\u001b[0;34m=\u001b[0m\u001b[0;36m1000\u001b[0m\u001b[0;34m\u001b[0m\u001b[0m\n\u001b[0;32m----> 6\u001b[0;31m \u001b[0mdata\u001b[0m\u001b[0;34m=\u001b[0m\u001b[0;34m[\u001b[0m\u001b[0mcreate_graph_and_remove\u001b[0m\u001b[0;34m(\u001b[0m\u001b[0mN1\u001b[0m\u001b[0;34m,\u001b[0m\u001b[0mN2\u001b[0m\u001b[0;34m,\u001b[0m\u001b[0md\u001b[0m\u001b[0;34m,\u001b[0m\u001b[0mc\u001b[0m\u001b[0;34m)\u001b[0m \u001b[0;32mfor\u001b[0m \u001b[0mi\u001b[0m \u001b[0;32min\u001b[0m \u001b[0mrange\u001b[0m\u001b[0;34m(\u001b[0m\u001b[0mNrepetions\u001b[0m\u001b[0;34m)\u001b[0m\u001b[0;34m]\u001b[0m\u001b[0;31m# this is a matrix,\u001b[0m\u001b[0;34m\u001b[0m\u001b[0m\n\u001b[0m",
      "\u001b[0;32m<ipython-input-7-3a5b666a7fab>\u001b[0m in \u001b[0;36m<listcomp>\u001b[0;34m(.0)\u001b[0m\n\u001b[1;32m      4\u001b[0m \u001b[0mc\u001b[0m\u001b[0;34m=\u001b[0m\u001b[0;36m2\u001b[0m\u001b[0;34m\u001b[0m\u001b[0m\n\u001b[1;32m      5\u001b[0m \u001b[0mNrepetions\u001b[0m\u001b[0;34m=\u001b[0m\u001b[0;36m1000\u001b[0m\u001b[0;34m\u001b[0m\u001b[0m\n\u001b[0;32m----> 6\u001b[0;31m \u001b[0mdata\u001b[0m\u001b[0;34m=\u001b[0m\u001b[0;34m[\u001b[0m\u001b[0mcreate_graph_and_remove\u001b[0m\u001b[0;34m(\u001b[0m\u001b[0mN1\u001b[0m\u001b[0;34m,\u001b[0m\u001b[0mN2\u001b[0m\u001b[0;34m,\u001b[0m\u001b[0md\u001b[0m\u001b[0;34m,\u001b[0m\u001b[0mc\u001b[0m\u001b[0;34m)\u001b[0m \u001b[0;32mfor\u001b[0m \u001b[0mi\u001b[0m \u001b[0;32min\u001b[0m \u001b[0mrange\u001b[0m\u001b[0;34m(\u001b[0m\u001b[0mNrepetions\u001b[0m\u001b[0;34m)\u001b[0m\u001b[0;34m]\u001b[0m\u001b[0;31m# this is a matrix,\u001b[0m\u001b[0;34m\u001b[0m\u001b[0m\n\u001b[0m",
      "\u001b[0;32m<ipython-input-2-ad6cbe718208>\u001b[0m in \u001b[0;36mcreate_graph_and_remove\u001b[0;34m(N1, N2, d, c)\u001b[0m\n\u001b[1;32m     28\u001b[0m     \u001b[0mGenes\u001b[0m\u001b[0;34m=\u001b[0m\u001b[0marange\u001b[0m\u001b[0;34m(\u001b[0m\u001b[0;36m0\u001b[0m\u001b[0;34m,\u001b[0m\u001b[0mN1\u001b[0m\u001b[0;34m)\u001b[0m\u001b[0;34m\u001b[0m\u001b[0m\n\u001b[1;32m     29\u001b[0m     \u001b[0mpool\u001b[0m \u001b[0;34m=\u001b[0m \u001b[0mPool\u001b[0m\u001b[0;34m(\u001b[0m\u001b[0;34m)\u001b[0m\u001b[0;34m\u001b[0m\u001b[0m\n\u001b[0;32m---> 30\u001b[0;31m     \u001b[0mGenes\u001b[0m\u001b[0;34m,\u001b[0m\u001b[0mTFs\u001b[0m\u001b[0;34m,\u001b[0m\u001b[0meta\u001b[0m\u001b[0;34m,\u001b[0m\u001b[0mxi\u001b[0m\u001b[0;34m,\u001b[0m\u001b[0min_deg\u001b[0m\u001b[0;34m=\u001b[0m\u001b[0mfilter_SCC\u001b[0m\u001b[0;34m(\u001b[0m\u001b[0mBG\u001b[0m\u001b[0;34m,\u001b[0m\u001b[0mGenes\u001b[0m\u001b[0;34m)\u001b[0m\u001b[0;34m\u001b[0m\u001b[0m\n\u001b[0m\u001b[1;32m     31\u001b[0m     \u001b[0mdata\u001b[0m\u001b[0;34m=\u001b[0m\u001b[0mpool\u001b[0m\u001b[0;34m.\u001b[0m\u001b[0mstarmap\u001b[0m\u001b[0;34m(\u001b[0m\u001b[0mremove_dynamics\u001b[0m\u001b[0;34m,\u001b[0m\u001b[0mitertools\u001b[0m\u001b[0;34m.\u001b[0m\u001b[0mproduct\u001b[0m\u001b[0;34m(\u001b[0m\u001b[0;34m[\u001b[0m\u001b[0meta\u001b[0m\u001b[0;34m]\u001b[0m\u001b[0;34m,\u001b[0m\u001b[0;34m[\u001b[0m\u001b[0mxi\u001b[0m\u001b[0;34m]\u001b[0m\u001b[0;34m,\u001b[0m\u001b[0;34m[\u001b[0m\u001b[0min_deg\u001b[0m\u001b[0;34m]\u001b[0m\u001b[0;34m,\u001b[0m\u001b[0mrange\u001b[0m\u001b[0;34m(\u001b[0m\u001b[0mlen\u001b[0m\u001b[0;34m(\u001b[0m\u001b[0mGenes\u001b[0m\u001b[0;34m)\u001b[0m\u001b[0;34m)\u001b[0m\u001b[0;34m)\u001b[0m\u001b[0;34m)\u001b[0m\u001b[0;31m#knockout 1000 genes at the most\u001b[0m\u001b[0;34m\u001b[0m\u001b[0m\n\u001b[1;32m     32\u001b[0m     \u001b[0;31m#data=pool.starmap(out_statistics,itertools.product([eta],[xi],[in_deg],range(len(Genes))))\u001b[0m\u001b[0;34m\u001b[0m\u001b[0;34m\u001b[0m\u001b[0m\n",
      "\u001b[0;32m<ipython-input-1-c889431afaa6>\u001b[0m in \u001b[0;36mfilter_SCC\u001b[0;34m(BG, Genes)\u001b[0m\n\u001b[1;32m     27\u001b[0m         \u001b[0mTFs\u001b[0m\u001b[0;34m=\u001b[0m\u001b[0;34m[\u001b[0m\u001b[0mn\u001b[0m \u001b[0;32mfor\u001b[0m \u001b[0mn\u001b[0m\u001b[0;34m,\u001b[0m\u001b[0md\u001b[0m \u001b[0;32min\u001b[0m \u001b[0mGc\u001b[0m\u001b[0;34m.\u001b[0m\u001b[0mnodes\u001b[0m\u001b[0;34m(\u001b[0m\u001b[0mdata\u001b[0m\u001b[0;34m=\u001b[0m\u001b[0;32mTrue\u001b[0m\u001b[0;34m)\u001b[0m \u001b[0;32mif\u001b[0m \u001b[0md\u001b[0m\u001b[0;34m[\u001b[0m\u001b[0;34m'bipartite'\u001b[0m\u001b[0;34m]\u001b[0m\u001b[0;34m==\u001b[0m\u001b[0;36m1\u001b[0m\u001b[0;34m]\u001b[0m\u001b[0;34m\u001b[0m\u001b[0m\n\u001b[1;32m     28\u001b[0m         \u001b[0mN2\u001b[0m\u001b[0;34m=\u001b[0m\u001b[0mlen\u001b[0m\u001b[0;34m(\u001b[0m\u001b[0mTFs\u001b[0m\u001b[0;34m)\u001b[0m\u001b[0;34m\u001b[0m\u001b[0m\n\u001b[0;32m---> 29\u001b[0;31m         \u001b[0meta\u001b[0m\u001b[0;34m=\u001b[0m\u001b[0mbipartite\u001b[0m\u001b[0;34m.\u001b[0m\u001b[0mbiadjacency_matrix\u001b[0m\u001b[0;34m(\u001b[0m\u001b[0mGc\u001b[0m\u001b[0;34m,\u001b[0m\u001b[0mGenes\u001b[0m\u001b[0;34m)\u001b[0m\u001b[0;31m#from genes  to TF\u001b[0m\u001b[0;34m\u001b[0m\u001b[0m\n\u001b[0m\u001b[1;32m     30\u001b[0m         \u001b[0mxi\u001b[0m\u001b[0;34m=\u001b[0m\u001b[0mbipartite\u001b[0m\u001b[0;34m.\u001b[0m\u001b[0mbiadjacency_matrix\u001b[0m\u001b[0;34m(\u001b[0m\u001b[0mGc\u001b[0m\u001b[0;34m,\u001b[0m\u001b[0mTFs\u001b[0m\u001b[0;34m)\u001b[0m\u001b[0;31m#from  TF to  genes\u001b[0m\u001b[0;34m\u001b[0m\u001b[0m\n\u001b[1;32m     31\u001b[0m         \u001b[0min_deg\u001b[0m\u001b[0;34m=\u001b[0m\u001b[0mscipy\u001b[0m\u001b[0;34m.\u001b[0m\u001b[0msparse\u001b[0m\u001b[0;34m.\u001b[0m\u001b[0mcsr_matrix\u001b[0m\u001b[0;34m(\u001b[0m\u001b[0mlist\u001b[0m\u001b[0;34m(\u001b[0m\u001b[0mdict\u001b[0m\u001b[0;34m(\u001b[0m\u001b[0mGc\u001b[0m\u001b[0;34m.\u001b[0m\u001b[0min_degree\u001b[0m\u001b[0;34m(\u001b[0m\u001b[0mTFs\u001b[0m\u001b[0;34m)\u001b[0m\u001b[0;34m)\u001b[0m\u001b[0;34m.\u001b[0m\u001b[0mvalues\u001b[0m\u001b[0;34m(\u001b[0m\u001b[0;34m)\u001b[0m\u001b[0;34m)\u001b[0m\u001b[0;34m)\u001b[0m\u001b[0;34m\u001b[0m\u001b[0m\n",
      "\u001b[0;32m~/anaconda3/lib/python3.7/site-packages/networkx/algorithms/bipartite/matrix.py\u001b[0m in \u001b[0;36mbiadjacency_matrix\u001b[0;34m(G, row_order, column_order, dtype, weight, format)\u001b[0m\n\u001b[1;32m    102\u001b[0m     \u001b[0;32melse\u001b[0m\u001b[0;34m:\u001b[0m\u001b[0;34m\u001b[0m\u001b[0m\n\u001b[1;32m    103\u001b[0m         row, col, data = zip(*((row_index[u], col_index[v], d.get(weight, 1))\n\u001b[0;32m--> 104\u001b[0;31m                                \u001b[0;32mfor\u001b[0m \u001b[0mu\u001b[0m\u001b[0;34m,\u001b[0m \u001b[0mv\u001b[0m\u001b[0;34m,\u001b[0m \u001b[0md\u001b[0m \u001b[0;32min\u001b[0m \u001b[0mG\u001b[0m\u001b[0;34m.\u001b[0m\u001b[0medges\u001b[0m\u001b[0;34m(\u001b[0m\u001b[0mrow_order\u001b[0m\u001b[0;34m,\u001b[0m \u001b[0mdata\u001b[0m\u001b[0;34m=\u001b[0m\u001b[0;32mTrue\u001b[0m\u001b[0;34m)\u001b[0m\u001b[0;34m\u001b[0m\u001b[0m\n\u001b[0m\u001b[1;32m    105\u001b[0m                                if u in row_index and v in col_index))\n\u001b[1;32m    106\u001b[0m     M = sparse.coo_matrix((data, (row, col)),\n",
      "\u001b[0;32m~/anaconda3/lib/python3.7/site-packages/networkx/algorithms/bipartite/matrix.py\u001b[0m in \u001b[0;36m<genexpr>\u001b[0;34m(.0)\u001b[0m\n\u001b[1;32m    101\u001b[0m         \u001b[0mrow\u001b[0m\u001b[0;34m,\u001b[0m \u001b[0mcol\u001b[0m\u001b[0;34m,\u001b[0m \u001b[0mdata\u001b[0m \u001b[0;34m=\u001b[0m \u001b[0;34m[\u001b[0m\u001b[0;34m]\u001b[0m\u001b[0;34m,\u001b[0m \u001b[0;34m[\u001b[0m\u001b[0;34m]\u001b[0m\u001b[0;34m,\u001b[0m \u001b[0;34m[\u001b[0m\u001b[0;34m]\u001b[0m\u001b[0;34m\u001b[0m\u001b[0m\n\u001b[1;32m    102\u001b[0m     \u001b[0;32melse\u001b[0m\u001b[0;34m:\u001b[0m\u001b[0;34m\u001b[0m\u001b[0m\n\u001b[0;32m--> 103\u001b[0;31m         row, col, data = zip(*((row_index[u], col_index[v], d.get(weight, 1))\n\u001b[0m\u001b[1;32m    104\u001b[0m                                \u001b[0;32mfor\u001b[0m \u001b[0mu\u001b[0m\u001b[0;34m,\u001b[0m \u001b[0mv\u001b[0m\u001b[0;34m,\u001b[0m \u001b[0md\u001b[0m \u001b[0;32min\u001b[0m \u001b[0mG\u001b[0m\u001b[0;34m.\u001b[0m\u001b[0medges\u001b[0m\u001b[0;34m(\u001b[0m\u001b[0mrow_order\u001b[0m\u001b[0;34m,\u001b[0m \u001b[0mdata\u001b[0m\u001b[0;34m=\u001b[0m\u001b[0;32mTrue\u001b[0m\u001b[0;34m)\u001b[0m\u001b[0;34m\u001b[0m\u001b[0m\n\u001b[1;32m    105\u001b[0m                                if u in row_index and v in col_index))\n",
      "\u001b[0;32m~/anaconda3/lib/python3.7/site-packages/networkx/classes/reportviews.py\u001b[0m in \u001b[0;36m<genexpr>\u001b[0;34m(.0)\u001b[0m\n\u001b[1;32m    665\u001b[0m     \u001b[0;32mdef\u001b[0m \u001b[0m__iter__\u001b[0m\u001b[0;34m(\u001b[0m\u001b[0mself\u001b[0m\u001b[0;34m)\u001b[0m\u001b[0;34m:\u001b[0m\u001b[0;34m\u001b[0m\u001b[0m\n\u001b[1;32m    666\u001b[0m         return (self._report(n, nbr, dd) for n, nbrs in self._nodes_nbrs()\n\u001b[0;32m--> 667\u001b[0;31m                 for nbr, dd in nbrs.items())\n\u001b[0m\u001b[1;32m    668\u001b[0m \u001b[0;34m\u001b[0m\u001b[0m\n\u001b[1;32m    669\u001b[0m     \u001b[0;32mdef\u001b[0m \u001b[0m__contains__\u001b[0m\u001b[0;34m(\u001b[0m\u001b[0mself\u001b[0m\u001b[0;34m,\u001b[0m \u001b[0me\u001b[0m\u001b[0;34m)\u001b[0m\u001b[0;34m:\u001b[0m\u001b[0;34m\u001b[0m\u001b[0m\n",
      "\u001b[0;32m~/anaconda3/lib/python3.7/_collections_abc.py\u001b[0m in \u001b[0;36m__iter__\u001b[0;34m(self)\u001b[0m\n\u001b[1;32m    742\u001b[0m     \u001b[0;32mdef\u001b[0m \u001b[0m__iter__\u001b[0m\u001b[0;34m(\u001b[0m\u001b[0mself\u001b[0m\u001b[0;34m)\u001b[0m\u001b[0;34m:\u001b[0m\u001b[0;34m\u001b[0m\u001b[0m\n\u001b[1;32m    743\u001b[0m         \u001b[0;32mfor\u001b[0m \u001b[0mkey\u001b[0m \u001b[0;32min\u001b[0m \u001b[0mself\u001b[0m\u001b[0;34m.\u001b[0m\u001b[0m_mapping\u001b[0m\u001b[0;34m:\u001b[0m\u001b[0;34m\u001b[0m\u001b[0m\n\u001b[0;32m--> 744\u001b[0;31m             \u001b[0;32myield\u001b[0m \u001b[0;34m(\u001b[0m\u001b[0mkey\u001b[0m\u001b[0;34m,\u001b[0m \u001b[0mself\u001b[0m\u001b[0;34m.\u001b[0m\u001b[0m_mapping\u001b[0m\u001b[0;34m[\u001b[0m\u001b[0mkey\u001b[0m\u001b[0;34m]\u001b[0m\u001b[0;34m)\u001b[0m\u001b[0;34m\u001b[0m\u001b[0m\n\u001b[0m\u001b[1;32m    745\u001b[0m \u001b[0;34m\u001b[0m\u001b[0m\n\u001b[1;32m    746\u001b[0m \u001b[0mItemsView\u001b[0m\u001b[0;34m.\u001b[0m\u001b[0mregister\u001b[0m\u001b[0;34m(\u001b[0m\u001b[0mdict_items\u001b[0m\u001b[0;34m)\u001b[0m\u001b[0;34m\u001b[0m\u001b[0m\n",
      "\u001b[0;32m~/anaconda3/lib/python3.7/site-packages/networkx/classes/coreviews.py\u001b[0m in \u001b[0;36m__getitem__\u001b[0;34m(self, key)\u001b[0m\n\u001b[1;32m    277\u001b[0m \u001b[0;34m\u001b[0m\u001b[0m\n\u001b[1;32m    278\u001b[0m     \u001b[0;32mdef\u001b[0m \u001b[0m__getitem__\u001b[0m\u001b[0;34m(\u001b[0m\u001b[0mself\u001b[0m\u001b[0;34m,\u001b[0m \u001b[0mkey\u001b[0m\u001b[0;34m)\u001b[0m\u001b[0;34m:\u001b[0m\u001b[0;34m\u001b[0m\u001b[0m\n\u001b[0;32m--> 279\u001b[0;31m         \u001b[0;32mif\u001b[0m \u001b[0mkey\u001b[0m \u001b[0;32min\u001b[0m \u001b[0mself\u001b[0m\u001b[0;34m.\u001b[0m\u001b[0m_atlas\u001b[0m \u001b[0;32mand\u001b[0m \u001b[0mself\u001b[0m\u001b[0;34m.\u001b[0m\u001b[0mNODE_OK\u001b[0m\u001b[0;34m(\u001b[0m\u001b[0mkey\u001b[0m\u001b[0;34m)\u001b[0m\u001b[0;34m:\u001b[0m\u001b[0;34m\u001b[0m\u001b[0m\n\u001b[0m\u001b[1;32m    280\u001b[0m             \u001b[0;32mreturn\u001b[0m \u001b[0mself\u001b[0m\u001b[0;34m.\u001b[0m\u001b[0m_atlas\u001b[0m\u001b[0;34m[\u001b[0m\u001b[0mkey\u001b[0m\u001b[0;34m]\u001b[0m\u001b[0;34m\u001b[0m\u001b[0m\n\u001b[1;32m    281\u001b[0m         \u001b[0;32mraise\u001b[0m \u001b[0mKeyError\u001b[0m\u001b[0;34m(\u001b[0m\u001b[0;34m\"Key {} not found\"\u001b[0m\u001b[0;34m.\u001b[0m\u001b[0mformat\u001b[0m\u001b[0;34m(\u001b[0m\u001b[0mkey\u001b[0m\u001b[0;34m)\u001b[0m\u001b[0;34m)\u001b[0m\u001b[0;34m\u001b[0m\u001b[0m\n",
      "\u001b[0;32m~/anaconda3/lib/python3.7/site-packages/networkx/classes/coreviews.py\u001b[0m in \u001b[0;36mnew_node_ok\u001b[0;34m(nbr)\u001b[0m\n\u001b[1;32m    321\u001b[0m         \u001b[0;32mif\u001b[0m \u001b[0mnode\u001b[0m \u001b[0;32min\u001b[0m \u001b[0mself\u001b[0m\u001b[0;34m.\u001b[0m\u001b[0m_atlas\u001b[0m \u001b[0;32mand\u001b[0m \u001b[0mself\u001b[0m\u001b[0;34m.\u001b[0m\u001b[0mNODE_OK\u001b[0m\u001b[0;34m(\u001b[0m\u001b[0mnode\u001b[0m\u001b[0;34m)\u001b[0m\u001b[0;34m:\u001b[0m\u001b[0;34m\u001b[0m\u001b[0m\n\u001b[1;32m    322\u001b[0m             \u001b[0;32mdef\u001b[0m \u001b[0mnew_node_ok\u001b[0m\u001b[0;34m(\u001b[0m\u001b[0mnbr\u001b[0m\u001b[0;34m)\u001b[0m\u001b[0;34m:\u001b[0m\u001b[0;34m\u001b[0m\u001b[0m\n\u001b[0;32m--> 323\u001b[0;31m                 \u001b[0;32mreturn\u001b[0m \u001b[0mself\u001b[0m\u001b[0;34m.\u001b[0m\u001b[0mNODE_OK\u001b[0m\u001b[0;34m(\u001b[0m\u001b[0mnbr\u001b[0m\u001b[0;34m)\u001b[0m \u001b[0;32mand\u001b[0m \u001b[0mself\u001b[0m\u001b[0;34m.\u001b[0m\u001b[0mEDGE_OK\u001b[0m\u001b[0;34m(\u001b[0m\u001b[0mnode\u001b[0m\u001b[0;34m,\u001b[0m \u001b[0mnbr\u001b[0m\u001b[0;34m)\u001b[0m\u001b[0;34m\u001b[0m\u001b[0m\n\u001b[0m\u001b[1;32m    324\u001b[0m             \u001b[0;32mreturn\u001b[0m \u001b[0mFilterAtlas\u001b[0m\u001b[0;34m(\u001b[0m\u001b[0mself\u001b[0m\u001b[0;34m.\u001b[0m\u001b[0m_atlas\u001b[0m\u001b[0;34m[\u001b[0m\u001b[0mnode\u001b[0m\u001b[0;34m]\u001b[0m\u001b[0;34m,\u001b[0m \u001b[0mnew_node_ok\u001b[0m\u001b[0;34m)\u001b[0m\u001b[0;34m\u001b[0m\u001b[0m\n\u001b[1;32m    325\u001b[0m         \u001b[0;32mraise\u001b[0m \u001b[0mKeyError\u001b[0m\u001b[0;34m(\u001b[0m\u001b[0;34m\"Key {} not found\"\u001b[0m\u001b[0;34m.\u001b[0m\u001b[0mformat\u001b[0m\u001b[0;34m(\u001b[0m\u001b[0mnode\u001b[0m\u001b[0;34m)\u001b[0m\u001b[0;34m)\u001b[0m\u001b[0;34m\u001b[0m\u001b[0m\n",
      "\u001b[0;32m~/anaconda3/lib/python3.7/site-packages/networkx/classes/filters.py\u001b[0m in \u001b[0;36m__call__\u001b[0;34m(self, node)\u001b[0m\n\u001b[1;32m     56\u001b[0m         \u001b[0mself\u001b[0m\u001b[0;34m.\u001b[0m\u001b[0mnodes\u001b[0m \u001b[0;34m=\u001b[0m \u001b[0mset\u001b[0m\u001b[0;34m(\u001b[0m\u001b[0mnodes\u001b[0m\u001b[0;34m)\u001b[0m\u001b[0;34m\u001b[0m\u001b[0m\n\u001b[1;32m     57\u001b[0m \u001b[0;34m\u001b[0m\u001b[0m\n\u001b[0;32m---> 58\u001b[0;31m     \u001b[0;32mdef\u001b[0m \u001b[0m__call__\u001b[0m\u001b[0;34m(\u001b[0m\u001b[0mself\u001b[0m\u001b[0;34m,\u001b[0m \u001b[0mnode\u001b[0m\u001b[0;34m)\u001b[0m\u001b[0;34m:\u001b[0m\u001b[0;34m\u001b[0m\u001b[0m\n\u001b[0m\u001b[1;32m     59\u001b[0m         \u001b[0;32mreturn\u001b[0m \u001b[0mnode\u001b[0m \u001b[0;32min\u001b[0m \u001b[0mself\u001b[0m\u001b[0;34m.\u001b[0m\u001b[0mnodes\u001b[0m\u001b[0;34m\u001b[0m\u001b[0m\n\u001b[1;32m     60\u001b[0m \u001b[0;34m\u001b[0m\u001b[0m\n",
      "\u001b[0;31mKeyboardInterrupt\u001b[0m: "
     ]
    },
    {
     "name": "stderr",
     "output_type": "stream",
     "text": [
      "Process ForkPoolWorker-255:\n",
      "Process ForkPoolWorker-264:\n",
      "Process ForkPoolWorker-262:\n",
      "Process ForkPoolWorker-260:\n",
      "Process ForkPoolWorker-250:\n",
      "Process ForkPoolWorker-261:\n",
      "Process ForkPoolWorker-259:\n",
      "Process ForkPoolWorker-256:\n",
      "Process ForkPoolWorker-254:\n",
      "Process ForkPoolWorker-257:\n",
      "Process ForkPoolWorker-258:\n",
      "Traceback (most recent call last):\n",
      "Process ForkPoolWorker-252:\n",
      "Traceback (most recent call last):\n",
      "  File \"/home/k1762355/anaconda3/lib/python3.7/multiprocessing/process.py\", line 297, in _bootstrap\n",
      "    self.run()\n",
      "Traceback (most recent call last):\n",
      "  File \"/home/k1762355/anaconda3/lib/python3.7/multiprocessing/process.py\", line 99, in run\n",
      "    self._target(*self._args, **self._kwargs)\n",
      "Process ForkPoolWorker-263:\n",
      "  File \"/home/k1762355/anaconda3/lib/python3.7/multiprocessing/pool.py\", line 121, in worker\n",
      "    result = (True, func(*args, **kwds))\n",
      "Traceback (most recent call last):\n",
      "  File \"/home/k1762355/anaconda3/lib/python3.7/multiprocessing/process.py\", line 297, in _bootstrap\n",
      "    self.run()\n",
      "  File \"/home/k1762355/anaconda3/lib/python3.7/multiprocessing/process.py\", line 297, in _bootstrap\n",
      "    self.run()\n",
      "Traceback (most recent call last):\n",
      "  File \"/home/k1762355/anaconda3/lib/python3.7/multiprocessing/process.py\", line 297, in _bootstrap\n",
      "    self.run()\n",
      "Traceback (most recent call last):\n",
      "  File \"/home/k1762355/anaconda3/lib/python3.7/multiprocessing/process.py\", line 99, in run\n",
      "    self._target(*self._args, **self._kwargs)\n",
      "  File \"/home/k1762355/anaconda3/lib/python3.7/multiprocessing/pool.py\", line 47, in starmapstar\n",
      "    return list(itertools.starmap(args[0], args[1]))\n",
      "  File \"/home/k1762355/anaconda3/lib/python3.7/multiprocessing/process.py\", line 99, in run\n",
      "    self._target(*self._args, **self._kwargs)\n",
      "  File \"/home/k1762355/anaconda3/lib/python3.7/multiprocessing/process.py\", line 297, in _bootstrap\n",
      "    self.run()\n",
      "  File \"/home/k1762355/anaconda3/lib/python3.7/multiprocessing/process.py\", line 99, in run\n",
      "    self._target(*self._args, **self._kwargs)\n",
      "Process ForkPoolWorker-249:\n",
      "Process ForkPoolWorker-251:\n",
      "  File \"/home/k1762355/anaconda3/lib/python3.7/multiprocessing/process.py\", line 297, in _bootstrap\n",
      "    self.run()\n",
      "Process ForkPoolWorker-253:\n",
      "  File \"<ipython-input-2-ad6cbe718208>\", line 16, in remove_dynamics\n",
      "    n_new,m=time_step_on(n,n_start)\n",
      "  File \"/home/k1762355/anaconda3/lib/python3.7/multiprocessing/process.py\", line 99, in run\n",
      "    self._target(*self._args, **self._kwargs)\n",
      "  File \"/home/k1762355/anaconda3/lib/python3.7/multiprocessing/pool.py\", line 121, in worker\n",
      "    result = (True, func(*args, **kwds))\n",
      "  File \"/home/k1762355/anaconda3/lib/python3.7/multiprocessing/pool.py\", line 121, in worker\n",
      "    result = (True, func(*args, **kwds))\n",
      "  File \"/home/k1762355/anaconda3/lib/python3.7/multiprocessing/process.py\", line 99, in run\n",
      "    self._target(*self._args, **self._kwargs)\n",
      "  File \"/home/k1762355/anaconda3/lib/python3.7/multiprocessing/pool.py\", line 121, in worker\n",
      "    result = (True, func(*args, **kwds))\n",
      "  File \"/home/k1762355/anaconda3/lib/python3.7/multiprocessing/pool.py\", line 121, in worker\n",
      "    result = (True, func(*args, **kwds))\n",
      "  File \"/home/k1762355/anaconda3/lib/python3.7/multiprocessing/pool.py\", line 47, in starmapstar\n",
      "    return list(itertools.starmap(args[0], args[1]))\n",
      "  File \"/home/k1762355/anaconda3/lib/python3.7/multiprocessing/pool.py\", line 47, in starmapstar\n",
      "    return list(itertools.starmap(args[0], args[1]))\n",
      "  File \"/home/k1762355/anaconda3/lib/python3.7/multiprocessing/pool.py\", line 47, in starmapstar\n",
      "    return list(itertools.starmap(args[0], args[1]))\n",
      "  File \"/home/k1762355/anaconda3/lib/python3.7/multiprocessing/pool.py\", line 121, in worker\n",
      "    result = (True, func(*args, **kwds))\n",
      "  File \"<ipython-input-2-ad6cbe718208>\", line 5, in time_step_on\n",
      "    n=scipy.sparse.csr_matrix(m)*xi\n",
      "  File \"/home/k1762355/anaconda3/lib/python3.7/multiprocessing/pool.py\", line 47, in starmapstar\n",
      "    return list(itertools.starmap(args[0], args[1]))\n",
      "  File \"/home/k1762355/anaconda3/lib/python3.7/site-packages/scipy/sparse/base.py\", line 479, in __mul__\n",
      "    return self._mul_sparse_matrix(other)\n",
      "  File \"<ipython-input-2-ad6cbe718208>\", line 16, in remove_dynamics\n",
      "    n_new,m=time_step_on(n,n_start)\n",
      "  File \"<ipython-input-2-ad6cbe718208>\", line 16, in remove_dynamics\n",
      "    n_new,m=time_step_on(n,n_start)\n",
      "  File \"<ipython-input-2-ad6cbe718208>\", line 16, in remove_dynamics\n",
      "    n_new,m=time_step_on(n,n_start)\n",
      "  File \"/home/k1762355/anaconda3/lib/python3.7/multiprocessing/pool.py\", line 47, in starmapstar\n",
      "    return list(itertools.starmap(args[0], args[1]))\n",
      "  File \"<ipython-input-2-ad6cbe718208>\", line 5, in time_step_on\n",
      "    n=scipy.sparse.csr_matrix(m)*xi\n",
      "  File \"<ipython-input-2-ad6cbe718208>\", line 4, in time_step_on\n",
      "    m=np.where((n*eta!=in_deg).toarray(),0,1)\n",
      "  File \"<ipython-input-2-ad6cbe718208>\", line 4, in time_step_on\n",
      "    m=np.where((n*eta!=in_deg).toarray(),0,1)\n",
      "  File \"<ipython-input-2-ad6cbe718208>\", line 16, in remove_dynamics\n",
      "    n_new,m=time_step_on(n,n_start)\n",
      "  File \"/home/k1762355/anaconda3/lib/python3.7/site-packages/scipy/sparse/base.py\", line 479, in __mul__\n",
      "    return self._mul_sparse_matrix(other)\n",
      "  File \"/home/k1762355/anaconda3/lib/python3.7/site-packages/scipy/sparse/base.py\", line 479, in __mul__\n",
      "    return self._mul_sparse_matrix(other)\n",
      "  File \"<ipython-input-2-ad6cbe718208>\", line 8, in time_step_on\n",
      "    n=scipy.sparse.csr_matrix(n)\n",
      "  File \"/home/k1762355/anaconda3/lib/python3.7/site-packages/scipy/sparse/compressed.py\", line 512, in _mul_sparse_matrix\n",
      "    indptr, indices, data)\n",
      "  File \"/home/k1762355/anaconda3/lib/python3.7/site-packages/scipy/sparse/compressed.py\", line 495, in _mul_sparse_matrix\n",
      "    indptr)\n",
      "  File \"<ipython-input-2-ad6cbe718208>\", line 16, in remove_dynamics\n",
      "    n_new,m=time_step_on(n,n_start)\n",
      "  File \"/home/k1762355/anaconda3/lib/python3.7/site-packages/scipy/sparse/compressed.py\", line 98, in __init__\n",
      "    self.check_format(full_check=False)\n",
      "KeyboardInterrupt\n",
      "KeyboardInterrupt\n",
      "  File \"<ipython-input-2-ad6cbe718208>\", line 4, in time_step_on\n",
      "    m=np.where((n*eta!=in_deg).toarray(),0,1)\n",
      "  File \"/home/k1762355/anaconda3/lib/python3.7/site-packages/scipy/sparse/compressed.py\", line 264, in __ne__\n",
      "    return self._binopt(other,'_ne_')\n",
      "  File \"/home/k1762355/anaconda3/lib/python3.7/site-packages/scipy/sparse/base.py\", line 479, in __mul__\n",
      "    return self._mul_sparse_matrix(other)\n",
      "  File \"/home/k1762355/anaconda3/lib/python3.7/site-packages/scipy/sparse/compressed.py\", line 1157, in _binopt\n",
      "    indptr, indices, data)\n",
      "  File \"/home/k1762355/anaconda3/lib/python3.7/site-packages/scipy/sparse/compressed.py\", line 512, in _mul_sparse_matrix\n",
      "    indptr, indices, data)\n",
      "KeyboardInterrupt\n",
      "KeyboardInterrupt\n",
      "  File \"/home/k1762355/anaconda3/lib/python3.7/site-packages/scipy/sparse/compressed.py\", line 162, in check_format\n",
      "    if (self.indptr[0] != 0):\n",
      "  File \"/home/k1762355/anaconda3/lib/python3.7/site-packages/scipy/sparse/compressed.py\", line 482, in _mul_sparse_matrix\n",
      "    other = self.__class__(other)  # convert to this format\n",
      "KeyboardInterrupt\n",
      "  File \"/home/k1762355/anaconda3/lib/python3.7/site-packages/scipy/sparse/compressed.py\", line 98, in __init__\n",
      "    self.check_format(full_check=False)\n",
      "  File \"/home/k1762355/anaconda3/lib/python3.7/site-packages/scipy/sparse/compressed.py\", line 172, in check_format\n",
      "    self.prune()\n",
      "  File \"/home/k1762355/anaconda3/lib/python3.7/site-packages/scipy/sparse/compressed.py\", line 1075, in prune\n",
      "    self.data = _prune_array(self.data[:self.nnz])\n",
      "  File \"/home/k1762355/anaconda3/lib/python3.7/site-packages/scipy/sparse/base.py\", line 251, in nnz\n",
      "    return self.getnnz()\n",
      "  File \"/home/k1762355/anaconda3/lib/python3.7/site-packages/scipy/sparse/compressed.py\", line 102, in getnnz\n",
      "    return int(self.indptr[-1])\n",
      "KeyboardInterrupt\n",
      "Traceback (most recent call last):\n",
      "Traceback (most recent call last):\n",
      "Traceback (most recent call last):\n",
      "Traceback (most recent call last):\n",
      "Traceback (most recent call last):\n",
      "Traceback (most recent call last):\n",
      "Traceback (most recent call last):\n",
      "Traceback (most recent call last):\n",
      "  File \"/home/k1762355/anaconda3/lib/python3.7/multiprocessing/process.py\", line 297, in _bootstrap\n",
      "    self.run()\n",
      "  File \"/home/k1762355/anaconda3/lib/python3.7/multiprocessing/process.py\", line 297, in _bootstrap\n",
      "    self.run()\n"
     ]
    },
    {
     "name": "stderr",
     "output_type": "stream",
     "text": [
      "  File \"/home/k1762355/anaconda3/lib/python3.7/multiprocessing/process.py\", line 297, in _bootstrap\n",
      "    self.run()\n",
      "  File \"/home/k1762355/anaconda3/lib/python3.7/multiprocessing/process.py\", line 297, in _bootstrap\n",
      "    self.run()\n",
      "  File \"/home/k1762355/anaconda3/lib/python3.7/multiprocessing/process.py\", line 99, in run\n",
      "    self._target(*self._args, **self._kwargs)\n",
      "  File \"/home/k1762355/anaconda3/lib/python3.7/multiprocessing/process.py\", line 297, in _bootstrap\n",
      "    self.run()\n",
      "  File \"/home/k1762355/anaconda3/lib/python3.7/multiprocessing/process.py\", line 297, in _bootstrap\n",
      "    self.run()\n",
      "  File \"/home/k1762355/anaconda3/lib/python3.7/multiprocessing/process.py\", line 297, in _bootstrap\n",
      "    self.run()\n",
      "  File \"/home/k1762355/anaconda3/lib/python3.7/multiprocessing/process.py\", line 99, in run\n",
      "    self._target(*self._args, **self._kwargs)\n",
      "  File \"/home/k1762355/anaconda3/lib/python3.7/multiprocessing/process.py\", line 297, in _bootstrap\n",
      "    self.run()\n",
      "  File \"/home/k1762355/anaconda3/lib/python3.7/multiprocessing/process.py\", line 99, in run\n",
      "    self._target(*self._args, **self._kwargs)\n",
      "  File \"/home/k1762355/anaconda3/lib/python3.7/multiprocessing/pool.py\", line 110, in worker\n",
      "    task = get()\n",
      "  File \"/home/k1762355/anaconda3/lib/python3.7/multiprocessing/process.py\", line 99, in run\n",
      "    self._target(*self._args, **self._kwargs)\n",
      "  File \"/home/k1762355/anaconda3/lib/python3.7/multiprocessing/process.py\", line 99, in run\n",
      "    self._target(*self._args, **self._kwargs)\n",
      "  File \"/home/k1762355/anaconda3/lib/python3.7/multiprocessing/pool.py\", line 110, in worker\n",
      "    task = get()\n",
      "  File \"/home/k1762355/anaconda3/lib/python3.7/multiprocessing/process.py\", line 99, in run\n",
      "    self._target(*self._args, **self._kwargs)\n",
      "  File \"/home/k1762355/anaconda3/lib/python3.7/multiprocessing/pool.py\", line 121, in worker\n",
      "    result = (True, func(*args, **kwds))\n",
      "  File \"/home/k1762355/anaconda3/lib/python3.7/multiprocessing/pool.py\", line 47, in starmapstar\n",
      "    return list(itertools.starmap(args[0], args[1]))\n",
      "  File \"/home/k1762355/anaconda3/lib/python3.7/multiprocessing/pool.py\", line 110, in worker\n",
      "    task = get()\n",
      "  File \"/home/k1762355/anaconda3/lib/python3.7/multiprocessing/pool.py\", line 110, in worker\n",
      "    task = get()\n",
      "  File \"<ipython-input-2-ad6cbe718208>\", line 16, in remove_dynamics\n",
      "    n_new,m=time_step_on(n,n_start)\n",
      "  File \"/home/k1762355/anaconda3/lib/python3.7/multiprocessing/queues.py\", line 351, in get\n",
      "    with self._rlock:\n",
      "  File \"/home/k1762355/anaconda3/lib/python3.7/multiprocessing/queues.py\", line 351, in get\n",
      "    with self._rlock:\n",
      "  File \"/home/k1762355/anaconda3/lib/python3.7/multiprocessing/queues.py\", line 351, in get\n",
      "    with self._rlock:\n",
      "  File \"/home/k1762355/anaconda3/lib/python3.7/multiprocessing/synchronize.py\", line 96, in __enter__\n",
      "    return self._semlock.__enter__()\n",
      "  File \"<ipython-input-2-ad6cbe718208>\", line 8, in time_step_on\n",
      "    n=scipy.sparse.csr_matrix(n)\n",
      "  File \"/home/k1762355/anaconda3/lib/python3.7/multiprocessing/queues.py\", line 351, in get\n",
      "    with self._rlock:\n",
      "  File \"/home/k1762355/anaconda3/lib/python3.7/multiprocessing/synchronize.py\", line 96, in __enter__\n",
      "    return self._semlock.__enter__()\n",
      "  File \"/home/k1762355/anaconda3/lib/python3.7/multiprocessing/process.py\", line 99, in run\n",
      "    self._target(*self._args, **self._kwargs)\n",
      "KeyboardInterrupt\n",
      "  File \"/home/k1762355/anaconda3/lib/python3.7/multiprocessing/pool.py\", line 110, in worker\n",
      "    task = get()\n",
      "  File \"/home/k1762355/anaconda3/lib/python3.7/multiprocessing/synchronize.py\", line 96, in __enter__\n",
      "    return self._semlock.__enter__()\n",
      "  File \"/home/k1762355/anaconda3/lib/python3.7/multiprocessing/process.py\", line 99, in run\n",
      "    self._target(*self._args, **self._kwargs)\n",
      "KeyboardInterrupt\n",
      "  File \"/home/k1762355/anaconda3/lib/python3.7/site-packages/scipy/sparse/compressed.py\", line 79, in __init__\n",
      "    self._set_self(self.__class__(coo_matrix(arg1, dtype=dtype)))\n",
      "  File \"/home/k1762355/anaconda3/lib/python3.7/multiprocessing/queues.py\", line 351, in get\n",
      "    with self._rlock:\n",
      "KeyboardInterrupt\n",
      "  File \"/home/k1762355/anaconda3/lib/python3.7/multiprocessing/pool.py\", line 110, in worker\n",
      "    task = get()\n",
      "  File \"/home/k1762355/anaconda3/lib/python3.7/site-packages/scipy/sparse/coo.py\", line 185, in __init__\n",
      "    self.row, self.col = M.nonzero()\n",
      "  File \"/home/k1762355/anaconda3/lib/python3.7/multiprocessing/queues.py\", line 351, in get\n",
      "    with self._rlock:\n",
      "KeyboardInterrupt\n",
      "  File \"/home/k1762355/anaconda3/lib/python3.7/multiprocessing/synchronize.py\", line 96, in __enter__\n",
      "    return self._semlock.__enter__()\n",
      "KeyboardInterrupt\n",
      "  File \"/home/k1762355/anaconda3/lib/python3.7/multiprocessing/pool.py\", line 110, in worker\n",
      "    task = get()\n",
      "  File \"/home/k1762355/anaconda3/lib/python3.7/multiprocessing/synchronize.py\", line 96, in __enter__\n",
      "    return self._semlock.__enter__()\n",
      "  File \"/home/k1762355/anaconda3/lib/python3.7/multiprocessing/synchronize.py\", line 96, in __enter__\n",
      "    return self._semlock.__enter__()\n",
      "KeyboardInterrupt\n",
      "  File \"/home/k1762355/anaconda3/lib/python3.7/multiprocessing/queues.py\", line 351, in get\n",
      "    with self._rlock:\n",
      "KeyboardInterrupt\n",
      "  File \"/home/k1762355/anaconda3/lib/python3.7/multiprocessing/synchronize.py\", line 96, in __enter__\n",
      "    return self._semlock.__enter__()\n",
      "KeyboardInterrupt\n",
      "Traceback (most recent call last):\n",
      "  File \"/home/k1762355/anaconda3/lib/python3.7/multiprocessing/process.py\", line 297, in _bootstrap\n",
      "    self.run()\n",
      "  File \"/home/k1762355/anaconda3/lib/python3.7/multiprocessing/process.py\", line 99, in run\n",
      "    self._target(*self._args, **self._kwargs)\n",
      "  File \"/home/k1762355/anaconda3/lib/python3.7/multiprocessing/pool.py\", line 110, in worker\n",
      "    task = get()\n",
      "  File \"/home/k1762355/anaconda3/lib/python3.7/multiprocessing/queues.py\", line 351, in get\n",
      "    with self._rlock:\n",
      "  File \"/home/k1762355/anaconda3/lib/python3.7/multiprocessing/synchronize.py\", line 96, in __enter__\n",
      "    return self._semlock.__enter__()\n",
      "KeyboardInterrupt\n",
      "Traceback (most recent call last):\n",
      "  File \"/home/k1762355/anaconda3/lib/python3.7/multiprocessing/process.py\", line 297, in _bootstrap\n",
      "    self.run()\n",
      "  File \"/home/k1762355/anaconda3/lib/python3.7/multiprocessing/process.py\", line 99, in run\n",
      "    self._target(*self._args, **self._kwargs)\n",
      "  File \"/home/k1762355/anaconda3/lib/python3.7/multiprocessing/pool.py\", line 121, in worker\n",
      "    result = (True, func(*args, **kwds))\n",
      "  File \"/home/k1762355/anaconda3/lib/python3.7/multiprocessing/pool.py\", line 47, in starmapstar\n",
      "    return list(itertools.starmap(args[0], args[1]))\n",
      "  File \"<ipython-input-2-ad6cbe718208>\", line 16, in remove_dynamics\n",
      "    n_new,m=time_step_on(n,n_start)\n",
      "  File \"<ipython-input-2-ad6cbe718208>\", line 5, in time_step_on\n",
      "    n=scipy.sparse.csr_matrix(m)*xi\n",
      "  File \"/home/k1762355/anaconda3/lib/python3.7/site-packages/scipy/sparse/base.py\", line 479, in __mul__\n",
      "    return self._mul_sparse_matrix(other)\n",
      "  File \"/home/k1762355/anaconda3/lib/python3.7/site-packages/scipy/sparse/compressed.py\", line 514, in _mul_sparse_matrix\n",
      "    return self.__class__((data,indices,indptr),shape=(M,N))\n",
      "  File \"/home/k1762355/anaconda3/lib/python3.7/site-packages/scipy/sparse/compressed.py\", line 98, in __init__\n",
      "    self.check_format(full_check=False)\n",
      "  File \"/home/k1762355/anaconda3/lib/python3.7/site-packages/scipy/sparse/compressed.py\", line 149, in check_format\n",
      "    idx_dtype = get_index_dtype((self.indptr, self.indices))\n",
      "  File \"/home/k1762355/anaconda3/lib/python3.7/site-packages/scipy/sparse/sputils.py\", line 142, in get_index_dtype\n",
      "    int32min = np.iinfo(np.int32).min\n",
      "  File \"/home/k1762355/anaconda3/lib/python3.7/site-packages/numpy/core/getlimits.py\", line 514, in __init__\n",
      "    self.key = \"%s%d\" % (self.kind, self.bits)\n",
      "KeyboardInterrupt\n"
     ]
    }
   ],
   "source": [
    "N1=2000\n",
    "N2=N1\n",
    "d=1\n",
    "c=2\n",
    "Nrepetions=1000\n",
    "data=[create_graph_and_remove(N1,N2,d,c) for i in range(Nrepetions)]# this is a matrix,  "
   ]
  },
  {
   "cell_type": "code",
   "execution_count": null,
   "metadata": {},
   "outputs": [],
   "source": [
    "dic={'data':data,'Nrepetitions':Nrepetions,'description':'data is a tensor with 3 indices. The first index is the repetition considered, the other two indeces are for the matrix of knockout experiment.Call A this matrix, A[i,j] is whether node j is in the giant component as a result of knockout of gene i. '}\n",
    "save_obj(dic,'knockout_repetions-d:'+str(d)+',c:'+str(c))"
   ]
  },
  {
   "cell_type": "markdown",
   "metadata": {},
   "source": [
    "data is a matrix such that row $i$ is the outcome of the elimination of gene $i$.data[i,j] indicates whether gene j belongs to the giant component when i is eliminated"
   ]
  },
  {
   "cell_type": "code",
   "execution_count": 9,
   "metadata": {},
   "outputs": [
    {
     "ename": "UnpicklingError",
     "evalue": "pickle data was truncated",
     "output_type": "error",
     "traceback": [
      "\u001b[0;31m---------------------------------------------------------------------------\u001b[0m",
      "\u001b[0;31mUnpicklingError\u001b[0m                           Traceback (most recent call last)",
      "\u001b[0;32m<ipython-input-9-cf6b614d3c0f>\u001b[0m in \u001b[0;36m<module>\u001b[0;34m()\u001b[0m\n\u001b[0;32m----> 1\u001b[0;31m \u001b[0mdic\u001b[0m\u001b[0;34m=\u001b[0m\u001b[0mload_obj\u001b[0m\u001b[0;34m(\u001b[0m\u001b[0;34m'knockout_repetions-d:'\u001b[0m\u001b[0;34m+\u001b[0m\u001b[0mstr\u001b[0m\u001b[0;34m(\u001b[0m\u001b[0md\u001b[0m\u001b[0;34m)\u001b[0m\u001b[0;34m+\u001b[0m\u001b[0;34m',c:'\u001b[0m\u001b[0;34m+\u001b[0m\u001b[0mstr\u001b[0m\u001b[0;34m(\u001b[0m\u001b[0mc\u001b[0m\u001b[0;34m)\u001b[0m\u001b[0;34m)\u001b[0m\u001b[0;34m\u001b[0m\u001b[0m\n\u001b[0m",
      "\u001b[0;32m<ipython-input-1-c889431afaa6>\u001b[0m in \u001b[0;36mload_obj\u001b[0;34m(name)\u001b[0m\n\u001b[1;32m     18\u001b[0m \u001b[0;32mdef\u001b[0m \u001b[0mload_obj\u001b[0m\u001b[0;34m(\u001b[0m\u001b[0mname\u001b[0m \u001b[0;34m)\u001b[0m\u001b[0;34m:\u001b[0m\u001b[0;34m\u001b[0m\u001b[0m\n\u001b[1;32m     19\u001b[0m     \u001b[0;32mwith\u001b[0m \u001b[0mopen\u001b[0m\u001b[0;34m(\u001b[0m\u001b[0;34m'dic-'\u001b[0m \u001b[0;34m+\u001b[0m \u001b[0mname\u001b[0m \u001b[0;34m+\u001b[0m \u001b[0;34m'.pkl'\u001b[0m\u001b[0;34m,\u001b[0m \u001b[0;34m'rb'\u001b[0m\u001b[0;34m)\u001b[0m \u001b[0;32mas\u001b[0m \u001b[0mf\u001b[0m\u001b[0;34m:\u001b[0m\u001b[0;34m\u001b[0m\u001b[0m\n\u001b[0;32m---> 20\u001b[0;31m         \u001b[0;32mreturn\u001b[0m \u001b[0mpickle\u001b[0m\u001b[0;34m.\u001b[0m\u001b[0mload\u001b[0m\u001b[0;34m(\u001b[0m\u001b[0mf\u001b[0m\u001b[0;34m)\u001b[0m\u001b[0;34m\u001b[0m\u001b[0m\n\u001b[0m\u001b[1;32m     21\u001b[0m \u001b[0;32mdef\u001b[0m \u001b[0mfilter_SCC\u001b[0m\u001b[0;34m(\u001b[0m\u001b[0mBG\u001b[0m\u001b[0;34m,\u001b[0m\u001b[0mGenes\u001b[0m\u001b[0;34m)\u001b[0m\u001b[0;34m:\u001b[0m\u001b[0;34m\u001b[0m\u001b[0m\n\u001b[1;32m     22\u001b[0m         \u001b[0;34m'''It extract the SCC subgraph'''\u001b[0m\u001b[0;34m\u001b[0m\u001b[0m\n",
      "\u001b[0;31mUnpicklingError\u001b[0m: pickle data was truncated"
     ]
    }
   ],
   "source": [
    "dic=load_obj('knockout_repetions-d:'+str(d)+',c:'+str(c))"
   ]
  },
  {
   "cell_type": "markdown",
   "metadata": {},
   "source": [
    "## Giant cluster resilient to percolation\n",
    "This is a different problem, a node in SCC is eliminated, than the new set of nodes that form a SCC is selected and so on.\n",
    "Linear and non-linear SCC are investigated here\n",
    "### Protocol 1\n",
    "I eliminate a Gene from linear SCC and verify what is the size of SCC.\n",
    "SCC non linear is computed by doing iteratively:\n",
    "- SCC\n",
    "- remove TF whose in degree has changed"
   ]
  },
  {
   "cell_type": "code",
   "execution_count": 2,
   "metadata": {},
   "outputs": [],
   "source": [
    "def remove_nonlinear(BG,Genes,TFs,node,process=0):\n",
    "    '''Return the subgraph in the SCC, and then removes TFs whose in degree is not the same as initially. Graph is perturbed by removing one random node in SCC linear '''\n",
    "    BG_filtered=BG.copy()\n",
    "    BG_tf=dict(BG.in_degree(TFs))# dictionary of in degree for TF in the bipartite graph\n",
    "    count=0\n",
    "    # Initially remove one node from the strongly connected component, I choose this node among those in SCC\n",
    "    BG_filtered.remove_node(node)\n",
    "    \n",
    "    while True:\n",
    "        Gc=maximum_strongly_connected_component_subgraph(BG_filtered)\n",
    "        #print(len(Gc),len(BG_filtered))\n",
    "        #print(BG_filtered.nodes())\n",
    "        if len(Gc)==len(BG_filtered):\n",
    "            #print(\"number of deletion iterations:\",count)\n",
    "            return BG_filtered\n",
    "        count+=1\n",
    "        \n",
    "        Gc_G=set(Gc.nodes()).intersection(Genes)# set of genes in the giant cluster\n",
    "        Gc_tf=dict(Gc.in_degree(TFs))# dictionary of in degree for TF in the SCC\n",
    "        filtered={v for v,k in Gc_tf.items() if BG_tf[v]==k} # filtered dictionary of SCC if TF has same indegree as initially\n",
    "        #BG_filtered.remove_nodes_from([n for n in BG_filtered if n not in set(filtered).union(Gc_G)])#remove TFs with wrond in-degree and Genes not in SCC\n",
    "        BG_filtered=BG_filtered.subgraph(set(filtered).union(Gc_G)).copy()\n",
    "        #print(set(filtered),Gc_G)\n",
    "def remove_linear(BG,Genes,TFs,node,process=0):\n",
    "    BG_filtered=BG.copy()\n",
    "    # Initially remove one node from the strongly connected component, I choose this node among those in SCC\n",
    "    BG_filtered.remove_node(node)\n",
    "    Gc=maximum_strongly_connected_component_subgraph(BG_filtered)\n",
    "    return Gc\n",
    "def SCC_statistics(BG,node,linear):\n",
    "    '''Returns the fraction of nodes respect to the entire graph'''\n",
    "    Genes=[n for n,d in BG.nodes(data=True) if d['bipartite']==0]\n",
    "    N1=len(Genes)\n",
    "    TFs=[n for n,d in BG.nodes(data=True) if d['bipartite']==1]\n",
    "    N2=len(TFs)\n",
    "    if linear:\n",
    "        SG=remove_linear(BG,Genes,TFs,node)\n",
    "    else:\n",
    "        SG=remove_nonlinear(BG,Genes,TFs,node)\n",
    "    filtered_Genes = set(SG.nodes()).intersection(Genes)\n",
    "    filtered_TFs = set(SG.nodes()).intersection(TFs)\n",
    "    return [len(filtered_Genes)/N1, len(filtered_TFs)/N2]\n",
    "def create_graph_and_remove(N1,N2,d,c,linear=False):\n",
    "\n",
    "    _,BG=create_bipartite(N1,N2,d,c)\n",
    "    TFs=arange(N1,N1+N2)\n",
    "    Genes=arange(0,N1)\n",
    "    Gc=maximum_strongly_connected_component_subgraph(BG)\n",
    "    Gc_G=set(Gc.nodes()).intersection(Genes)# set of genes in the giant cluster\n",
    "    pool = Pool()\n",
    "    data=pool.starmap(SCC_statistics,itertools.product([BG],Gc_G,[linear]))\n",
    "    #data=pool.starmap(SCC_statistics,itertools.product([BG],set(Genes).difference(set(Gc.nodes()))))# here I eliminate an inoffencive node\n",
    "    pool.close()\n",
    "\n",
    "    return data\n",
    "\n",
    "def save_obj(obj, name ):\n",
    "    with open('dic-'+ name + '.pkl', 'wb') as f:\n",
    "        pickle.dump(obj, f, pickle.HIGHEST_PROTOCOL)\n",
    "  "
   ]
  },
  {
   "cell_type": "code",
   "execution_count": 4,
   "metadata": {},
   "outputs": [],
   "source": [
    "d=0.5\n",
    "c=0.5\n",
    "N1=1000\n",
    "N2=1000\n",
    "data=create_graph_and_remove(N1,N2,d,c,linear=True)"
   ]
  },
  {
   "cell_type": "markdown",
   "metadata": {},
   "source": [
    "rather than normalising to the nodes in the graph, I normalise w.r.t. number of nodes in SCC. By \"elimination experiment\" I mean the protocol where I remove one node and check what is the fraction of nodes that remains in SCC"
   ]
  },
  {
   "cell_type": "code",
   "execution_count": 5,
   "metadata": {},
   "outputs": [
    {
     "data": {
      "text/plain": [
       "Text(0,0.5,'fraction of elimination experiments ')"
      ]
     },
     "execution_count": 5,
     "metadata": {},
     "output_type": "execute_result"
    },
    {
     "data": {
      "image/png": "[encoded data removed]",
      "text/plain": [
       "<Figure size 432x288 with 1 Axes>"
      ]
     },
     "metadata": {
      "needs_background": "light"
     },
     "output_type": "display_data"
    }
   ],
   "source": [
    "title(\"c=\"+str(c)+\" d=\"+str(d))\n",
    "h,b=histogram(array(data)[:,0],20)\n",
    "bar((b[1:]+b[:-1])/2*N1/(sum(h)-1),h/sum(h),diff(b))#sum(h) is the number of nodes in SCC, -1 because I have removes a node in the graph \n",
    "xlabel(\"fraction of genes in Strongly connected component\")\n",
    "ylabel(\"fraction of elimination experiments \")\n",
    "#savefig(\"elimination_linear.pdf\")"
   ]
  },
  {
   "cell_type": "code",
   "execution_count": 34,
   "metadata": {},
   "outputs": [
    {
     "data": {
      "text/plain": [
       "array([  1,   0,   0,   0,   0,   0,   0,   0,   2,   0,   0,   0,  11,\n",
       "         0,   0,   0,  85,   0,   0, 873])"
      ]
     },
     "execution_count": 34,
     "metadata": {},
     "output_type": "execute_result"
    }
   ],
   "source": [
    "h,b=histogram(array(data)[:,0],20)\n",
    "h"
   ]
  },
  {
   "cell_type": "code",
   "execution_count": 59,
   "metadata": {},
   "outputs": [
    {
     "ename": "TypeError",
     "evalue": "create_graph_and_remove() got an unexpected keyword argument 'linear'",
     "output_type": "error",
     "traceback": [
      "\u001b[0;31m---------------------------------------------------------------------------\u001b[0m",
      "\u001b[0;31mTypeError\u001b[0m                                 Traceback (most recent call last)",
      "\u001b[0;32m<ipython-input-59-2d0c66e7fc3b>\u001b[0m in \u001b[0;36m<module>\u001b[0;34m\u001b[0m\n\u001b[1;32m      3\u001b[0m \u001b[0mN1\u001b[0m\u001b[0;34m=\u001b[0m\u001b[0;36m3000\u001b[0m\u001b[0;34m\u001b[0m\u001b[0;34m\u001b[0m\u001b[0m\n\u001b[1;32m      4\u001b[0m \u001b[0mN2\u001b[0m\u001b[0;34m=\u001b[0m\u001b[0;36m3000\u001b[0m\u001b[0;34m\u001b[0m\u001b[0;34m\u001b[0m\u001b[0m\n\u001b[0;32m----> 5\u001b[0;31m \u001b[0mdata\u001b[0m\u001b[0;34m=\u001b[0m\u001b[0mcreate_graph_and_remove\u001b[0m\u001b[0;34m(\u001b[0m\u001b[0mN1\u001b[0m\u001b[0;34m,\u001b[0m\u001b[0mN2\u001b[0m\u001b[0;34m,\u001b[0m\u001b[0md\u001b[0m\u001b[0;34m,\u001b[0m\u001b[0mc\u001b[0m\u001b[0;34m,\u001b[0m\u001b[0mlinear\u001b[0m\u001b[0;34m=\u001b[0m\u001b[0;32mFalse\u001b[0m\u001b[0;34m)\u001b[0m\u001b[0;34m\u001b[0m\u001b[0;34m\u001b[0m\u001b[0m\n\u001b[0m",
      "\u001b[0;31mTypeError\u001b[0m: create_graph_and_remove() got an unexpected keyword argument 'linear'"
     ]
    }
   ],
   "source": [
    "d=3\n",
    "c=2\n",
    "N1=3000\n",
    "N2=3000\n",
    "data=create_graph_and_remove(N1,N2,d,c,linear=False)"
   ]
  },
  {
   "cell_type": "code",
   "execution_count": null,
   "metadata": {},
   "outputs": [],
   "source": [
    "title(\"c=\"+str(c)+\" d=\"+str(d))\n",
    "h,b=histogram(array(data)[:,0],20)\n",
    "bar((b[1:]+b[:-1])/2*N1/(sum(h)-1),h/sum(h),diff(b))#sum(h) is the number of nodes in SCC, -1 because I have removes a node in the graph \n",
    "xlabel(\"fraction of genes in Strongly connected component\")\n",
    "ylabel(\"fraction of elimination experiments \")\n",
    "#savefig(\"elimination_nonlinear.pdf\")"
   ]
  },
  {
   "cell_type": "code",
   "execution_count": null,
   "metadata": {},
   "outputs": [],
   "source": []
  },
  {
   "cell_type": "code",
   "execution_count": 20,
   "metadata": {},
   "outputs": [],
   "source": [
    "dic={\"d\":d,\"c\":c,\"N1\":N1,\"data\":data}\n",
    "#save_obj(dic,\"knockout\")"
   ]
  },
  {
   "cell_type": "markdown",
   "metadata": {},
   "source": [
    "we conclude that elimination procedure for linear SCC is stable, i.e. node elimination does not break down the network.\n",
    "## Experiment 2\n",
    "I now compare the effect of single gene knockout over different networks. I always compute the strongly connected component non linear"
   ]
  },
  {
   "cell_type": "code",
   "execution_count": 3,
   "metadata": {},
   "outputs": [
    {
     "name": "stderr",
     "output_type": "stream",
     "text": [
      "Process ForkPoolWorker-6:\n",
      "Process ForkPoolWorker-8:\n",
      "Process ForkPoolWorker-5:\n",
      "Process ForkPoolWorker-7:\n",
      "Traceback (most recent call last):\n",
      "Traceback (most recent call last):\n",
      "  File \"/home/giuseppe/miniconda3/lib/python3.7/multiprocessing/process.py\", line 297, in _bootstrap\n",
      "    self.run()\n",
      "  File \"/home/giuseppe/miniconda3/lib/python3.7/multiprocessing/process.py\", line 297, in _bootstrap\n",
      "    self.run()\n",
      "  File \"/home/giuseppe/miniconda3/lib/python3.7/multiprocessing/process.py\", line 99, in run\n",
      "    self._target(*self._args, **self._kwargs)\n",
      "  File \"/home/giuseppe/miniconda3/lib/python3.7/multiprocessing/process.py\", line 99, in run\n",
      "    self._target(*self._args, **self._kwargs)\n",
      "  File \"/home/giuseppe/miniconda3/lib/python3.7/multiprocessing/pool.py\", line 121, in worker\n",
      "    result = (True, func(*args, **kwds))\n",
      "  File \"/home/giuseppe/miniconda3/lib/python3.7/multiprocessing/pool.py\", line 121, in worker\n",
      "    result = (True, func(*args, **kwds))\n",
      "  File \"/home/giuseppe/miniconda3/lib/python3.7/multiprocessing/pool.py\", line 47, in starmapstar\n",
      "    return list(itertools.starmap(args[0], args[1]))\n",
      "  File \"<ipython-input-2-88f3efacbd6e>\", line 39, in SCC_statistics\n",
      "    SG=remove_nonlinear(BG,Genes,TFs,node)\n",
      "  File \"/home/giuseppe/miniconda3/lib/python3.7/multiprocessing/pool.py\", line 47, in starmapstar\n",
      "    return list(itertools.starmap(args[0], args[1]))\n",
      "  File \"<ipython-input-2-88f3efacbd6e>\", line 10, in remove_nonlinear\n",
      "    Gc=maximum_strongly_connected_component_subgraph(BG_filtered)\n",
      "  File \"../../../../lib/directed_random_graph.py\", line 211, in maximum_strongly_connected_component_subgraph\n",
      "    SCC_nodes=max([c for c in nx.strongly_connected_components(BG)],key=len)\n",
      "  File \"<ipython-input-2-88f3efacbd6e>\", line 39, in SCC_statistics\n",
      "    SG=remove_nonlinear(BG,Genes,TFs,node)\n",
      "  File \"../../../../lib/directed_random_graph.py\", line 211, in <listcomp>\n",
      "    SCC_nodes=max([c for c in nx.strongly_connected_components(BG)],key=len)\n",
      "  File \"<ipython-input-2-88f3efacbd6e>\", line 22, in remove_nonlinear\n",
      "    BG_filtered=BG_filtered.subgraph(set(filtered).union(Gc_G)).copy()\n",
      "  File \"/home/giuseppe/miniconda3/lib/python3.7/site-packages/networkx/classes/graph.py\", line 1515, in copy\n",
      "    for u, nbrs in self._adj.items()\n",
      "Traceback (most recent call last):\n",
      "  File \"/home/giuseppe/miniconda3/lib/python3.7/site-packages/networkx/classes/digraph.py\", line 681, in add_edges_from\n",
      "    for e in ebunch_to_add:\n",
      "  File \"/home/giuseppe/miniconda3/lib/python3.7/site-packages/networkx/classes/graph.py\", line 1514, in <genexpr>\n",
      "    G.add_edges_from((u, v, datadict.copy())\n",
      "  File \"/home/giuseppe/miniconda3/lib/python3.7/_collections_abc.py\", line 744, in __iter__\n",
      "    yield (key, self._mapping[key])\n",
      "  File \"/home/giuseppe/miniconda3/lib/python3.7/site-packages/networkx/classes/coreviews.py\", line 324, in __getitem__\n",
      "    return FilterAtlas(self._atlas[node], new_node_ok)\n",
      "  File \"/home/giuseppe/miniconda3/lib/python3.7/site-packages/networkx/algorithms/components/strongly_connected.py\", line 96, in strongly_connected_components\n",
      "    for w in G[v]:\n",
      "Traceback (most recent call last):\n",
      "KeyboardInterrupt\n",
      "  File \"/home/giuseppe/miniconda3/lib/python3.7/multiprocessing/process.py\", line 297, in _bootstrap\n",
      "    self.run()\n",
      "  File \"/home/giuseppe/miniconda3/lib/python3.7/site-packages/networkx/classes/graph.py\", line 475, in __getitem__\n",
      "    return self.adj[n]\n",
      "  File \"/home/giuseppe/miniconda3/lib/python3.7/multiprocessing/process.py\", line 297, in _bootstrap\n",
      "    self.run()\n",
      "  File \"/home/giuseppe/miniconda3/lib/python3.7/multiprocessing/process.py\", line 99, in run\n",
      "    self._target(*self._args, **self._kwargs)\n",
      "  File \"/home/giuseppe/miniconda3/lib/python3.7/multiprocessing/pool.py\", line 121, in worker\n",
      "    result = (True, func(*args, **kwds))\n",
      "  File \"/home/giuseppe/miniconda3/lib/python3.7/multiprocessing/pool.py\", line 47, in starmapstar\n",
      "    return list(itertools.starmap(args[0], args[1]))\n",
      "  File \"<ipython-input-2-88f3efacbd6e>\", line 39, in SCC_statistics\n",
      "    SG=remove_nonlinear(BG,Genes,TFs,node)\n",
      "  File \"<ipython-input-2-88f3efacbd6e>\", line 19, in remove_nonlinear\n",
      "    Gc_tf=dict(Gc.in_degree(TFs))# dictionary of in degree for TF in the SCC\n",
      "  File \"/home/giuseppe/miniconda3/lib/python3.7/site-packages/networkx/classes/digraph.py\", line 342, in adj\n",
      "    return AdjacencyView(self._succ)\n",
      "  File \"/home/giuseppe/miniconda3/lib/python3.7/site-packages/networkx/classes/reportviews.py\", line 354, in __call__\n",
      "    return self.__class__(self._graph, nbunch, weight)\n",
      "  File \"/home/giuseppe/miniconda3/lib/python3.7/multiprocessing/process.py\", line 99, in run\n",
      "    self._target(*self._args, **self._kwargs)\n",
      "  File \"/home/giuseppe/miniconda3/lib/python3.7/site-packages/networkx/classes/reportviews.py\", line 339, in __init__\n",
      "    else list(G.nbunch_iter(nbunch))\n",
      "KeyboardInterrupt\n",
      "  File \"/home/giuseppe/miniconda3/lib/python3.7/multiprocessing/pool.py\", line 121, in worker\n",
      "    result = (True, func(*args, **kwds))\n",
      "  File \"/home/giuseppe/miniconda3/lib/python3.7/site-packages/networkx/classes/graph.py\", line 1875, in bunch_iter\n",
      "    if n in adj:\n",
      "  File \"/home/giuseppe/miniconda3/lib/python3.7/_collections_abc.py\", line 666, in __contains__\n",
      "    self[key]\n",
      "  File \"/home/giuseppe/miniconda3/lib/python3.7/site-packages/networkx/classes/coreviews.py\", line 324, in __getitem__\n",
      "    return FilterAtlas(self._atlas[node], new_node_ok)\n",
      "  File \"/home/giuseppe/miniconda3/lib/python3.7/site-packages/networkx/classes/coreviews.py\", line 262, in __init__\n",
      "    def __init__(self, d, NODE_OK):\n",
      "KeyboardInterrupt\n",
      "  File \"/home/giuseppe/miniconda3/lib/python3.7/multiprocessing/pool.py\", line 47, in starmapstar\n",
      "    return list(itertools.starmap(args[0], args[1]))\n",
      "  File \"<ipython-input-2-88f3efacbd6e>\", line 39, in SCC_statistics\n",
      "    SG=remove_nonlinear(BG,Genes,TFs,node)\n",
      "  File \"<ipython-input-2-88f3efacbd6e>\", line 19, in remove_nonlinear\n",
      "    Gc_tf=dict(Gc.in_degree(TFs))# dictionary of in degree for TF in the SCC\n",
      "  File \"/home/giuseppe/miniconda3/lib/python3.7/site-packages/networkx/classes/reportviews.py\", line 493, in __iter__\n",
      "    preds = self._pred[n]\n",
      "  File \"/home/giuseppe/miniconda3/lib/python3.7/site-packages/networkx/classes/coreviews.py\", line 324, in __getitem__\n",
      "    return FilterAtlas(self._atlas[node], new_node_ok)\n",
      "KeyboardInterrupt\n"
     ]
    },
    {
     "ename": "KeyboardInterrupt",
     "evalue": "",
     "output_type": "error",
     "traceback": [
      "\u001b[0;31m---------------------------------------------------------------------------\u001b[0m",
      "\u001b[0;31mKeyboardInterrupt\u001b[0m                         Traceback (most recent call last)",
      "\u001b[0;32m<ipython-input-3-9fea4f493ae0>\u001b[0m in \u001b[0;36m<module>\u001b[0;34m\u001b[0m\n\u001b[1;32m      5\u001b[0m \u001b[0mds\u001b[0m\u001b[0;34m=\u001b[0m\u001b[0mlinspace\u001b[0m\u001b[0;34m(\u001b[0m\u001b[0;36m0.5\u001b[0m\u001b[0;34m,\u001b[0m\u001b[0;36m5\u001b[0m\u001b[0;34m,\u001b[0m\u001b[0;36m10\u001b[0m\u001b[0;34m)\u001b[0m\u001b[0;34m\u001b[0m\u001b[0;34m\u001b[0m\u001b[0m\n\u001b[1;32m      6\u001b[0m \u001b[0;32mfor\u001b[0m \u001b[0md\u001b[0m \u001b[0;32min\u001b[0m \u001b[0mds\u001b[0m\u001b[0;34m:\u001b[0m\u001b[0;34m\u001b[0m\u001b[0;34m\u001b[0m\u001b[0m\n\u001b[0;32m----> 7\u001b[0;31m         \u001b[0mdata\u001b[0m\u001b[0;34m=\u001b[0m\u001b[0mcreate_graph_and_remove\u001b[0m\u001b[0;34m(\u001b[0m\u001b[0mN1\u001b[0m\u001b[0;34m,\u001b[0m\u001b[0mN2\u001b[0m\u001b[0;34m,\u001b[0m\u001b[0md\u001b[0m\u001b[0;34m,\u001b[0m\u001b[0mc\u001b[0m\u001b[0;34m)\u001b[0m\u001b[0;34m\u001b[0m\u001b[0;34m\u001b[0m\u001b[0m\n\u001b[0m\u001b[1;32m      8\u001b[0m         \u001b[0mh\u001b[0m\u001b[0;34m,\u001b[0m\u001b[0mb\u001b[0m\u001b[0;34m=\u001b[0m\u001b[0mhistogram\u001b[0m\u001b[0;34m(\u001b[0m\u001b[0marray\u001b[0m\u001b[0;34m(\u001b[0m\u001b[0mdata\u001b[0m\u001b[0;34m)\u001b[0m\u001b[0;34m[\u001b[0m\u001b[0;34m:\u001b[0m\u001b[0;34m,\u001b[0m\u001b[0;36m0\u001b[0m\u001b[0;34m]\u001b[0m\u001b[0;34m,\u001b[0m\u001b[0;36m20\u001b[0m\u001b[0;34m)\u001b[0m\u001b[0;34m\u001b[0m\u001b[0;34m\u001b[0m\u001b[0m\n\u001b[1;32m      9\u001b[0m         \u001b[0mp\u001b[0m\u001b[0;34m+=\u001b[0m\u001b[0;34m[\u001b[0m\u001b[0mh\u001b[0m\u001b[0;34m[\u001b[0m\u001b[0;34m-\u001b[0m\u001b[0;36m1\u001b[0m\u001b[0;34m]\u001b[0m\u001b[0;34m/\u001b[0m\u001b[0;34m(\u001b[0m\u001b[0mh\u001b[0m\u001b[0;34m[\u001b[0m\u001b[0;36m0\u001b[0m\u001b[0;34m]\u001b[0m\u001b[0;34m+\u001b[0m\u001b[0mh\u001b[0m\u001b[0;34m[\u001b[0m\u001b[0;34m-\u001b[0m\u001b[0;36m1\u001b[0m\u001b[0;34m]\u001b[0m\u001b[0;34m)\u001b[0m\u001b[0;34m]\u001b[0m\u001b[0;34m\u001b[0m\u001b[0;34m\u001b[0m\u001b[0m\n",
      "\u001b[0;32m<ipython-input-2-88f3efacbd6e>\u001b[0m in \u001b[0;36mcreate_graph_and_remove\u001b[0;34m(N1, N2, d, c, linear)\u001b[0m\n\u001b[1;32m     49\u001b[0m     \u001b[0mGc_G\u001b[0m\u001b[0;34m=\u001b[0m\u001b[0mset\u001b[0m\u001b[0;34m(\u001b[0m\u001b[0mGc\u001b[0m\u001b[0;34m.\u001b[0m\u001b[0mnodes\u001b[0m\u001b[0;34m(\u001b[0m\u001b[0;34m)\u001b[0m\u001b[0;34m)\u001b[0m\u001b[0;34m.\u001b[0m\u001b[0mintersection\u001b[0m\u001b[0;34m(\u001b[0m\u001b[0mGenes\u001b[0m\u001b[0;34m)\u001b[0m\u001b[0;31m# set of genes in the giant cluster\u001b[0m\u001b[0;34m\u001b[0m\u001b[0;34m\u001b[0m\u001b[0m\n\u001b[1;32m     50\u001b[0m     \u001b[0mpool\u001b[0m \u001b[0;34m=\u001b[0m \u001b[0mPool\u001b[0m\u001b[0;34m(\u001b[0m\u001b[0;34m)\u001b[0m\u001b[0;34m\u001b[0m\u001b[0;34m\u001b[0m\u001b[0m\n\u001b[0;32m---> 51\u001b[0;31m     \u001b[0mdata\u001b[0m\u001b[0;34m=\u001b[0m\u001b[0mpool\u001b[0m\u001b[0;34m.\u001b[0m\u001b[0mstarmap\u001b[0m\u001b[0;34m(\u001b[0m\u001b[0mSCC_statistics\u001b[0m\u001b[0;34m,\u001b[0m\u001b[0mitertools\u001b[0m\u001b[0;34m.\u001b[0m\u001b[0mproduct\u001b[0m\u001b[0;34m(\u001b[0m\u001b[0;34m[\u001b[0m\u001b[0mBG\u001b[0m\u001b[0;34m]\u001b[0m\u001b[0;34m,\u001b[0m\u001b[0mGc_G\u001b[0m\u001b[0;34m,\u001b[0m\u001b[0;34m[\u001b[0m\u001b[0mlinear\u001b[0m\u001b[0;34m]\u001b[0m\u001b[0;34m)\u001b[0m\u001b[0;34m)\u001b[0m\u001b[0;34m\u001b[0m\u001b[0;34m\u001b[0m\u001b[0m\n\u001b[0m\u001b[1;32m     52\u001b[0m     \u001b[0;31m#data=pool.starmap(SCC_statistics,itertools.product([BG],set(Genes).difference(set(Gc.nodes()))))# here I eliminate an inoffencive node\u001b[0m\u001b[0;34m\u001b[0m\u001b[0;34m\u001b[0m\u001b[0;34m\u001b[0m\u001b[0m\n\u001b[1;32m     53\u001b[0m     \u001b[0mpool\u001b[0m\u001b[0;34m.\u001b[0m\u001b[0mclose\u001b[0m\u001b[0;34m(\u001b[0m\u001b[0;34m)\u001b[0m\u001b[0;34m\u001b[0m\u001b[0;34m\u001b[0m\u001b[0m\n",
      "\u001b[0;32m~/miniconda3/lib/python3.7/multiprocessing/pool.py\u001b[0m in \u001b[0;36mstarmap\u001b[0;34m(self, func, iterable, chunksize)\u001b[0m\n\u001b[1;32m    274\u001b[0m         \u001b[0;31m`\u001b[0m\u001b[0mfunc\u001b[0m\u001b[0;31m`\u001b[0m \u001b[0;32mand\u001b[0m \u001b[0;34m(\u001b[0m\u001b[0ma\u001b[0m\u001b[0;34m,\u001b[0m \u001b[0mb\u001b[0m\u001b[0;34m)\u001b[0m \u001b[0mbecomes\u001b[0m \u001b[0mfunc\u001b[0m\u001b[0;34m(\u001b[0m\u001b[0ma\u001b[0m\u001b[0;34m,\u001b[0m \u001b[0mb\u001b[0m\u001b[0;34m)\u001b[0m\u001b[0;34m.\u001b[0m\u001b[0;34m\u001b[0m\u001b[0;34m\u001b[0m\u001b[0m\n\u001b[1;32m    275\u001b[0m         '''\n\u001b[0;32m--> 276\u001b[0;31m         \u001b[0;32mreturn\u001b[0m \u001b[0mself\u001b[0m\u001b[0;34m.\u001b[0m\u001b[0m_map_async\u001b[0m\u001b[0;34m(\u001b[0m\u001b[0mfunc\u001b[0m\u001b[0;34m,\u001b[0m \u001b[0miterable\u001b[0m\u001b[0;34m,\u001b[0m \u001b[0mstarmapstar\u001b[0m\u001b[0;34m,\u001b[0m \u001b[0mchunksize\u001b[0m\u001b[0;34m)\u001b[0m\u001b[0;34m.\u001b[0m\u001b[0mget\u001b[0m\u001b[0;34m(\u001b[0m\u001b[0;34m)\u001b[0m\u001b[0;34m\u001b[0m\u001b[0;34m\u001b[0m\u001b[0m\n\u001b[0m\u001b[1;32m    277\u001b[0m \u001b[0;34m\u001b[0m\u001b[0m\n\u001b[1;32m    278\u001b[0m     def starmap_async(self, func, iterable, chunksize=None, callback=None,\n",
      "\u001b[0;32m~/miniconda3/lib/python3.7/multiprocessing/pool.py\u001b[0m in \u001b[0;36mget\u001b[0;34m(self, timeout)\u001b[0m\n\u001b[1;32m    649\u001b[0m \u001b[0;34m\u001b[0m\u001b[0m\n\u001b[1;32m    650\u001b[0m     \u001b[0;32mdef\u001b[0m \u001b[0mget\u001b[0m\u001b[0;34m(\u001b[0m\u001b[0mself\u001b[0m\u001b[0;34m,\u001b[0m \u001b[0mtimeout\u001b[0m\u001b[0;34m=\u001b[0m\u001b[0;32mNone\u001b[0m\u001b[0;34m)\u001b[0m\u001b[0;34m:\u001b[0m\u001b[0;34m\u001b[0m\u001b[0;34m\u001b[0m\u001b[0m\n\u001b[0;32m--> 651\u001b[0;31m         \u001b[0mself\u001b[0m\u001b[0;34m.\u001b[0m\u001b[0mwait\u001b[0m\u001b[0;34m(\u001b[0m\u001b[0mtimeout\u001b[0m\u001b[0;34m)\u001b[0m\u001b[0;34m\u001b[0m\u001b[0;34m\u001b[0m\u001b[0m\n\u001b[0m\u001b[1;32m    652\u001b[0m         \u001b[0;32mif\u001b[0m \u001b[0;32mnot\u001b[0m \u001b[0mself\u001b[0m\u001b[0;34m.\u001b[0m\u001b[0mready\u001b[0m\u001b[0;34m(\u001b[0m\u001b[0;34m)\u001b[0m\u001b[0;34m:\u001b[0m\u001b[0;34m\u001b[0m\u001b[0;34m\u001b[0m\u001b[0m\n\u001b[1;32m    653\u001b[0m             \u001b[0;32mraise\u001b[0m \u001b[0mTimeoutError\u001b[0m\u001b[0;34m\u001b[0m\u001b[0;34m\u001b[0m\u001b[0m\n",
      "\u001b[0;32m~/miniconda3/lib/python3.7/multiprocessing/pool.py\u001b[0m in \u001b[0;36mwait\u001b[0;34m(self, timeout)\u001b[0m\n\u001b[1;32m    646\u001b[0m \u001b[0;34m\u001b[0m\u001b[0m\n\u001b[1;32m    647\u001b[0m     \u001b[0;32mdef\u001b[0m \u001b[0mwait\u001b[0m\u001b[0;34m(\u001b[0m\u001b[0mself\u001b[0m\u001b[0;34m,\u001b[0m \u001b[0mtimeout\u001b[0m\u001b[0;34m=\u001b[0m\u001b[0;32mNone\u001b[0m\u001b[0;34m)\u001b[0m\u001b[0;34m:\u001b[0m\u001b[0;34m\u001b[0m\u001b[0;34m\u001b[0m\u001b[0m\n\u001b[0;32m--> 648\u001b[0;31m         \u001b[0mself\u001b[0m\u001b[0;34m.\u001b[0m\u001b[0m_event\u001b[0m\u001b[0;34m.\u001b[0m\u001b[0mwait\u001b[0m\u001b[0;34m(\u001b[0m\u001b[0mtimeout\u001b[0m\u001b[0;34m)\u001b[0m\u001b[0;34m\u001b[0m\u001b[0;34m\u001b[0m\u001b[0m\n\u001b[0m\u001b[1;32m    649\u001b[0m \u001b[0;34m\u001b[0m\u001b[0m\n\u001b[1;32m    650\u001b[0m     \u001b[0;32mdef\u001b[0m \u001b[0mget\u001b[0m\u001b[0;34m(\u001b[0m\u001b[0mself\u001b[0m\u001b[0;34m,\u001b[0m \u001b[0mtimeout\u001b[0m\u001b[0;34m=\u001b[0m\u001b[0;32mNone\u001b[0m\u001b[0;34m)\u001b[0m\u001b[0;34m:\u001b[0m\u001b[0;34m\u001b[0m\u001b[0;34m\u001b[0m\u001b[0m\n",
      "\u001b[0;32m~/miniconda3/lib/python3.7/threading.py\u001b[0m in \u001b[0;36mwait\u001b[0;34m(self, timeout)\u001b[0m\n\u001b[1;32m    550\u001b[0m             \u001b[0msignaled\u001b[0m \u001b[0;34m=\u001b[0m \u001b[0mself\u001b[0m\u001b[0;34m.\u001b[0m\u001b[0m_flag\u001b[0m\u001b[0;34m\u001b[0m\u001b[0;34m\u001b[0m\u001b[0m\n\u001b[1;32m    551\u001b[0m             \u001b[0;32mif\u001b[0m \u001b[0;32mnot\u001b[0m \u001b[0msignaled\u001b[0m\u001b[0;34m:\u001b[0m\u001b[0;34m\u001b[0m\u001b[0;34m\u001b[0m\u001b[0m\n\u001b[0;32m--> 552\u001b[0;31m                 \u001b[0msignaled\u001b[0m \u001b[0;34m=\u001b[0m \u001b[0mself\u001b[0m\u001b[0;34m.\u001b[0m\u001b[0m_cond\u001b[0m\u001b[0;34m.\u001b[0m\u001b[0mwait\u001b[0m\u001b[0;34m(\u001b[0m\u001b[0mtimeout\u001b[0m\u001b[0;34m)\u001b[0m\u001b[0;34m\u001b[0m\u001b[0;34m\u001b[0m\u001b[0m\n\u001b[0m\u001b[1;32m    553\u001b[0m             \u001b[0;32mreturn\u001b[0m \u001b[0msignaled\u001b[0m\u001b[0;34m\u001b[0m\u001b[0;34m\u001b[0m\u001b[0m\n\u001b[1;32m    554\u001b[0m \u001b[0;34m\u001b[0m\u001b[0m\n",
      "\u001b[0;32m~/miniconda3/lib/python3.7/threading.py\u001b[0m in \u001b[0;36mwait\u001b[0;34m(self, timeout)\u001b[0m\n\u001b[1;32m    294\u001b[0m         \u001b[0;32mtry\u001b[0m\u001b[0;34m:\u001b[0m    \u001b[0;31m# restore state no matter what (e.g., KeyboardInterrupt)\u001b[0m\u001b[0;34m\u001b[0m\u001b[0;34m\u001b[0m\u001b[0m\n\u001b[1;32m    295\u001b[0m             \u001b[0;32mif\u001b[0m \u001b[0mtimeout\u001b[0m \u001b[0;32mis\u001b[0m \u001b[0;32mNone\u001b[0m\u001b[0;34m:\u001b[0m\u001b[0;34m\u001b[0m\u001b[0;34m\u001b[0m\u001b[0m\n\u001b[0;32m--> 296\u001b[0;31m                 \u001b[0mwaiter\u001b[0m\u001b[0;34m.\u001b[0m\u001b[0macquire\u001b[0m\u001b[0;34m(\u001b[0m\u001b[0;34m)\u001b[0m\u001b[0;34m\u001b[0m\u001b[0;34m\u001b[0m\u001b[0m\n\u001b[0m\u001b[1;32m    297\u001b[0m                 \u001b[0mgotit\u001b[0m \u001b[0;34m=\u001b[0m \u001b[0;32mTrue\u001b[0m\u001b[0;34m\u001b[0m\u001b[0;34m\u001b[0m\u001b[0m\n\u001b[1;32m    298\u001b[0m             \u001b[0;32melse\u001b[0m\u001b[0;34m:\u001b[0m\u001b[0;34m\u001b[0m\u001b[0;34m\u001b[0m\u001b[0m\n",
      "\u001b[0;31mKeyboardInterrupt\u001b[0m: "
     ]
    },
    {
     "name": "stderr",
     "output_type": "stream",
     "text": [
      "Process ForkPoolWorker-11:\n",
      "Process ForkPoolWorker-9:\n",
      "Process ForkPoolWorker-12:\n",
      "Process ForkPoolWorker-10:\n",
      "Traceback (most recent call last):\n",
      "Traceback (most recent call last):\n",
      "Traceback (most recent call last):\n",
      "  File \"/home/giuseppe/miniconda3/lib/python3.7/multiprocessing/process.py\", line 297, in _bootstrap\n",
      "    self.run()\n",
      "  File \"/home/giuseppe/miniconda3/lib/python3.7/multiprocessing/process.py\", line 297, in _bootstrap\n",
      "    self.run()\n",
      "  File \"/home/giuseppe/miniconda3/lib/python3.7/multiprocessing/process.py\", line 297, in _bootstrap\n",
      "    self.run()\n",
      "  File \"/home/giuseppe/miniconda3/lib/python3.7/multiprocessing/process.py\", line 99, in run\n",
      "    self._target(*self._args, **self._kwargs)\n",
      "  File \"/home/giuseppe/miniconda3/lib/python3.7/multiprocessing/process.py\", line 99, in run\n",
      "    self._target(*self._args, **self._kwargs)\n",
      "  File \"/home/giuseppe/miniconda3/lib/python3.7/multiprocessing/pool.py\", line 110, in worker\n",
      "    task = get()\n",
      "  File \"/home/giuseppe/miniconda3/lib/python3.7/multiprocessing/pool.py\", line 110, in worker\n",
      "    task = get()\n",
      "  File \"/home/giuseppe/miniconda3/lib/python3.7/multiprocessing/queues.py\", line 351, in get\n",
      "    with self._rlock:\n",
      "  File \"/home/giuseppe/miniconda3/lib/python3.7/multiprocessing/process.py\", line 99, in run\n",
      "    self._target(*self._args, **self._kwargs)\n",
      "  File \"/home/giuseppe/miniconda3/lib/python3.7/multiprocessing/pool.py\", line 110, in worker\n",
      "    task = get()\n",
      "  File \"/home/giuseppe/miniconda3/lib/python3.7/multiprocessing/synchronize.py\", line 95, in __enter__\n",
      "    return self._semlock.__enter__()\n",
      "  File \"/home/giuseppe/miniconda3/lib/python3.7/multiprocessing/queues.py\", line 351, in get\n",
      "    with self._rlock:\n",
      "KeyboardInterrupt\n",
      "  File \"/home/giuseppe/miniconda3/lib/python3.7/multiprocessing/synchronize.py\", line 95, in __enter__\n",
      "    return self._semlock.__enter__()\n",
      "KeyboardInterrupt\n",
      "  File \"/home/giuseppe/miniconda3/lib/python3.7/multiprocessing/queues.py\", line 351, in get\n",
      "    with self._rlock:\n",
      "  File \"/home/giuseppe/miniconda3/lib/python3.7/multiprocessing/synchronize.py\", line 95, in __enter__\n",
      "    return self._semlock.__enter__()\n",
      "KeyboardInterrupt\n",
      "Traceback (most recent call last):\n",
      "  File \"/home/giuseppe/miniconda3/lib/python3.7/multiprocessing/process.py\", line 297, in _bootstrap\n",
      "    self.run()\n",
      "  File \"/home/giuseppe/miniconda3/lib/python3.7/multiprocessing/process.py\", line 99, in run\n",
      "    self._target(*self._args, **self._kwargs)\n",
      "  File \"/home/giuseppe/miniconda3/lib/python3.7/multiprocessing/pool.py\", line 110, in worker\n",
      "    task = get()\n",
      "  File \"/home/giuseppe/miniconda3/lib/python3.7/multiprocessing/queues.py\", line 352, in get\n",
      "    res = self._reader.recv_bytes()\n",
      "  File \"/home/giuseppe/miniconda3/lib/python3.7/multiprocessing/connection.py\", line 216, in recv_bytes\n",
      "    buf = self._recv_bytes(maxlength)\n",
      "  File \"/home/giuseppe/miniconda3/lib/python3.7/multiprocessing/connection.py\", line 407, in _recv_bytes\n",
      "    buf = self._recv(4)\n",
      "  File \"/home/giuseppe/miniconda3/lib/python3.7/multiprocessing/connection.py\", line 379, in _recv\n",
      "    chunk = read(handle, remaining)\n",
      "KeyboardInterrupt\n"
     ]
    }
   ],
   "source": [
    "N1=1000\n",
    "N2=1000\n",
    "p=[]\n",
    "c=1\n",
    "ds=linspace(0.5,5,10)\n",
    "for d in ds:\n",
    "        data=create_graph_and_remove(N1,N2,d,c)\n",
    "        h,b=histogram(array(data)[:,0],20)\n",
    "        p+=[h[-1]/(h[0]+h[-1])]\n"
   ]
  },
  {
   "cell_type": "code",
   "execution_count": 153,
   "metadata": {},
   "outputs": [
    {
     "data": {
      "text/plain": [
       "Text(0.5,1,'c=1')"
      ]
     },
     "execution_count": 153,
     "metadata": {},
     "output_type": "execute_result"
    },
    {
     "data": {
      "image/png": "[encoded data removed]",
      "text/plain": [
       "<Figure size 432x288 with 1 Axes>"
      ]
     },
     "metadata": {
      "needs_background": "light"
     },
     "output_type": "display_data"
    }
   ],
   "source": [
    "plot(linspace(0.5,5,30),1-array(p),\".\")\n",
    "axvline(exp(c)-1)\n",
    "xlabel(\"ds\")\n",
    "ylabel(\"fraction of nodes triggering elimination cascade\")\n",
    "title(\"c=\"+str(c))"
   ]
  },
  {
   "cell_type": "code",
   "execution_count": null,
   "metadata": {},
   "outputs": [
    {
     "name": "stderr",
     "output_type": "stream",
     "text": [
      "/home/k1762355/anaconda3/lib/python3.7/site-packages/ipykernel_launcher.py:11: RuntimeWarning: invalid value encountered in long_scalars\n",
      "  # This is added back by InteractiveShellApp.init_path()\n"
     ]
    }
   ],
   "source": [
    "N1=1000\n",
    "N2=1000\n",
    "data=[]\n",
    "c=1\n",
    "ds=linspace(0.5,5,30)\n",
    "for d in ds:\n",
    "    p=[]\n",
    "    for i in range(100):# mediate over 100 graphs\n",
    "        data=create_graph_and_remove(N1,N2,d,c)\n",
    "        h,b=histogram(array(data)[:,0],20)\n",
    "        p+=[h[-1]/(h[0]+h[-1])]\n",
    "    data+=[p]"
   ]
  },
  {
   "cell_type": "markdown",
   "metadata": {},
   "source": [
    "\n",
    "Load simulation result"
   ]
  },
  {
   "cell_type": "code",
   "execution_count": 6,
   "metadata": {},
   "outputs": [],
   "source": [
    "def d_critical(ds,c,alpha,p,up):\n",
    "    if up:\n",
    "        f=fon\n",
    "    else:\n",
    "        f=foff\n",
    "    num=[]\n",
    "    status=[]\n",
    "    for d in ds:\n",
    "        if up:\n",
    "            sol=root(f,1,args=(c,d,alpha,p))\n",
    "        else:\n",
    "            sol=root(f,0,args=(c,d,alpha,1.-p))\n",
    "        num+=[sol.x]\n",
    "        status+=[sol.success]\n",
    "    num=squeeze(array(num))\n",
    "    status=squeeze(array(status))\n",
    "    \n",
    "    if up:\n",
    "        d=ds[status&(num<1)&(num>0)][-1]# return the highest d the transistion happen\n",
    "        if d==ds[-1]:\n",
    "            warnings.warn(\"Adjust the boundaries of ds\")\n",
    "            return d_critical(linspace(max(ds),max(ds)+4,100),c,alpha,p,up)\n",
    "        return d \n",
    "    else:\n",
    "        return ds[status&(num<1)&(num>0)][0]# return the lowest d\n",
    "def fon(g,c,d,alpha,p):\n",
    "    return exp(-(c*g*p*alpha*exp((d*(-1 + g))/alpha)))*(-1 + g*p*exp((d*(-1 + g))/alpha) + exp(c*g*p*alpha*exp((d*(-1 + g))/alpha)))-g\n"
   ]
  },
  {
   "cell_type": "code",
   "execution_count": 12,
   "metadata": {},
   "outputs": [],
   "source": [
    "def load_obj(name,prefix=\"./\" ):\n",
    "    with open(prefix+'dic-' + name + '.pkl', 'rb') as f:\n",
    "        return pickle.load(f)\n",
    "\n",
    "\n"
   ]
  },
  {
   "cell_type": "code",
   "execution_count": 14,
   "metadata": {},
   "outputs": [
    {
     "name": "stderr",
     "output_type": "stream",
     "text": [
      "No handles with labels found to put in legend.\n"
     ]
    },
    {
     "data": {
      "image/png": "[encoded data removed]",
      "text/plain": [
       "<Figure size 432x288 with 2 Axes>"
      ]
     },
     "metadata": {
      "needs_background": "light"
     },
     "output_type": "display_data"
    }
   ],
   "source": [
    "m=load_obj(\"SCC_propagation\")[\"m\"]\n",
    "ds=load_obj(\"SCC_propagation\")[\"ds\"]\n",
    "cs=load_obj(\"SCC_propagation\")[\"cs\"]\n",
    "imshow(m, origin=\"lower\",extent=(cs[0],cs[-1],ds[0],ds[-1]),aspect=\"auto\",cmap='RdYlBu')\n",
    "cbar=colorbar()\n",
    "xlabel(\"Gene in-degree\")\n",
    "ylabel(\"TF in-degree\")\n",
    "alpha=1\n",
    "#plot(cs,(-1 +exp(cs*alpha) )*alpha+(alpha-1)*where(alpha<1,1,0),\"m\",lw=2) # for d larger then this,the state with n=1 becomes instable\n",
    "ylim(ds[0],ds[-1])\n",
    "#plot(cs,[d_critical(linspace(min(ds),max(ds),100),c,alpha,1-1/10000,True) for c in cs],\"m--\",lw=3,label=\"cavity\")\n",
    "cbar.set_label(\"$\\\\lambda$\",rotation=90,fontsize=12,labelpad=-5)\n",
    "cbar.set_ticks([0,1])\n",
    "cbar.patch.set_facecolor(\"none\")\n",
    "legend(loc=\"lower right\")\n",
    "tight_layout()\n",
    "#savefig(\"SCC_prop.pdf\")\n",
    "#xlim(0.5,1)\n",
    "#ylim(0.5,1)"
   ]
  },
  {
   "cell_type": "code",
   "execution_count": 24,
   "metadata": {},
   "outputs": [
    {
     "data": {
      "text/plain": [
       "array([0.01      , 0.12512821, 0.24025641, 0.35538462, 0.47051282,\n",
       "       0.58564103, 0.70076923, 0.81589744, 0.93102564, 1.04615385,\n",
       "       1.16128205, 1.27641026, 1.39153846, 1.50666667, 1.62179487,\n",
       "       1.73692308, 1.85205128, 1.96717949, 2.08230769, 2.1974359 ,\n",
       "       2.3125641 , 2.42769231, 2.54282051, 2.65794872, 2.77307692,\n",
       "       2.88820513, 3.00333333, 3.11846154, 3.23358974, 3.34871795,\n",
       "       3.46384615, 3.57897436, 3.69410256, 3.80923077, 3.92435897,\n",
       "       4.03948718, 4.15461538, 4.26974359, 4.38487179, 4.5       ])"
      ]
     },
     "execution_count": 24,
     "metadata": {},
     "output_type": "execute_result"
    }
   ],
   "source": [
    "ds"
   ]
  },
  {
   "cell_type": "code",
   "execution_count": 15,
   "metadata": {},
   "outputs": [
    {
     "data": {
      "text/plain": [
       "Text(0.5,1,'c=1.0315384615384617')"
      ]
     },
     "execution_count": 15,
     "metadata": {},
     "output_type": "execute_result"
    },
    {
     "data": {
      "image/png": "[encoded data removed]",
      "text/plain": [
       "<Figure size 432x288 with 1 Axes>"
      ]
     },
     "metadata": {
      "needs_background": "light"
     },
     "output_type": "display_data"
    }
   ],
   "source": [
    "i=16\n",
    "axvline(exp(cs[i])-1)\n",
    "xlabel(\"ds\")\n",
    "ylabel(\"fraction of nodes triggering elimination cascade\")\n",
    "plot(ds,1-m[:,i],\".\")\n",
    "xlabel(\"d_{out}\")\n",
    "title(\"c=\"+str(cs[i]))"
   ]
  },
  {
   "cell_type": "code",
   "execution_count": 6,
   "metadata": {},
   "outputs": [
    {
     "data": {
      "text/plain": [
       "4.0"
      ]
     },
     "execution_count": 6,
     "metadata": {},
     "output_type": "execute_result"
    }
   ],
   "source": [
    "2000*2000*1000/1e9"
   ]
  },
  {
   "cell_type": "code",
   "execution_count": 164,
   "metadata": {},
   "outputs": [
    {
     "data": {
      "text/plain": [
       "1019"
      ]
     },
     "execution_count": 164,
     "metadata": {},
     "output_type": "execute_result"
    }
   ],
   "source": [
    "i"
   ]
  },
  {
   "cell_type": "code",
   "execution_count": 172,
   "metadata": {},
   "outputs": [
    {
     "data": {
      "text/plain": [
       "1"
      ]
     },
     "execution_count": 172,
     "metadata": {},
     "output_type": "execute_result"
    }
   ],
   "source": [
    "c"
   ]
  },
  {
   "cell_type": "code",
   "execution_count": null,
   "metadata": {},
   "outputs": [],
   "source": []
  }
 ],
 "metadata": {
  "kernelspec": {
   "display_name": "Python 3",
   "language": "python",
   "name": "python3"
  },
  "language_info": {
   "codemirror_mode": {
    "name": "ipython",
    "version": 3
   },
   "file_extension": ".py",
   "mimetype": "text/x-python",
   "name": "python",
   "nbconvert_exporter": "python",
   "pygments_lexer": "ipython3",
   "version": "3.8.8"
  }
 },
 "nbformat": 4,
 "nbformat_minor": 2
}
